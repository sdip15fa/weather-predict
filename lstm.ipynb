{
  "cells": [
    {
      "cell_type": "code",
      "execution_count": 58,
      "metadata": {
        "id": "lfcZXoVMo0Fz"
      },
      "outputs": [],
      "source": [
        "from sklearn.metrics import mean_squared_error, mean_absolute_error\n",
        "import pandas as pd\n",
        "import numpy as np\n",
        "import tensorflow as tf\n",
        "import matplotlib.pyplot as plt\n",
        "from sklearn.preprocessing import MinMaxScaler"
      ]
    },
    {
      "cell_type": "markdown",
      "metadata": {
        "id": "kbYrYcwoo0Fz"
      },
      "source": [
        "Load the data"
      ]
    },
    {
      "cell_type": "code",
      "execution_count": 59,
      "metadata": {
        "colab": {
          "base_uri": "https://localhost:8080/"
        },
        "id": "ER9nC6wJo0Fz",
        "outputId": "5804aae0-61c1-4145-da55-429aa3769920"
      },
      "outputs": [
        {
          "name": "stdout",
          "output_type": "stream",
          "text": [
            "mkdir: cannot create directory ‘data’: File exists\n"
          ]
        }
      ],
      "source": [
        "!mkdir data && wget https://github.com/sdip15fa/weather-predict/raw/master/data/processed_data.csv -O data/processed_data.csv\n",
        "\n",
        "input_file = 'data/processed_data.csv'\n",
        "df = pd.read_csv('data/processed_data.csv',\n",
        "                 parse_dates=['DateTime'], index_col='DateTime')\n",
        "df = df.resample('60T').mean()\n",
        "# df[\"DateTime\"] = pd.to_datetime(df.index)\n",
        "df = df.reset_index()"
      ]
    },
    {
      "cell_type": "markdown",
      "metadata": {
        "id": "JdAyygMMo0Fz"
      },
      "source": [
        "Convert the 'Date' and 'Time' columns to integers"
      ]
    },
    {
      "cell_type": "code",
      "execution_count": 60,
      "metadata": {
        "id": "q_wugGo2o0Fz"
      },
      "outputs": [],
      "source": [
        "df[\"Temperature\"] = df[\"Temperature\"].astype(float)\n",
        "df[\"Wind Speed\"] = df[\"Wind Speed\"].astype(float)\n",
        "df[\"Rainfall\"] = df[\"Rainfall\"].astype(float)\n",
        "df[\"Wind Direction\"] = df[\"Wind Direction\"].astype(float)\n",
        "df[\"Humidity\"] = df[\"Humidity\"].astype(float)"
      ]
    },
    {
      "cell_type": "markdown",
      "metadata": {
        "id": "KO9gyf6zo0Fz"
      },
      "source": [
        "Filter and replace outliers"
      ]
    },
    {
      "cell_type": "code",
      "execution_count": 61,
      "metadata": {
        "id": "Jeq-s765beZ6"
      },
      "outputs": [],
      "source": [
        "df['Temperature'] = df['Temperature'].replace(3276.7, np.nan)\n",
        "df['Wind Speed'] = df['Wind Speed'].replace(32767, np.nan)\n",
        "df['Rainfall'] = df['Rainfall'].replace(32767, np.nan)\n",
        "df['Wind Direction'] = df['Wind Direction'].replace(32767, np.nan)\n",
        "df['Humidity'] = df['Humidity'].replace(32767, np.nan)\n",
        "df['Temperature'] = df['Temperature'].mask((df['Temperature'] >= df['Temperature'].quantile(0.995)), np.nan)\n",
        "df['Wind Speed'] = df['Wind Speed'].mask((df['Wind Speed'] >= df['Wind Speed'].quantile(0.995)) | df[\"Wind Speed\"] < 0, np.nan)\n",
        "df['Rainfall'] = df['Rainfall'].mask((df['Rainfall'] >= df['Rainfall'].quantile(0.995))| df[\"Rainfall\"] < 0, np.nan)\n",
        "df['Wind Direction'] = df['Wind Direction'].mask((df['Wind Direction'] < 0) | (df['Wind Direction'] > 360), np.nan)\n",
        "df['Humidity'] = df['Humidity'].mask((df['Humidity'] < 0) | (df['Humidity'] > 100), np.nan)"
      ]
    },
    {
      "cell_type": "code",
      "execution_count": 62,
      "metadata": {
        "colab": {
          "base_uri": "https://localhost:8080/",
          "height": 659
        },
        "id": "-wMp9pPwbeZ6",
        "outputId": "638a086c-d5b0-404e-8b10-12cda5948f6a"
      },
      "outputs": [
        {
          "data": {
            "text/html": [
              "\n",
              "  <div id=\"df-454ae770-d430-4896-8d2d-a520e4ff9623\">\n",
              "    <div class=\"colab-df-container\">\n",
              "      <div>\n",
              "<style scoped>\n",
              "    .dataframe tbody tr th:only-of-type {\n",
              "        vertical-align: middle;\n",
              "    }\n",
              "\n",
              "    .dataframe tbody tr th {\n",
              "        vertical-align: top;\n",
              "    }\n",
              "\n",
              "    .dataframe thead th {\n",
              "        text-align: right;\n",
              "    }\n",
              "</style>\n",
              "<table border=\"1\" class=\"dataframe\">\n",
              "  <thead>\n",
              "    <tr style=\"text-align: right;\">\n",
              "      <th></th>\n",
              "      <th>DateTime</th>\n",
              "      <th>Year</th>\n",
              "      <th>Month</th>\n",
              "      <th>Date</th>\n",
              "      <th>Time</th>\n",
              "      <th>Minute</th>\n",
              "      <th>Temperature</th>\n",
              "      <th>Wind Speed</th>\n",
              "      <th>Wind Direction</th>\n",
              "      <th>Rainfall</th>\n",
              "    </tr>\n",
              "  </thead>\n",
              "  <tbody>\n",
              "    <tr>\n",
              "      <th>36</th>\n",
              "      <td>2008-01-02 12:00:00</td>\n",
              "      <td>2008.0</td>\n",
              "      <td>1.0</td>\n",
              "      <td>2.0</td>\n",
              "      <td>12.0</td>\n",
              "      <td>1.0</td>\n",
              "      <td>NaN</td>\n",
              "      <td>NaN</td>\n",
              "      <td>NaN</td>\n",
              "      <td>NaN</td>\n",
              "    </tr>\n",
              "    <tr>\n",
              "      <th>384</th>\n",
              "      <td>2008-01-17 00:00:00</td>\n",
              "      <td>2008.0</td>\n",
              "      <td>1.0</td>\n",
              "      <td>17.0</td>\n",
              "      <td>0.0</td>\n",
              "      <td>1.0</td>\n",
              "      <td>6.2</td>\n",
              "      <td>NaN</td>\n",
              "      <td>NaN</td>\n",
              "      <td>NaN</td>\n",
              "    </tr>\n",
              "    <tr>\n",
              "      <th>665</th>\n",
              "      <td>2008-01-28 17:00:00</td>\n",
              "      <td>2008.0</td>\n",
              "      <td>1.0</td>\n",
              "      <td>28.0</td>\n",
              "      <td>17.0</td>\n",
              "      <td>1.0</td>\n",
              "      <td>14.2</td>\n",
              "      <td>53.0</td>\n",
              "      <td>190.0</td>\n",
              "      <td>NaN</td>\n",
              "    </tr>\n",
              "    <tr>\n",
              "      <th>950</th>\n",
              "      <td>2008-02-09 14:00:00</td>\n",
              "      <td>2008.0</td>\n",
              "      <td>2.0</td>\n",
              "      <td>9.0</td>\n",
              "      <td>14.0</td>\n",
              "      <td>1.0</td>\n",
              "      <td>NaN</td>\n",
              "      <td>NaN</td>\n",
              "      <td>NaN</td>\n",
              "      <td>NaN</td>\n",
              "    </tr>\n",
              "    <tr>\n",
              "      <th>951</th>\n",
              "      <td>2008-02-09 15:00:00</td>\n",
              "      <td>2008.0</td>\n",
              "      <td>2.0</td>\n",
              "      <td>9.0</td>\n",
              "      <td>15.0</td>\n",
              "      <td>1.0</td>\n",
              "      <td>NaN</td>\n",
              "      <td>NaN</td>\n",
              "      <td>NaN</td>\n",
              "      <td>NaN</td>\n",
              "    </tr>\n",
              "    <tr>\n",
              "      <th>...</th>\n",
              "      <td>...</td>\n",
              "      <td>...</td>\n",
              "      <td>...</td>\n",
              "      <td>...</td>\n",
              "      <td>...</td>\n",
              "      <td>...</td>\n",
              "      <td>...</td>\n",
              "      <td>...</td>\n",
              "      <td>...</td>\n",
              "      <td>...</td>\n",
              "    </tr>\n",
              "    <tr>\n",
              "      <th>135115</th>\n",
              "      <td>2023-05-31 19:00:00</td>\n",
              "      <td>2023.0</td>\n",
              "      <td>5.0</td>\n",
              "      <td>31.0</td>\n",
              "      <td>19.0</td>\n",
              "      <td>1.0</td>\n",
              "      <td>25.6</td>\n",
              "      <td>26.0</td>\n",
              "      <td>NaN</td>\n",
              "      <td>0.0</td>\n",
              "    </tr>\n",
              "    <tr>\n",
              "      <th>135116</th>\n",
              "      <td>2023-05-31 20:00:00</td>\n",
              "      <td>2023.0</td>\n",
              "      <td>5.0</td>\n",
              "      <td>31.0</td>\n",
              "      <td>20.0</td>\n",
              "      <td>1.0</td>\n",
              "      <td>25.7</td>\n",
              "      <td>24.0</td>\n",
              "      <td>NaN</td>\n",
              "      <td>0.0</td>\n",
              "    </tr>\n",
              "    <tr>\n",
              "      <th>135117</th>\n",
              "      <td>2023-05-31 21:00:00</td>\n",
              "      <td>2023.0</td>\n",
              "      <td>5.0</td>\n",
              "      <td>31.0</td>\n",
              "      <td>21.0</td>\n",
              "      <td>1.0</td>\n",
              "      <td>25.6</td>\n",
              "      <td>14.0</td>\n",
              "      <td>NaN</td>\n",
              "      <td>0.0</td>\n",
              "    </tr>\n",
              "    <tr>\n",
              "      <th>135118</th>\n",
              "      <td>2023-05-31 22:00:00</td>\n",
              "      <td>2023.0</td>\n",
              "      <td>5.0</td>\n",
              "      <td>31.0</td>\n",
              "      <td>22.0</td>\n",
              "      <td>1.0</td>\n",
              "      <td>25.4</td>\n",
              "      <td>1.0</td>\n",
              "      <td>NaN</td>\n",
              "      <td>0.0</td>\n",
              "    </tr>\n",
              "    <tr>\n",
              "      <th>135119</th>\n",
              "      <td>2023-05-31 23:00:00</td>\n",
              "      <td>2023.0</td>\n",
              "      <td>5.0</td>\n",
              "      <td>31.0</td>\n",
              "      <td>23.0</td>\n",
              "      <td>1.0</td>\n",
              "      <td>25.0</td>\n",
              "      <td>1.0</td>\n",
              "      <td>NaN</td>\n",
              "      <td>0.0</td>\n",
              "    </tr>\n",
              "  </tbody>\n",
              "</table>\n",
              "<p>55027 rows × 10 columns</p>\n",
              "</div>\n",
              "      <button class=\"colab-df-convert\" onclick=\"convertToInteractive('df-454ae770-d430-4896-8d2d-a520e4ff9623')\"\n",
              "              title=\"Convert this dataframe to an interactive table.\"\n",
              "              style=\"display:none;\">\n",
              "        \n",
              "  <svg xmlns=\"http://www.w3.org/2000/svg\" height=\"24px\"viewBox=\"0 0 24 24\"\n",
              "       width=\"24px\">\n",
              "    <path d=\"M0 0h24v24H0V0z\" fill=\"none\"/>\n",
              "    <path d=\"M18.56 5.44l.94 2.06.94-2.06 2.06-.94-2.06-.94-.94-2.06-.94 2.06-2.06.94zm-11 1L8.5 8.5l.94-2.06 2.06-.94-2.06-.94L8.5 2.5l-.94 2.06-2.06.94zm10 10l.94 2.06.94-2.06 2.06-.94-2.06-.94-.94-2.06-.94 2.06-2.06.94z\"/><path d=\"M17.41 7.96l-1.37-1.37c-.4-.4-.92-.59-1.43-.59-.52 0-1.04.2-1.43.59L10.3 9.45l-7.72 7.72c-.78.78-.78 2.05 0 2.83L4 21.41c.39.39.9.59 1.41.59.51 0 1.02-.2 1.41-.59l7.78-7.78 2.81-2.81c.8-.78.8-2.07 0-2.86zM5.41 20L4 18.59l7.72-7.72 1.47 1.35L5.41 20z\"/>\n",
              "  </svg>\n",
              "      </button>\n",
              "      \n",
              "  <style>\n",
              "    .colab-df-container {\n",
              "      display:flex;\n",
              "      flex-wrap:wrap;\n",
              "      gap: 12px;\n",
              "    }\n",
              "\n",
              "    .colab-df-convert {\n",
              "      background-color: #E8F0FE;\n",
              "      border: none;\n",
              "      border-radius: 50%;\n",
              "      cursor: pointer;\n",
              "      display: none;\n",
              "      fill: #1967D2;\n",
              "      height: 32px;\n",
              "      padding: 0 0 0 0;\n",
              "      width: 32px;\n",
              "    }\n",
              "\n",
              "    .colab-df-convert:hover {\n",
              "      background-color: #E2EBFA;\n",
              "      box-shadow: 0px 1px 2px rgba(60, 64, 67, 0.3), 0px 1px 3px 1px rgba(60, 64, 67, 0.15);\n",
              "      fill: #174EA6;\n",
              "    }\n",
              "\n",
              "    [theme=dark] .colab-df-convert {\n",
              "      background-color: #3B4455;\n",
              "      fill: #D2E3FC;\n",
              "    }\n",
              "\n",
              "    [theme=dark] .colab-df-convert:hover {\n",
              "      background-color: #434B5C;\n",
              "      box-shadow: 0px 1px 3px 1px rgba(0, 0, 0, 0.15);\n",
              "      filter: drop-shadow(0px 1px 2px rgba(0, 0, 0, 0.3));\n",
              "      fill: #FFFFFF;\n",
              "    }\n",
              "  </style>\n",
              "\n",
              "      <script>\n",
              "        const buttonEl =\n",
              "          document.querySelector('#df-454ae770-d430-4896-8d2d-a520e4ff9623 button.colab-df-convert');\n",
              "        buttonEl.style.display =\n",
              "          google.colab.kernel.accessAllowed ? 'block' : 'none';\n",
              "\n",
              "        async function convertToInteractive(key) {\n",
              "          const element = document.querySelector('#df-454ae770-d430-4896-8d2d-a520e4ff9623');\n",
              "          const dataTable =\n",
              "            await google.colab.kernel.invokeFunction('convertToInteractive',\n",
              "                                                     [key], {});\n",
              "          if (!dataTable) return;\n",
              "\n",
              "          const docLinkHtml = 'Like what you see? Visit the ' +\n",
              "            '<a target=\"_blank\" href=https://colab.research.google.com/notebooks/data_table.ipynb>data table notebook</a>'\n",
              "            + ' to learn more about interactive tables.';\n",
              "          element.innerHTML = '';\n",
              "          dataTable['output_type'] = 'display_data';\n",
              "          await google.colab.output.renderOutput(dataTable, element);\n",
              "          const docLink = document.createElement('div');\n",
              "          docLink.innerHTML = docLinkHtml;\n",
              "          element.appendChild(docLink);\n",
              "        }\n",
              "      </script>\n",
              "    </div>\n",
              "  </div>\n",
              "  "
            ],
            "text/plain": [
              "                  DateTime    Year  Month  Date  Time  Minute  Temperature  \\\n",
              "36     2008-01-02 12:00:00  2008.0    1.0   2.0  12.0     1.0          NaN   \n",
              "384    2008-01-17 00:00:00  2008.0    1.0  17.0   0.0     1.0          6.2   \n",
              "665    2008-01-28 17:00:00  2008.0    1.0  28.0  17.0     1.0         14.2   \n",
              "950    2008-02-09 14:00:00  2008.0    2.0   9.0  14.0     1.0          NaN   \n",
              "951    2008-02-09 15:00:00  2008.0    2.0   9.0  15.0     1.0          NaN   \n",
              "...                    ...     ...    ...   ...   ...     ...          ...   \n",
              "135115 2023-05-31 19:00:00  2023.0    5.0  31.0  19.0     1.0         25.6   \n",
              "135116 2023-05-31 20:00:00  2023.0    5.0  31.0  20.0     1.0         25.7   \n",
              "135117 2023-05-31 21:00:00  2023.0    5.0  31.0  21.0     1.0         25.6   \n",
              "135118 2023-05-31 22:00:00  2023.0    5.0  31.0  22.0     1.0         25.4   \n",
              "135119 2023-05-31 23:00:00  2023.0    5.0  31.0  23.0     1.0         25.0   \n",
              "\n",
              "        Wind Speed  Wind Direction  Rainfall  \n",
              "36             NaN             NaN       NaN  \n",
              "384            NaN             NaN       NaN  \n",
              "665           53.0           190.0       NaN  \n",
              "950            NaN             NaN       NaN  \n",
              "951            NaN             NaN       NaN  \n",
              "...            ...             ...       ...  \n",
              "135115        26.0             NaN       0.0  \n",
              "135116        24.0             NaN       0.0  \n",
              "135117        14.0             NaN       0.0  \n",
              "135118         1.0             NaN       0.0  \n",
              "135119         1.0             NaN       0.0  \n",
              "\n",
              "[55027 rows x 10 columns]"
            ]
          },
          "execution_count": 62,
          "metadata": {},
          "output_type": "execute_result"
        }
      ],
      "source": [
        "df[df.isna().any(axis=1)]"
      ]
    },
    {
      "cell_type": "code",
      "execution_count": 63,
      "metadata": {
        "id": "L35cZnqabeZ6"
      },
      "outputs": [],
      "source": [
        "df = df.fillna(method=\"ffill\")"
      ]
    },
    {
      "cell_type": "markdown",
      "metadata": {
        "id": "nW3SJd_do0Fz"
      },
      "source": [
        "Prepare the data for LSTM"
      ]
    },
    {
      "cell_type": "markdown",
      "metadata": {
        "id": "ry9s2DQgo0GE"
      },
      "source": [
        "Remove rows with missing values"
      ]
    },
    {
      "cell_type": "code",
      "execution_count": 64,
      "metadata": {
        "id": "rux_VYPWo0GE"
      },
      "outputs": [],
      "source": [
        "df = df.dropna().reset_index()"
      ]
    },
    {
      "cell_type": "code",
      "execution_count": 65,
      "metadata": {
        "colab": {
          "base_uri": "https://localhost:8080/",
          "height": 659
        },
        "id": "f0e4-F66o0GE",
        "outputId": "3eceb701-c2b1-4c59-aea8-099abdb7eb60"
      },
      "outputs": [
        {
          "data": {
            "text/html": [
              "\n",
              "  <div id=\"df-e32e54a8-97d1-45f2-b940-9ccd2f55bc3f\">\n",
              "    <div class=\"colab-df-container\">\n",
              "      <div>\n",
              "<style scoped>\n",
              "    .dataframe tbody tr th:only-of-type {\n",
              "        vertical-align: middle;\n",
              "    }\n",
              "\n",
              "    .dataframe tbody tr th {\n",
              "        vertical-align: top;\n",
              "    }\n",
              "\n",
              "    .dataframe thead th {\n",
              "        text-align: right;\n",
              "    }\n",
              "</style>\n",
              "<table border=\"1\" class=\"dataframe\">\n",
              "  <thead>\n",
              "    <tr style=\"text-align: right;\">\n",
              "      <th></th>\n",
              "      <th>index</th>\n",
              "      <th>DateTime</th>\n",
              "      <th>Year</th>\n",
              "      <th>Month</th>\n",
              "      <th>Date</th>\n",
              "      <th>Time</th>\n",
              "      <th>Minute</th>\n",
              "      <th>Temperature</th>\n",
              "      <th>Wind Speed</th>\n",
              "      <th>Wind Direction</th>\n",
              "      <th>Rainfall</th>\n",
              "    </tr>\n",
              "  </thead>\n",
              "  <tbody>\n",
              "    <tr>\n",
              "      <th>0</th>\n",
              "      <td>0</td>\n",
              "      <td>2008-01-01 00:00:00</td>\n",
              "      <td>2008.0</td>\n",
              "      <td>1.0</td>\n",
              "      <td>1.0</td>\n",
              "      <td>0.0</td>\n",
              "      <td>1.0</td>\n",
              "      <td>3.6</td>\n",
              "      <td>107.0</td>\n",
              "      <td>49.0</td>\n",
              "      <td>0.0</td>\n",
              "    </tr>\n",
              "    <tr>\n",
              "      <th>1</th>\n",
              "      <td>1</td>\n",
              "      <td>2008-01-01 01:00:00</td>\n",
              "      <td>2008.0</td>\n",
              "      <td>1.0</td>\n",
              "      <td>1.0</td>\n",
              "      <td>1.0</td>\n",
              "      <td>1.0</td>\n",
              "      <td>3.0</td>\n",
              "      <td>103.0</td>\n",
              "      <td>42.0</td>\n",
              "      <td>0.0</td>\n",
              "    </tr>\n",
              "    <tr>\n",
              "      <th>2</th>\n",
              "      <td>2</td>\n",
              "      <td>2008-01-01 02:00:00</td>\n",
              "      <td>2008.0</td>\n",
              "      <td>1.0</td>\n",
              "      <td>1.0</td>\n",
              "      <td>2.0</td>\n",
              "      <td>1.0</td>\n",
              "      <td>2.3</td>\n",
              "      <td>101.0</td>\n",
              "      <td>39.0</td>\n",
              "      <td>0.0</td>\n",
              "    </tr>\n",
              "    <tr>\n",
              "      <th>3</th>\n",
              "      <td>3</td>\n",
              "      <td>2008-01-01 03:00:00</td>\n",
              "      <td>2008.0</td>\n",
              "      <td>1.0</td>\n",
              "      <td>1.0</td>\n",
              "      <td>3.0</td>\n",
              "      <td>1.0</td>\n",
              "      <td>2.4</td>\n",
              "      <td>92.0</td>\n",
              "      <td>47.0</td>\n",
              "      <td>0.0</td>\n",
              "    </tr>\n",
              "    <tr>\n",
              "      <th>4</th>\n",
              "      <td>4</td>\n",
              "      <td>2008-01-01 04:00:00</td>\n",
              "      <td>2008.0</td>\n",
              "      <td>1.0</td>\n",
              "      <td>1.0</td>\n",
              "      <td>4.0</td>\n",
              "      <td>1.0</td>\n",
              "      <td>2.0</td>\n",
              "      <td>102.0</td>\n",
              "      <td>47.0</td>\n",
              "      <td>0.0</td>\n",
              "    </tr>\n",
              "    <tr>\n",
              "      <th>...</th>\n",
              "      <td>...</td>\n",
              "      <td>...</td>\n",
              "      <td>...</td>\n",
              "      <td>...</td>\n",
              "      <td>...</td>\n",
              "      <td>...</td>\n",
              "      <td>...</td>\n",
              "      <td>...</td>\n",
              "      <td>...</td>\n",
              "      <td>...</td>\n",
              "      <td>...</td>\n",
              "    </tr>\n",
              "    <tr>\n",
              "      <th>135834</th>\n",
              "      <td>135834</td>\n",
              "      <td>2023-06-30 18:00:00</td>\n",
              "      <td>2023.0</td>\n",
              "      <td>6.0</td>\n",
              "      <td>30.0</td>\n",
              "      <td>18.0</td>\n",
              "      <td>1.0</td>\n",
              "      <td>23.0</td>\n",
              "      <td>27.0</td>\n",
              "      <td>194.0</td>\n",
              "      <td>0.0</td>\n",
              "    </tr>\n",
              "    <tr>\n",
              "      <th>135835</th>\n",
              "      <td>135835</td>\n",
              "      <td>2023-06-30 19:00:00</td>\n",
              "      <td>2023.0</td>\n",
              "      <td>6.0</td>\n",
              "      <td>30.0</td>\n",
              "      <td>19.0</td>\n",
              "      <td>1.0</td>\n",
              "      <td>22.8</td>\n",
              "      <td>41.0</td>\n",
              "      <td>191.0</td>\n",
              "      <td>0.0</td>\n",
              "    </tr>\n",
              "    <tr>\n",
              "      <th>135836</th>\n",
              "      <td>135836</td>\n",
              "      <td>2023-06-30 20:00:00</td>\n",
              "      <td>2023.0</td>\n",
              "      <td>6.0</td>\n",
              "      <td>30.0</td>\n",
              "      <td>20.0</td>\n",
              "      <td>1.0</td>\n",
              "      <td>22.5</td>\n",
              "      <td>17.0</td>\n",
              "      <td>150.0</td>\n",
              "      <td>0.0</td>\n",
              "    </tr>\n",
              "    <tr>\n",
              "      <th>135837</th>\n",
              "      <td>135837</td>\n",
              "      <td>2023-06-30 21:00:00</td>\n",
              "      <td>2023.0</td>\n",
              "      <td>6.0</td>\n",
              "      <td>30.0</td>\n",
              "      <td>21.0</td>\n",
              "      <td>1.0</td>\n",
              "      <td>21.8</td>\n",
              "      <td>30.0</td>\n",
              "      <td>166.0</td>\n",
              "      <td>0.0</td>\n",
              "    </tr>\n",
              "    <tr>\n",
              "      <th>135838</th>\n",
              "      <td>135838</td>\n",
              "      <td>2023-06-30 22:00:00</td>\n",
              "      <td>2023.0</td>\n",
              "      <td>6.0</td>\n",
              "      <td>30.0</td>\n",
              "      <td>22.0</td>\n",
              "      <td>1.0</td>\n",
              "      <td>21.8</td>\n",
              "      <td>35.0</td>\n",
              "      <td>163.0</td>\n",
              "      <td>0.0</td>\n",
              "    </tr>\n",
              "  </tbody>\n",
              "</table>\n",
              "<p>135839 rows × 11 columns</p>\n",
              "</div>\n",
              "      <button class=\"colab-df-convert\" onclick=\"convertToInteractive('df-e32e54a8-97d1-45f2-b940-9ccd2f55bc3f')\"\n",
              "              title=\"Convert this dataframe to an interactive table.\"\n",
              "              style=\"display:none;\">\n",
              "        \n",
              "  <svg xmlns=\"http://www.w3.org/2000/svg\" height=\"24px\"viewBox=\"0 0 24 24\"\n",
              "       width=\"24px\">\n",
              "    <path d=\"M0 0h24v24H0V0z\" fill=\"none\"/>\n",
              "    <path d=\"M18.56 5.44l.94 2.06.94-2.06 2.06-.94-2.06-.94-.94-2.06-.94 2.06-2.06.94zm-11 1L8.5 8.5l.94-2.06 2.06-.94-2.06-.94L8.5 2.5l-.94 2.06-2.06.94zm10 10l.94 2.06.94-2.06 2.06-.94-2.06-.94-.94-2.06-.94 2.06-2.06.94z\"/><path d=\"M17.41 7.96l-1.37-1.37c-.4-.4-.92-.59-1.43-.59-.52 0-1.04.2-1.43.59L10.3 9.45l-7.72 7.72c-.78.78-.78 2.05 0 2.83L4 21.41c.39.39.9.59 1.41.59.51 0 1.02-.2 1.41-.59l7.78-7.78 2.81-2.81c.8-.78.8-2.07 0-2.86zM5.41 20L4 18.59l7.72-7.72 1.47 1.35L5.41 20z\"/>\n",
              "  </svg>\n",
              "      </button>\n",
              "      \n",
              "  <style>\n",
              "    .colab-df-container {\n",
              "      display:flex;\n",
              "      flex-wrap:wrap;\n",
              "      gap: 12px;\n",
              "    }\n",
              "\n",
              "    .colab-df-convert {\n",
              "      background-color: #E8F0FE;\n",
              "      border: none;\n",
              "      border-radius: 50%;\n",
              "      cursor: pointer;\n",
              "      display: none;\n",
              "      fill: #1967D2;\n",
              "      height: 32px;\n",
              "      padding: 0 0 0 0;\n",
              "      width: 32px;\n",
              "    }\n",
              "\n",
              "    .colab-df-convert:hover {\n",
              "      background-color: #E2EBFA;\n",
              "      box-shadow: 0px 1px 2px rgba(60, 64, 67, 0.3), 0px 1px 3px 1px rgba(60, 64, 67, 0.15);\n",
              "      fill: #174EA6;\n",
              "    }\n",
              "\n",
              "    [theme=dark] .colab-df-convert {\n",
              "      background-color: #3B4455;\n",
              "      fill: #D2E3FC;\n",
              "    }\n",
              "\n",
              "    [theme=dark] .colab-df-convert:hover {\n",
              "      background-color: #434B5C;\n",
              "      box-shadow: 0px 1px 3px 1px rgba(0, 0, 0, 0.15);\n",
              "      filter: drop-shadow(0px 1px 2px rgba(0, 0, 0, 0.3));\n",
              "      fill: #FFFFFF;\n",
              "    }\n",
              "  </style>\n",
              "\n",
              "      <script>\n",
              "        const buttonEl =\n",
              "          document.querySelector('#df-e32e54a8-97d1-45f2-b940-9ccd2f55bc3f button.colab-df-convert');\n",
              "        buttonEl.style.display =\n",
              "          google.colab.kernel.accessAllowed ? 'block' : 'none';\n",
              "\n",
              "        async function convertToInteractive(key) {\n",
              "          const element = document.querySelector('#df-e32e54a8-97d1-45f2-b940-9ccd2f55bc3f');\n",
              "          const dataTable =\n",
              "            await google.colab.kernel.invokeFunction('convertToInteractive',\n",
              "                                                     [key], {});\n",
              "          if (!dataTable) return;\n",
              "\n",
              "          const docLinkHtml = 'Like what you see? Visit the ' +\n",
              "            '<a target=\"_blank\" href=https://colab.research.google.com/notebooks/data_table.ipynb>data table notebook</a>'\n",
              "            + ' to learn more about interactive tables.';\n",
              "          element.innerHTML = '';\n",
              "          dataTable['output_type'] = 'display_data';\n",
              "          await google.colab.output.renderOutput(dataTable, element);\n",
              "          const docLink = document.createElement('div');\n",
              "          docLink.innerHTML = docLinkHtml;\n",
              "          element.appendChild(docLink);\n",
              "        }\n",
              "      </script>\n",
              "    </div>\n",
              "  </div>\n",
              "  "
            ],
            "text/plain": [
              "         index            DateTime    Year  Month  Date  Time  Minute  \\\n",
              "0            0 2008-01-01 00:00:00  2008.0    1.0   1.0   0.0     1.0   \n",
              "1            1 2008-01-01 01:00:00  2008.0    1.0   1.0   1.0     1.0   \n",
              "2            2 2008-01-01 02:00:00  2008.0    1.0   1.0   2.0     1.0   \n",
              "3            3 2008-01-01 03:00:00  2008.0    1.0   1.0   3.0     1.0   \n",
              "4            4 2008-01-01 04:00:00  2008.0    1.0   1.0   4.0     1.0   \n",
              "...        ...                 ...     ...    ...   ...   ...     ...   \n",
              "135834  135834 2023-06-30 18:00:00  2023.0    6.0  30.0  18.0     1.0   \n",
              "135835  135835 2023-06-30 19:00:00  2023.0    6.0  30.0  19.0     1.0   \n",
              "135836  135836 2023-06-30 20:00:00  2023.0    6.0  30.0  20.0     1.0   \n",
              "135837  135837 2023-06-30 21:00:00  2023.0    6.0  30.0  21.0     1.0   \n",
              "135838  135838 2023-06-30 22:00:00  2023.0    6.0  30.0  22.0     1.0   \n",
              "\n",
              "        Temperature  Wind Speed  Wind Direction  Rainfall  \n",
              "0               3.6       107.0            49.0       0.0  \n",
              "1               3.0       103.0            42.0       0.0  \n",
              "2               2.3       101.0            39.0       0.0  \n",
              "3               2.4        92.0            47.0       0.0  \n",
              "4               2.0       102.0            47.0       0.0  \n",
              "...             ...         ...             ...       ...  \n",
              "135834         23.0        27.0           194.0       0.0  \n",
              "135835         22.8        41.0           191.0       0.0  \n",
              "135836         22.5        17.0           150.0       0.0  \n",
              "135837         21.8        30.0           166.0       0.0  \n",
              "135838         21.8        35.0           163.0       0.0  \n",
              "\n",
              "[135839 rows x 11 columns]"
            ]
          },
          "execution_count": 65,
          "metadata": {},
          "output_type": "execute_result"
        }
      ],
      "source": [
        "df"
      ]
    },
    {
      "cell_type": "markdown",
      "metadata": {
        "id": "ksanizXmbeZ6"
      },
      "source": [
        "Check if any hours are missing"
      ]
    },
    {
      "cell_type": "code",
      "execution_count": 66,
      "metadata": {
        "colab": {
          "base_uri": "https://localhost:8080/"
        },
        "id": "KBnSzgpObeZ6",
        "outputId": "4ff3715f-19e5-4cb7-d20a-3707a14bed69"
      },
      "outputs": [
        {
          "name": "stdout",
          "output_type": "stream",
          "text": [
            "[]\n"
          ]
        }
      ],
      "source": [
        "# Get the minimum and maximum DateTime values in the DataFrame\n",
        "min_time = df['DateTime'].min()\n",
        "max_time = df['DateTime'].max()\n",
        "\n",
        "# Create a complete sequence of hours using pandas date_range\n",
        "complete_hours = pd.date_range(start=min_time, end=max_time, freq='H')\n",
        "\n",
        "# Extract the unique hours from the DataFrame\n",
        "existing_hours = pd.to_datetime(df['DateTime']).unique()\n",
        "\n",
        "# Find the missing hours by comparing the complete sequence with the existing hours\n",
        "missing_hours = [hour for hour in complete_hours if hour not in existing_hours]\n",
        "\n",
        "# Print the missing hours\n",
        "print(missing_hours)"
      ]
    },
    {
      "cell_type": "code",
      "execution_count": 67,
      "metadata": {
        "id": "fYTgYEvho0Fz"
      },
      "outputs": [],
      "source": [
        "time_steps = 72  # Number of time steps for the LSTM model\n",
        "scaler = MinMaxScaler(feature_range=(0, 1))  # Scale the data to [0, 1]"
      ]
    },
    {
      "cell_type": "code",
      "execution_count": 68,
      "metadata": {
        "id": "y-zPsENY_V2J"
      },
      "outputs": [],
      "source": [
        "features_keys = ['Temperature', 'Wind Speed',\n",
        "               'Rainfall', 'Humidity']"
      ]
    },
    {
      "cell_type": "markdown",
      "metadata": {
        "id": "yH8sRnrZo0GE"
      },
      "source": [
        "Scale the temperature, wind speed, rainfall, and wind direction values"
      ]
    },
    {
      "cell_type": "code",
      "execution_count": 69,
      "metadata": {
        "id": "ioRT6PB7o0GE"
      },
      "outputs": [],
      "source": [
        "features = df[features_keys].copy()\n",
        "scaled_features = scaler.fit_transform(features)"
      ]
    },
    {
      "cell_type": "code",
      "execution_count": 70,
      "metadata": {
        "colab": {
          "base_uri": "https://localhost:8080/"
        },
        "id": "3HWJi4kH_V2J",
        "outputId": "f64ffa72-c806-413e-c1f6-9e342a0b9715"
      },
      "outputs": [
        {
          "data": {
            "text/plain": [
              "array([[0.27350427, 0.21730382, 0.00110988],\n",
              "       [0.25641026, 0.20925553, 0.00110988],\n",
              "       [0.23646724, 0.20523139, 0.00110988],\n",
              "       ...,\n",
              "       [0.81196581, 0.0362173 , 0.00110988],\n",
              "       [0.79202279, 0.06237425, 0.00110988],\n",
              "       [0.79202279, 0.07243461, 0.00110988]])"
            ]
          },
          "execution_count": 70,
          "metadata": {},
          "output_type": "execute_result"
        }
      ],
      "source": [
        "scaled_features"
      ]
    },
    {
      "cell_type": "markdown",
      "metadata": {
        "id": "MtfyrlIso0GE"
      },
      "source": [
        "Create sequences of input data and corresponding target values"
      ]
    },
    {
      "cell_type": "code",
      "execution_count": 71,
      "metadata": {
        "id": "w_vv2_l_o0GE"
      },
      "outputs": [],
      "source": [
        "data = []\n",
        "target = []\n",
        "for i in range(1, len(scaled_features) - time_steps):\n",
        "    # exclude the target\n",
        "    data.append(scaled_features[i:i+time_steps])\n",
        "    # Only the temperature is the target\n",
        "    target.append(scaled_features[i+time_steps])"
      ]
    },
    {
      "cell_type": "code",
      "execution_count": 72,
      "metadata": {
        "id": "iMnszm71o0GE"
      },
      "outputs": [],
      "source": [
        "data = np.array(data)\n",
        "target = np.array(target)\n"
      ]
    },
    {
      "cell_type": "markdown",
      "metadata": {
        "id": "pm3RIBnoo0GE"
      },
      "source": [
        "Split the dataset into training and validation sets"
      ]
    },
    {
      "cell_type": "code",
      "execution_count": 73,
      "metadata": {
        "id": "nk58ReQ2o0GE"
      },
      "outputs": [],
      "source": [
        "split = 0.1\n",
        "exclude_index = int(len(data) * (1-split))\n",
        "train_data, train_target = data[:exclude_index], target[:exclude_index]\n",
        "val_data, val_target = data[exclude_index:], target[exclude_index:]\n"
      ]
    },
    {
      "cell_type": "markdown",
      "metadata": {
        "id": "sRzJzu0-o0GE"
      },
      "source": [
        "Build the LSTM model architecture"
      ]
    },
    {
      "cell_type": "code",
      "execution_count": 74,
      "metadata": {
        "id": "rvOWUL_Co0GE"
      },
      "outputs": [],
      "source": [
        "import tensorflow as tf\n",
        "\"\"\"\n",
        "model = tf.keras.Sequential([\n",
        "    tf.keras.layers.LSTM(256, return_sequences=True,\n",
        "                         input_shape=(time_steps, 4)),\n",
        "    tf.keras.layers.BatchNormalization(),\n",
        "    tf.keras.layers.Dropout(0.2),\n",
        "    tf.keras.layers.LSTM(256, return_sequences=True),\n",
        "    tf.keras.layers.BatchNormalization(),\n",
        "    tf.keras.layers.Dropout(0.2),\n",
        "    tf.keras.layers.LSTM(256, return_sequences=True),\n",
        "    tf.keras.layers.BatchNormalization(),\n",
        "    tf.keras.layers.Dropout(0.2),\n",
        "    tf.keras.layers.LSTM(256),\n",
        "    tf.keras.layers.BatchNormalization(),\n",
        "    tf.keras.layers.Dropout(0.2),\n",
        "    tf.keras.layers.Dense(128, activation='relu'),\n",
        "    tf.keras.layers.BatchNormalization(),\n",
        "    tf.keras.layers.Dropout(0.2),\n",
        "    tf.keras.layers.Dense(1)\n",
        "])\n",
        "\"\"\"\n",
        "model = tf.keras.Sequential([\n",
        "    tf.keras.layers.LSTM(256, return_sequences=True,  input_shape=(time_steps, len(features_keys))),\n",
        "    # tf.keras.layers.LSTM(128, return_sequences=True),\n",
        "    # tf.keras.layers.LSTM(64, return_sequences=True),\n",
        "    # tf.keras.layers.LSTM(64, return_sequences=True),\n",
        "    # tf.keras.layers.LSTM(32, return_sequences=True),\n",
        "    tf.keras.layers.LSTM(128, return_sequences=True),\n",
        "    tf.keras.layers.LSTM(64, return_sequences=True),\n",
        "    tf.keras.layers.LSTM(64, return_sequences=True),\n",
        "    tf.keras.layers.LSTM(64),\n",
        "    # tf.keras.layers.Dense(64),\n",
        "    # tf.keras.layers.Dense(64),\n",
        "    tf.keras.layers.Dense(64, activation=\"relu\"),\n",
        "    tf.keras.layers.Dense(len(features_keys))\n",
        "])\n"
      ]
    },
    {
      "cell_type": "markdown",
      "metadata": {
        "id": "cVjVLc9no0GE"
      },
      "source": [
        "Compile the model"
      ]
    },
    {
      "cell_type": "code",
      "execution_count": 75,
      "metadata": {
        "id": "sk3yxZIio0GE"
      },
      "outputs": [],
      "source": [
        "optimizer = tf.keras.optimizers.Adam(learning_rate=0.001)\n",
        "model.compile(loss='mean_absolute_error', optimizer=optimizer)"
      ]
    },
    {
      "cell_type": "markdown",
      "metadata": {
        "id": "mlmltGMRo0GE"
      },
      "source": [
        "Define early stopping and learning rate scheduler"
      ]
    },
    {
      "cell_type": "code",
      "execution_count": 76,
      "metadata": {
        "id": "-FzJGi_jo0GE"
      },
      "outputs": [],
      "source": [
        "early_stopping = tf.keras.callbacks.EarlyStopping(\n",
        "    monitor='val_loss', patience=10, restore_best_weights=True)\n",
        "lr_scheduler = tf.keras.callbacks.ReduceLROnPlateau(\n",
        "    monitor='val_loss', factor=0.2, patience=5, min_lr=1e-6)"
      ]
    },
    {
      "cell_type": "markdown",
      "metadata": {
        "id": "eQuMJC2xo0GE"
      },
      "source": [
        "Train the LSTM model"
      ]
    },
    {
      "cell_type": "code",
      "execution_count": null,
      "metadata": {
        "colab": {
          "base_uri": "https://localhost:8080/"
        },
        "id": "FPNW8kgSo0GE",
        "outputId": "3e2f1360-c6aa-4b52-b4b2-499e65ea44b1"
      },
      "outputs": [
        {
          "name": "stdout",
          "output_type": "stream",
          "text": [
            "Epoch 1/100\n",
            "30/30 [==============================] - 47s 800ms/step - loss: 0.1609 - val_loss: 0.0781 - lr: 0.0100\n",
            "Epoch 2/100\n",
            "30/30 [==============================] - 18s 593ms/step - loss: 0.0770 - val_loss: 0.0688 - lr: 0.0100\n",
            "Epoch 3/100\n",
            "30/30 [==============================] - 17s 582ms/step - loss: 0.0699 - val_loss: 0.0697 - lr: 0.0100\n",
            "Epoch 4/100\n",
            "30/30 [==============================] - 17s 574ms/step - loss: 0.0693 - val_loss: 0.0708 - lr: 0.0100\n",
            "Epoch 5/100\n",
            "30/30 [==============================] - 17s 575ms/step - loss: 0.0627 - val_loss: 0.0583 - lr: 0.0100\n",
            "Epoch 6/100\n",
            "30/30 [==============================] - 18s 586ms/step - loss: 0.0519 - val_loss: 0.0508 - lr: 0.0100\n",
            "Epoch 7/100\n",
            "30/30 [==============================] - 17s 584ms/step - loss: 0.0495 - val_loss: 0.0530 - lr: 0.0100\n",
            "Epoch 8/100\n",
            "30/30 [==============================] - 17s 584ms/step - loss: 0.0503 - val_loss: 0.0513 - lr: 0.0100\n",
            "Epoch 9/100\n",
            "30/30 [==============================] - 17s 579ms/step - loss: 0.0479 - val_loss: 0.0508 - lr: 0.0100\n",
            "Epoch 10/100\n",
            "30/30 [==============================] - 17s 577ms/step - loss: 0.0480 - val_loss: 0.0498 - lr: 0.0100\n",
            "Epoch 11/100\n",
            "30/30 [==============================] - 17s 581ms/step - loss: 0.0478 - val_loss: 0.0518 - lr: 0.0100\n",
            "Epoch 12/100\n",
            "30/30 [==============================] - 17s 578ms/step - loss: 0.0473 - val_loss: 0.0479 - lr: 0.0100\n",
            "Epoch 13/100\n",
            "30/30 [==============================] - 17s 582ms/step - loss: 0.0509 - val_loss: 0.0507 - lr: 0.0100\n",
            "Epoch 14/100\n",
            "30/30 [==============================] - 17s 580ms/step - loss: 0.0465 - val_loss: 0.0484 - lr: 0.0100\n",
            "Epoch 15/100\n",
            "30/30 [==============================] - 17s 581ms/step - loss: 0.0474 - val_loss: 0.0623 - lr: 0.0100\n",
            "Epoch 16/100\n",
            "30/30 [==============================] - 18s 585ms/step - loss: 0.0498 - val_loss: 0.0469 - lr: 0.0100\n",
            "Epoch 17/100\n",
            "30/30 [==============================] - 17s 583ms/step - loss: 0.0459 - val_loss: 0.0600 - lr: 0.0100\n",
            "Epoch 18/100\n",
            "30/30 [==============================] - 17s 581ms/step - loss: 0.0519 - val_loss: 0.0472 - lr: 0.0100\n",
            "Epoch 19/100\n",
            "30/30 [==============================] - 17s 581ms/step - loss: 0.0454 - val_loss: 0.0493 - lr: 0.0100\n",
            "Epoch 20/100\n",
            "30/30 [==============================] - 18s 587ms/step - loss: 0.0435 - val_loss: 0.0453 - lr: 0.0100\n",
            "Epoch 21/100\n",
            "30/30 [==============================] - 18s 589ms/step - loss: 0.0404 - val_loss: 0.0375 - lr: 0.0100\n",
            "Epoch 22/100\n",
            "30/30 [==============================] - 17s 584ms/step - loss: 0.0433 - val_loss: 0.0430 - lr: 0.0100\n",
            "Epoch 23/100\n",
            "30/30 [==============================] - 18s 591ms/step - loss: 0.0427 - val_loss: 0.0378 - lr: 0.0100\n",
            "Epoch 24/100\n",
            "30/30 [==============================] - 17s 582ms/step - loss: 0.0376 - val_loss: 0.0383 - lr: 0.0100\n",
            "Epoch 25/100\n",
            "30/30 [==============================] - 18s 585ms/step - loss: 0.0358 - val_loss: 0.0364 - lr: 0.0100\n",
            "Epoch 26/100\n",
            "30/30 [==============================] - 17s 581ms/step - loss: 0.0422 - val_loss: 0.0388 - lr: 0.0100\n",
            "Epoch 27/100\n",
            "30/30 [==============================] - 17s 583ms/step - loss: 0.0336 - val_loss: 0.0394 - lr: 0.0100\n",
            "Epoch 28/100\n",
            "30/30 [==============================] - 17s 583ms/step - loss: 0.0413 - val_loss: 0.0387 - lr: 0.0100\n",
            "Epoch 29/100\n",
            "30/30 [==============================] - 18s 611ms/step - loss: 0.0343 - val_loss: 0.0373 - lr: 0.0100\n",
            "Epoch 30/100\n",
            "30/30 [==============================] - 18s 589ms/step - loss: 0.0308 - val_loss: 0.0308 - lr: 0.0100\n",
            "Epoch 31/100\n",
            "22/30 [=====================>........] - ETA: 4s - loss: 0.0301"
          ]
        }
      ],
      "source": [
        "batch_size = 4096\n",
        "epochs = 150\n",
        "history = model.fit(train_data, train_target, batch_size=batch_size, epochs=epochs, validation_data=(val_data, val_target),\n",
        "                    callbacks=[early_stopping, lr_scheduler])"
      ]
    },
    {
      "cell_type": "markdown",
      "metadata": {
        "id": "da_mp26Po0GV"
      },
      "source": [
        "Make predictions using the trained LSTM model"
      ]
    },
    {
      "cell_type": "code",
      "execution_count": null,
      "metadata": {
        "id": "_fk4WnEOo0GV"
      },
      "outputs": [],
      "source": [
        "predictions = model.predict(val_data)"
      ]
    },
    {
      "cell_type": "markdown",
      "metadata": {
        "id": "lyT2YUwfo0GV"
      },
      "source": [
        "Rescale the predictions back to the original range"
      ]
    },
    {
      "cell_type": "code",
      "execution_count": null,
      "metadata": {
        "id": "16ZjScEeo0GV"
      },
      "outputs": [],
      "source": [
        "scaled_predictions = pd.DataFrame(predictions, columns=features_keys)\n",
        "predictions = pd.DataFrame(scaler.inverse_transform(\n",
        "    predictions), columns=features_keys)\n",
        "predicted_temperature = predictions[\"Temperature\"]\n"
      ]
    },
    {
      "cell_type": "code",
      "execution_count": null,
      "metadata": {
        "id": "lxqz2lcsAMk0"
      },
      "outputs": [],
      "source": [
        "val_target = pd.DataFrame(val_target, columns=features_keys)\n",
        "val_target_rescaled = pd.DataFrame(scaler.inverse_transform(val_target), columns=features_keys)\n",
        "train_target = pd.DataFrame(train_target, columns=features_keys)\n",
        "train_target_rescaled = pd.DataFrame(scaler.inverse_transform(train_target), columns=features_keys)"
      ]
    },
    {
      "cell_type": "markdown",
      "metadata": {
        "id": "-1vqJau8o0GV"
      },
      "source": [
        "Calculate MSE and MAE"
      ]
    },
    {
      "cell_type": "code",
      "execution_count": null,
      "metadata": {
        "id": "OK9H9h3Do0GV"
      },
      "outputs": [],
      "source": [
        "mse = mean_squared_error(val_target_rescaled[\"Temperature\"], predictions[\"Temperature\"])\n",
        "mae = mean_absolute_error(val_target_rescaled[\"Temperature\"], predictions[\"Temperature\"])"
      ]
    },
    {
      "cell_type": "code",
      "execution_count": null,
      "metadata": {
        "id": "sC-MqFKgo0Gl"
      },
      "outputs": [],
      "source": [
        "print(\"Mean Squared Error (MSE):\", mse)\n",
        "print(\"Mean Absolute Error (MAE):\", mae)"
      ]
    },
    {
      "cell_type": "markdown",
      "metadata": {
        "id": "N1UNa22do0Gl"
      },
      "source": [
        "Visualize the actual vs. predicted temperatures for the validation set"
      ]
    },
    {
      "cell_type": "code",
      "execution_count": null,
      "metadata": {
        "id": "rLzZRHyLo0Gl"
      },
      "outputs": [],
      "source": [
        "plt.figure(figsize=(12, 6))\n",
        "plt.plot(range(len(val_target)), val_target_rescaled[\"Temperature\"], label='Actual')\n",
        "plt.plot(range(len(val_target)), predicted_temperature, label='Predicted')\n",
        "plt.xlabel('Time')\n",
        "plt.ylabel('Temperature')\n",
        "plt.title('Actual vs. Predicted Temperatures (Validation Set)')\n",
        "plt.legend()\n",
        "plt.show()"
      ]
    },
    {
      "cell_type": "markdown",
      "metadata": {
        "id": "zirXhmtjo0Gl"
      },
      "source": [
        "Visualize the actual vs. predicted temperatures for the training set"
      ]
    },
    {
      "cell_type": "code",
      "execution_count": null,
      "metadata": {
        "id": "NlVyqCTyo0Gl"
      },
      "outputs": [],
      "source": [
        "plt.figure(figsize=(12, 6))\n",
        "plt.plot(range(len(train_target)), train_target[\"Temperature\"], label='Actual')\n",
        "plt.plot(range(len(train_target)), pd.DataFrame(model.predict(\n",
        "    train_data), columns=features_keys)[\"Temperature\"], label='Predicted')\n",
        "plt.xlabel('Time')\n",
        "plt.ylabel('Temperature')\n",
        "plt.title('Actual vs. Predicted Temperatures (Training Set)')\n",
        "plt.legend()\n",
        "plt.show()"
      ]
    },
    {
      "cell_type": "markdown",
      "metadata": {
        "id": "Kl1Dcsauo0Gl"
      },
      "source": [
        "Save the trained model"
      ]
    },
    {
      "cell_type": "code",
      "execution_count": null,
      "metadata": {
        "id": "juUFGBK3o0Gl"
      },
      "outputs": [],
      "source": [
        "model.save(\"lstm.keras\")"
      ]
    },
    {
      "cell_type": "code",
      "execution_count": null,
      "metadata": {
        "id": "LhXN83TOBkPW"
      },
      "outputs": [],
      "source": [
        "scaled_features\n",
        "scaled_features.copy()[-time_steps:].shape"
      ]
    },
    {
      "cell_type": "code",
      "execution_count": null,
      "metadata": {
        "id": "MyoS6kB6o0Gl"
      },
      "outputs": [],
      "source": [
        "from datetime import timedelta\n",
        "model = tf.keras.models.load_model(\"lstm.keras\")\n",
        "\n",
        "data = scaled_features.copy()[-time_steps:]\n",
        "predicted = []\n",
        "\n",
        "for i in range(1, 31):\n",
        "    scaled_prediction = model.predict(data.reshape(1, time_steps, len(features_keys)))\n",
        "    prediction = scaler.inverse_transform(scaled_prediction)[0]\n",
        "    print(f'{df[\"DateTime\"].max() + timedelta(hours=i)}:', list(map(lambda x: round(x, 6), prediction)))\n",
        "    # print(prediction[0], data, np.append(data, prediction[0]))\n",
        "    data = np.vstack((data, scaled_prediction))\n",
        "    data = np.delete(data, 0, axis=0)\n",
        "    predicted.append(prediction)"
      ]
    },
    {
      "cell_type": "code",
      "execution_count": null,
      "metadata": {
        "id": "ruBB1-8ZG2N_"
      },
      "outputs": [],
      "source": [
        "results = pd.DataFrame(predicted, columns=features_keys, index=[df[\"DateTime\"].max() + timedelta(hours=i) for i in range(1, 31)])\n",
        "results.to_csv(\"predict.csv\")"
      ]
    },
    {
      "cell_type": "code",
      "execution_count": null,
      "metadata": {
        "id": "qmiz_9Meo0Gl"
      },
      "outputs": [],
      "source": [
        "plt.figure(figsize=(12, 6))\n",
        "plt.plot(range(30), np.array(predicted)[:, 0], label='Predicted')\n",
        "plt.xlabel('Time')\n",
        "plt.ylabel('Temperature')\n",
        "plt.title('Predicted Temperatures')\n",
        "plt.legend()\n",
        "plt.show()"
      ]
    }
  ],
  "metadata": {
    "accelerator": "GPU",
    "colab": {
      "gpuType": "T4",
      "provenance": []
    },
    "kernelspec": {
      "display_name": "Python 3",
      "name": "python3"
    },
    "language_info": {
      "codemirror_mode": {
        "name": "ipython",
        "version": 3
      },
      "file_extension": ".py",
      "mimetype": "text/x-python",
      "name": "python",
      "nbconvert_exporter": "python",
      "pygments_lexer": "ipython3",
      "version": "3.10.12"
    }
  },
  "nbformat": 4,
  "nbformat_minor": 0
}
