{
  "cells": [
    {
      "cell_type": "code",
      "execution_count": 1,
      "metadata": {
        "id": "CDLPMVs5o0Fj"
      },
      "outputs": [],
      "source": [
        "#!/usr/bin/env python\n",
        "# coding: utf-8"
      ]
    },
    {
      "cell_type": "markdown",
      "metadata": {
        "id": "6jOMK3eco0Fz"
      },
      "source": [
        "In[121]:"
      ]
    },
    {
      "cell_type": "code",
      "execution_count": 2,
      "metadata": {
        "id": "lfcZXoVMo0Fz"
      },
      "outputs": [
        {
          "name": "stderr",
          "output_type": "stream",
          "text": [
            "2023-06-30 22:20:37.097846: I tensorflow/core/util/port.cc:110] oneDNN custom operations are on. You may see slightly different numerical results due to floating-point round-off errors from different computation orders. To turn them off, set the environment variable `TF_ENABLE_ONEDNN_OPTS=0`.\n",
            "2023-06-30 22:20:37.237643: I tensorflow/tsl/cuda/cudart_stub.cc:28] Could not find cuda drivers on your machine, GPU will not be used.\n",
            "2023-06-30 22:20:37.484802: I tensorflow/tsl/cuda/cudart_stub.cc:28] Could not find cuda drivers on your machine, GPU will not be used.\n",
            "2023-06-30 22:20:37.485657: I tensorflow/core/platform/cpu_feature_guard.cc:182] This TensorFlow binary is optimized to use available CPU instructions in performance-critical operations.\n",
            "To enable the following instructions: AVX2 AVX_VNNI FMA, in other operations, rebuild TensorFlow with the appropriate compiler flags.\n",
            "2023-06-30 22:20:38.824547: W tensorflow/compiler/tf2tensorrt/utils/py_utils.cc:38] TF-TRT Warning: Could not find TensorRT\n"
          ]
        }
      ],
      "source": [
        "from sklearn.metrics import mean_squared_error, mean_absolute_error\n",
        "import pandas as pd\n",
        "import numpy as np\n",
        "import tensorflow as tf\n",
        "import matplotlib.pyplot as plt\n",
        "from sklearn.preprocessing import MinMaxScaler"
      ]
    },
    {
      "cell_type": "markdown",
      "metadata": {
        "id": "kbYrYcwoo0Fz"
      },
      "source": [
        "Load the data"
      ]
    },
    {
      "cell_type": "markdown",
      "metadata": {
        "id": "TqcVpN8bo0Fz"
      },
      "source": [
        "In[122]:"
      ]
    },
    {
      "cell_type": "code",
      "execution_count": 3,
      "metadata": {
        "colab": {
          "base_uri": "https://localhost:8080/"
        },
        "id": "ER9nC6wJo0Fz",
        "outputId": "a84b5378-0128-4610-9815-90191e6ce658"
      },
      "outputs": [
        {
          "name": "stdout",
          "output_type": "stream",
          "text": [
            "mkdir: cannot create directory ‘data’: File exists\n"
          ]
        }
      ],
      "source": [
        "!mkdir data && wget https://github.com/sdip15fa/weather-predict/raw/master/data/processed_data.csv -O data/processed_data.csv\n",
        "\n",
        "input_file = 'data/processed_data.csv'\n",
        "df = pd.read_csv('data/processed_data.csv',\n",
        "                 parse_dates=['DateTime'], index_col='DateTime')\n",
        "df = df.resample('60T').mean()\n",
        "df = df[(df['Temperature'] >= df['Temperature'].quantile(0.02)) &\n",
        "        (df['Temperature'] <= df['Temperature'].quantile(0.98))]\n",
        "# df[\"DateTime\"] = pd.to_datetime(df.index)\n",
        "df = df.reset_index()"
      ]
    },
    {
      "cell_type": "markdown",
      "metadata": {
        "id": "esqriSkSo0Fz"
      },
      "source": [
        "Rename the columns for better readability"
      ]
    },
    {
      "cell_type": "markdown",
      "metadata": {
        "id": "V48EaEK7o0Fz"
      },
      "source": [
        "In[123]:"
      ]
    },
    {
      "cell_type": "markdown",
      "metadata": {
        "id": "I1i5BWoXo0Fz"
      },
      "source": [
        "df.columns = ['DateTime', 'Year', 'Month', 'Date', 'Time', 'Minute', 'Temperature', 'Previous Day Average', 'Two Days Before Average',<br>\n",
        "'Three Days Before average', 'Last 7 Days Average', 'Previous Day Wind Speed', 'Previous Day Rainfall']"
      ]
    },
    {
      "cell_type": "markdown",
      "metadata": {
        "id": "JdAyygMMo0Fz"
      },
      "source": [
        "Convert the 'Date' and 'Time' columns to integers"
      ]
    },
    {
      "cell_type": "markdown",
      "metadata": {
        "id": "ZQqKH2ujo0Fz"
      },
      "source": [
        "In[124]:"
      ]
    },
    {
      "cell_type": "code",
      "execution_count": 4,
      "metadata": {
        "id": "q_wugGo2o0Fz"
      },
      "outputs": [],
      "source": [
        "df['Date'] = df['Date'].astype(int)\n",
        "df['Time'] = df['Time'].astype(int)"
      ]
    },
    {
      "cell_type": "markdown",
      "metadata": {
        "id": "2MN3pgEwo0Fz"
      },
      "source": [
        "Fill leading zeros for the 'Time' column"
      ]
    },
    {
      "cell_type": "markdown",
      "metadata": {
        "id": "-whw_xyEo0Fz"
      },
      "source": [
        "In[125]:"
      ]
    },
    {
      "cell_type": "code",
      "execution_count": 5,
      "metadata": {
        "id": "hfI3SbClo0Fz"
      },
      "outputs": [],
      "source": [
        "df['Time'] = df['Time'].apply(lambda x: str(x).zfill(4))"
      ]
    },
    {
      "cell_type": "markdown",
      "metadata": {
        "id": "7_hDxpCjo0Fz"
      },
      "source": [
        "Combine the 'Date' and 'Time' columns into a single 'DateTime' column"
      ]
    },
    {
      "cell_type": "markdown",
      "metadata": {
        "id": "KoszuY1So0Fz"
      },
      "source": [
        "In[126]:"
      ]
    },
    {
      "cell_type": "markdown",
      "metadata": {
        "id": "ddyiHs26o0Fz"
      },
      "source": [
        "df['DateTime'] = pd.to_datetime(df[\"DateTime\"], format=\"%Y-%m-%d %H:%M:%S\")"
      ]
    },
    {
      "cell_type": "markdown",
      "metadata": {
        "id": "wTyslGzvo0Fz"
      },
      "source": [
        "In[ ]:"
      ]
    },
    {
      "cell_type": "markdown",
      "metadata": {
        "id": "KO9gyf6zo0Fz"
      },
      "source": [
        "Remove rows with a specific value (e.g., 32767) in 'Temperature' column"
      ]
    },
    {
      "cell_type": "markdown",
      "metadata": {
        "id": "5qsrRqTLo0Fz"
      },
      "source": [
        "In[127]:"
      ]
    },
    {
      "cell_type": "code",
      "execution_count": 6,
      "metadata": {
        "id": "MTPUChTho0Fz"
      },
      "outputs": [],
      "source": [
        "df = df[df['Temperature'] != 32767]"
      ]
    },
    {
      "cell_type": "markdown",
      "metadata": {
        "id": "fY1-vdpio0Fz"
      },
      "source": [
        "Calculate the mean and standard deviation of Y"
      ]
    },
    {
      "cell_type": "markdown",
      "metadata": {
        "id": "ven5t1XEo0Fz"
      },
      "source": [
        "In[128]:"
      ]
    },
    {
      "cell_type": "code",
      "execution_count": 7,
      "metadata": {
        "id": "WMIErg-so0Fz"
      },
      "outputs": [],
      "source": [
        "threshold = 5\n",
        "mean_Y = np.mean(df['Temperature'])\n",
        "std_Y = np.std(df['Temperature'])"
      ]
    },
    {
      "cell_type": "markdown",
      "metadata": {
        "id": "yfLBr4pro0Fz"
      },
      "source": [
        "Define the range of acceptable Y values"
      ]
    },
    {
      "cell_type": "markdown",
      "metadata": {
        "id": "pxtyHQOzo0Fz"
      },
      "source": [
        "In[129]:"
      ]
    },
    {
      "cell_type": "code",
      "execution_count": 8,
      "metadata": {
        "id": "G_AT1SEco0Fz"
      },
      "outputs": [],
      "source": [
        "lower_bound = mean_Y - threshold * std_Y\n",
        "upper_bound = mean_Y + threshold * std_Y"
      ]
    },
    {
      "cell_type": "markdown",
      "metadata": {
        "id": "xW_Cjpf-o0Fz"
      },
      "source": [
        "Filter out rows with Y values outside the acceptable range"
      ]
    },
    {
      "cell_type": "markdown",
      "metadata": {
        "id": "uP4dMQsgo0Fz"
      },
      "source": [
        "In[130]:"
      ]
    },
    {
      "cell_type": "code",
      "execution_count": 9,
      "metadata": {
        "id": "EayyNxhTo0Fz"
      },
      "outputs": [],
      "source": [
        "df = df[(df['Temperature'] >= lower_bound) &\n",
        "        (df['Temperature'] <= upper_bound)]"
      ]
    },
    {
      "cell_type": "markdown",
      "metadata": {
        "id": "nW3SJd_do0Fz"
      },
      "source": [
        "Prepare the data for LSTM"
      ]
    },
    {
      "cell_type": "markdown",
      "metadata": {
        "id": "r51HZByoo0Fz"
      },
      "source": [
        "In[131]:"
      ]
    },
    {
      "cell_type": "code",
      "execution_count": 10,
      "metadata": {
        "id": "fYTgYEvho0Fz"
      },
      "outputs": [],
      "source": [
        "time_steps = 72  # Number of time steps for the LSTM model\n",
        "scaler = MinMaxScaler(feature_range=(0, 1))  # Scale the data to [0, 1]"
      ]
    },
    {
      "cell_type": "markdown",
      "metadata": {
        "id": "sh6rUdaSo0Fz"
      },
      "source": [
        "Create sequences of input data and corresponding target values"
      ]
    },
    {
      "cell_type": "markdown",
      "metadata": {
        "id": "DGknHjMfo0Fz"
      },
      "source": [
        "In[133]:"
      ]
    },
    {
      "cell_type": "markdown",
      "metadata": {
        "id": "V1xgtF1Io0Fz"
      },
      "source": [
        "Filter out the outliers and invalid values for the new features<br>\n",
        "Replace the specific invalid values (e.g., 32767) with np.nan"
      ]
    },
    {
      "cell_type": "code",
      "execution_count": 11,
      "metadata": {
        "id": "qBZeDv5No0Fz"
      },
      "outputs": [],
      "source": [
        "df['Wind Speed'] = df['Wind Speed'].replace(32767, np.nan)\n",
        "df['Rainfall'] = df['Rainfall'].replace(32767, np.nan)\n",
        "df['Wind Direction'] = df['Wind Direction'].replace(32767, np.nan)\n",
        "df = df[(df['Wind Direction'] >= 0) & (df['Wind Direction'] <= 360)]\n",
        "df = df[(df['Wind Speed'] <= df['Wind Speed'].quantile(0.99))]\n",
        "df = df[(df['Rainfall'] <= df['Rainfall'].quantile(0.99))]\n"
      ]
    },
    {
      "cell_type": "markdown",
      "metadata": {
        "id": "ry9s2DQgo0GE"
      },
      "source": [
        "Remove rows with missing values"
      ]
    },
    {
      "cell_type": "code",
      "execution_count": 12,
      "metadata": {
        "id": "rux_VYPWo0GE"
      },
      "outputs": [],
      "source": [
        "df = df.dropna()"
      ]
    },
    {
      "cell_type": "code",
      "execution_count": 13,
      "metadata": {
        "colab": {
          "base_uri": "https://localhost:8080/",
          "height": 679
        },
        "id": "f0e4-F66o0GE",
        "outputId": "54e45789-c5ad-4866-fe07-8b14b2ceeb8a"
      },
      "outputs": [
        {
          "data": {
            "text/html": [
              "<div>\n",
              "<style scoped>\n",
              "    .dataframe tbody tr th:only-of-type {\n",
              "        vertical-align: middle;\n",
              "    }\n",
              "\n",
              "    .dataframe tbody tr th {\n",
              "        vertical-align: top;\n",
              "    }\n",
              "\n",
              "    .dataframe thead th {\n",
              "        text-align: right;\n",
              "    }\n",
              "</style>\n",
              "<table border=\"1\" class=\"dataframe\">\n",
              "  <thead>\n",
              "    <tr style=\"text-align: right;\">\n",
              "      <th></th>\n",
              "      <th>DateTime</th>\n",
              "      <th>Year</th>\n",
              "      <th>Month</th>\n",
              "      <th>Date</th>\n",
              "      <th>Time</th>\n",
              "      <th>Minute</th>\n",
              "      <th>Temperature</th>\n",
              "      <th>Wind Speed</th>\n",
              "      <th>Wind Direction</th>\n",
              "      <th>Rainfall</th>\n",
              "    </tr>\n",
              "  </thead>\n",
              "  <tbody>\n",
              "    <tr>\n",
              "      <th>0</th>\n",
              "      <td>2008-01-01 12:00:00</td>\n",
              "      <td>2008.0</td>\n",
              "      <td>1.0</td>\n",
              "      <td>1</td>\n",
              "      <td>0012</td>\n",
              "      <td>1.0</td>\n",
              "      <td>5.1</td>\n",
              "      <td>44.0</td>\n",
              "      <td>39.0</td>\n",
              "      <td>0.0</td>\n",
              "    </tr>\n",
              "    <tr>\n",
              "      <th>1</th>\n",
              "      <td>2008-01-01 13:00:00</td>\n",
              "      <td>2008.0</td>\n",
              "      <td>1.0</td>\n",
              "      <td>1</td>\n",
              "      <td>0013</td>\n",
              "      <td>1.0</td>\n",
              "      <td>5.8</td>\n",
              "      <td>31.0</td>\n",
              "      <td>49.0</td>\n",
              "      <td>0.0</td>\n",
              "    </tr>\n",
              "    <tr>\n",
              "      <th>2</th>\n",
              "      <td>2008-01-01 14:00:00</td>\n",
              "      <td>2008.0</td>\n",
              "      <td>1.0</td>\n",
              "      <td>1</td>\n",
              "      <td>0014</td>\n",
              "      <td>1.0</td>\n",
              "      <td>6.6</td>\n",
              "      <td>32.0</td>\n",
              "      <td>36.0</td>\n",
              "      <td>0.0</td>\n",
              "    </tr>\n",
              "    <tr>\n",
              "      <th>3</th>\n",
              "      <td>2008-01-01 15:00:00</td>\n",
              "      <td>2008.0</td>\n",
              "      <td>1.0</td>\n",
              "      <td>1</td>\n",
              "      <td>0015</td>\n",
              "      <td>1.0</td>\n",
              "      <td>7.2</td>\n",
              "      <td>37.0</td>\n",
              "      <td>33.0</td>\n",
              "      <td>0.0</td>\n",
              "    </tr>\n",
              "    <tr>\n",
              "      <th>4</th>\n",
              "      <td>2008-01-01 16:00:00</td>\n",
              "      <td>2008.0</td>\n",
              "      <td>1.0</td>\n",
              "      <td>1</td>\n",
              "      <td>0016</td>\n",
              "      <td>1.0</td>\n",
              "      <td>6.7</td>\n",
              "      <td>60.0</td>\n",
              "      <td>6.0</td>\n",
              "      <td>0.0</td>\n",
              "    </tr>\n",
              "    <tr>\n",
              "      <th>...</th>\n",
              "      <td>...</td>\n",
              "      <td>...</td>\n",
              "      <td>...</td>\n",
              "      <td>...</td>\n",
              "      <td>...</td>\n",
              "      <td>...</td>\n",
              "      <td>...</td>\n",
              "      <td>...</td>\n",
              "      <td>...</td>\n",
              "      <td>...</td>\n",
              "    </tr>\n",
              "    <tr>\n",
              "      <th>119719</th>\n",
              "      <td>2023-06-30 15:00:00</td>\n",
              "      <td>2023.0</td>\n",
              "      <td>6.0</td>\n",
              "      <td>30</td>\n",
              "      <td>0015</td>\n",
              "      <td>1.0</td>\n",
              "      <td>23.8</td>\n",
              "      <td>50.0</td>\n",
              "      <td>222.0</td>\n",
              "      <td>0.0</td>\n",
              "    </tr>\n",
              "    <tr>\n",
              "      <th>119720</th>\n",
              "      <td>2023-06-30 16:00:00</td>\n",
              "      <td>2023.0</td>\n",
              "      <td>6.0</td>\n",
              "      <td>30</td>\n",
              "      <td>0016</td>\n",
              "      <td>1.0</td>\n",
              "      <td>24.4</td>\n",
              "      <td>44.0</td>\n",
              "      <td>216.0</td>\n",
              "      <td>0.0</td>\n",
              "    </tr>\n",
              "    <tr>\n",
              "      <th>119721</th>\n",
              "      <td>2023-06-30 17:00:00</td>\n",
              "      <td>2023.0</td>\n",
              "      <td>6.0</td>\n",
              "      <td>30</td>\n",
              "      <td>0017</td>\n",
              "      <td>1.0</td>\n",
              "      <td>23.4</td>\n",
              "      <td>32.0</td>\n",
              "      <td>201.0</td>\n",
              "      <td>0.0</td>\n",
              "    </tr>\n",
              "    <tr>\n",
              "      <th>119722</th>\n",
              "      <td>2023-06-30 18:00:00</td>\n",
              "      <td>2023.0</td>\n",
              "      <td>6.0</td>\n",
              "      <td>30</td>\n",
              "      <td>0018</td>\n",
              "      <td>1.0</td>\n",
              "      <td>23.0</td>\n",
              "      <td>27.0</td>\n",
              "      <td>194.0</td>\n",
              "      <td>0.0</td>\n",
              "    </tr>\n",
              "    <tr>\n",
              "      <th>119723</th>\n",
              "      <td>2023-06-30 19:00:00</td>\n",
              "      <td>2023.0</td>\n",
              "      <td>6.0</td>\n",
              "      <td>30</td>\n",
              "      <td>0019</td>\n",
              "      <td>1.0</td>\n",
              "      <td>22.8</td>\n",
              "      <td>41.0</td>\n",
              "      <td>191.0</td>\n",
              "      <td>0.0</td>\n",
              "    </tr>\n",
              "  </tbody>\n",
              "</table>\n",
              "<p>70259 rows × 10 columns</p>\n",
              "</div>"
            ],
            "text/plain": [
              "                  DateTime    Year  Month  Date  Time  Minute  Temperature  \\\n",
              "0      2008-01-01 12:00:00  2008.0    1.0     1  0012     1.0          5.1   \n",
              "1      2008-01-01 13:00:00  2008.0    1.0     1  0013     1.0          5.8   \n",
              "2      2008-01-01 14:00:00  2008.0    1.0     1  0014     1.0          6.6   \n",
              "3      2008-01-01 15:00:00  2008.0    1.0     1  0015     1.0          7.2   \n",
              "4      2008-01-01 16:00:00  2008.0    1.0     1  0016     1.0          6.7   \n",
              "...                    ...     ...    ...   ...   ...     ...          ...   \n",
              "119719 2023-06-30 15:00:00  2023.0    6.0    30  0015     1.0         23.8   \n",
              "119720 2023-06-30 16:00:00  2023.0    6.0    30  0016     1.0         24.4   \n",
              "119721 2023-06-30 17:00:00  2023.0    6.0    30  0017     1.0         23.4   \n",
              "119722 2023-06-30 18:00:00  2023.0    6.0    30  0018     1.0         23.0   \n",
              "119723 2023-06-30 19:00:00  2023.0    6.0    30  0019     1.0         22.8   \n",
              "\n",
              "        Wind Speed  Wind Direction  Rainfall  \n",
              "0             44.0            39.0       0.0  \n",
              "1             31.0            49.0       0.0  \n",
              "2             32.0            36.0       0.0  \n",
              "3             37.0            33.0       0.0  \n",
              "4             60.0             6.0       0.0  \n",
              "...            ...             ...       ...  \n",
              "119719        50.0           222.0       0.0  \n",
              "119720        44.0           216.0       0.0  \n",
              "119721        32.0           201.0       0.0  \n",
              "119722        27.0           194.0       0.0  \n",
              "119723        41.0           191.0       0.0  \n",
              "\n",
              "[70259 rows x 10 columns]"
            ]
          },
          "execution_count": 13,
          "metadata": {},
          "output_type": "execute_result"
        }
      ],
      "source": [
        "df"
      ]
    },
    {
      "cell_type": "code",
      "execution_count": 14,
      "metadata": {
        "id": "y-zPsENY_V2J"
      },
      "outputs": [],
      "source": [
        "features_keys = ['Temperature', 'Wind Speed',\n",
        "               'Rainfall']"
      ]
    },
    {
      "cell_type": "markdown",
      "metadata": {
        "id": "yH8sRnrZo0GE"
      },
      "source": [
        "Scale the temperature, wind speed, rainfall, and wind direction values"
      ]
    },
    {
      "cell_type": "code",
      "execution_count": 15,
      "metadata": {
        "id": "ioRT6PB7o0GE"
      },
      "outputs": [],
      "source": [
        "features = df[features_keys].copy()\n",
        "scaled_features = scaler.fit_transform(features)"
      ]
    },
    {
      "cell_type": "code",
      "execution_count": 16,
      "metadata": {
        "colab": {
          "base_uri": "https://localhost:8080/"
        },
        "id": "3HWJi4kH_V2J",
        "outputId": "a0ba070d-24e2-400a-8fb8-7f7ebd3100b7"
      },
      "outputs": [
        {
          "data": {
            "text/plain": [
              "array([[0.        , 0.24571429, 0.        ],\n",
              "       [0.03414634, 0.17142857, 0.        ],\n",
              "       [0.07317073, 0.17714286, 0.        ],\n",
              "       ...,\n",
              "       [0.89268293, 0.17714286, 0.        ],\n",
              "       [0.87317073, 0.14857143, 0.        ],\n",
              "       [0.86341463, 0.22857143, 0.        ]])"
            ]
          },
          "execution_count": 16,
          "metadata": {},
          "output_type": "execute_result"
        }
      ],
      "source": [
        "scaled_features"
      ]
    },
    {
      "cell_type": "markdown",
      "metadata": {
        "id": "MtfyrlIso0GE"
      },
      "source": [
        "Create sequences of input data and corresponding target values"
      ]
    },
    {
      "cell_type": "code",
      "execution_count": 17,
      "metadata": {
        "id": "w_vv2_l_o0GE"
      },
      "outputs": [],
      "source": [
        "data = []\n",
        "target = []\n",
        "for i in range(1, len(scaled_features) - time_steps):\n",
        "    # exclude the target\n",
        "    data.append(scaled_features[i:i+time_steps])\n",
        "    # Only the temperature is the target\n",
        "    target.append(scaled_features[i+time_steps])"
      ]
    },
    {
      "cell_type": "code",
      "execution_count": 18,
      "metadata": {
        "id": "iMnszm71o0GE"
      },
      "outputs": [],
      "source": [
        "data = np.array(data)\n",
        "target = np.array(target)\n"
      ]
    },
    {
      "cell_type": "markdown",
      "metadata": {
        "id": "aze0XnUuo0GE"
      },
      "source": [
        "In[135]:"
      ]
    },
    {
      "cell_type": "markdown",
      "metadata": {
        "id": "imxL175Ho0GE"
      },
      "source": [
        "Define exclude date (year, month, and day)"
      ]
    },
    {
      "cell_type": "markdown",
      "metadata": {
        "id": "E2DbjTN0o0GE"
      },
      "source": [
        "In[136]:"
      ]
    },
    {
      "cell_type": "markdown",
      "metadata": {
        "id": "pm3RIBnoo0GE"
      },
      "source": [
        "Split the dataset into training and validation sets"
      ]
    },
    {
      "cell_type": "markdown",
      "metadata": {
        "id": "sQWawAP_o0GE"
      },
      "source": [
        "In[137]:"
      ]
    },
    {
      "cell_type": "code",
      "execution_count": 19,
      "metadata": {
        "id": "nk58ReQ2o0GE"
      },
      "outputs": [],
      "source": [
        "split = 0.1\n",
        "exclude_index = int(len(data) * (1-split))\n",
        "train_data, train_target = data[:exclude_index], target[:exclude_index]\n",
        "val_data, val_target = data[exclude_index:], target[exclude_index:]\n"
      ]
    },
    {
      "cell_type": "markdown",
      "metadata": {
        "id": "sRzJzu0-o0GE"
      },
      "source": [
        "Build the LSTM model architecture"
      ]
    },
    {
      "cell_type": "markdown",
      "metadata": {
        "id": "uE89oR-Bo0GE"
      },
      "source": [
        "In[138]:"
      ]
    },
    {
      "cell_type": "code",
      "execution_count": 20,
      "metadata": {
        "id": "rvOWUL_Co0GE"
      },
      "outputs": [
        {
          "name": "stderr",
          "output_type": "stream",
          "text": [
            "2023-06-30 22:20:41.541845: E tensorflow/compiler/xla/stream_executor/cuda/cuda_driver.cc:1579] failed to query PCI bus id for device: UNKNOWN ERROR (801)\n",
            "2023-06-30 22:20:41.542065: I tensorflow/compiler/xla/stream_executor/cuda/cuda_gpu_executor.cc:970] no PCI bus ID for device ordinal: 0\n",
            "2023-06-30 22:20:41.543812: W tensorflow/core/common_runtime/gpu/gpu_device.cc:1956] Cannot dlopen some GPU libraries. Please make sure the missing libraries mentioned above are installed properly if you would like to use GPU. Follow the guide at https://www.tensorflow.org/install/gpu for how to download and setup the required libraries for your platform.\n",
            "Skipping registering GPU devices...\n",
            "2023-06-30 22:20:41.905371: I tensorflow/core/common_runtime/executor.cc:1197] [/device:CPU:0] (DEBUG INFO) Executor start aborting (this does not indicate an error and you can ignore this message): INVALID_ARGUMENT: You must feed a value for placeholder tensor 'gradients/split_2_grad/concat/split_2/split_dim' with dtype int32\n",
            "\t [[{{node gradients/split_2_grad/concat/split_2/split_dim}}]]\n",
            "2023-06-30 22:20:41.906781: I tensorflow/core/common_runtime/executor.cc:1197] [/device:CPU:0] (DEBUG INFO) Executor start aborting (this does not indicate an error and you can ignore this message): INVALID_ARGUMENT: You must feed a value for placeholder tensor 'gradients/split_grad/concat/split/split_dim' with dtype int32\n",
            "\t [[{{node gradients/split_grad/concat/split/split_dim}}]]\n",
            "2023-06-30 22:20:41.907576: I tensorflow/core/common_runtime/executor.cc:1197] [/device:CPU:0] (DEBUG INFO) Executor start aborting (this does not indicate an error and you can ignore this message): INVALID_ARGUMENT: You must feed a value for placeholder tensor 'gradients/split_1_grad/concat/split_1/split_dim' with dtype int32\n",
            "\t [[{{node gradients/split_1_grad/concat/split_1/split_dim}}]]\n",
            "2023-06-30 22:20:42.038977: I tensorflow/core/common_runtime/executor.cc:1197] [/device:CPU:0] (DEBUG INFO) Executor start aborting (this does not indicate an error and you can ignore this message): INVALID_ARGUMENT: You must feed a value for placeholder tensor 'gradients/split_2_grad/concat/split_2/split_dim' with dtype int32\n",
            "\t [[{{node gradients/split_2_grad/concat/split_2/split_dim}}]]\n",
            "2023-06-30 22:20:42.039893: I tensorflow/core/common_runtime/executor.cc:1197] [/device:CPU:0] (DEBUG INFO) Executor start aborting (this does not indicate an error and you can ignore this message): INVALID_ARGUMENT: You must feed a value for placeholder tensor 'gradients/split_grad/concat/split/split_dim' with dtype int32\n",
            "\t [[{{node gradients/split_grad/concat/split/split_dim}}]]\n",
            "2023-06-30 22:20:42.040623: I tensorflow/core/common_runtime/executor.cc:1197] [/device:CPU:0] (DEBUG INFO) Executor start aborting (this does not indicate an error and you can ignore this message): INVALID_ARGUMENT: You must feed a value for placeholder tensor 'gradients/split_1_grad/concat/split_1/split_dim' with dtype int32\n",
            "\t [[{{node gradients/split_1_grad/concat/split_1/split_dim}}]]\n",
            "2023-06-30 22:20:42.167538: I tensorflow/core/common_runtime/executor.cc:1197] [/device:CPU:0] (DEBUG INFO) Executor start aborting (this does not indicate an error and you can ignore this message): INVALID_ARGUMENT: You must feed a value for placeholder tensor 'gradients/split_2_grad/concat/split_2/split_dim' with dtype int32\n",
            "\t [[{{node gradients/split_2_grad/concat/split_2/split_dim}}]]\n",
            "2023-06-30 22:20:42.169228: I tensorflow/core/common_runtime/executor.cc:1197] [/device:CPU:0] (DEBUG INFO) Executor start aborting (this does not indicate an error and you can ignore this message): INVALID_ARGUMENT: You must feed a value for placeholder tensor 'gradients/split_grad/concat/split/split_dim' with dtype int32\n",
            "\t [[{{node gradients/split_grad/concat/split/split_dim}}]]\n",
            "2023-06-30 22:20:42.170152: I tensorflow/core/common_runtime/executor.cc:1197] [/device:CPU:0] (DEBUG INFO) Executor start aborting (this does not indicate an error and you can ignore this message): INVALID_ARGUMENT: You must feed a value for placeholder tensor 'gradients/split_1_grad/concat/split_1/split_dim' with dtype int32\n",
            "\t [[{{node gradients/split_1_grad/concat/split_1/split_dim}}]]\n",
            "2023-06-30 22:20:42.295658: I tensorflow/core/common_runtime/executor.cc:1197] [/device:CPU:0] (DEBUG INFO) Executor start aborting (this does not indicate an error and you can ignore this message): INVALID_ARGUMENT: You must feed a value for placeholder tensor 'gradients/split_2_grad/concat/split_2/split_dim' with dtype int32\n",
            "\t [[{{node gradients/split_2_grad/concat/split_2/split_dim}}]]\n",
            "2023-06-30 22:20:42.296547: I tensorflow/core/common_runtime/executor.cc:1197] [/device:CPU:0] (DEBUG INFO) Executor start aborting (this does not indicate an error and you can ignore this message): INVALID_ARGUMENT: You must feed a value for placeholder tensor 'gradients/split_grad/concat/split/split_dim' with dtype int32\n",
            "\t [[{{node gradients/split_grad/concat/split/split_dim}}]]\n",
            "2023-06-30 22:20:42.297386: I tensorflow/core/common_runtime/executor.cc:1197] [/device:CPU:0] (DEBUG INFO) Executor start aborting (this does not indicate an error and you can ignore this message): INVALID_ARGUMENT: You must feed a value for placeholder tensor 'gradients/split_1_grad/concat/split_1/split_dim' with dtype int32\n",
            "\t [[{{node gradients/split_1_grad/concat/split_1/split_dim}}]]\n",
            "2023-06-30 22:20:42.419068: I tensorflow/core/common_runtime/executor.cc:1197] [/device:CPU:0] (DEBUG INFO) Executor start aborting (this does not indicate an error and you can ignore this message): INVALID_ARGUMENT: You must feed a value for placeholder tensor 'gradients/split_2_grad/concat/split_2/split_dim' with dtype int32\n",
            "\t [[{{node gradients/split_2_grad/concat/split_2/split_dim}}]]\n",
            "2023-06-30 22:20:42.419962: I tensorflow/core/common_runtime/executor.cc:1197] [/device:CPU:0] (DEBUG INFO) Executor start aborting (this does not indicate an error and you can ignore this message): INVALID_ARGUMENT: You must feed a value for placeholder tensor 'gradients/split_grad/concat/split/split_dim' with dtype int32\n",
            "\t [[{{node gradients/split_grad/concat/split/split_dim}}]]\n",
            "2023-06-30 22:20:42.421206: I tensorflow/core/common_runtime/executor.cc:1197] [/device:CPU:0] (DEBUG INFO) Executor start aborting (this does not indicate an error and you can ignore this message): INVALID_ARGUMENT: You must feed a value for placeholder tensor 'gradients/split_1_grad/concat/split_1/split_dim' with dtype int32\n",
            "\t [[{{node gradients/split_1_grad/concat/split_1/split_dim}}]]\n"
          ]
        }
      ],
      "source": [
        "import tensorflow as tf\n",
        "\"\"\"\n",
        "model = tf.keras.Sequential([\n",
        "    tf.keras.layers.LSTM(256, return_sequences=True,\n",
        "                         input_shape=(time_steps, 4)),\n",
        "    tf.keras.layers.BatchNormalization(),\n",
        "    tf.keras.layers.Dropout(0.2),\n",
        "    tf.keras.layers.LSTM(256, return_sequences=True),\n",
        "    tf.keras.layers.BatchNormalization(),\n",
        "    tf.keras.layers.Dropout(0.2),\n",
        "    tf.keras.layers.LSTM(256, return_sequences=True),\n",
        "    tf.keras.layers.BatchNormalization(),\n",
        "    tf.keras.layers.Dropout(0.2),\n",
        "    tf.keras.layers.LSTM(256),\n",
        "    tf.keras.layers.BatchNormalization(),\n",
        "    tf.keras.layers.Dropout(0.2),\n",
        "    tf.keras.layers.Dense(128, activation='relu'),\n",
        "    tf.keras.layers.BatchNormalization(),\n",
        "    tf.keras.layers.Dropout(0.2),\n",
        "    tf.keras.layers.Dense(1)\n",
        "])\n",
        "\"\"\"\n",
        "model = tf.keras.Sequential([\n",
        "    tf.keras.layers.LSTM(256, return_sequences=True, input_shape=(time_steps, len(features_keys))),\n",
        "    # tf.keras.layers.LSTM(128, return_sequences=True),\n",
        "    # tf.keras.layers.LSTM(64, return_sequences=True),\n",
        "    # tf.keras.layers.LSTM(64, return_sequences=True),\n",
        "    # tf.keras.layers.LSTM(32, return_sequences=True),\n",
        "    tf.keras.layers.LSTM(128, return_sequences=True),\n",
        "    tf.keras.layers.LSTM(64, return_sequences=True),\n",
        "    tf.keras.layers.LSTM(64, return_sequences=True),\n",
        "    tf.keras.layers.LSTM(64),\n",
        "    # tf.keras.layers.Dense(64),\n",
        "    # tf.keras.layers.Dense(64),\n",
        "    tf.keras.layers.Dense(64, activation=\"relu\"),\n",
        "    tf.keras.layers.Dense(len(features_keys))\n",
        "])\n"
      ]
    },
    {
      "cell_type": "markdown",
      "metadata": {
        "id": "cVjVLc9no0GE"
      },
      "source": [
        "Compile the model"
      ]
    },
    {
      "cell_type": "markdown",
      "metadata": {
        "id": "uUPbO-Izo0GE"
      },
      "source": [
        "In[139]:"
      ]
    },
    {
      "cell_type": "code",
      "execution_count": 21,
      "metadata": {
        "id": "sk3yxZIio0GE"
      },
      "outputs": [],
      "source": [
        "optimizer = tf.keras.optimizers.Adam(learning_rate=0.001)\n",
        "model.compile(loss='mean_absolute_error', optimizer=optimizer)"
      ]
    },
    {
      "cell_type": "markdown",
      "metadata": {
        "id": "mlmltGMRo0GE"
      },
      "source": [
        "Define early stopping and learning rate scheduler"
      ]
    },
    {
      "cell_type": "markdown",
      "metadata": {
        "id": "NxXUjgW4o0GE"
      },
      "source": [
        "In[140]:"
      ]
    },
    {
      "cell_type": "code",
      "execution_count": 22,
      "metadata": {
        "id": "-FzJGi_jo0GE"
      },
      "outputs": [],
      "source": [
        "early_stopping = tf.keras.callbacks.EarlyStopping(\n",
        "    monitor='val_loss', patience=10, restore_best_weights=True)\n",
        "lr_scheduler = tf.keras.callbacks.ReduceLROnPlateau(\n",
        "    monitor='val_loss', factor=0.2, patience=5, min_lr=1e-6)"
      ]
    },
    {
      "cell_type": "markdown",
      "metadata": {
        "id": "eQuMJC2xo0GE"
      },
      "source": [
        "Train the LSTM model"
      ]
    },
    {
      "cell_type": "markdown",
      "metadata": {
        "id": "nYsl45Aso0GE"
      },
      "source": [
        "In[141]:"
      ]
    },
    {
      "cell_type": "code",
      "execution_count": 23,
      "metadata": {
        "colab": {
          "base_uri": "https://localhost:8080/"
        },
        "id": "FPNW8kgSo0GE",
        "outputId": "7d384730-c5f9-4d3a-b94a-7ee226765e48"
      },
      "outputs": [
        {
          "name": "stdout",
          "output_type": "stream",
          "text": [
            "Epoch 1/100\n"
          ]
        },
        {
          "name": "stderr",
          "output_type": "stream",
          "text": [
            "2023-06-30 22:20:42.814812: I tensorflow/core/common_runtime/executor.cc:1197] [/device:CPU:0] (DEBUG INFO) Executor start aborting (this does not indicate an error and you can ignore this message): INVALID_ARGUMENT: You must feed a value for placeholder tensor 'gradients/split_2_grad/concat/split_2/split_dim' with dtype int32\n",
            "\t [[{{node gradients/split_2_grad/concat/split_2/split_dim}}]]\n",
            "2023-06-30 22:20:42.815980: I tensorflow/core/common_runtime/executor.cc:1197] [/device:CPU:0] (DEBUG INFO) Executor start aborting (this does not indicate an error and you can ignore this message): INVALID_ARGUMENT: You must feed a value for placeholder tensor 'gradients/split_grad/concat/split/split_dim' with dtype int32\n",
            "\t [[{{node gradients/split_grad/concat/split/split_dim}}]]\n",
            "2023-06-30 22:20:42.817295: I tensorflow/core/common_runtime/executor.cc:1197] [/device:CPU:0] (DEBUG INFO) Executor start aborting (this does not indicate an error and you can ignore this message): INVALID_ARGUMENT: You must feed a value for placeholder tensor 'gradients/split_1_grad/concat/split_1/split_dim' with dtype int32\n",
            "\t [[{{node gradients/split_1_grad/concat/split_1/split_dim}}]]\n",
            "2023-06-30 22:20:42.939149: I tensorflow/core/common_runtime/executor.cc:1197] [/device:CPU:0] (DEBUG INFO) Executor start aborting (this does not indicate an error and you can ignore this message): INVALID_ARGUMENT: You must feed a value for placeholder tensor 'gradients/split_2_grad/concat/split_2/split_dim' with dtype int32\n",
            "\t [[{{node gradients/split_2_grad/concat/split_2/split_dim}}]]\n",
            "2023-06-30 22:20:42.940114: I tensorflow/core/common_runtime/executor.cc:1197] [/device:CPU:0] (DEBUG INFO) Executor start aborting (this does not indicate an error and you can ignore this message): INVALID_ARGUMENT: You must feed a value for placeholder tensor 'gradients/split_grad/concat/split/split_dim' with dtype int32\n",
            "\t [[{{node gradients/split_grad/concat/split/split_dim}}]]\n",
            "2023-06-30 22:20:42.940957: I tensorflow/core/common_runtime/executor.cc:1197] [/device:CPU:0] (DEBUG INFO) Executor start aborting (this does not indicate an error and you can ignore this message): INVALID_ARGUMENT: You must feed a value for placeholder tensor 'gradients/split_1_grad/concat/split_1/split_dim' with dtype int32\n",
            "\t [[{{node gradients/split_1_grad/concat/split_1/split_dim}}]]\n",
            "2023-06-30 22:20:43.073586: I tensorflow/core/common_runtime/executor.cc:1197] [/device:CPU:0] (DEBUG INFO) Executor start aborting (this does not indicate an error and you can ignore this message): INVALID_ARGUMENT: You must feed a value for placeholder tensor 'gradients/split_2_grad/concat/split_2/split_dim' with dtype int32\n",
            "\t [[{{node gradients/split_2_grad/concat/split_2/split_dim}}]]\n",
            "2023-06-30 22:20:43.074790: I tensorflow/core/common_runtime/executor.cc:1197] [/device:CPU:0] (DEBUG INFO) Executor start aborting (this does not indicate an error and you can ignore this message): INVALID_ARGUMENT: You must feed a value for placeholder tensor 'gradients/split_grad/concat/split/split_dim' with dtype int32\n",
            "\t [[{{node gradients/split_grad/concat/split/split_dim}}]]\n",
            "2023-06-30 22:20:43.076108: I tensorflow/core/common_runtime/executor.cc:1197] [/device:CPU:0] (DEBUG INFO) Executor start aborting (this does not indicate an error and you can ignore this message): INVALID_ARGUMENT: You must feed a value for placeholder tensor 'gradients/split_1_grad/concat/split_1/split_dim' with dtype int32\n",
            "\t [[{{node gradients/split_1_grad/concat/split_1/split_dim}}]]\n",
            "2023-06-30 22:20:43.217410: I tensorflow/core/common_runtime/executor.cc:1197] [/device:CPU:0] (DEBUG INFO) Executor start aborting (this does not indicate an error and you can ignore this message): INVALID_ARGUMENT: You must feed a value for placeholder tensor 'gradients/split_2_grad/concat/split_2/split_dim' with dtype int32\n",
            "\t [[{{node gradients/split_2_grad/concat/split_2/split_dim}}]]\n",
            "2023-06-30 22:20:43.218550: I tensorflow/core/common_runtime/executor.cc:1197] [/device:CPU:0] (DEBUG INFO) Executor start aborting (this does not indicate an error and you can ignore this message): INVALID_ARGUMENT: You must feed a value for placeholder tensor 'gradients/split_grad/concat/split/split_dim' with dtype int32\n",
            "\t [[{{node gradients/split_grad/concat/split/split_dim}}]]\n",
            "2023-06-30 22:20:43.220401: I tensorflow/core/common_runtime/executor.cc:1197] [/device:CPU:0] (DEBUG INFO) Executor start aborting (this does not indicate an error and you can ignore this message): INVALID_ARGUMENT: You must feed a value for placeholder tensor 'gradients/split_1_grad/concat/split_1/split_dim' with dtype int32\n",
            "\t [[{{node gradients/split_1_grad/concat/split_1/split_dim}}]]\n",
            "2023-06-30 22:20:43.361887: I tensorflow/core/common_runtime/executor.cc:1197] [/device:CPU:0] (DEBUG INFO) Executor start aborting (this does not indicate an error and you can ignore this message): INVALID_ARGUMENT: You must feed a value for placeholder tensor 'gradients/split_2_grad/concat/split_2/split_dim' with dtype int32\n",
            "\t [[{{node gradients/split_2_grad/concat/split_2/split_dim}}]]\n",
            "2023-06-30 22:20:43.363449: I tensorflow/core/common_runtime/executor.cc:1197] [/device:CPU:0] (DEBUG INFO) Executor start aborting (this does not indicate an error and you can ignore this message): INVALID_ARGUMENT: You must feed a value for placeholder tensor 'gradients/split_grad/concat/split/split_dim' with dtype int32\n",
            "\t [[{{node gradients/split_grad/concat/split/split_dim}}]]\n",
            "2023-06-30 22:20:43.364410: I tensorflow/core/common_runtime/executor.cc:1197] [/device:CPU:0] (DEBUG INFO) Executor start aborting (this does not indicate an error and you can ignore this message): INVALID_ARGUMENT: You must feed a value for placeholder tensor 'gradients/split_1_grad/concat/split_1/split_dim' with dtype int32\n",
            "\t [[{{node gradients/split_1_grad/concat/split_1/split_dim}}]]\n",
            "2023-06-30 22:20:44.468053: I tensorflow/core/common_runtime/executor.cc:1197] [/device:CPU:0] (DEBUG INFO) Executor start aborting (this does not indicate an error and you can ignore this message): INVALID_ARGUMENT: You must feed a value for placeholder tensor 'gradients/split_2_grad/concat/split_2/split_dim' with dtype int32\n",
            "\t [[{{node gradients/split_2_grad/concat/split_2/split_dim}}]]\n",
            "2023-06-30 22:20:44.469583: I tensorflow/core/common_runtime/executor.cc:1197] [/device:CPU:0] (DEBUG INFO) Executor start aborting (this does not indicate an error and you can ignore this message): INVALID_ARGUMENT: You must feed a value for placeholder tensor 'gradients/split_grad/concat/split/split_dim' with dtype int32\n",
            "\t [[{{node gradients/split_grad/concat/split/split_dim}}]]\n",
            "2023-06-30 22:20:44.470402: I tensorflow/core/common_runtime/executor.cc:1197] [/device:CPU:0] (DEBUG INFO) Executor start aborting (this does not indicate an error and you can ignore this message): INVALID_ARGUMENT: You must feed a value for placeholder tensor 'gradients/split_1_grad/concat/split_1/split_dim' with dtype int32\n",
            "\t [[{{node gradients/split_1_grad/concat/split_1/split_dim}}]]\n",
            "2023-06-30 22:20:44.589300: I tensorflow/core/common_runtime/executor.cc:1197] [/device:CPU:0] (DEBUG INFO) Executor start aborting (this does not indicate an error and you can ignore this message): INVALID_ARGUMENT: You must feed a value for placeholder tensor 'gradients/split_2_grad/concat/split_2/split_dim' with dtype int32\n",
            "\t [[{{node gradients/split_2_grad/concat/split_2/split_dim}}]]\n",
            "2023-06-30 22:20:44.590288: I tensorflow/core/common_runtime/executor.cc:1197] [/device:CPU:0] (DEBUG INFO) Executor start aborting (this does not indicate an error and you can ignore this message): INVALID_ARGUMENT: You must feed a value for placeholder tensor 'gradients/split_grad/concat/split/split_dim' with dtype int32\n",
            "\t [[{{node gradients/split_grad/concat/split/split_dim}}]]\n",
            "2023-06-30 22:20:44.591257: I tensorflow/core/common_runtime/executor.cc:1197] [/device:CPU:0] (DEBUG INFO) Executor start aborting (this does not indicate an error and you can ignore this message): INVALID_ARGUMENT: You must feed a value for placeholder tensor 'gradients/split_1_grad/concat/split_1/split_dim' with dtype int32\n",
            "\t [[{{node gradients/split_1_grad/concat/split_1/split_dim}}]]\n",
            "2023-06-30 22:20:44.712030: I tensorflow/core/common_runtime/executor.cc:1197] [/device:CPU:0] (DEBUG INFO) Executor start aborting (this does not indicate an error and you can ignore this message): INVALID_ARGUMENT: You must feed a value for placeholder tensor 'gradients/split_2_grad/concat/split_2/split_dim' with dtype int32\n",
            "\t [[{{node gradients/split_2_grad/concat/split_2/split_dim}}]]\n",
            "2023-06-30 22:20:44.713586: I tensorflow/core/common_runtime/executor.cc:1197] [/device:CPU:0] (DEBUG INFO) Executor start aborting (this does not indicate an error and you can ignore this message): INVALID_ARGUMENT: You must feed a value for placeholder tensor 'gradients/split_grad/concat/split/split_dim' with dtype int32\n",
            "\t [[{{node gradients/split_grad/concat/split/split_dim}}]]\n",
            "2023-06-30 22:20:44.714442: I tensorflow/core/common_runtime/executor.cc:1197] [/device:CPU:0] (DEBUG INFO) Executor start aborting (this does not indicate an error and you can ignore this message): INVALID_ARGUMENT: You must feed a value for placeholder tensor 'gradients/split_1_grad/concat/split_1/split_dim' with dtype int32\n",
            "\t [[{{node gradients/split_1_grad/concat/split_1/split_dim}}]]\n",
            "2023-06-30 22:20:44.829389: I tensorflow/core/common_runtime/executor.cc:1197] [/device:CPU:0] (DEBUG INFO) Executor start aborting (this does not indicate an error and you can ignore this message): INVALID_ARGUMENT: You must feed a value for placeholder tensor 'gradients/split_2_grad/concat/split_2/split_dim' with dtype int32\n",
            "\t [[{{node gradients/split_2_grad/concat/split_2/split_dim}}]]\n",
            "2023-06-30 22:20:44.830336: I tensorflow/core/common_runtime/executor.cc:1197] [/device:CPU:0] (DEBUG INFO) Executor start aborting (this does not indicate an error and you can ignore this message): INVALID_ARGUMENT: You must feed a value for placeholder tensor 'gradients/split_grad/concat/split/split_dim' with dtype int32\n",
            "\t [[{{node gradients/split_grad/concat/split/split_dim}}]]\n",
            "2023-06-30 22:20:44.831149: I tensorflow/core/common_runtime/executor.cc:1197] [/device:CPU:0] (DEBUG INFO) Executor start aborting (this does not indicate an error and you can ignore this message): INVALID_ARGUMENT: You must feed a value for placeholder tensor 'gradients/split_1_grad/concat/split_1/split_dim' with dtype int32\n",
            "\t [[{{node gradients/split_1_grad/concat/split_1/split_dim}}]]\n",
            "2023-06-30 22:20:45.069788: I tensorflow/core/common_runtime/executor.cc:1197] [/device:CPU:0] (DEBUG INFO) Executor start aborting (this does not indicate an error and you can ignore this message): INVALID_ARGUMENT: You must feed a value for placeholder tensor 'gradients/split_2_grad/concat/split_2/split_dim' with dtype int32\n",
            "\t [[{{node gradients/split_2_grad/concat/split_2/split_dim}}]]\n",
            "2023-06-30 22:20:45.071029: I tensorflow/core/common_runtime/executor.cc:1197] [/device:CPU:0] (DEBUG INFO) Executor start aborting (this does not indicate an error and you can ignore this message): INVALID_ARGUMENT: You must feed a value for placeholder tensor 'gradients/split_grad/concat/split/split_dim' with dtype int32\n",
            "\t [[{{node gradients/split_grad/concat/split/split_dim}}]]\n",
            "2023-06-30 22:20:45.071796: I tensorflow/core/common_runtime/executor.cc:1197] [/device:CPU:0] (DEBUG INFO) Executor start aborting (this does not indicate an error and you can ignore this message): INVALID_ARGUMENT: You must feed a value for placeholder tensor 'gradients/split_1_grad/concat/split_1/split_dim' with dtype int32\n",
            "\t [[{{node gradients/split_1_grad/concat/split_1/split_dim}}]]\n"
          ]
        },
        {
          "ename": "KeyboardInterrupt",
          "evalue": "",
          "output_type": "error",
          "traceback": [
            "\u001b[0;31m---------------------------------------------------------------------------\u001b[0m",
            "\u001b[0;31mKeyboardInterrupt\u001b[0m                         Traceback (most recent call last)",
            "Cell \u001b[0;32mIn[23], line 3\u001b[0m\n\u001b[1;32m      1\u001b[0m batch_size \u001b[39m=\u001b[39m \u001b[39m4096\u001b[39m\n\u001b[1;32m      2\u001b[0m epochs \u001b[39m=\u001b[39m \u001b[39m100\u001b[39m\n\u001b[0;32m----> 3\u001b[0m history \u001b[39m=\u001b[39m model\u001b[39m.\u001b[39;49mfit(train_data, train_target, batch_size\u001b[39m=\u001b[39;49mbatch_size, epochs\u001b[39m=\u001b[39;49mepochs, validation_data\u001b[39m=\u001b[39;49m(val_data, val_target),\n\u001b[1;32m      4\u001b[0m                     callbacks\u001b[39m=\u001b[39;49m[early_stopping, lr_scheduler])\n",
            "File \u001b[0;32m~/dev/weather-predict/.venv/lib/python3.10/site-packages/keras/utils/traceback_utils.py:65\u001b[0m, in \u001b[0;36mfilter_traceback.<locals>.error_handler\u001b[0;34m(*args, **kwargs)\u001b[0m\n\u001b[1;32m     63\u001b[0m filtered_tb \u001b[39m=\u001b[39m \u001b[39mNone\u001b[39;00m\n\u001b[1;32m     64\u001b[0m \u001b[39mtry\u001b[39;00m:\n\u001b[0;32m---> 65\u001b[0m     \u001b[39mreturn\u001b[39;00m fn(\u001b[39m*\u001b[39;49margs, \u001b[39m*\u001b[39;49m\u001b[39m*\u001b[39;49mkwargs)\n\u001b[1;32m     66\u001b[0m \u001b[39mexcept\u001b[39;00m \u001b[39mException\u001b[39;00m \u001b[39mas\u001b[39;00m e:\n\u001b[1;32m     67\u001b[0m     filtered_tb \u001b[39m=\u001b[39m _process_traceback_frames(e\u001b[39m.\u001b[39m__traceback__)\n",
            "File \u001b[0;32m~/dev/weather-predict/.venv/lib/python3.10/site-packages/keras/engine/training.py:1685\u001b[0m, in \u001b[0;36mModel.fit\u001b[0;34m(self, x, y, batch_size, epochs, verbose, callbacks, validation_split, validation_data, shuffle, class_weight, sample_weight, initial_epoch, steps_per_epoch, validation_steps, validation_batch_size, validation_freq, max_queue_size, workers, use_multiprocessing)\u001b[0m\n\u001b[1;32m   1677\u001b[0m \u001b[39mwith\u001b[39;00m tf\u001b[39m.\u001b[39mprofiler\u001b[39m.\u001b[39mexperimental\u001b[39m.\u001b[39mTrace(\n\u001b[1;32m   1678\u001b[0m     \u001b[39m\"\u001b[39m\u001b[39mtrain\u001b[39m\u001b[39m\"\u001b[39m,\n\u001b[1;32m   1679\u001b[0m     epoch_num\u001b[39m=\u001b[39mepoch,\n\u001b[0;32m   (...)\u001b[0m\n\u001b[1;32m   1682\u001b[0m     _r\u001b[39m=\u001b[39m\u001b[39m1\u001b[39m,\n\u001b[1;32m   1683\u001b[0m ):\n\u001b[1;32m   1684\u001b[0m     callbacks\u001b[39m.\u001b[39mon_train_batch_begin(step)\n\u001b[0;32m-> 1685\u001b[0m     tmp_logs \u001b[39m=\u001b[39m \u001b[39mself\u001b[39;49m\u001b[39m.\u001b[39;49mtrain_function(iterator)\n\u001b[1;32m   1686\u001b[0m     \u001b[39mif\u001b[39;00m data_handler\u001b[39m.\u001b[39mshould_sync:\n\u001b[1;32m   1687\u001b[0m         context\u001b[39m.\u001b[39masync_wait()\n",
            "File \u001b[0;32m~/dev/weather-predict/.venv/lib/python3.10/site-packages/tensorflow/python/util/traceback_utils.py:150\u001b[0m, in \u001b[0;36mfilter_traceback.<locals>.error_handler\u001b[0;34m(*args, **kwargs)\u001b[0m\n\u001b[1;32m    148\u001b[0m filtered_tb \u001b[39m=\u001b[39m \u001b[39mNone\u001b[39;00m\n\u001b[1;32m    149\u001b[0m \u001b[39mtry\u001b[39;00m:\n\u001b[0;32m--> 150\u001b[0m   \u001b[39mreturn\u001b[39;00m fn(\u001b[39m*\u001b[39;49margs, \u001b[39m*\u001b[39;49m\u001b[39m*\u001b[39;49mkwargs)\n\u001b[1;32m    151\u001b[0m \u001b[39mexcept\u001b[39;00m \u001b[39mException\u001b[39;00m \u001b[39mas\u001b[39;00m e:\n\u001b[1;32m    152\u001b[0m   filtered_tb \u001b[39m=\u001b[39m _process_traceback_frames(e\u001b[39m.\u001b[39m__traceback__)\n",
            "File \u001b[0;32m~/dev/weather-predict/.venv/lib/python3.10/site-packages/tensorflow/python/eager/polymorphic_function/polymorphic_function.py:894\u001b[0m, in \u001b[0;36mFunction.__call__\u001b[0;34m(self, *args, **kwds)\u001b[0m\n\u001b[1;32m    891\u001b[0m compiler \u001b[39m=\u001b[39m \u001b[39m\"\u001b[39m\u001b[39mxla\u001b[39m\u001b[39m\"\u001b[39m \u001b[39mif\u001b[39;00m \u001b[39mself\u001b[39m\u001b[39m.\u001b[39m_jit_compile \u001b[39melse\u001b[39;00m \u001b[39m\"\u001b[39m\u001b[39mnonXla\u001b[39m\u001b[39m\"\u001b[39m\n\u001b[1;32m    893\u001b[0m \u001b[39mwith\u001b[39;00m OptionalXlaContext(\u001b[39mself\u001b[39m\u001b[39m.\u001b[39m_jit_compile):\n\u001b[0;32m--> 894\u001b[0m   result \u001b[39m=\u001b[39m \u001b[39mself\u001b[39;49m\u001b[39m.\u001b[39;49m_call(\u001b[39m*\u001b[39;49margs, \u001b[39m*\u001b[39;49m\u001b[39m*\u001b[39;49mkwds)\n\u001b[1;32m    896\u001b[0m new_tracing_count \u001b[39m=\u001b[39m \u001b[39mself\u001b[39m\u001b[39m.\u001b[39mexperimental_get_tracing_count()\n\u001b[1;32m    897\u001b[0m without_tracing \u001b[39m=\u001b[39m (tracing_count \u001b[39m==\u001b[39m new_tracing_count)\n",
            "File \u001b[0;32m~/dev/weather-predict/.venv/lib/python3.10/site-packages/tensorflow/python/eager/polymorphic_function/polymorphic_function.py:959\u001b[0m, in \u001b[0;36mFunction._call\u001b[0;34m(self, *args, **kwds)\u001b[0m\n\u001b[1;32m    955\u001b[0m     \u001b[39mpass\u001b[39;00m  \u001b[39m# Fall through to cond-based initialization.\u001b[39;00m\n\u001b[1;32m    956\u001b[0m   \u001b[39melse\u001b[39;00m:\n\u001b[1;32m    957\u001b[0m     \u001b[39m# Lifting succeeded, so variables are initialized and we can run the\u001b[39;00m\n\u001b[1;32m    958\u001b[0m     \u001b[39m# no_variable_creation function.\u001b[39;00m\n\u001b[0;32m--> 959\u001b[0m     \u001b[39mreturn\u001b[39;00m \u001b[39mself\u001b[39;49m\u001b[39m.\u001b[39;49m_no_variable_creation_fn(\u001b[39m*\u001b[39;49margs, \u001b[39m*\u001b[39;49m\u001b[39m*\u001b[39;49mkwds)\n\u001b[1;32m    960\u001b[0m \u001b[39melse\u001b[39;00m:\n\u001b[1;32m    961\u001b[0m   _, _, filtered_flat_args \u001b[39m=\u001b[39m (\n\u001b[1;32m    962\u001b[0m       \u001b[39mself\u001b[39m\u001b[39m.\u001b[39m_variable_creation_fn\u001b[39m.\u001b[39m_function_spec  \u001b[39m# pylint: disable=protected-access\u001b[39;00m\n\u001b[1;32m    963\u001b[0m       \u001b[39m.\u001b[39mcanonicalize_function_inputs(\n\u001b[1;32m    964\u001b[0m           args, kwds))\n",
            "File \u001b[0;32m~/dev/weather-predict/.venv/lib/python3.10/site-packages/tensorflow/python/eager/polymorphic_function/tracing_compiler.py:143\u001b[0m, in \u001b[0;36mTracingCompiler.__call__\u001b[0;34m(self, *args, **kwargs)\u001b[0m\n\u001b[1;32m    140\u001b[0m \u001b[39mwith\u001b[39;00m \u001b[39mself\u001b[39m\u001b[39m.\u001b[39m_lock:\n\u001b[1;32m    141\u001b[0m   (concrete_function,\n\u001b[1;32m    142\u001b[0m    filtered_flat_args) \u001b[39m=\u001b[39m \u001b[39mself\u001b[39m\u001b[39m.\u001b[39m_maybe_define_function(args, kwargs)\n\u001b[0;32m--> 143\u001b[0m \u001b[39mreturn\u001b[39;00m concrete_function\u001b[39m.\u001b[39;49m_call_flat(\n\u001b[1;32m    144\u001b[0m     filtered_flat_args, captured_inputs\u001b[39m=\u001b[39;49mconcrete_function\u001b[39m.\u001b[39;49mcaptured_inputs)\n",
            "File \u001b[0;32m~/dev/weather-predict/.venv/lib/python3.10/site-packages/tensorflow/python/eager/polymorphic_function/monomorphic_function.py:1757\u001b[0m, in \u001b[0;36mConcreteFunction._call_flat\u001b[0;34m(self, args, captured_inputs, cancellation_manager)\u001b[0m\n\u001b[1;32m   1753\u001b[0m possible_gradient_type \u001b[39m=\u001b[39m gradients_util\u001b[39m.\u001b[39mPossibleTapeGradientTypes(args)\n\u001b[1;32m   1754\u001b[0m \u001b[39mif\u001b[39;00m (possible_gradient_type \u001b[39m==\u001b[39m gradients_util\u001b[39m.\u001b[39mPOSSIBLE_GRADIENT_TYPES_NONE\n\u001b[1;32m   1755\u001b[0m     \u001b[39mand\u001b[39;00m executing_eagerly):\n\u001b[1;32m   1756\u001b[0m   \u001b[39m# No tape is watching; skip to running the function.\u001b[39;00m\n\u001b[0;32m-> 1757\u001b[0m   \u001b[39mreturn\u001b[39;00m \u001b[39mself\u001b[39m\u001b[39m.\u001b[39m_build_call_outputs(\u001b[39mself\u001b[39;49m\u001b[39m.\u001b[39;49m_inference_function\u001b[39m.\u001b[39;49mcall(\n\u001b[1;32m   1758\u001b[0m       ctx, args, cancellation_manager\u001b[39m=\u001b[39;49mcancellation_manager))\n\u001b[1;32m   1759\u001b[0m forward_backward \u001b[39m=\u001b[39m \u001b[39mself\u001b[39m\u001b[39m.\u001b[39m_select_forward_and_backward_functions(\n\u001b[1;32m   1760\u001b[0m     args,\n\u001b[1;32m   1761\u001b[0m     possible_gradient_type,\n\u001b[1;32m   1762\u001b[0m     executing_eagerly)\n\u001b[1;32m   1763\u001b[0m forward_function, args_with_tangents \u001b[39m=\u001b[39m forward_backward\u001b[39m.\u001b[39mforward()\n",
            "File \u001b[0;32m~/dev/weather-predict/.venv/lib/python3.10/site-packages/tensorflow/python/eager/polymorphic_function/monomorphic_function.py:381\u001b[0m, in \u001b[0;36m_EagerDefinedFunction.call\u001b[0;34m(self, ctx, args, cancellation_manager)\u001b[0m\n\u001b[1;32m    379\u001b[0m \u001b[39mwith\u001b[39;00m _InterpolateFunctionError(\u001b[39mself\u001b[39m):\n\u001b[1;32m    380\u001b[0m   \u001b[39mif\u001b[39;00m cancellation_manager \u001b[39mis\u001b[39;00m \u001b[39mNone\u001b[39;00m:\n\u001b[0;32m--> 381\u001b[0m     outputs \u001b[39m=\u001b[39m execute\u001b[39m.\u001b[39;49mexecute(\n\u001b[1;32m    382\u001b[0m         \u001b[39mstr\u001b[39;49m(\u001b[39mself\u001b[39;49m\u001b[39m.\u001b[39;49msignature\u001b[39m.\u001b[39;49mname),\n\u001b[1;32m    383\u001b[0m         num_outputs\u001b[39m=\u001b[39;49m\u001b[39mself\u001b[39;49m\u001b[39m.\u001b[39;49m_num_outputs,\n\u001b[1;32m    384\u001b[0m         inputs\u001b[39m=\u001b[39;49margs,\n\u001b[1;32m    385\u001b[0m         attrs\u001b[39m=\u001b[39;49mattrs,\n\u001b[1;32m    386\u001b[0m         ctx\u001b[39m=\u001b[39;49mctx)\n\u001b[1;32m    387\u001b[0m   \u001b[39melse\u001b[39;00m:\n\u001b[1;32m    388\u001b[0m     outputs \u001b[39m=\u001b[39m execute\u001b[39m.\u001b[39mexecute_with_cancellation(\n\u001b[1;32m    389\u001b[0m         \u001b[39mstr\u001b[39m(\u001b[39mself\u001b[39m\u001b[39m.\u001b[39msignature\u001b[39m.\u001b[39mname),\n\u001b[1;32m    390\u001b[0m         num_outputs\u001b[39m=\u001b[39m\u001b[39mself\u001b[39m\u001b[39m.\u001b[39m_num_outputs,\n\u001b[0;32m   (...)\u001b[0m\n\u001b[1;32m    393\u001b[0m         ctx\u001b[39m=\u001b[39mctx,\n\u001b[1;32m    394\u001b[0m         cancellation_manager\u001b[39m=\u001b[39mcancellation_manager)\n",
            "File \u001b[0;32m~/dev/weather-predict/.venv/lib/python3.10/site-packages/tensorflow/python/eager/execute.py:52\u001b[0m, in \u001b[0;36mquick_execute\u001b[0;34m(op_name, num_outputs, inputs, attrs, ctx, name)\u001b[0m\n\u001b[1;32m     50\u001b[0m \u001b[39mtry\u001b[39;00m:\n\u001b[1;32m     51\u001b[0m   ctx\u001b[39m.\u001b[39mensure_initialized()\n\u001b[0;32m---> 52\u001b[0m   tensors \u001b[39m=\u001b[39m pywrap_tfe\u001b[39m.\u001b[39;49mTFE_Py_Execute(ctx\u001b[39m.\u001b[39;49m_handle, device_name, op_name,\n\u001b[1;32m     53\u001b[0m                                       inputs, attrs, num_outputs)\n\u001b[1;32m     54\u001b[0m \u001b[39mexcept\u001b[39;00m core\u001b[39m.\u001b[39m_NotOkStatusException \u001b[39mas\u001b[39;00m e:\n\u001b[1;32m     55\u001b[0m   \u001b[39mif\u001b[39;00m name \u001b[39mis\u001b[39;00m \u001b[39mnot\u001b[39;00m \u001b[39mNone\u001b[39;00m:\n",
            "\u001b[0;31mKeyboardInterrupt\u001b[0m: "
          ]
        }
      ],
      "source": [
        "batch_size = 4096\n",
        "epochs = 100\n",
        "history = model.fit(train_data, train_target, batch_size=batch_size, epochs=epochs, validation_data=(val_data, val_target),\n",
        "                    callbacks=[early_stopping, lr_scheduler])"
      ]
    },
    {
      "cell_type": "markdown",
      "metadata": {
        "id": "da_mp26Po0GV"
      },
      "source": [
        "Make predictions using the trained LSTM model"
      ]
    },
    {
      "cell_type": "markdown",
      "metadata": {
        "id": "n-OgZJGRo0GV"
      },
      "source": [
        "In[142]:"
      ]
    },
    {
      "cell_type": "code",
      "execution_count": null,
      "metadata": {
        "id": "_fk4WnEOo0GV"
      },
      "outputs": [],
      "source": [
        "predictions = model.predict(val_data)"
      ]
    },
    {
      "cell_type": "markdown",
      "metadata": {
        "id": "lyT2YUwfo0GV"
      },
      "source": [
        "Rescale the predictions back to the original range"
      ]
    },
    {
      "cell_type": "markdown",
      "metadata": {
        "id": "uZ9DlS1Uo0GV"
      },
      "source": [
        "In[143]:"
      ]
    },
    {
      "cell_type": "code",
      "execution_count": null,
      "metadata": {
        "id": "16ZjScEeo0GV"
      },
      "outputs": [],
      "source": [
        "scaled_predictions = pd.DataFrame(predictions, columns=features_keys)\n",
        "predictions = pd.DataFrame(scaler.inverse_transform(\n",
        "    predictions), columns=features_keys)\n",
        "predicted_temperature = predictions[\"Temperature\"]\n"
      ]
    },
    {
      "cell_type": "code",
      "execution_count": null,
      "metadata": {
        "id": "lxqz2lcsAMk0"
      },
      "outputs": [],
      "source": [
        "val_target = pd.DataFrame(val_target, columns=features_keys)\n",
        "val_target_rescaled = pd.DataFrame(scaler.inverse_transform(val_target), columns=features_keys)\n",
        "train_target = pd.DataFrame(train_target, columns=features_keys)\n",
        "train_target_rescaled = pd.DataFrame(scaler.inverse_transform(train_target), columns=features_keys)"
      ]
    },
    {
      "cell_type": "markdown",
      "metadata": {
        "id": "-1vqJau8o0GV"
      },
      "source": [
        "Calculate MSE and MAE"
      ]
    },
    {
      "cell_type": "markdown",
      "metadata": {
        "id": "kPcAqjlxo0GV"
      },
      "source": [
        "In[144]:"
      ]
    },
    {
      "cell_type": "code",
      "execution_count": null,
      "metadata": {
        "id": "OK9H9h3Do0GV"
      },
      "outputs": [],
      "source": [
        "mse = mean_squared_error(val_target_rescaled[\"Temperature\"], predictions[\"Temperature\"])\n",
        "mae = mean_absolute_error(val_target_rescaled[\"Temperature\"], predictions[\"Temperature\"])"
      ]
    },
    {
      "cell_type": "markdown",
      "metadata": {
        "id": "1S2gUIiXo0Gl"
      },
      "source": [
        "In[145]:"
      ]
    },
    {
      "cell_type": "code",
      "execution_count": null,
      "metadata": {
        "id": "sC-MqFKgo0Gl"
      },
      "outputs": [],
      "source": [
        "print(\"Mean Squared Error (MSE):\", mse)\n",
        "print(\"Mean Absolute Error (MAE):\", mae)"
      ]
    },
    {
      "cell_type": "markdown",
      "metadata": {
        "id": "N1UNa22do0Gl"
      },
      "source": [
        "Visualize the actual vs. predicted temperatures for the validation set"
      ]
    },
    {
      "cell_type": "markdown",
      "metadata": {
        "id": "IzzW69Ndo0Gl"
      },
      "source": [
        "In[146]:"
      ]
    },
    {
      "cell_type": "code",
      "execution_count": null,
      "metadata": {
        "id": "rLzZRHyLo0Gl"
      },
      "outputs": [],
      "source": [
        "plt.figure(figsize=(12, 6))\n",
        "plt.plot(range(len(val_target)), val_target_rescaled[\"Temperature\"], label='Actual')\n",
        "plt.plot(range(len(val_target)), predicted_temperature, label='Predicted')\n",
        "plt.xlabel('Time')\n",
        "plt.ylabel('Temperature')\n",
        "plt.title('Actual vs. Predicted Temperatures (Validation Set)')\n",
        "plt.legend()\n",
        "plt.show()"
      ]
    },
    {
      "cell_type": "markdown",
      "metadata": {
        "id": "zirXhmtjo0Gl"
      },
      "source": [
        "Visualize the actual vs. predicted temperatures for the training set"
      ]
    },
    {
      "cell_type": "markdown",
      "metadata": {
        "id": "PcFupQv6o0Gl"
      },
      "source": [
        "In[147]:"
      ]
    },
    {
      "cell_type": "code",
      "execution_count": null,
      "metadata": {
        "id": "NlVyqCTyo0Gl"
      },
      "outputs": [],
      "source": [
        "plt.figure(figsize=(12, 6))\n",
        "plt.plot(range(len(train_target)), train_target[\"Temperature\"], label='Actual')\n",
        "plt.plot(range(len(train_target)), pd.DataFrame(model.predict(\n",
        "    train_data), columns=features_keys)[\"Temperature\"], label='Predicted')\n",
        "plt.xlabel('Time')\n",
        "plt.ylabel('Temperature')\n",
        "plt.title('Actual vs. Predicted Temperatures (Training Set)')\n",
        "plt.legend()\n",
        "plt.show()"
      ]
    },
    {
      "cell_type": "markdown",
      "metadata": {
        "id": "Kl1Dcsauo0Gl"
      },
      "source": [
        "Save the trained model"
      ]
    },
    {
      "cell_type": "markdown",
      "metadata": {
        "id": "_Wv6kHt0o0Gl"
      },
      "source": [
        "In[148]:"
      ]
    },
    {
      "cell_type": "code",
      "execution_count": null,
      "metadata": {
        "id": "juUFGBK3o0Gl"
      },
      "outputs": [],
      "source": [
        "model.save(\"lstm.keras\")"
      ]
    },
    {
      "cell_type": "code",
      "execution_count": null,
      "metadata": {
        "id": "LhXN83TOBkPW"
      },
      "outputs": [],
      "source": [
        "scaled_features\n",
        "scaled_features.copy()[-time_steps:].shape"
      ]
    },
    {
      "cell_type": "code",
      "execution_count": 24,
      "metadata": {
        "id": "MyoS6kB6o0Gl"
      },
      "outputs": [
        {
          "name": "stderr",
          "output_type": "stream",
          "text": [
            "2023-06-30 22:21:28.045324: I tensorflow/core/common_runtime/executor.cc:1197] [/device:CPU:0] (DEBUG INFO) Executor start aborting (this does not indicate an error and you can ignore this message): INVALID_ARGUMENT: You must feed a value for placeholder tensor 'gradients/split_2_grad/concat/split_2/split_dim' with dtype int32\n",
            "\t [[{{node gradients/split_2_grad/concat/split_2/split_dim}}]]\n",
            "2023-06-30 22:21:28.048721: I tensorflow/core/common_runtime/executor.cc:1197] [/device:CPU:0] (DEBUG INFO) Executor start aborting (this does not indicate an error and you can ignore this message): INVALID_ARGUMENT: You must feed a value for placeholder tensor 'gradients/split_grad/concat/split/split_dim' with dtype int32\n",
            "\t [[{{node gradients/split_grad/concat/split/split_dim}}]]\n",
            "2023-06-30 22:21:28.050287: I tensorflow/core/common_runtime/executor.cc:1197] [/device:CPU:0] (DEBUG INFO) Executor start aborting (this does not indicate an error and you can ignore this message): INVALID_ARGUMENT: You must feed a value for placeholder tensor 'gradients/split_1_grad/concat/split_1/split_dim' with dtype int32\n",
            "\t [[{{node gradients/split_1_grad/concat/split_1/split_dim}}]]\n",
            "2023-06-30 22:21:28.304775: I tensorflow/core/common_runtime/executor.cc:1197] [/device:CPU:0] (DEBUG INFO) Executor start aborting (this does not indicate an error and you can ignore this message): INVALID_ARGUMENT: You must feed a value for placeholder tensor 'gradients/split_2_grad/concat/split_2/split_dim' with dtype int32\n",
            "\t [[{{node gradients/split_2_grad/concat/split_2/split_dim}}]]\n",
            "2023-06-30 22:21:28.306503: I tensorflow/core/common_runtime/executor.cc:1197] [/device:CPU:0] (DEBUG INFO) Executor start aborting (this does not indicate an error and you can ignore this message): INVALID_ARGUMENT: You must feed a value for placeholder tensor 'gradients/split_grad/concat/split/split_dim' with dtype int32\n",
            "\t [[{{node gradients/split_grad/concat/split/split_dim}}]]\n",
            "2023-06-30 22:21:28.308436: I tensorflow/core/common_runtime/executor.cc:1197] [/device:CPU:0] (DEBUG INFO) Executor start aborting (this does not indicate an error and you can ignore this message): INVALID_ARGUMENT: You must feed a value for placeholder tensor 'gradients/split_1_grad/concat/split_1/split_dim' with dtype int32\n",
            "\t [[{{node gradients/split_1_grad/concat/split_1/split_dim}}]]\n",
            "2023-06-30 22:21:34.082850: I tensorflow/core/common_runtime/executor.cc:1197] [/device:CPU:0] (DEBUG INFO) Executor start aborting (this does not indicate an error and you can ignore this message): INVALID_ARGUMENT: You must feed a value for placeholder tensor 'gradients/split_2_grad/concat/split_2/split_dim' with dtype int32\n",
            "\t [[{{node gradients/split_2_grad/concat/split_2/split_dim}}]]\n",
            "2023-06-30 22:21:34.084139: I tensorflow/core/common_runtime/executor.cc:1197] [/device:CPU:0] (DEBUG INFO) Executor start aborting (this does not indicate an error and you can ignore this message): INVALID_ARGUMENT: You must feed a value for placeholder tensor 'gradients/split_grad/concat/split/split_dim' with dtype int32\n",
            "\t [[{{node gradients/split_grad/concat/split/split_dim}}]]\n",
            "2023-06-30 22:21:34.085517: I tensorflow/core/common_runtime/executor.cc:1197] [/device:CPU:0] (DEBUG INFO) Executor start aborting (this does not indicate an error and you can ignore this message): INVALID_ARGUMENT: You must feed a value for placeholder tensor 'gradients/split_1_grad/concat/split_1/split_dim' with dtype int32\n",
            "\t [[{{node gradients/split_1_grad/concat/split_1/split_dim}}]]\n",
            "2023-06-30 22:21:34.291034: I tensorflow/core/common_runtime/executor.cc:1197] [/device:CPU:0] (DEBUG INFO) Executor start aborting (this does not indicate an error and you can ignore this message): INVALID_ARGUMENT: You must feed a value for placeholder tensor 'gradients/split_2_grad/concat/split_2/split_dim' with dtype int32\n",
            "\t [[{{node gradients/split_2_grad/concat/split_2/split_dim}}]]\n",
            "2023-06-30 22:21:34.291921: I tensorflow/core/common_runtime/executor.cc:1197] [/device:CPU:0] (DEBUG INFO) Executor start aborting (this does not indicate an error and you can ignore this message): INVALID_ARGUMENT: You must feed a value for placeholder tensor 'gradients/split_grad/concat/split/split_dim' with dtype int32\n",
            "\t [[{{node gradients/split_grad/concat/split/split_dim}}]]\n",
            "2023-06-30 22:21:34.293354: I tensorflow/core/common_runtime/executor.cc:1197] [/device:CPU:0] (DEBUG INFO) Executor start aborting (this does not indicate an error and you can ignore this message): INVALID_ARGUMENT: You must feed a value for placeholder tensor 'gradients/split_1_grad/concat/split_1/split_dim' with dtype int32\n",
            "\t [[{{node gradients/split_1_grad/concat/split_1/split_dim}}]]\n",
            "2023-06-30 22:21:35.032666: I tensorflow/core/common_runtime/executor.cc:1197] [/device:CPU:0] (DEBUG INFO) Executor start aborting (this does not indicate an error and you can ignore this message): INVALID_ARGUMENT: You must feed a value for placeholder tensor 'gradients/split_2_grad/concat/split_2/split_dim' with dtype int32\n",
            "\t [[{{node gradients/split_2_grad/concat/split_2/split_dim}}]]\n",
            "2023-06-30 22:21:35.034351: I tensorflow/core/common_runtime/executor.cc:1197] [/device:CPU:0] (DEBUG INFO) Executor start aborting (this does not indicate an error and you can ignore this message): INVALID_ARGUMENT: You must feed a value for placeholder tensor 'gradients/split_grad/concat/split/split_dim' with dtype int32\n",
            "\t [[{{node gradients/split_grad/concat/split/split_dim}}]]\n",
            "2023-06-30 22:21:35.035152: I tensorflow/core/common_runtime/executor.cc:1197] [/device:CPU:0] (DEBUG INFO) Executor start aborting (this does not indicate an error and you can ignore this message): INVALID_ARGUMENT: You must feed a value for placeholder tensor 'gradients/split_1_grad/concat/split_1/split_dim' with dtype int32\n",
            "\t [[{{node gradients/split_1_grad/concat/split_1/split_dim}}]]\n",
            "2023-06-30 22:21:35.316909: I tensorflow/core/common_runtime/executor.cc:1197] [/device:CPU:0] (DEBUG INFO) Executor start aborting (this does not indicate an error and you can ignore this message): INVALID_ARGUMENT: You must feed a value for placeholder tensor 'gradients/split_2_grad/concat/split_2/split_dim' with dtype int32\n",
            "\t [[{{node gradients/split_2_grad/concat/split_2/split_dim}}]]\n",
            "2023-06-30 22:21:35.319780: I tensorflow/core/common_runtime/executor.cc:1197] [/device:CPU:0] (DEBUG INFO) Executor start aborting (this does not indicate an error and you can ignore this message): INVALID_ARGUMENT: You must feed a value for placeholder tensor 'gradients/split_grad/concat/split/split_dim' with dtype int32\n",
            "\t [[{{node gradients/split_grad/concat/split/split_dim}}]]\n",
            "2023-06-30 22:21:35.322138: I tensorflow/core/common_runtime/executor.cc:1197] [/device:CPU:0] (DEBUG INFO) Executor start aborting (this does not indicate an error and you can ignore this message): INVALID_ARGUMENT: You must feed a value for placeholder tensor 'gradients/split_1_grad/concat/split_1/split_dim' with dtype int32\n",
            "\t [[{{node gradients/split_1_grad/concat/split_1/split_dim}}]]\n",
            "2023-06-30 22:21:35.480430: I tensorflow/core/common_runtime/executor.cc:1197] [/device:CPU:0] (DEBUG INFO) Executor start aborting (this does not indicate an error and you can ignore this message): INVALID_ARGUMENT: You must feed a value for placeholder tensor 'gradients/split_2_grad/concat/split_2/split_dim' with dtype int32\n",
            "\t [[{{node gradients/split_2_grad/concat/split_2/split_dim}}]]\n",
            "2023-06-30 22:21:35.481501: I tensorflow/core/common_runtime/executor.cc:1197] [/device:CPU:0] (DEBUG INFO) Executor start aborting (this does not indicate an error and you can ignore this message): INVALID_ARGUMENT: You must feed a value for placeholder tensor 'gradients/split_grad/concat/split/split_dim' with dtype int32\n",
            "\t [[{{node gradients/split_grad/concat/split/split_dim}}]]\n",
            "2023-06-30 22:21:35.482369: I tensorflow/core/common_runtime/executor.cc:1197] [/device:CPU:0] (DEBUG INFO) Executor start aborting (this does not indicate an error and you can ignore this message): INVALID_ARGUMENT: You must feed a value for placeholder tensor 'gradients/split_1_grad/concat/split_1/split_dim' with dtype int32\n",
            "\t [[{{node gradients/split_1_grad/concat/split_1/split_dim}}]]\n",
            "2023-06-30 22:21:35.622159: I tensorflow/core/common_runtime/executor.cc:1197] [/device:CPU:0] (DEBUG INFO) Executor start aborting (this does not indicate an error and you can ignore this message): INVALID_ARGUMENT: You must feed a value for placeholder tensor 'gradients/split_2_grad/concat/split_2/split_dim' with dtype int32\n",
            "\t [[{{node gradients/split_2_grad/concat/split_2/split_dim}}]]\n",
            "2023-06-30 22:21:35.623419: I tensorflow/core/common_runtime/executor.cc:1197] [/device:CPU:0] (DEBUG INFO) Executor start aborting (this does not indicate an error and you can ignore this message): INVALID_ARGUMENT: You must feed a value for placeholder tensor 'gradients/split_grad/concat/split/split_dim' with dtype int32\n",
            "\t [[{{node gradients/split_grad/concat/split/split_dim}}]]\n",
            "2023-06-30 22:21:35.625023: I tensorflow/core/common_runtime/executor.cc:1197] [/device:CPU:0] (DEBUG INFO) Executor start aborting (this does not indicate an error and you can ignore this message): INVALID_ARGUMENT: You must feed a value for placeholder tensor 'gradients/split_1_grad/concat/split_1/split_dim' with dtype int32\n",
            "\t [[{{node gradients/split_1_grad/concat/split_1/split_dim}}]]\n"
          ]
        },
        {
          "name": "stdout",
          "output_type": "stream",
          "text": [
            "1/1 [==============================] - 1s 1s/step\n",
            "1 hour(s) prediction: [22.38149, 44.7513, 0.000441]\n",
            "1/1 [==============================] - 0s 24ms/step\n",
            "2 hour(s) prediction: [22.203348, 50.877117, 0.001602]\n",
            "1/1 [==============================] - 0s 24ms/step\n",
            "3 hour(s) prediction: [22.058475, 55.765823, -0.002109]\n",
            "1/1 [==============================] - 0s 26ms/step\n",
            "4 hour(s) prediction: [21.978458, 59.27918, -0.003957]\n",
            "1/1 [==============================] - 0s 23ms/step\n",
            "5 hour(s) prediction: [21.924747, 61.487686, -0.004227]\n",
            "1/1 [==============================] - 0s 25ms/step\n",
            "6 hour(s) prediction: [21.876413, 62.571014, -0.003368]\n",
            "1/1 [==============================] - 0s 28ms/step\n",
            "7 hour(s) prediction: [21.839142, 62.75413, -0.001682]\n",
            "1/1 [==============================] - 0s 24ms/step\n",
            "8 hour(s) prediction: [21.833576, 62.21646, 0.000306]\n",
            "1/1 [==============================] - 0s 19ms/step\n",
            "9 hour(s) prediction: [21.881483, 61.067997, 0.002058]\n",
            "1/1 [==============================] - 0s 26ms/step\n",
            "10 hour(s) prediction: [21.999157, 59.33238, 0.003232]\n",
            "1/1 [==============================] - 0s 24ms/step\n",
            "11 hour(s) prediction: [22.189938, 57.016502, 0.003713]\n",
            "1/1 [==============================] - 0s 24ms/step\n",
            "12 hour(s) prediction: [22.440075, 54.175453, 0.003641]\n",
            "1/1 [==============================] - 0s 23ms/step\n",
            "13 hour(s) prediction: [22.719234, 50.95803, 0.003198]\n",
            "1/1 [==============================] - 0s 24ms/step\n",
            "14 hour(s) prediction: [22.984213, 47.6279, 0.002533]\n",
            "1/1 [==============================] - 0s 24ms/step\n",
            "15 hour(s) prediction: [23.21733, 44.93299, 0.017875]\n",
            "1/1 [==============================] - 0s 21ms/step\n",
            "16 hour(s) prediction: [23.371418, 43.06532, 0.004365]\n",
            "1/1 [==============================] - 0s 24ms/step\n",
            "17 hour(s) prediction: [23.40031, 41.948666, 0.007121]\n",
            "1/1 [==============================] - 0s 23ms/step\n",
            "18 hour(s) prediction: [23.28748, 41.563892, 0.022446]\n",
            "1/1 [==============================] - 0s 25ms/step\n",
            "19 hour(s) prediction: [23.078678, 42.393513, -0.00513]\n",
            "1/1 [==============================] - 0s 22ms/step\n",
            "20 hour(s) prediction: [22.829084, 44.41702, -0.007169]\n",
            "1/1 [==============================] - 0s 24ms/step\n",
            "21 hour(s) prediction: [22.577303, 47.223545, -0.008269]\n",
            "1/1 [==============================] - 0s 29ms/step\n",
            "22 hour(s) prediction: [22.355627, 50.39639, -0.008624]\n",
            "1/1 [==============================] - 0s 24ms/step\n",
            "23 hour(s) prediction: [22.177889, 53.4936, -0.008405]\n",
            "1/1 [==============================] - 0s 20ms/step\n",
            "24 hour(s) prediction: [22.042793, 56.175545, -0.007737]\n",
            "1/1 [==============================] - 0s 22ms/step\n",
            "25 hour(s) prediction: [21.938705, 58.270016, -0.006769]\n",
            "1/1 [==============================] - 0s 23ms/step\n",
            "26 hour(s) prediction: [21.853493, 59.740314, -0.005645]\n",
            "1/1 [==============================] - 0s 23ms/step\n",
            "27 hour(s) prediction: [21.781178, 60.63405, -0.004479]\n",
            "1/1 [==============================] - 0s 21ms/step\n",
            "28 hour(s) prediction: [21.725637, 61.007664, -0.00338]\n",
            "1/1 [==============================] - 0s 22ms/step\n",
            "29 hour(s) prediction: [21.699158, 60.889244, -0.00243]\n",
            "1/1 [==============================] - 0s 23ms/step\n",
            "30 hour(s) prediction: [21.718124, 60.269386, -0.001726]\n"
          ]
        }
      ],
      "source": [
        "model = tf.keras.models.load_model(\"lstm.keras\")\n",
        "\n",
        "data = scaled_features.copy()[-time_steps:]\n",
        "predicted = []\n",
        "\n",
        "for i in range(1, 31):\n",
        "    scaled_prediction = model.predict(data.reshape(1, time_steps, len(features_keys)))\n",
        "    prediction = scaler.inverse_transform(scaled_prediction)[0]\n",
        "    print(f\"{i} hour(s) prediction:\", list(map(lambda x: round(x, 6),prediction)))\n",
        "    # print(prediction[0], data, np.append(data, prediction[0]))\n",
        "    data = np.vstack((data, scaled_prediction))\n",
        "    data = np.delete(data, 0, axis=0)\n",
        "    predicted.append(prediction)"
      ]
    },
    {
      "cell_type": "code",
      "execution_count": 25,
      "metadata": {
        "id": "ruBB1-8ZG2N_"
      },
      "outputs": [],
      "source": [
        "results = pd.DataFrame(predicted, columns=features_keys)\n",
        "results.to_csv(\"predict.csv\")"
      ]
    },
    {
      "cell_type": "code",
      "execution_count": 26,
      "metadata": {
        "id": "qmiz_9Meo0Gl"
      },
      "outputs": [
        {
          "data": {
            "image/png": "[encoded data removed]",
            "text/plain": [
              "<Figure size 1200x600 with 1 Axes>"
            ]
          },
          "metadata": {},
          "output_type": "display_data"
        }
      ],
      "source": [
        "plt.figure(figsize=(12, 6))\n",
        "plt.plot(range(30), np.array(predicted)[:, 0], label='Predicted')\n",
        "plt.xlabel('Time')\n",
        "plt.ylabel('Temperature')\n",
        "plt.title('Predicted Temperatures')\n",
        "plt.legend()\n",
        "plt.show()"
      ]
    },
    {
      "cell_type": "code",
      "execution_count": null,
      "metadata": {
        "id": "Eh1w8b4WFzXQ"
      },
      "outputs": [],
      "source": []
    }
  ],
  "metadata": {
    "accelerator": "GPU",
    "colab": {
      "gpuType": "T4",
      "provenance": []
    },
    "kernelspec": {
      "display_name": "Python 3",
      "name": "python3"
    },
    "language_info": {
      "codemirror_mode": {
        "name": "ipython",
        "version": 3
      },
      "file_extension": ".py",
      "mimetype": "text/x-python",
      "name": "python",
      "nbconvert_exporter": "python",
      "pygments_lexer": "ipython3",
      "version": "3.10.12"
    }
  },
  "nbformat": 4,
  "nbformat_minor": 0
}
