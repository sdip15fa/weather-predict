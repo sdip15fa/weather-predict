{
 "cells": [
  {
   "cell_type": "markdown",
   "id": "0e47ba0e",
   "metadata": {
    "papermill": {
     "duration": 0.012912,
     "end_time": "2023-07-04T02:30:16.465233",
     "exception": false,
     "start_time": "2023-07-04T02:30:16.452321",
     "status": "completed"
    },
    "tags": []
   },
   "source": [
    "Copyright (c) 2023 wcyat\n",
    "\n",
    "Permission is hereby granted, free of charge, to any person obtaining a copy\n",
    "of this software and associated documentation files (the \"Software\"), to deal\n",
    "in the Software without restriction, including without limitation the rights\n",
    "to use, copy, modify, merge, publish, distribute, sublicense, and/or sell\n",
    "copies of the Software, and to permit persons to whom the Software is\n",
    "furnished to do so, subject to the following conditions:\n",
    "\n",
    "The above copyright notice and this permission notice shall be included in all\n",
    "copies or substantial portions of the Software.\\\n",
    "THE PREDICTED DATA MUST NOT BE USED TO SUBMIT TO THE COMPETITION AI Challenge – \n",
    "Weather Forecasting Competition (2023) ORGANIZED BY HKEDCITY, MICROSOFT AND OTHERS.\n",
    "<https://www.edcity.hk/coding/en/WeatherForecasting>\n",
    "\n",
    "THE SOFTWARE IS PROVIDED \"AS IS\", WITHOUT WARRANTY OF ANY KIND, EXPRESS OR\n",
    "IMPLIED, INCLUDING BUT NOT LIMITED TO THE WARRANTIES OF MERCHANTABILITY,\n",
    "FITNESS FOR A PARTICULAR PURPOSE AND NONINFRINGEMENT. IN NO EVENT SHALL THE\n",
    "AUTHORS OR COPYRIGHT HOLDERS BE LIABLE FOR ANY CLAIM, DAMAGES OR OTHER\n",
    "LIABILITY, WHETHER IN AN ACTION OF CONTRACT, TORT OR OTHERWISE, ARISING FROM,\n",
    "OUT OF OR IN CONNECTION WITH THE SOFTWARE OR THE USE OR OTHER DEALINGS IN THE\n",
    "SOFTWARE."
   ]
  },
  {
   "cell_type": "code",
   "execution_count": 48,
   "id": "c257d3db",
   "metadata": {
    "execution": {
     "iopub.execute_input": "2023-07-04T02:30:16.491841Z",
     "iopub.status.busy": "2023-07-04T02:30:16.491368Z",
     "iopub.status.idle": "2023-07-04T02:30:25.082853Z",
     "shell.execute_reply": "2023-07-04T02:30:25.081862Z"
    },
    "id": "lfcZXoVMo0Fz",
    "papermill": {
     "duration": 8.607803,
     "end_time": "2023-07-04T02:30:25.085576",
     "exception": false,
     "start_time": "2023-07-04T02:30:16.477773",
     "status": "completed"
    },
    "tags": []
   },
   "outputs": [],
   "source": [
    "from sklearn.metrics import mean_squared_error, mean_absolute_error\n",
    "import pandas as pd\n",
    "import numpy as np\n",
    "import tensorflow as tf\n",
    "import matplotlib.pyplot as plt\n",
    "from sklearn.preprocessing import StandardScaler, MinMaxScaler\n",
    "import random\n",
    "import joblib\n",
    "import seaborn as sns\n",
    "from datetime import timedelta\n"
   ]
  },
  {
   "cell_type": "markdown",
   "id": "6f663a82",
   "metadata": {
    "id": "kbYrYcwoo0Fz",
    "papermill": {
     "duration": 0.013103,
     "end_time": "2023-07-04T02:30:25.112244",
     "exception": false,
     "start_time": "2023-07-04T02:30:25.099141",
     "status": "completed"
    },
    "tags": []
   },
   "source": [
    "Load the data"
   ]
  },
  {
   "cell_type": "code",
   "execution_count": 49,
   "id": "7882fefe",
   "metadata": {
    "execution": {
     "iopub.execute_input": "2023-07-04T02:30:25.139863Z",
     "iopub.status.busy": "2023-07-04T02:30:25.139194Z",
     "iopub.status.idle": "2023-07-04T02:30:28.375611Z",
     "shell.execute_reply": "2023-07-04T02:30:28.374466Z"
    },
    "id": "ER9nC6wJo0Fz",
    "outputId": "e1669a36-5830-44df-a179-f3851ae26053",
    "papermill": {
     "duration": 3.253029,
     "end_time": "2023-07-04T02:30:28.378238",
     "exception": false,
     "start_time": "2023-07-04T02:30:25.125209",
     "status": "completed"
    },
    "tags": []
   },
   "outputs": [
    {
     "name": "stdout",
     "output_type": "stream",
     "text": [
      "mkdir: cannot create directory ‘data’: File exists\n"
     ]
    }
   ],
   "source": [
    "!mkdir data\n",
    "!if ! [ -f \"data/processed_data.csv\" ]; then wget https://github.com/sdip15fa/weather-predict/raw/master/data/processed_data.csv -O data/processed_data.csv; fi;\n",
    "\n",
    "input_file = 'data/processed_data.csv'\n",
    "df = pd.read_csv('data/processed_data.csv',\n",
    "                 parse_dates=['DateTime'], index_col='DateTime')\n",
    "df = df.resample('60T').mean()\n",
    "# df[\"DateTime\"] = pd.to_datetime(df.index)\n",
    "df = df.reset_index()"
   ]
  },
  {
   "cell_type": "markdown",
   "id": "f27dfd5d",
   "metadata": {
    "id": "JdAyygMMo0Fz",
    "papermill": {
     "duration": 0.013129,
     "end_time": "2023-07-04T02:30:28.404604",
     "exception": false,
     "start_time": "2023-07-04T02:30:28.391475",
     "status": "completed"
    },
    "tags": []
   },
   "source": [
    "Convert the 'Date' and 'Time' columns to integers"
   ]
  },
  {
   "cell_type": "code",
   "execution_count": 50,
   "id": "caa96d9d",
   "metadata": {
    "execution": {
     "iopub.execute_input": "2023-07-04T02:30:28.432007Z",
     "iopub.status.busy": "2023-07-04T02:30:28.431663Z",
     "iopub.status.idle": "2023-07-04T02:30:28.446833Z",
     "shell.execute_reply": "2023-07-04T02:30:28.445941Z"
    },
    "id": "q_wugGo2o0Fz",
    "papermill": {
     "duration": 0.03136,
     "end_time": "2023-07-04T02:30:28.449018",
     "exception": false,
     "start_time": "2023-07-04T02:30:28.417658",
     "status": "completed"
    },
    "tags": []
   },
   "outputs": [],
   "source": [
    "df[\"Temperature\"] = df[\"Temperature\"].astype(float)\n",
    "df[\"Wind Speed\"] = df[\"Wind Speed\"].astype(float)\n",
    "df[\"Rainfall\"] = df[\"Rainfall\"].astype(float)\n",
    "df[\"Wind Direction\"] = df[\"Wind Direction\"].astype(float)\n",
    "df[\"Humidity\"] = df[\"Humidity\"].astype(float)"
   ]
  },
  {
   "cell_type": "markdown",
   "id": "20916779",
   "metadata": {
    "id": "KO9gyf6zo0Fz",
    "papermill": {
     "duration": 0.01261,
     "end_time": "2023-07-04T02:30:28.474588",
     "exception": false,
     "start_time": "2023-07-04T02:30:28.461978",
     "status": "completed"
    },
    "tags": []
   },
   "source": [
    "Filter and replace outliers"
   ]
  },
  {
   "cell_type": "code",
   "execution_count": 51,
   "id": "32818586",
   "metadata": {
    "execution": {
     "iopub.execute_input": "2023-07-04T02:30:28.501951Z",
     "iopub.status.busy": "2023-07-04T02:30:28.501636Z",
     "iopub.status.idle": "2023-07-04T02:30:28.549146Z",
     "shell.execute_reply": "2023-07-04T02:30:28.548198Z"
    },
    "id": "Jeq-s765beZ6",
    "papermill": {
     "duration": 0.063529,
     "end_time": "2023-07-04T02:30:28.551452",
     "exception": false,
     "start_time": "2023-07-04T02:30:28.487923",
     "status": "completed"
    },
    "tags": []
   },
   "outputs": [],
   "source": [
    "df['Temperature'] = df['Temperature'].replace(3276.7, np.nan)\n",
    "df['Wind Speed'] = df['Wind Speed'].replace(32767, np.nan)\n",
    "df['Rainfall'] = df['Rainfall'].replace(32767, np.nan)\n",
    "df['Wind Direction'] = df['Wind Direction'].replace(32767, np.nan)\n",
    "df['Humidity'] = df['Humidity'].replace(32767, np.nan)\n",
    "df['Temperature'] = df['Temperature'].mask((df['Temperature'] > 40) | (df['Temperature'] < -10), np.nan)\n",
    "df['Wind Speed'] = df['Wind Speed'].mask((df['Wind Speed'] > 200) | df[\"Wind Speed\"] < 0, np.nan)\n",
    "df['Rainfall'] = df['Rainfall'].mask((df['Rainfall'] > 500)| df[\"Rainfall\"] < 0, np.nan)\n",
    "df['Wind Direction'] = df['Wind Direction'].mask((df['Wind Direction'] < 0) | (df['Wind Direction'] > 360), np.nan)\n",
    "df['Humidity'] = df['Humidity'].mask((df['Humidity'] < 0) | (df['Humidity'] > 100), np.nan)"
   ]
  },
  {
   "cell_type": "code",
   "execution_count": 52,
   "id": "081eef12",
   "metadata": {
    "execution": {
     "iopub.execute_input": "2023-07-04T02:30:28.579499Z",
     "iopub.status.busy": "2023-07-04T02:30:28.579218Z",
     "iopub.status.idle": "2023-07-04T02:30:28.622549Z",
     "shell.execute_reply": "2023-07-04T02:30:28.621518Z"
    },
    "id": "-wMp9pPwbeZ6",
    "outputId": "dc00dadd-3cc6-468c-9068-dc9135db51c8",
    "papermill": {
     "duration": 0.059872,
     "end_time": "2023-07-04T02:30:28.625352",
     "exception": false,
     "start_time": "2023-07-04T02:30:28.565480",
     "status": "completed"
    },
    "tags": []
   },
   "outputs": [
    {
     "data": {
      "text/html": [
       "<div>\n",
       "<style scoped>\n",
       "    .dataframe tbody tr th:only-of-type {\n",
       "        vertical-align: middle;\n",
       "    }\n",
       "\n",
       "    .dataframe tbody tr th {\n",
       "        vertical-align: top;\n",
       "    }\n",
       "\n",
       "    .dataframe thead th {\n",
       "        text-align: right;\n",
       "    }\n",
       "</style>\n",
       "<table border=\"1\" class=\"dataframe\">\n",
       "  <thead>\n",
       "    <tr style=\"text-align: right;\">\n",
       "      <th></th>\n",
       "      <th>DateTime</th>\n",
       "      <th>Year</th>\n",
       "      <th>Month</th>\n",
       "      <th>Date</th>\n",
       "      <th>Time</th>\n",
       "      <th>Minute</th>\n",
       "      <th>Temperature</th>\n",
       "      <th>Wind Speed</th>\n",
       "      <th>Wind Direction</th>\n",
       "      <th>Rainfall</th>\n",
       "      <th>Humidity</th>\n",
       "    </tr>\n",
       "  </thead>\n",
       "  <tbody>\n",
       "    <tr>\n",
       "      <th>36</th>\n",
       "      <td>2008-01-02 12:00:00</td>\n",
       "      <td>2008.0</td>\n",
       "      <td>1.0</td>\n",
       "      <td>2.0</td>\n",
       "      <td>12.0</td>\n",
       "      <td>1.0</td>\n",
       "      <td>NaN</td>\n",
       "      <td>NaN</td>\n",
       "      <td>NaN</td>\n",
       "      <td>NaN</td>\n",
       "      <td>NaN</td>\n",
       "    </tr>\n",
       "    <tr>\n",
       "      <th>38</th>\n",
       "      <td>2008-01-02 14:00:00</td>\n",
       "      <td>2008.0</td>\n",
       "      <td>1.0</td>\n",
       "      <td>2.0</td>\n",
       "      <td>14.0</td>\n",
       "      <td>1.0</td>\n",
       "      <td>11.2</td>\n",
       "      <td>19.0</td>\n",
       "      <td>NaN</td>\n",
       "      <td>0.0</td>\n",
       "      <td>27.0</td>\n",
       "    </tr>\n",
       "    <tr>\n",
       "      <th>39</th>\n",
       "      <td>2008-01-02 15:00:00</td>\n",
       "      <td>2008.0</td>\n",
       "      <td>1.0</td>\n",
       "      <td>2.0</td>\n",
       "      <td>15.0</td>\n",
       "      <td>1.0</td>\n",
       "      <td>10.7</td>\n",
       "      <td>13.0</td>\n",
       "      <td>NaN</td>\n",
       "      <td>0.0</td>\n",
       "      <td>31.0</td>\n",
       "    </tr>\n",
       "    <tr>\n",
       "      <th>59</th>\n",
       "      <td>2008-01-03 11:00:00</td>\n",
       "      <td>2008.0</td>\n",
       "      <td>1.0</td>\n",
       "      <td>3.0</td>\n",
       "      <td>11.0</td>\n",
       "      <td>1.0</td>\n",
       "      <td>11.9</td>\n",
       "      <td>15.0</td>\n",
       "      <td>NaN</td>\n",
       "      <td>0.0</td>\n",
       "      <td>36.0</td>\n",
       "    </tr>\n",
       "    <tr>\n",
       "      <th>111</th>\n",
       "      <td>2008-01-05 15:00:00</td>\n",
       "      <td>2008.0</td>\n",
       "      <td>1.0</td>\n",
       "      <td>5.0</td>\n",
       "      <td>15.0</td>\n",
       "      <td>1.0</td>\n",
       "      <td>16.0</td>\n",
       "      <td>10.0</td>\n",
       "      <td>NaN</td>\n",
       "      <td>0.0</td>\n",
       "      <td>29.0</td>\n",
       "    </tr>\n",
       "    <tr>\n",
       "      <th>...</th>\n",
       "      <td>...</td>\n",
       "      <td>...</td>\n",
       "      <td>...</td>\n",
       "      <td>...</td>\n",
       "      <td>...</td>\n",
       "      <td>...</td>\n",
       "      <td>...</td>\n",
       "      <td>...</td>\n",
       "      <td>...</td>\n",
       "      <td>...</td>\n",
       "      <td>...</td>\n",
       "    </tr>\n",
       "    <tr>\n",
       "      <th>134727</th>\n",
       "      <td>2023-05-15 15:00:00</td>\n",
       "      <td>2023.0</td>\n",
       "      <td>5.0</td>\n",
       "      <td>15.0</td>\n",
       "      <td>15.0</td>\n",
       "      <td>1.0</td>\n",
       "      <td>NaN</td>\n",
       "      <td>19.0</td>\n",
       "      <td>26.0</td>\n",
       "      <td>0.0</td>\n",
       "      <td>NaN</td>\n",
       "    </tr>\n",
       "    <tr>\n",
       "      <th>134728</th>\n",
       "      <td>2023-05-15 16:00:00</td>\n",
       "      <td>2023.0</td>\n",
       "      <td>5.0</td>\n",
       "      <td>15.0</td>\n",
       "      <td>16.0</td>\n",
       "      <td>1.0</td>\n",
       "      <td>NaN</td>\n",
       "      <td>1.0</td>\n",
       "      <td>265.0</td>\n",
       "      <td>0.0</td>\n",
       "      <td>NaN</td>\n",
       "    </tr>\n",
       "    <tr>\n",
       "      <th>135060</th>\n",
       "      <td>2023-05-29 12:00:00</td>\n",
       "      <td>2023.0</td>\n",
       "      <td>5.0</td>\n",
       "      <td>29.0</td>\n",
       "      <td>12.0</td>\n",
       "      <td>1.0</td>\n",
       "      <td>NaN</td>\n",
       "      <td>41.0</td>\n",
       "      <td>273.0</td>\n",
       "      <td>0.0</td>\n",
       "      <td>NaN</td>\n",
       "    </tr>\n",
       "    <tr>\n",
       "      <th>135109</th>\n",
       "      <td>2023-05-31 13:00:00</td>\n",
       "      <td>2023.0</td>\n",
       "      <td>5.0</td>\n",
       "      <td>31.0</td>\n",
       "      <td>13.0</td>\n",
       "      <td>1.0</td>\n",
       "      <td>27.4</td>\n",
       "      <td>13.0</td>\n",
       "      <td>NaN</td>\n",
       "      <td>0.0</td>\n",
       "      <td>88.0</td>\n",
       "    </tr>\n",
       "    <tr>\n",
       "      <th>135180</th>\n",
       "      <td>2023-06-03 12:00:00</td>\n",
       "      <td>2023.0</td>\n",
       "      <td>6.0</td>\n",
       "      <td>3.0</td>\n",
       "      <td>12.0</td>\n",
       "      <td>1.0</td>\n",
       "      <td>27.4</td>\n",
       "      <td>7.0</td>\n",
       "      <td>NaN</td>\n",
       "      <td>0.0</td>\n",
       "      <td>93.0</td>\n",
       "    </tr>\n",
       "  </tbody>\n",
       "</table>\n",
       "<p>12089 rows × 11 columns</p>\n",
       "</div>"
      ],
      "text/plain": [
       "                  DateTime    Year  Month  Date  Time  Minute  Temperature  \\\n",
       "36     2008-01-02 12:00:00  2008.0    1.0   2.0  12.0     1.0          NaN   \n",
       "38     2008-01-02 14:00:00  2008.0    1.0   2.0  14.0     1.0         11.2   \n",
       "39     2008-01-02 15:00:00  2008.0    1.0   2.0  15.0     1.0         10.7   \n",
       "59     2008-01-03 11:00:00  2008.0    1.0   3.0  11.0     1.0         11.9   \n",
       "111    2008-01-05 15:00:00  2008.0    1.0   5.0  15.0     1.0         16.0   \n",
       "...                    ...     ...    ...   ...   ...     ...          ...   \n",
       "134727 2023-05-15 15:00:00  2023.0    5.0  15.0  15.0     1.0          NaN   \n",
       "134728 2023-05-15 16:00:00  2023.0    5.0  15.0  16.0     1.0          NaN   \n",
       "135060 2023-05-29 12:00:00  2023.0    5.0  29.0  12.0     1.0          NaN   \n",
       "135109 2023-05-31 13:00:00  2023.0    5.0  31.0  13.0     1.0         27.4   \n",
       "135180 2023-06-03 12:00:00  2023.0    6.0   3.0  12.0     1.0         27.4   \n",
       "\n",
       "        Wind Speed  Wind Direction  Rainfall  Humidity  \n",
       "36             NaN             NaN       NaN       NaN  \n",
       "38            19.0             NaN       0.0      27.0  \n",
       "39            13.0             NaN       0.0      31.0  \n",
       "59            15.0             NaN       0.0      36.0  \n",
       "111           10.0             NaN       0.0      29.0  \n",
       "...            ...             ...       ...       ...  \n",
       "134727        19.0            26.0       0.0       NaN  \n",
       "134728         1.0           265.0       0.0       NaN  \n",
       "135060        41.0           273.0       0.0       NaN  \n",
       "135109        13.0             NaN       0.0      88.0  \n",
       "135180         7.0             NaN       0.0      93.0  \n",
       "\n",
       "[12089 rows x 11 columns]"
      ]
     },
     "execution_count": 52,
     "metadata": {},
     "output_type": "execute_result"
    }
   ],
   "source": [
    "df[df.isna().any(axis=1)]"
   ]
  },
  {
   "cell_type": "code",
   "execution_count": 53,
   "id": "2acfbeca",
   "metadata": {},
   "outputs": [],
   "source": [
    "df = df.fillna(method=\"ffill\").fillna(method=\"bfill\")"
   ]
  },
  {
   "cell_type": "code",
   "execution_count": 54,
   "id": "c385face",
   "metadata": {},
   "outputs": [
    {
     "data": {
      "image/png": "[encoded data removed]",
      "text/plain": [
       "<Figure size 480x480 with 2 Axes>"
      ]
     },
     "metadata": {},
     "output_type": "display_data"
    }
   ],
   "source": [
    "\n",
    "def show_heatmap(data):\n",
    "    plt.matshow(data.corr())\n",
    "    plt.xticks(range(data.shape[1]), data.columns, fontsize=14, rotation=90)\n",
    "    plt.gca().xaxis.tick_bottom()\n",
    "    plt.yticks(range(data.shape[1]), data.columns, fontsize=14)\n",
    "\n",
    "    cb = plt.colorbar()\n",
    "    cb.ax.tick_params(labelsize=14)\n",
    "    plt.title(\"Feature Correlation Heatmap\", fontsize=14)\n",
    "    plt.show()\n",
    "\n",
    "\n",
    "show_heatmap(df)"
   ]
  },
  {
   "cell_type": "code",
   "execution_count": 71,
   "id": "62affd06",
   "metadata": {
    "execution": {
     "iopub.execute_input": "2023-07-04T02:30:28.653708Z",
     "iopub.status.busy": "2023-07-04T02:30:28.653422Z",
     "iopub.status.idle": "2023-07-04T02:30:28.658673Z",
     "shell.execute_reply": "2023-07-04T02:30:28.657870Z"
    },
    "id": "fYTgYEvho0Fz",
    "papermill": {
     "duration": 0.021772,
     "end_time": "2023-07-04T02:30:28.660772",
     "exception": false,
     "start_time": "2023-07-04T02:30:28.639000",
     "status": "completed"
    },
    "tags": []
   },
   "outputs": [],
   "source": [
    "time_steps = 144  # Number of time steps for the LSTM model\n",
    "scaler = StandardScaler() # MinMaxScaler(feature_range=(0, 1))  # Scale the data to [0, 1]"
   ]
  },
  {
   "cell_type": "code",
   "execution_count": 72,
   "id": "91b13c48",
   "metadata": {
    "execution": {
     "iopub.execute_input": "2023-07-04T02:30:28.687932Z",
     "iopub.status.busy": "2023-07-04T02:30:28.687640Z",
     "iopub.status.idle": "2023-07-04T02:30:28.691471Z",
     "shell.execute_reply": "2023-07-04T02:30:28.690630Z"
    },
    "id": "y-zPsENY_V2J",
    "papermill": {
     "duration": 0.019628,
     "end_time": "2023-07-04T02:30:28.693414",
     "exception": false,
     "start_time": "2023-07-04T02:30:28.673786",
     "status": "completed"
    },
    "tags": []
   },
   "outputs": [],
   "source": [
    "features_keys = ['Temperature', 'Wind Speed',\n",
    "               'Rainfall', 'Humidity']"
   ]
  },
  {
   "cell_type": "code",
   "execution_count": 73,
   "id": "55632654",
   "metadata": {
    "execution": {
     "iopub.execute_input": "2023-07-04T02:30:28.720598Z",
     "iopub.status.busy": "2023-07-04T02:30:28.720350Z",
     "iopub.status.idle": "2023-07-04T02:30:28.736126Z",
     "shell.execute_reply": "2023-07-04T02:30:28.735124Z"
    },
    "papermill": {
     "duration": 0.031847,
     "end_time": "2023-07-04T02:30:28.738291",
     "exception": false,
     "start_time": "2023-07-04T02:30:28.706444",
     "status": "completed"
    },
    "tags": []
   },
   "outputs": [
    {
     "data": {
      "text/html": [
       "<style>#sk-container-id-4 {color: black;background-color: white;}#sk-container-id-4 pre{padding: 0;}#sk-container-id-4 div.sk-toggleable {background-color: white;}#sk-container-id-4 label.sk-toggleable__label {cursor: pointer;display: block;width: 100%;margin-bottom: 0;padding: 0.3em;box-sizing: border-box;text-align: center;}#sk-container-id-4 label.sk-toggleable__label-arrow:before {content: \"▸\";float: left;margin-right: 0.25em;color: #696969;}#sk-container-id-4 label.sk-toggleable__label-arrow:hover:before {color: black;}#sk-container-id-4 div.sk-estimator:hover label.sk-toggleable__label-arrow:before {color: black;}#sk-container-id-4 div.sk-toggleable__content {max-height: 0;max-width: 0;overflow: hidden;text-align: left;background-color: #f0f8ff;}#sk-container-id-4 div.sk-toggleable__content pre {margin: 0.2em;color: black;border-radius: 0.25em;background-color: #f0f8ff;}#sk-container-id-4 input.sk-toggleable__control:checked~div.sk-toggleable__content {max-height: 200px;max-width: 100%;overflow: auto;}#sk-container-id-4 input.sk-toggleable__control:checked~label.sk-toggleable__label-arrow:before {content: \"▾\";}#sk-container-id-4 div.sk-estimator input.sk-toggleable__control:checked~label.sk-toggleable__label {background-color: #d4ebff;}#sk-container-id-4 div.sk-label input.sk-toggleable__control:checked~label.sk-toggleable__label {background-color: #d4ebff;}#sk-container-id-4 input.sk-hidden--visually {border: 0;clip: rect(1px 1px 1px 1px);clip: rect(1px, 1px, 1px, 1px);height: 1px;margin: -1px;overflow: hidden;padding: 0;position: absolute;width: 1px;}#sk-container-id-4 div.sk-estimator {font-family: monospace;background-color: #f0f8ff;border: 1px dotted black;border-radius: 0.25em;box-sizing: border-box;margin-bottom: 0.5em;}#sk-container-id-4 div.sk-estimator:hover {background-color: #d4ebff;}#sk-container-id-4 div.sk-parallel-item::after {content: \"\";width: 100%;border-bottom: 1px solid gray;flex-grow: 1;}#sk-container-id-4 div.sk-label:hover label.sk-toggleable__label {background-color: #d4ebff;}#sk-container-id-4 div.sk-serial::before {content: \"\";position: absolute;border-left: 1px solid gray;box-sizing: border-box;top: 0;bottom: 0;left: 50%;z-index: 0;}#sk-container-id-4 div.sk-serial {display: flex;flex-direction: column;align-items: center;background-color: white;padding-right: 0.2em;padding-left: 0.2em;position: relative;}#sk-container-id-4 div.sk-item {position: relative;z-index: 1;}#sk-container-id-4 div.sk-parallel {display: flex;align-items: stretch;justify-content: center;background-color: white;position: relative;}#sk-container-id-4 div.sk-item::before, #sk-container-id-4 div.sk-parallel-item::before {content: \"\";position: absolute;border-left: 1px solid gray;box-sizing: border-box;top: 0;bottom: 0;left: 50%;z-index: -1;}#sk-container-id-4 div.sk-parallel-item {display: flex;flex-direction: column;z-index: 1;position: relative;background-color: white;}#sk-container-id-4 div.sk-parallel-item:first-child::after {align-self: flex-end;width: 50%;}#sk-container-id-4 div.sk-parallel-item:last-child::after {align-self: flex-start;width: 50%;}#sk-container-id-4 div.sk-parallel-item:only-child::after {width: 0;}#sk-container-id-4 div.sk-dashed-wrapped {border: 1px dashed gray;margin: 0 0.4em 0.5em 0.4em;box-sizing: border-box;padding-bottom: 0.4em;background-color: white;}#sk-container-id-4 div.sk-label label {font-family: monospace;font-weight: bold;display: inline-block;line-height: 1.2em;}#sk-container-id-4 div.sk-label-container {text-align: center;}#sk-container-id-4 div.sk-container {/* jupyter's `normalize.less` sets `[hidden] { display: none; }` but bootstrap.min.css set `[hidden] { display: none !important; }` so we also need the `!important` here to be able to override the default hidden behavior on the sphinx rendered scikit-learn.org. See: https://github.com/scikit-learn/scikit-learn/issues/21755 */display: inline-block !important;position: relative;}#sk-container-id-4 div.sk-text-repr-fallback {display: none;}</style><div id=\"sk-container-id-4\" class=\"sk-top-container\"><div class=\"sk-text-repr-fallback\"><pre>StandardScaler()</pre><b>In a Jupyter environment, please rerun this cell to show the HTML representation or trust the notebook. <br />On GitHub, the HTML representation is unable to render, please try loading this page with nbviewer.org.</b></div><div class=\"sk-container\" hidden><div class=\"sk-item\"><div class=\"sk-estimator sk-toggleable\"><input class=\"sk-toggleable__control sk-hidden--visually\" id=\"sk-estimator-id-4\" type=\"checkbox\" checked><label for=\"sk-estimator-id-4\" class=\"sk-toggleable__label sk-toggleable__label-arrow\">StandardScaler</label><div class=\"sk-toggleable__content\"><pre>StandardScaler()</pre></div></div></div></div></div>"
      ],
      "text/plain": [
       "StandardScaler()"
      ]
     },
     "execution_count": 73,
     "metadata": {},
     "output_type": "execute_result"
    }
   ],
   "source": [
    "features = df[features_keys].copy()\n",
    "scaler.fit(features)"
   ]
  },
  {
   "cell_type": "code",
   "execution_count": 74,
   "id": "9b2997eb",
   "metadata": {
    "execution": {
     "iopub.execute_input": "2023-07-04T02:30:28.766043Z",
     "iopub.status.busy": "2023-07-04T02:30:28.765780Z",
     "iopub.status.idle": "2023-07-04T02:30:28.773429Z",
     "shell.execute_reply": "2023-07-04T02:30:28.772526Z"
    },
    "papermill": {
     "duration": 0.023736,
     "end_time": "2023-07-04T02:30:28.775348",
     "exception": false,
     "start_time": "2023-07-04T02:30:28.751612",
     "status": "completed"
    },
    "tags": []
   },
   "outputs": [
    {
     "data": {
      "text/plain": [
       "'\\npretrained_model: tf.keras.Model = None\\ntry:\\n    pretrained_model = tf.keras.models.load_model(\"lstm.keras\")\\nexcept:\\n    pass\\n\\nif pretrained_model:\\n    for col in features_keys:\\n        indices = df[df[col].isna() == True].index.values\\n        if len(indices) > 0:\\n            input_data = []\\n            for i in indices:\\n                input_data_i = df[features_keys].iloc[i-time_steps-1:i-1].values\\n                if len(input_data_i):\\n                    input_data_i = scaler.transform(pd.DataFrame(input_data_i, columns=features_keys))\\n                    input_data.append(input_data_i)\\n                else:\\n                    indices = np.delete(indices, i)\\n            if len(input_data):\\n                input_data = np.array(input_data).reshape(len(input_data), time_steps, len(features_keys))\\n                predicted = pd.DataFrame(pretrained_model.predict(input_data), columns=features_keys, index=indices)[col].values\\n                df.loc[indices, col] = predicted\\n'"
      ]
     },
     "execution_count": 74,
     "metadata": {},
     "output_type": "execute_result"
    }
   ],
   "source": [
    "\"\"\"\n",
    "pretrained_model: tf.keras.Model = None\n",
    "try:\n",
    "    pretrained_model = tf.keras.models.load_model(\"lstm.keras\")\n",
    "except:\n",
    "    pass\n",
    "\n",
    "if pretrained_model:\n",
    "    for col in features_keys:\n",
    "        indices = df[df[col].isna() == True].index.values\n",
    "        if len(indices) > 0:\n",
    "            input_data = []\n",
    "            for i in indices:\n",
    "                input_data_i = df[features_keys].iloc[i-time_steps-1:i-1].values\n",
    "                if len(input_data_i):\n",
    "                    input_data_i = scaler.transform(pd.DataFrame(input_data_i, columns=features_keys))\n",
    "                    input_data.append(input_data_i)\n",
    "                else:\n",
    "                    indices = np.delete(indices, i)\n",
    "            if len(input_data):\n",
    "                input_data = np.array(input_data).reshape(len(input_data), time_steps, len(features_keys))\n",
    "                predicted = pd.DataFrame(pretrained_model.predict(input_data), columns=features_keys, index=indices)[col].values\n",
    "                df.loc[indices, col] = predicted\n",
    "\"\"\""
   ]
  },
  {
   "cell_type": "markdown",
   "id": "5d7ec22d",
   "metadata": {
    "id": "nW3SJd_do0Fz",
    "papermill": {
     "duration": 0.013386,
     "end_time": "2023-07-04T02:30:28.848650",
     "exception": false,
     "start_time": "2023-07-04T02:30:28.835264",
     "status": "completed"
    },
    "tags": []
   },
   "source": [
    "Prepare the data for LSTM"
   ]
  },
  {
   "cell_type": "markdown",
   "id": "f1b62f28",
   "metadata": {
    "id": "ry9s2DQgo0GE",
    "papermill": {
     "duration": 0.013316,
     "end_time": "2023-07-04T02:30:28.875803",
     "exception": false,
     "start_time": "2023-07-04T02:30:28.862487",
     "status": "completed"
    },
    "tags": []
   },
   "source": [
    "Remove rows with missing values"
   ]
  },
  {
   "cell_type": "code",
   "execution_count": 75,
   "id": "1a43b27d",
   "metadata": {
    "execution": {
     "iopub.execute_input": "2023-07-04T02:30:28.904899Z",
     "iopub.status.busy": "2023-07-04T02:30:28.904100Z",
     "iopub.status.idle": "2023-07-04T02:30:28.916004Z",
     "shell.execute_reply": "2023-07-04T02:30:28.915082Z"
    },
    "id": "rux_VYPWo0GE",
    "papermill": {
     "duration": 0.028987,
     "end_time": "2023-07-04T02:30:28.918094",
     "exception": false,
     "start_time": "2023-07-04T02:30:28.889107",
     "status": "completed"
    },
    "tags": []
   },
   "outputs": [],
   "source": [
    "df = df.dropna().reset_index()"
   ]
  },
  {
   "cell_type": "code",
   "execution_count": 76,
   "id": "c1a86f6f",
   "metadata": {
    "execution": {
     "iopub.execute_input": "2023-07-04T02:30:28.947506Z",
     "iopub.status.busy": "2023-07-04T02:30:28.946586Z",
     "iopub.status.idle": "2023-07-04T02:30:28.972762Z",
     "shell.execute_reply": "2023-07-04T02:30:28.971936Z"
    },
    "id": "f0e4-F66o0GE",
    "outputId": "777aaec3-334c-47c1-bcb4-e75caeadea06",
    "papermill": {
     "duration": 0.042854,
     "end_time": "2023-07-04T02:30:28.974694",
     "exception": false,
     "start_time": "2023-07-04T02:30:28.931840",
     "status": "completed"
    },
    "tags": []
   },
   "outputs": [
    {
     "data": {
      "text/html": [
       "<div>\n",
       "<style scoped>\n",
       "    .dataframe tbody tr th:only-of-type {\n",
       "        vertical-align: middle;\n",
       "    }\n",
       "\n",
       "    .dataframe tbody tr th {\n",
       "        vertical-align: top;\n",
       "    }\n",
       "\n",
       "    .dataframe thead th {\n",
       "        text-align: right;\n",
       "    }\n",
       "</style>\n",
       "<table border=\"1\" class=\"dataframe\">\n",
       "  <thead>\n",
       "    <tr style=\"text-align: right;\">\n",
       "      <th></th>\n",
       "      <th>level_0</th>\n",
       "      <th>index</th>\n",
       "      <th>DateTime</th>\n",
       "      <th>Year</th>\n",
       "      <th>Month</th>\n",
       "      <th>Date</th>\n",
       "      <th>Time</th>\n",
       "      <th>Minute</th>\n",
       "      <th>Temperature</th>\n",
       "      <th>Wind Speed</th>\n",
       "      <th>Wind Direction</th>\n",
       "      <th>Rainfall</th>\n",
       "      <th>Humidity</th>\n",
       "    </tr>\n",
       "  </thead>\n",
       "  <tbody>\n",
       "    <tr>\n",
       "      <th>0</th>\n",
       "      <td>0</td>\n",
       "      <td>0</td>\n",
       "      <td>2008-01-01 00:00:00</td>\n",
       "      <td>2008.0</td>\n",
       "      <td>1.0</td>\n",
       "      <td>1.0</td>\n",
       "      <td>0.0</td>\n",
       "      <td>1.0</td>\n",
       "      <td>3.6</td>\n",
       "      <td>107.0</td>\n",
       "      <td>49.0</td>\n",
       "      <td>0.0</td>\n",
       "      <td>37.0</td>\n",
       "    </tr>\n",
       "    <tr>\n",
       "      <th>1</th>\n",
       "      <td>1</td>\n",
       "      <td>1</td>\n",
       "      <td>2008-01-01 01:00:00</td>\n",
       "      <td>2008.0</td>\n",
       "      <td>1.0</td>\n",
       "      <td>1.0</td>\n",
       "      <td>1.0</td>\n",
       "      <td>1.0</td>\n",
       "      <td>3.0</td>\n",
       "      <td>103.0</td>\n",
       "      <td>42.0</td>\n",
       "      <td>0.0</td>\n",
       "      <td>35.0</td>\n",
       "    </tr>\n",
       "    <tr>\n",
       "      <th>2</th>\n",
       "      <td>2</td>\n",
       "      <td>2</td>\n",
       "      <td>2008-01-01 02:00:00</td>\n",
       "      <td>2008.0</td>\n",
       "      <td>1.0</td>\n",
       "      <td>1.0</td>\n",
       "      <td>2.0</td>\n",
       "      <td>1.0</td>\n",
       "      <td>2.3</td>\n",
       "      <td>101.0</td>\n",
       "      <td>39.0</td>\n",
       "      <td>0.0</td>\n",
       "      <td>37.0</td>\n",
       "    </tr>\n",
       "    <tr>\n",
       "      <th>3</th>\n",
       "      <td>3</td>\n",
       "      <td>3</td>\n",
       "      <td>2008-01-01 03:00:00</td>\n",
       "      <td>2008.0</td>\n",
       "      <td>1.0</td>\n",
       "      <td>1.0</td>\n",
       "      <td>3.0</td>\n",
       "      <td>1.0</td>\n",
       "      <td>2.4</td>\n",
       "      <td>92.0</td>\n",
       "      <td>47.0</td>\n",
       "      <td>0.0</td>\n",
       "      <td>33.0</td>\n",
       "    </tr>\n",
       "    <tr>\n",
       "      <th>4</th>\n",
       "      <td>4</td>\n",
       "      <td>4</td>\n",
       "      <td>2008-01-01 04:00:00</td>\n",
       "      <td>2008.0</td>\n",
       "      <td>1.0</td>\n",
       "      <td>1.0</td>\n",
       "      <td>4.0</td>\n",
       "      <td>1.0</td>\n",
       "      <td>2.0</td>\n",
       "      <td>102.0</td>\n",
       "      <td>47.0</td>\n",
       "      <td>0.0</td>\n",
       "      <td>32.0</td>\n",
       "    </tr>\n",
       "    <tr>\n",
       "      <th>...</th>\n",
       "      <td>...</td>\n",
       "      <td>...</td>\n",
       "      <td>...</td>\n",
       "      <td>...</td>\n",
       "      <td>...</td>\n",
       "      <td>...</td>\n",
       "      <td>...</td>\n",
       "      <td>...</td>\n",
       "      <td>...</td>\n",
       "      <td>...</td>\n",
       "      <td>...</td>\n",
       "      <td>...</td>\n",
       "      <td>...</td>\n",
       "    </tr>\n",
       "    <tr>\n",
       "      <th>135869</th>\n",
       "      <td>135869</td>\n",
       "      <td>135869</td>\n",
       "      <td>2023-07-02 05:00:00</td>\n",
       "      <td>2023.0</td>\n",
       "      <td>7.0</td>\n",
       "      <td>2.0</td>\n",
       "      <td>5.0</td>\n",
       "      <td>1.0</td>\n",
       "      <td>21.5</td>\n",
       "      <td>52.0</td>\n",
       "      <td>192.0</td>\n",
       "      <td>0.0</td>\n",
       "      <td>100.0</td>\n",
       "    </tr>\n",
       "    <tr>\n",
       "      <th>135870</th>\n",
       "      <td>135870</td>\n",
       "      <td>135870</td>\n",
       "      <td>2023-07-02 06:00:00</td>\n",
       "      <td>2023.0</td>\n",
       "      <td>7.0</td>\n",
       "      <td>2.0</td>\n",
       "      <td>6.0</td>\n",
       "      <td>1.0</td>\n",
       "      <td>22.0</td>\n",
       "      <td>67.0</td>\n",
       "      <td>194.0</td>\n",
       "      <td>0.0</td>\n",
       "      <td>100.0</td>\n",
       "    </tr>\n",
       "    <tr>\n",
       "      <th>135871</th>\n",
       "      <td>135871</td>\n",
       "      <td>135871</td>\n",
       "      <td>2023-07-02 07:00:00</td>\n",
       "      <td>2023.0</td>\n",
       "      <td>7.0</td>\n",
       "      <td>2.0</td>\n",
       "      <td>7.0</td>\n",
       "      <td>1.0</td>\n",
       "      <td>20.9</td>\n",
       "      <td>64.0</td>\n",
       "      <td>213.0</td>\n",
       "      <td>10.0</td>\n",
       "      <td>100.0</td>\n",
       "    </tr>\n",
       "    <tr>\n",
       "      <th>135872</th>\n",
       "      <td>135872</td>\n",
       "      <td>135872</td>\n",
       "      <td>2023-07-02 08:00:00</td>\n",
       "      <td>2023.0</td>\n",
       "      <td>7.0</td>\n",
       "      <td>2.0</td>\n",
       "      <td>8.0</td>\n",
       "      <td>1.0</td>\n",
       "      <td>22.0</td>\n",
       "      <td>47.0</td>\n",
       "      <td>196.0</td>\n",
       "      <td>0.0</td>\n",
       "      <td>100.0</td>\n",
       "    </tr>\n",
       "    <tr>\n",
       "      <th>135873</th>\n",
       "      <td>135873</td>\n",
       "      <td>135873</td>\n",
       "      <td>2023-07-02 09:00:00</td>\n",
       "      <td>2023.0</td>\n",
       "      <td>7.0</td>\n",
       "      <td>2.0</td>\n",
       "      <td>9.0</td>\n",
       "      <td>1.0</td>\n",
       "      <td>22.5</td>\n",
       "      <td>21.0</td>\n",
       "      <td>160.0</td>\n",
       "      <td>0.0</td>\n",
       "      <td>100.0</td>\n",
       "    </tr>\n",
       "  </tbody>\n",
       "</table>\n",
       "<p>135874 rows × 13 columns</p>\n",
       "</div>"
      ],
      "text/plain": [
       "        level_0   index            DateTime    Year  Month  Date  Time  \\\n",
       "0             0       0 2008-01-01 00:00:00  2008.0    1.0   1.0   0.0   \n",
       "1             1       1 2008-01-01 01:00:00  2008.0    1.0   1.0   1.0   \n",
       "2             2       2 2008-01-01 02:00:00  2008.0    1.0   1.0   2.0   \n",
       "3             3       3 2008-01-01 03:00:00  2008.0    1.0   1.0   3.0   \n",
       "4             4       4 2008-01-01 04:00:00  2008.0    1.0   1.0   4.0   \n",
       "...         ...     ...                 ...     ...    ...   ...   ...   \n",
       "135869   135869  135869 2023-07-02 05:00:00  2023.0    7.0   2.0   5.0   \n",
       "135870   135870  135870 2023-07-02 06:00:00  2023.0    7.0   2.0   6.0   \n",
       "135871   135871  135871 2023-07-02 07:00:00  2023.0    7.0   2.0   7.0   \n",
       "135872   135872  135872 2023-07-02 08:00:00  2023.0    7.0   2.0   8.0   \n",
       "135873   135873  135873 2023-07-02 09:00:00  2023.0    7.0   2.0   9.0   \n",
       "\n",
       "        Minute  Temperature  Wind Speed  Wind Direction  Rainfall  Humidity  \n",
       "0          1.0          3.6       107.0            49.0       0.0      37.0  \n",
       "1          1.0          3.0       103.0            42.0       0.0      35.0  \n",
       "2          1.0          2.3       101.0            39.0       0.0      37.0  \n",
       "3          1.0          2.4        92.0            47.0       0.0      33.0  \n",
       "4          1.0          2.0       102.0            47.0       0.0      32.0  \n",
       "...        ...          ...         ...             ...       ...       ...  \n",
       "135869     1.0         21.5        52.0           192.0       0.0     100.0  \n",
       "135870     1.0         22.0        67.0           194.0       0.0     100.0  \n",
       "135871     1.0         20.9        64.0           213.0      10.0     100.0  \n",
       "135872     1.0         22.0        47.0           196.0       0.0     100.0  \n",
       "135873     1.0         22.5        21.0           160.0       0.0     100.0  \n",
       "\n",
       "[135874 rows x 13 columns]"
      ]
     },
     "execution_count": 76,
     "metadata": {},
     "output_type": "execute_result"
    }
   ],
   "source": [
    "df"
   ]
  },
  {
   "cell_type": "markdown",
   "id": "e94cff87",
   "metadata": {
    "id": "ksanizXmbeZ6",
    "papermill": {
     "duration": 0.013563,
     "end_time": "2023-07-04T02:30:29.002064",
     "exception": false,
     "start_time": "2023-07-04T02:30:28.988501",
     "status": "completed"
    },
    "tags": []
   },
   "source": [
    "Check if any hours are missing"
   ]
  },
  {
   "cell_type": "code",
   "execution_count": 77,
   "id": "5410fd10",
   "metadata": {
    "execution": {
     "iopub.execute_input": "2023-07-04T02:30:29.031592Z",
     "iopub.status.busy": "2023-07-04T02:30:29.030857Z",
     "iopub.status.idle": "2023-07-04T02:30:29.037400Z",
     "shell.execute_reply": "2023-07-04T02:30:29.036470Z"
    },
    "id": "KBnSzgpObeZ6",
    "outputId": "1ccc2b43-d41a-4c65-b9fc-987cb0566818",
    "papermill": {
     "duration": 0.023501,
     "end_time": "2023-07-04T02:30:29.039328",
     "exception": false,
     "start_time": "2023-07-04T02:30:29.015827",
     "status": "completed"
    },
    "tags": []
   },
   "outputs": [
    {
     "data": {
      "text/plain": [
       "\"\\n# Get the minimum and maximum DateTime values in the DataFrame\\nmin_time = df['DateTime'].min()\\nmax_time = df['DateTime'].max()\\n\\n# Create a complete sequence of hours using pandas date_range\\ncomplete_hours = pd.date_range(start=min_time, end=max_time, freq='H')\\n\\n# Extract the unique hours from the DataFrame\\nexisting_hours = pd.to_datetime(df['DateTime']).unique()\\n\\n# Find the missing hours by comparing the complete sequence with the existing hours\\nmissing_hours = [hour for hour in complete_hours if hour not in existing_hours]\\n\\n# Print the missing hours\\nprint(missing_hours)\\n\""
      ]
     },
     "execution_count": 77,
     "metadata": {},
     "output_type": "execute_result"
    }
   ],
   "source": [
    "\"\"\"\n",
    "# Get the minimum and maximum DateTime values in the DataFrame\n",
    "min_time = df['DateTime'].min()\n",
    "max_time = df['DateTime'].max()\n",
    "\n",
    "# Create a complete sequence of hours using pandas date_range\n",
    "complete_hours = pd.date_range(start=min_time, end=max_time, freq='H')\n",
    "\n",
    "# Extract the unique hours from the DataFrame\n",
    "existing_hours = pd.to_datetime(df['DateTime']).unique()\n",
    "\n",
    "# Find the missing hours by comparing the complete sequence with the existing hours\n",
    "missing_hours = [hour for hour in complete_hours if hour not in existing_hours]\n",
    "\n",
    "# Print the missing hours\n",
    "print(missing_hours)\n",
    "\"\"\""
   ]
  },
  {
   "cell_type": "markdown",
   "id": "52bcb829",
   "metadata": {
    "id": "yH8sRnrZo0GE",
    "papermill": {
     "duration": 0.013684,
     "end_time": "2023-07-04T02:30:29.066963",
     "exception": false,
     "start_time": "2023-07-04T02:30:29.053279",
     "status": "completed"
    },
    "tags": []
   },
   "source": [
    "Scale the temperature, wind speed, rainfall, and wind direction values"
   ]
  },
  {
   "cell_type": "code",
   "execution_count": 78,
   "id": "7b5acc76",
   "metadata": {
    "execution": {
     "iopub.execute_input": "2023-07-04T02:30:29.096846Z",
     "iopub.status.busy": "2023-07-04T02:30:29.095484Z",
     "iopub.status.idle": "2023-07-04T02:30:29.106038Z",
     "shell.execute_reply": "2023-07-04T02:30:29.105219Z"
    },
    "id": "ioRT6PB7o0GE",
    "papermill": {
     "duration": 0.027027,
     "end_time": "2023-07-04T02:30:29.107881",
     "exception": false,
     "start_time": "2023-07-04T02:30:29.080854",
     "status": "completed"
    },
    "tags": []
   },
   "outputs": [],
   "source": [
    "features = df[features_keys].copy()\n",
    "scaled_features = scaler.transform(features)"
   ]
  },
  {
   "cell_type": "code",
   "execution_count": 79,
   "id": "446cfbbf",
   "metadata": {
    "execution": {
     "iopub.execute_input": "2023-07-04T02:30:29.137156Z",
     "iopub.status.busy": "2023-07-04T02:30:29.136414Z",
     "iopub.status.idle": "2023-07-04T02:30:29.142935Z",
     "shell.execute_reply": "2023-07-04T02:30:29.142013Z"
    },
    "id": "3HWJi4kH_V2J",
    "outputId": "ea4b5554-f96a-4d4b-b8f3-4b8433c7012f",
    "papermill": {
     "duration": 0.023028,
     "end_time": "2023-07-04T02:30:29.144830",
     "exception": false,
     "start_time": "2023-07-04T02:30:29.121802",
     "status": "completed"
    },
    "tags": []
   },
   "outputs": [
    {
     "data": {
      "text/plain": [
       "array([[-2.63797805,  0.83337701, -0.14938301, -3.2800311 ],\n",
       "       [-2.75394614,  0.74031892, -0.14938301, -3.40438779],\n",
       "       [-2.88924224,  0.69378987, -0.14938301, -3.2800311 ],\n",
       "       ...,\n",
       "       [ 0.7057684 , -0.16699743,  0.34439569,  0.63720472],\n",
       "       [ 0.91837655, -0.56249431, -0.14938301,  0.63720472],\n",
       "       [ 1.01501662, -1.16737187, -0.14938301,  0.63720472]])"
      ]
     },
     "execution_count": 79,
     "metadata": {},
     "output_type": "execute_result"
    }
   ],
   "source": [
    "scaled_features"
   ]
  },
  {
   "cell_type": "markdown",
   "id": "43969cbb",
   "metadata": {
    "id": "MtfyrlIso0GE",
    "papermill": {
     "duration": 0.013731,
     "end_time": "2023-07-04T02:30:29.172571",
     "exception": false,
     "start_time": "2023-07-04T02:30:29.158840",
     "status": "completed"
    },
    "tags": []
   },
   "source": [
    "Create sequences of input data and corresponding target values"
   ]
  },
  {
   "cell_type": "code",
   "execution_count": 80,
   "id": "162f3c54",
   "metadata": {
    "execution": {
     "iopub.execute_input": "2023-07-04T02:30:29.202146Z",
     "iopub.status.busy": "2023-07-04T02:30:29.201406Z",
     "iopub.status.idle": "2023-07-04T02:30:29.346865Z",
     "shell.execute_reply": "2023-07-04T02:30:29.345934Z"
    },
    "id": "w_vv2_l_o0GE",
    "papermill": {
     "duration": 0.16251,
     "end_time": "2023-07-04T02:30:29.349212",
     "exception": false,
     "start_time": "2023-07-04T02:30:29.186702",
     "status": "completed"
    },
    "tags": []
   },
   "outputs": [],
   "source": [
    "data = []\n",
    "target = []\n",
    "for i in range(1, len(scaled_features) - time_steps):\n",
    "    # exclude the target\n",
    "    data.append(scaled_features[i:i+time_steps])\n",
    "    # Only the temperature is the target\n",
    "    target.append(scaled_features[i+time_steps])"
   ]
  },
  {
   "cell_type": "code",
   "execution_count": 81,
   "id": "acdbf556",
   "metadata": {
    "execution": {
     "iopub.execute_input": "2023-07-04T02:30:29.380253Z",
     "iopub.status.busy": "2023-07-04T02:30:29.378840Z",
     "iopub.status.idle": "2023-07-04T02:30:29.839609Z",
     "shell.execute_reply": "2023-07-04T02:30:29.838614Z"
    },
    "id": "iMnszm71o0GE",
    "papermill": {
     "duration": 0.478679,
     "end_time": "2023-07-04T02:30:29.842373",
     "exception": false,
     "start_time": "2023-07-04T02:30:29.363694",
     "status": "completed"
    },
    "tags": []
   },
   "outputs": [],
   "source": [
    "data = np.array(data)\n",
    "target = np.array(target)\n"
   ]
  },
  {
   "cell_type": "markdown",
   "id": "3bde62c5",
   "metadata": {
    "id": "pm3RIBnoo0GE",
    "papermill": {
     "duration": 0.014449,
     "end_time": "2023-07-04T02:30:29.871359",
     "exception": false,
     "start_time": "2023-07-04T02:30:29.856910",
     "status": "completed"
    },
    "tags": []
   },
   "source": [
    "Split the dataset into training and validation sets"
   ]
  },
  {
   "cell_type": "code",
   "execution_count": 82,
   "id": "42e4fcd1",
   "metadata": {
    "execution": {
     "iopub.execute_input": "2023-07-04T02:30:29.901480Z",
     "iopub.status.busy": "2023-07-04T02:30:29.901167Z",
     "iopub.status.idle": "2023-07-04T02:30:30.138708Z",
     "shell.execute_reply": "2023-07-04T02:30:30.137745Z"
    },
    "id": "nk58ReQ2o0GE",
    "papermill": {
     "duration": 0.25549,
     "end_time": "2023-07-04T02:30:30.141107",
     "exception": false,
     "start_time": "2023-07-04T02:30:29.885617",
     "status": "completed"
    },
    "tags": []
   },
   "outputs": [],
   "source": [
    "split = 0.05\n",
    "random_state = 42\n",
    "\n",
    "random.seed(random_state)\n",
    "np.random.seed(random_state)\n",
    "\n",
    "val_index = (pd.Series([random.random() for _ in range(len(target))]) < split).values\n",
    "\n",
    "train_data, train_target = data[~val_index], target[~val_index]\n",
    "val_data, val_target = data[val_index], target[val_index]"
   ]
  },
  {
   "cell_type": "markdown",
   "id": "73615e08",
   "metadata": {
    "id": "sRzJzu0-o0GE",
    "papermill": {
     "duration": 0.01544,
     "end_time": "2023-07-04T02:30:30.171211",
     "exception": false,
     "start_time": "2023-07-04T02:30:30.155771",
     "status": "completed"
    },
    "tags": []
   },
   "source": [
    "Build the LSTM model architecture"
   ]
  },
  {
   "cell_type": "code",
   "execution_count": 83,
   "id": "9b23319e",
   "metadata": {
    "execution": {
     "iopub.execute_input": "2023-07-04T02:30:30.201116Z",
     "iopub.status.busy": "2023-07-04T02:30:30.200809Z",
     "iopub.status.idle": "2023-07-04T02:30:33.431908Z",
     "shell.execute_reply": "2023-07-04T02:30:33.430939Z"
    },
    "id": "rvOWUL_Co0GE",
    "papermill": {
     "duration": 3.248738,
     "end_time": "2023-07-04T02:30:33.434260",
     "exception": false,
     "start_time": "2023-07-04T02:30:30.185522",
     "status": "completed"
    },
    "tags": []
   },
   "outputs": [
    {
     "name": "stderr",
     "output_type": "stream",
     "text": [
      "2023-07-04 21:08:51.964787: I tensorflow/core/common_runtime/executor.cc:1197] [/device:CPU:0] (DEBUG INFO) Executor start aborting (this does not indicate an error and you can ignore this message): INVALID_ARGUMENT: You must feed a value for placeholder tensor 'gradients/split_2_grad/concat/split_2/split_dim' with dtype int32\n",
      "\t [[{{node gradients/split_2_grad/concat/split_2/split_dim}}]]\n",
      "2023-07-04 21:08:51.967372: I tensorflow/core/common_runtime/executor.cc:1197] [/device:CPU:0] (DEBUG INFO) Executor start aborting (this does not indicate an error and you can ignore this message): INVALID_ARGUMENT: You must feed a value for placeholder tensor 'gradients/split_grad/concat/split/split_dim' with dtype int32\n",
      "\t [[{{node gradients/split_grad/concat/split/split_dim}}]]\n",
      "2023-07-04 21:08:51.968371: I tensorflow/core/common_runtime/executor.cc:1197] [/device:CPU:0] (DEBUG INFO) Executor start aborting (this does not indicate an error and you can ignore this message): INVALID_ARGUMENT: You must feed a value for placeholder tensor 'gradients/split_1_grad/concat/split_1/split_dim' with dtype int32\n",
      "\t [[{{node gradients/split_1_grad/concat/split_1/split_dim}}]]\n"
     ]
    }
   ],
   "source": [
    "import tensorflow as tf\n",
    "\n",
    "model = tf.keras.Sequential([\n",
    "    tf.keras.layers.LSTM(512,  input_shape=(time_steps, len(features_keys))),\n",
    "    tf.keras.layers.Dense(64, activation=\"relu\"),\n",
    "    tf.keras.layers.Dense(len(features_keys))\n",
    "])\n"
   ]
  },
  {
   "cell_type": "markdown",
   "id": "f20ab16c",
   "metadata": {
    "id": "cVjVLc9no0GE",
    "papermill": {
     "duration": 0.014029,
     "end_time": "2023-07-04T02:30:33.462893",
     "exception": false,
     "start_time": "2023-07-04T02:30:33.448864",
     "status": "completed"
    },
    "tags": []
   },
   "source": [
    "Compile the model"
   ]
  },
  {
   "cell_type": "code",
   "execution_count": 80,
   "id": "c2c8714b",
   "metadata": {
    "execution": {
     "iopub.execute_input": "2023-07-04T02:30:33.498860Z",
     "iopub.status.busy": "2023-07-04T02:30:33.498247Z",
     "iopub.status.idle": "2023-07-04T02:30:33.516762Z",
     "shell.execute_reply": "2023-07-04T02:30:33.515995Z"
    },
    "id": "sk3yxZIio0GE",
    "papermill": {
     "duration": 0.041953,
     "end_time": "2023-07-04T02:30:33.518877",
     "exception": false,
     "start_time": "2023-07-04T02:30:33.476924",
     "status": "completed"
    },
    "tags": []
   },
   "outputs": [],
   "source": [
    "optimizer = tf.keras.optimizers.Adam(learning_rate=0.001)\n",
    "model.compile(loss='mae', optimizer=optimizer)"
   ]
  },
  {
   "cell_type": "markdown",
   "id": "9798949d",
   "metadata": {
    "id": "mlmltGMRo0GE",
    "papermill": {
     "duration": 0.013797,
     "end_time": "2023-07-04T02:30:33.546764",
     "exception": false,
     "start_time": "2023-07-04T02:30:33.532967",
     "status": "completed"
    },
    "tags": []
   },
   "source": [
    "Define early stopping and learning rate scheduler"
   ]
  },
  {
   "cell_type": "code",
   "execution_count": 21,
   "id": "63988c8e",
   "metadata": {
    "execution": {
     "iopub.execute_input": "2023-07-04T02:30:33.576692Z",
     "iopub.status.busy": "2023-07-04T02:30:33.575934Z",
     "iopub.status.idle": "2023-07-04T02:30:33.581298Z",
     "shell.execute_reply": "2023-07-04T02:30:33.580479Z"
    },
    "id": "-FzJGi_jo0GE",
    "papermill": {
     "duration": 0.022338,
     "end_time": "2023-07-04T02:30:33.583285",
     "exception": false,
     "start_time": "2023-07-04T02:30:33.560947",
     "status": "completed"
    },
    "tags": []
   },
   "outputs": [],
   "source": [
    "early_stopping = tf.keras.callbacks.EarlyStopping(\n",
    "    monitor='val_loss', patience=10, restore_best_weights=True)\n",
    "lr_scheduler = tf.keras.callbacks.ReduceLROnPlateau(\n",
    "    monitor='val_loss', factor=0.2, patience=5, min_lr=1e-6)"
   ]
  },
  {
   "cell_type": "markdown",
   "id": "9c89e78d",
   "metadata": {
    "id": "eQuMJC2xo0GE",
    "papermill": {
     "duration": 0.013748,
     "end_time": "2023-07-04T02:30:33.611134",
     "exception": false,
     "start_time": "2023-07-04T02:30:33.597386",
     "status": "completed"
    },
    "tags": []
   },
   "source": [
    "Train the LSTM model"
   ]
  },
  {
   "cell_type": "code",
   "execution_count": 22,
   "id": "4a75e898",
   "metadata": {
    "execution": {
     "iopub.execute_input": "2023-07-04T02:30:33.643017Z",
     "iopub.status.busy": "2023-07-04T02:30:33.642376Z",
     "iopub.status.idle": "2023-07-04T02:59:58.080668Z",
     "shell.execute_reply": "2023-07-04T02:59:58.079498Z"
    },
    "id": "FPNW8kgSo0GE",
    "outputId": "5a832a5f-ebca-4d34-d24c-9b7e67d7fa19",
    "papermill": {
     "duration": 1764.458288,
     "end_time": "2023-07-04T02:59:58.083358",
     "exception": false,
     "start_time": "2023-07-04T02:30:33.625070",
     "status": "completed"
    },
    "tags": []
   },
   "outputs": [
    {
     "name": "stdout",
     "output_type": "stream",
     "text": [
      "Epoch 1/75\n",
      "32/32 [==============================] - 29s 732ms/step - loss: 0.1034 - val_loss: 0.0434 - lr: 0.0010\n",
      "Epoch 2/75\n",
      "32/32 [==============================] - 23s 722ms/step - loss: 0.0407 - val_loss: 0.0409 - lr: 0.0010\n",
      "Epoch 3/75\n",
      "32/32 [==============================] - 23s 727ms/step - loss: 0.0327 - val_loss: 0.0294 - lr: 0.0010\n",
      "Epoch 4/75\n",
      "32/32 [==============================] - 23s 730ms/step - loss: 0.0315 - val_loss: 0.0305 - lr: 0.0010\n",
      "Epoch 5/75\n",
      "32/32 [==============================] - 23s 728ms/step - loss: 0.0303 - val_loss: 0.0290 - lr: 0.0010\n",
      "Epoch 6/75\n",
      "32/32 [==============================] - 23s 722ms/step - loss: 0.0277 - val_loss: 0.0264 - lr: 0.0010\n",
      "Epoch 7/75\n",
      "32/32 [==============================] - 23s 719ms/step - loss: 0.0272 - val_loss: 0.0280 - lr: 0.0010\n",
      "Epoch 8/75\n",
      "32/32 [==============================] - 24s 737ms/step - loss: 0.0272 - val_loss: 0.0250 - lr: 0.0010\n",
      "Epoch 9/75\n",
      "32/32 [==============================] - 23s 724ms/step - loss: 0.0244 - val_loss: 0.0239 - lr: 0.0010\n",
      "Epoch 10/75\n",
      "32/32 [==============================] - 23s 723ms/step - loss: 0.0232 - val_loss: 0.0211 - lr: 0.0010\n",
      "Epoch 11/75\n",
      "32/32 [==============================] - 23s 726ms/step - loss: 0.0219 - val_loss: 0.0216 - lr: 0.0010\n",
      "Epoch 12/75\n",
      "32/32 [==============================] - 23s 725ms/step - loss: 0.0229 - val_loss: 0.0220 - lr: 0.0010\n",
      "Epoch 13/75\n",
      "32/32 [==============================] - 23s 723ms/step - loss: 0.0218 - val_loss: 0.0238 - lr: 0.0010\n",
      "Epoch 14/75\n",
      "32/32 [==============================] - 23s 723ms/step - loss: 0.0208 - val_loss: 0.0221 - lr: 0.0010\n",
      "Epoch 15/75\n",
      "32/32 [==============================] - 23s 720ms/step - loss: 0.0210 - val_loss: 0.0230 - lr: 0.0010\n",
      "Epoch 16/75\n",
      "32/32 [==============================] - 23s 720ms/step - loss: 0.0192 - val_loss: 0.0184 - lr: 2.0000e-04\n",
      "Epoch 17/75\n",
      "32/32 [==============================] - 23s 720ms/step - loss: 0.0182 - val_loss: 0.0183 - lr: 2.0000e-04\n",
      "Epoch 18/75\n",
      "32/32 [==============================] - 23s 723ms/step - loss: 0.0181 - val_loss: 0.0182 - lr: 2.0000e-04\n",
      "Epoch 19/75\n",
      "32/32 [==============================] - 23s 724ms/step - loss: 0.0180 - val_loss: 0.0182 - lr: 2.0000e-04\n",
      "Epoch 20/75\n",
      "32/32 [==============================] - 23s 725ms/step - loss: 0.0179 - val_loss: 0.0180 - lr: 2.0000e-04\n",
      "Epoch 21/75\n",
      "32/32 [==============================] - 23s 721ms/step - loss: 0.0179 - val_loss: 0.0181 - lr: 2.0000e-04\n",
      "Epoch 22/75\n",
      "32/32 [==============================] - 23s 728ms/step - loss: 0.0178 - val_loss: 0.0180 - lr: 2.0000e-04\n",
      "Epoch 23/75\n",
      "32/32 [==============================] - 23s 723ms/step - loss: 0.0179 - val_loss: 0.0178 - lr: 2.0000e-04\n",
      "Epoch 24/75\n",
      "32/32 [==============================] - 23s 731ms/step - loss: 0.0178 - val_loss: 0.0184 - lr: 2.0000e-04\n",
      "Epoch 25/75\n",
      "32/32 [==============================] - 23s 720ms/step - loss: 0.0179 - val_loss: 0.0180 - lr: 2.0000e-04\n",
      "Epoch 26/75\n",
      "32/32 [==============================] - 23s 720ms/step - loss: 0.0177 - val_loss: 0.0177 - lr: 2.0000e-04\n",
      "Epoch 27/75\n",
      "32/32 [==============================] - 23s 724ms/step - loss: 0.0178 - val_loss: 0.0180 - lr: 2.0000e-04\n",
      "Epoch 28/75\n",
      "32/32 [==============================] - 23s 726ms/step - loss: 0.0175 - val_loss: 0.0176 - lr: 2.0000e-04\n",
      "Epoch 29/75\n",
      "32/32 [==============================] - 23s 726ms/step - loss: 0.0177 - val_loss: 0.0179 - lr: 2.0000e-04\n",
      "Epoch 30/75\n",
      "32/32 [==============================] - 23s 726ms/step - loss: 0.0177 - val_loss: 0.0175 - lr: 2.0000e-04\n",
      "Epoch 31/75\n",
      "32/32 [==============================] - 23s 725ms/step - loss: 0.0174 - val_loss: 0.0183 - lr: 2.0000e-04\n",
      "Epoch 32/75\n",
      "32/32 [==============================] - 23s 723ms/step - loss: 0.0174 - val_loss: 0.0180 - lr: 2.0000e-04\n",
      "Epoch 33/75\n",
      "32/32 [==============================] - 23s 721ms/step - loss: 0.0174 - val_loss: 0.0174 - lr: 2.0000e-04\n",
      "Epoch 34/75\n",
      "32/32 [==============================] - 23s 726ms/step - loss: 0.0173 - val_loss: 0.0173 - lr: 2.0000e-04\n",
      "Epoch 35/75\n",
      "32/32 [==============================] - 23s 726ms/step - loss: 0.0172 - val_loss: 0.0172 - lr: 2.0000e-04\n",
      "Epoch 36/75\n",
      "32/32 [==============================] - 23s 728ms/step - loss: 0.0172 - val_loss: 0.0174 - lr: 2.0000e-04\n",
      "Epoch 37/75\n",
      "32/32 [==============================] - 23s 721ms/step - loss: 0.0174 - val_loss: 0.0181 - lr: 2.0000e-04\n",
      "Epoch 38/75\n",
      "32/32 [==============================] - 23s 720ms/step - loss: 0.0173 - val_loss: 0.0174 - lr: 2.0000e-04\n",
      "Epoch 39/75\n",
      "32/32 [==============================] - 23s 727ms/step - loss: 0.0172 - val_loss: 0.0173 - lr: 2.0000e-04\n",
      "Epoch 40/75\n",
      "32/32 [==============================] - 23s 728ms/step - loss: 0.0169 - val_loss: 0.0170 - lr: 4.0000e-05\n",
      "Epoch 41/75\n",
      "32/32 [==============================] - 23s 731ms/step - loss: 0.0168 - val_loss: 0.0170 - lr: 4.0000e-05\n",
      "Epoch 42/75\n",
      "32/32 [==============================] - 23s 723ms/step - loss: 0.0168 - val_loss: 0.0170 - lr: 4.0000e-05\n",
      "Epoch 43/75\n",
      "32/32 [==============================] - 23s 724ms/step - loss: 0.0168 - val_loss: 0.0170 - lr: 4.0000e-05\n",
      "Epoch 44/75\n",
      "32/32 [==============================] - 23s 719ms/step - loss: 0.0168 - val_loss: 0.0170 - lr: 4.0000e-05\n",
      "Epoch 45/75\n",
      "32/32 [==============================] - 23s 726ms/step - loss: 0.0168 - val_loss: 0.0170 - lr: 4.0000e-05\n",
      "Epoch 46/75\n",
      "32/32 [==============================] - 23s 721ms/step - loss: 0.0168 - val_loss: 0.0170 - lr: 8.0000e-06\n",
      "Epoch 47/75\n",
      "32/32 [==============================] - 23s 734ms/step - loss: 0.0168 - val_loss: 0.0170 - lr: 8.0000e-06\n",
      "Epoch 48/75\n",
      "32/32 [==============================] - 23s 727ms/step - loss: 0.0168 - val_loss: 0.0170 - lr: 8.0000e-06\n",
      "Epoch 49/75\n",
      "32/32 [==============================] - 23s 728ms/step - loss: 0.0168 - val_loss: 0.0170 - lr: 8.0000e-06\n",
      "Epoch 50/75\n",
      "32/32 [==============================] - 23s 726ms/step - loss: 0.0168 - val_loss: 0.0170 - lr: 8.0000e-06\n",
      "Epoch 51/75\n",
      "32/32 [==============================] - 23s 728ms/step - loss: 0.0168 - val_loss: 0.0170 - lr: 1.6000e-06\n",
      "Epoch 52/75\n",
      "32/32 [==============================] - 23s 724ms/step - loss: 0.0168 - val_loss: 0.0170 - lr: 1.6000e-06\n",
      "Epoch 53/75\n",
      "32/32 [==============================] - 23s 727ms/step - loss: 0.0168 - val_loss: 0.0170 - lr: 1.6000e-06\n",
      "Epoch 54/75\n",
      "32/32 [==============================] - 23s 726ms/step - loss: 0.0168 - val_loss: 0.0170 - lr: 1.6000e-06\n",
      "Epoch 55/75\n",
      "32/32 [==============================] - 23s 724ms/step - loss: 0.0168 - val_loss: 0.0170 - lr: 1.6000e-06\n",
      "Epoch 56/75\n",
      "32/32 [==============================] - 23s 728ms/step - loss: 0.0168 - val_loss: 0.0170 - lr: 1.0000e-06\n",
      "Epoch 57/75\n",
      "32/32 [==============================] - 23s 720ms/step - loss: 0.0168 - val_loss: 0.0170 - lr: 1.0000e-06\n",
      "Epoch 58/75\n",
      "32/32 [==============================] - 23s 725ms/step - loss: 0.0168 - val_loss: 0.0170 - lr: 1.0000e-06\n",
      "Epoch 59/75\n",
      "32/32 [==============================] - 23s 726ms/step - loss: 0.0168 - val_loss: 0.0170 - lr: 1.0000e-06\n",
      "Epoch 60/75\n",
      "32/32 [==============================] - 23s 726ms/step - loss: 0.0168 - val_loss: 0.0170 - lr: 1.0000e-06\n",
      "Epoch 61/75\n",
      "32/32 [==============================] - 23s 728ms/step - loss: 0.0168 - val_loss: 0.0170 - lr: 1.0000e-06\n",
      "Epoch 62/75\n",
      "32/32 [==============================] - 23s 726ms/step - loss: 0.0168 - val_loss: 0.0170 - lr: 1.0000e-06\n",
      "Epoch 63/75\n",
      "32/32 [==============================] - 23s 725ms/step - loss: 0.0168 - val_loss: 0.0170 - lr: 1.0000e-06\n",
      "Epoch 64/75\n",
      "32/32 [==============================] - 23s 728ms/step - loss: 0.0168 - val_loss: 0.0170 - lr: 1.0000e-06\n",
      "Epoch 65/75\n",
      "32/32 [==============================] - 23s 724ms/step - loss: 0.0168 - val_loss: 0.0170 - lr: 1.0000e-06\n",
      "Epoch 66/75\n",
      "32/32 [==============================] - 23s 714ms/step - loss: 0.0168 - val_loss: 0.0170 - lr: 1.0000e-06\n",
      "Epoch 67/75\n",
      "32/32 [==============================] - 23s 720ms/step - loss: 0.0168 - val_loss: 0.0170 - lr: 1.0000e-06\n",
      "Epoch 68/75\n",
      "32/32 [==============================] - 23s 720ms/step - loss: 0.0168 - val_loss: 0.0170 - lr: 1.0000e-06\n",
      "Epoch 69/75\n",
      "32/32 [==============================] - 23s 728ms/step - loss: 0.0168 - val_loss: 0.0170 - lr: 1.0000e-06\n",
      "Epoch 70/75\n",
      "32/32 [==============================] - 23s 723ms/step - loss: 0.0168 - val_loss: 0.0170 - lr: 1.0000e-06\n",
      "Epoch 71/75\n",
      "32/32 [==============================] - 23s 728ms/step - loss: 0.0168 - val_loss: 0.0170 - lr: 1.0000e-06\n",
      "Epoch 72/75\n",
      "32/32 [==============================] - 23s 724ms/step - loss: 0.0168 - val_loss: 0.0170 - lr: 1.0000e-06\n",
      "Epoch 73/75\n",
      "32/32 [==============================] - 23s 724ms/step - loss: 0.0168 - val_loss: 0.0170 - lr: 1.0000e-06\n",
      "Epoch 74/75\n",
      "32/32 [==============================] - 23s 718ms/step - loss: 0.0168 - val_loss: 0.0170 - lr: 1.0000e-06\n",
      "Epoch 75/75\n",
      "32/32 [==============================] - 23s 730ms/step - loss: 0.0168 - val_loss: 0.0170 - lr: 1.0000e-06\n"
     ]
    }
   ],
   "source": [
    "batch_size = 4096\n",
    "epochs = 75\n",
    "history = model.fit(train_data, train_target, batch_size=batch_size, epochs=epochs, validation_data=(val_data, val_target),\n",
    "                    callbacks=[early_stopping, lr_scheduler])"
   ]
  },
  {
   "cell_type": "code",
   "execution_count": 23,
   "id": "3706d31d",
   "metadata": {
    "execution": {
     "iopub.execute_input": "2023-07-04T02:59:58.485493Z",
     "iopub.status.busy": "2023-07-04T02:59:58.485131Z",
     "iopub.status.idle": "2023-07-04T02:59:58.788673Z",
     "shell.execute_reply": "2023-07-04T02:59:58.787662Z"
    },
    "id": "jNgFvXyyvbR1",
    "outputId": "030b071f-c098-4e59-fc5f-0a28585c6cd8",
    "papermill": {
     "duration": 0.505952,
     "end_time": "2023-07-04T02:59:58.790912",
     "exception": false,
     "start_time": "2023-07-04T02:59:58.284960",
     "status": "completed"
    },
    "tags": []
   },
   "outputs": [
    {
     "data": {
      "image/png": "[encoded data removed]",
      "text/plain": [
       "<Figure size 640x480 with 1 Axes>"
      ]
     },
     "metadata": {},
     "output_type": "display_data"
    }
   ],
   "source": [
    "# Access the loss values from the training history\n",
    "train_losses = history.history['loss']\n",
    "val_losses = history.history['val_loss']\n",
    "\n",
    "# Plot the loss values\n",
    "epochs = range(1, len(train_losses) + 1)\n",
    "plt.plot(epochs, train_losses, 'b', label='Training loss')\n",
    "plt.plot(epochs, val_losses, 'r', label='Validation loss')\n",
    "plt.title('Training and Validation Loss')\n",
    "plt.xlabel('Epochs')\n",
    "plt.ylabel('Loss')\n",
    "plt.legend()\n",
    "plt.show()"
   ]
  },
  {
   "cell_type": "markdown",
   "id": "e3e552ec",
   "metadata": {
    "id": "da_mp26Po0GV",
    "papermill": {
     "duration": 0.199308,
     "end_time": "2023-07-04T02:59:59.192681",
     "exception": false,
     "start_time": "2023-07-04T02:59:58.993373",
     "status": "completed"
    },
    "tags": []
   },
   "source": [
    "Make predictions using the trained LSTM model"
   ]
  },
  {
   "cell_type": "code",
   "execution_count": 24,
   "id": "c43cba85",
   "metadata": {
    "execution": {
     "iopub.execute_input": "2023-07-04T02:59:59.643633Z",
     "iopub.status.busy": "2023-07-04T02:59:59.642677Z",
     "iopub.status.idle": "2023-07-04T03:00:02.598427Z",
     "shell.execute_reply": "2023-07-04T03:00:02.597441Z"
    },
    "id": "_fk4WnEOo0GV",
    "outputId": "90e48217-ec57-4d65-af64-17840d1d5ede",
    "papermill": {
     "duration": 3.210832,
     "end_time": "2023-07-04T03:00:02.601020",
     "exception": false,
     "start_time": "2023-07-04T02:59:59.390188",
     "status": "completed"
    },
    "tags": []
   },
   "outputs": [
    {
     "name": "stdout",
     "output_type": "stream",
     "text": [
      "210/210 [==============================] - 2s 7ms/step\n"
     ]
    }
   ],
   "source": [
    "predictions = model.predict(val_data)"
   ]
  },
  {
   "cell_type": "markdown",
   "id": "50516a90",
   "metadata": {
    "id": "lyT2YUwfo0GV",
    "papermill": {
     "duration": 0.203384,
     "end_time": "2023-07-04T03:00:03.005760",
     "exception": false,
     "start_time": "2023-07-04T03:00:02.802376",
     "status": "completed"
    },
    "tags": []
   },
   "source": [
    "Rescale the predictions back to the original range"
   ]
  },
  {
   "cell_type": "code",
   "execution_count": 25,
   "id": "51af6d8a",
   "metadata": {
    "execution": {
     "iopub.execute_input": "2023-07-04T03:00:03.410381Z",
     "iopub.status.busy": "2023-07-04T03:00:03.409951Z",
     "iopub.status.idle": "2023-07-04T03:00:03.418600Z",
     "shell.execute_reply": "2023-07-04T03:00:03.417734Z"
    },
    "id": "16ZjScEeo0GV",
    "papermill": {
     "duration": 0.214312,
     "end_time": "2023-07-04T03:00:03.420635",
     "exception": false,
     "start_time": "2023-07-04T03:00:03.206323",
     "status": "completed"
    },
    "tags": []
   },
   "outputs": [],
   "source": [
    "scaled_predictions = pd.DataFrame(predictions, columns=features_keys)\n",
    "predictions = pd.DataFrame(scaler.inverse_transform(\n",
    "    predictions), columns=features_keys)\n",
    "predicted_temperature = predictions[\"Temperature\"]\n"
   ]
  },
  {
   "cell_type": "code",
   "execution_count": 26,
   "id": "cd99bbd2",
   "metadata": {
    "execution": {
     "iopub.execute_input": "2023-07-04T03:00:03.894115Z",
     "iopub.status.busy": "2023-07-04T03:00:03.893751Z",
     "iopub.status.idle": "2023-07-04T03:00:03.908281Z",
     "shell.execute_reply": "2023-07-04T03:00:03.907421Z"
    },
    "id": "lxqz2lcsAMk0",
    "papermill": {
     "duration": 0.261848,
     "end_time": "2023-07-04T03:00:03.910535",
     "exception": false,
     "start_time": "2023-07-04T03:00:03.648687",
     "status": "completed"
    },
    "tags": []
   },
   "outputs": [],
   "source": [
    "val_target = pd.DataFrame(val_target, columns=features_keys)\n",
    "val_target_rescaled = pd.DataFrame(scaler.inverse_transform(val_target), columns=features_keys)\n",
    "train_target = pd.DataFrame(train_target, columns=features_keys)\n",
    "train_target_rescaled = pd.DataFrame(scaler.inverse_transform(train_target), columns=features_keys)"
   ]
  },
  {
   "cell_type": "markdown",
   "id": "4ecba1a3",
   "metadata": {
    "id": "-1vqJau8o0GV",
    "papermill": {
     "duration": 0.201501,
     "end_time": "2023-07-04T03:00:04.322492",
     "exception": false,
     "start_time": "2023-07-04T03:00:04.120991",
     "status": "completed"
    },
    "tags": []
   },
   "source": [
    "Calculate MSE and MAE"
   ]
  },
  {
   "cell_type": "code",
   "execution_count": 27,
   "id": "02649ea3",
   "metadata": {
    "execution": {
     "iopub.execute_input": "2023-07-04T03:00:04.724498Z",
     "iopub.status.busy": "2023-07-04T03:00:04.724074Z",
     "iopub.status.idle": "2023-07-04T03:00:04.732619Z",
     "shell.execute_reply": "2023-07-04T03:00:04.731727Z"
    },
    "id": "OK9H9h3Do0GV",
    "papermill": {
     "duration": 0.212437,
     "end_time": "2023-07-04T03:00:04.734799",
     "exception": false,
     "start_time": "2023-07-04T03:00:04.522362",
     "status": "completed"
    },
    "tags": []
   },
   "outputs": [],
   "source": [
    "mse = mean_squared_error(val_target_rescaled[\"Temperature\"], predictions[\"Temperature\"])\n",
    "mae = mean_absolute_error(val_target_rescaled[\"Temperature\"], predictions[\"Temperature\"])"
   ]
  },
  {
   "cell_type": "code",
   "execution_count": 28,
   "id": "41361c1d",
   "metadata": {
    "execution": {
     "iopub.execute_input": "2023-07-04T03:00:05.140147Z",
     "iopub.status.busy": "2023-07-04T03:00:05.139792Z",
     "iopub.status.idle": "2023-07-04T03:00:05.144818Z",
     "shell.execute_reply": "2023-07-04T03:00:05.143923Z"
    },
    "id": "sC-MqFKgo0Gl",
    "outputId": "91215d09-7186-4b3a-f9c7-76cfcc5c5104",
    "papermill": {
     "duration": 0.210994,
     "end_time": "2023-07-04T03:00:05.147320",
     "exception": false,
     "start_time": "2023-07-04T03:00:04.936326",
     "status": "completed"
    },
    "tags": []
   },
   "outputs": [
    {
     "name": "stdout",
     "output_type": "stream",
     "text": [
      "Mean Squared Error (MSE): 0.5612677803801317\n",
      "Mean Absolute Error (MAE): 0.5097256619359687\n"
     ]
    }
   ],
   "source": [
    "print(\"Mean Squared Error (MSE):\", mse)\n",
    "print(\"Mean Absolute Error (MAE):\", mae)"
   ]
  },
  {
   "cell_type": "markdown",
   "id": "3a78c081",
   "metadata": {
    "id": "N1UNa22do0Gl",
    "papermill": {
     "duration": 0.199268,
     "end_time": "2023-07-04T03:00:05.546163",
     "exception": false,
     "start_time": "2023-07-04T03:00:05.346895",
     "status": "completed"
    },
    "tags": []
   },
   "source": [
    "Visualize the actual vs. predicted temperatures for the validation set"
   ]
  },
  {
   "cell_type": "code",
   "execution_count": 29,
   "id": "6c6da9c8",
   "metadata": {
    "execution": {
     "iopub.execute_input": "2023-07-04T03:00:05.946800Z",
     "iopub.status.busy": "2023-07-04T03:00:05.946018Z",
     "iopub.status.idle": "2023-07-04T03:00:06.349689Z",
     "shell.execute_reply": "2023-07-04T03:00:06.348691Z"
    },
    "id": "rLzZRHyLo0Gl",
    "outputId": "c0001062-bc02-47c2-b918-199089a489f4",
    "papermill": {
     "duration": 0.606523,
     "end_time": "2023-07-04T03:00:06.351806",
     "exception": false,
     "start_time": "2023-07-04T03:00:05.745283",
     "status": "completed"
    },
    "tags": []
   },
   "outputs": [
    {
     "data": {
      "image/png": "[encoded data removed]",
      "text/plain": [
       "<Figure size 1200x600 with 1 Axes>"
      ]
     },
     "metadata": {},
     "output_type": "display_data"
    }
   ],
   "source": [
    "plt.figure(figsize=(12, 6))\n",
    "plt.plot(range(len(val_target)), val_target_rescaled[\"Temperature\"], label='Actual')\n",
    "plt.plot(range(len(val_target)), predicted_temperature, label='Predicted')\n",
    "plt.xlabel('Time')\n",
    "plt.ylabel('Temperature')\n",
    "plt.title('Actual vs. Predicted Temperatures (Validation Set)')\n",
    "plt.legend()\n",
    "plt.show()"
   ]
  },
  {
   "cell_type": "markdown",
   "id": "5a84d756",
   "metadata": {
    "id": "zirXhmtjo0Gl",
    "papermill": {
     "duration": 0.200024,
     "end_time": "2023-07-04T03:00:06.800369",
     "exception": false,
     "start_time": "2023-07-04T03:00:06.600345",
     "status": "completed"
    },
    "tags": []
   },
   "source": [
    "Visualize the actual vs. predicted temperatures for the training set"
   ]
  },
  {
   "cell_type": "code",
   "execution_count": 30,
   "id": "baf1ff61",
   "metadata": {
    "execution": {
     "iopub.execute_input": "2023-07-04T03:00:07.209077Z",
     "iopub.status.busy": "2023-07-04T03:00:07.208707Z",
     "iopub.status.idle": "2023-07-04T03:00:49.702621Z",
     "shell.execute_reply": "2023-07-04T03:00:49.701673Z"
    },
    "id": "NlVyqCTyo0Gl",
    "outputId": "faf8d271-2b7e-4832-f825-ff89a2db4f08",
    "papermill": {
     "duration": 42.941779,
     "end_time": "2023-07-04T03:00:49.947619",
     "exception": false,
     "start_time": "2023-07-04T03:00:07.005840",
     "status": "completed"
    },
    "tags": []
   },
   "outputs": [
    {
     "name": "stdout",
     "output_type": "stream",
     "text": [
      "4034/4034 [==============================] - 28s 7ms/step\n"
     ]
    },
    {
     "data": {
      "image/png": "[encoded data removed]",
      "text/plain": [
       "<Figure size 1200x600 with 1 Axes>"
      ]
     },
     "metadata": {},
     "output_type": "display_data"
    }
   ],
   "source": [
    "plt.figure(figsize=(12, 6))\n",
    "plt.plot(range(len(train_target)), train_target[\"Temperature\"], label='Actual')\n",
    "plt.plot(range(len(train_target)), pd.DataFrame(model.predict(\n",
    "    train_data), columns=features_keys)[\"Temperature\"], label='Predicted')\n",
    "plt.xlabel('Time')\n",
    "plt.ylabel('Temperature')\n",
    "plt.title('Actual vs. Predicted Temperatures (Training Set)')\n",
    "plt.legend()\n",
    "plt.show()"
   ]
  },
  {
   "cell_type": "markdown",
   "id": "f5ca4559",
   "metadata": {
    "id": "Kl1Dcsauo0Gl",
    "papermill": {
     "duration": 0.242212,
     "end_time": "2023-07-04T03:00:50.440729",
     "exception": false,
     "start_time": "2023-07-04T03:00:50.198517",
     "status": "completed"
    },
    "tags": []
   },
   "source": [
    "Save the trained model"
   ]
  },
  {
   "cell_type": "code",
   "execution_count": 31,
   "id": "090d547c",
   "metadata": {
    "execution": {
     "iopub.execute_input": "2023-07-04T03:00:50.928208Z",
     "iopub.status.busy": "2023-07-04T03:00:50.927847Z",
     "iopub.status.idle": "2023-07-04T03:00:50.976875Z",
     "shell.execute_reply": "2023-07-04T03:00:50.975869Z"
    },
    "id": "juUFGBK3o0Gl",
    "papermill": {
     "duration": 0.295164,
     "end_time": "2023-07-04T03:00:50.979029",
     "exception": false,
     "start_time": "2023-07-04T03:00:50.683865",
     "status": "completed"
    },
    "tags": []
   },
   "outputs": [],
   "source": [
    "model.save(\"lstm.keras\")"
   ]
  },
  {
   "cell_type": "code",
   "execution_count": 494,
   "id": "4ce96a0d",
   "metadata": {
    "execution": {
     "iopub.execute_input": "2023-07-04T03:00:51.472504Z",
     "iopub.status.busy": "2023-07-04T03:00:51.472139Z",
     "iopub.status.idle": "2023-07-04T03:00:51.481843Z",
     "shell.execute_reply": "2023-07-04T03:00:51.480851Z"
    },
    "papermill": {
     "duration": 0.257421,
     "end_time": "2023-07-04T03:00:51.484028",
     "exception": false,
     "start_time": "2023-07-04T03:00:51.226607",
     "status": "completed"
    },
    "tags": []
   },
   "outputs": [
    {
     "data": {
      "text/plain": [
       "['scaler.save']"
      ]
     },
     "execution_count": 494,
     "metadata": {},
     "output_type": "execute_result"
    }
   ],
   "source": [
    "joblib.dump(scaler, \"scaler.save\")"
   ]
  },
  {
   "cell_type": "code",
   "execution_count": 84,
   "id": "ab3f386d",
   "metadata": {},
   "outputs": [
    {
     "name": "stderr",
     "output_type": "stream",
     "text": [
      "2023-07-04 21:09:03.518034: I tensorflow/core/common_runtime/executor.cc:1197] [/device:CPU:0] (DEBUG INFO) Executor start aborting (this does not indicate an error and you can ignore this message): INVALID_ARGUMENT: You must feed a value for placeholder tensor 'gradients/split_2_grad/concat/split_2/split_dim' with dtype int32\n",
      "\t [[{{node gradients/split_2_grad/concat/split_2/split_dim}}]]\n",
      "2023-07-04 21:09:03.518917: I tensorflow/core/common_runtime/executor.cc:1197] [/device:CPU:0] (DEBUG INFO) Executor start aborting (this does not indicate an error and you can ignore this message): INVALID_ARGUMENT: You must feed a value for placeholder tensor 'gradients/split_grad/concat/split/split_dim' with dtype int32\n",
      "\t [[{{node gradients/split_grad/concat/split/split_dim}}]]\n",
      "2023-07-04 21:09:03.519819: I tensorflow/core/common_runtime/executor.cc:1197] [/device:CPU:0] (DEBUG INFO) Executor start aborting (this does not indicate an error and you can ignore this message): INVALID_ARGUMENT: You must feed a value for placeholder tensor 'gradients/split_1_grad/concat/split_1/split_dim' with dtype int32\n",
      "\t [[{{node gradients/split_1_grad/concat/split_1/split_dim}}]]\n"
     ]
    }
   ],
   "source": [
    "model = tf.keras.models.load_model(\"lstm.keras\")\n",
    "scaler = joblib.load(\"scaler.save\")"
   ]
  },
  {
   "cell_type": "code",
   "execution_count": 85,
   "id": "c5445e29",
   "metadata": {},
   "outputs": [],
   "source": [
    "features = df[features_keys].copy()\n",
    "scaled_features = scaler.transform(features)\n",
    "data = []\n",
    "target = []\n",
    "for i in range(1, len(scaled_features) - time_steps):\n",
    "    # exclude the target\n",
    "    data.append(scaled_features[i:i+time_steps])\n",
    "    # Only the temperature is the target\n",
    "    target.append(scaled_features[i+time_steps])\n",
    "data = np.array(data)\n",
    "target = np.array(target)"
   ]
  },
  {
   "cell_type": "markdown",
   "id": "bfb535b1",
   "metadata": {},
   "source": [
    "Test random samples"
   ]
  },
  {
   "cell_type": "code",
   "execution_count": 86,
   "id": "ad2d1e0b",
   "metadata": {},
   "outputs": [
    {
     "name": "stderr",
     "output_type": "stream",
     "text": [
      "2023-07-04 21:09:19.300848: I tensorflow/core/common_runtime/executor.cc:1197] [/device:CPU:0] (DEBUG INFO) Executor start aborting (this does not indicate an error and you can ignore this message): INVALID_ARGUMENT: You must feed a value for placeholder tensor 'gradients/split_2_grad/concat/split_2/split_dim' with dtype int32\n",
      "\t [[{{node gradients/split_2_grad/concat/split_2/split_dim}}]]\n",
      "2023-07-04 21:09:19.303161: I tensorflow/core/common_runtime/executor.cc:1197] [/device:CPU:0] (DEBUG INFO) Executor start aborting (this does not indicate an error and you can ignore this message): INVALID_ARGUMENT: You must feed a value for placeholder tensor 'gradients/split_grad/concat/split/split_dim' with dtype int32\n",
      "\t [[{{node gradients/split_grad/concat/split/split_dim}}]]\n",
      "2023-07-04 21:09:19.305838: I tensorflow/core/common_runtime/executor.cc:1197] [/device:CPU:0] (DEBUG INFO) Executor start aborting (this does not indicate an error and you can ignore this message): INVALID_ARGUMENT: You must feed a value for placeholder tensor 'gradients/split_1_grad/concat/split_1/split_dim' with dtype int32\n",
      "\t [[{{node gradients/split_1_grad/concat/split_1/split_dim}}]]\n"
     ]
    },
    {
     "name": "stdout",
     "output_type": "stream",
     "text": [
      "Mean mse: 1.4389040921201766\n",
      "Mean mae: 0.8418800602555275\n"
     ]
    }
   ],
   "source": [
    "total_samples = 100\n",
    "sample_steps = 16\n",
    "\n",
    "def test_samples(total_samples: int = 20, sample_steps: int = 16):\n",
    "    mse = []\n",
    "    mae = []\n",
    "    sample_results = []\n",
    "    sample_datum = []\n",
    "    sample_targets = []\n",
    "    for _i in range(total_samples):\n",
    "        rand_index = random.randint(0, len(data) - 1)\n",
    "        sample_data = data[rand_index]\n",
    "        sample_datum.append(sample_data)\n",
    "        sample_target = target[rand_index:rand_index+sample_steps]\n",
    "        sample_targets.append(sample_target)\n",
    "\n",
    "        sample_predicted = []\n",
    "\n",
    "        for i in range(1, sample_steps + 1):\n",
    "            scaled_prediction = model.predict(sample_data.reshape(1, time_steps, len(features_keys)), verbose=0)\n",
    "            prediction = scaler.inverse_transform(scaled_prediction)[0]\n",
    "            # print(f'{df[\"DateTime\"].max() + timedelta(hours=i)}:', list(map(lambda x: round(x, 6), prediction)))\n",
    "            # print(prediction's [0], data, np.append(data, prediction[0]))\n",
    "            sample_data = np.vstack((sample_data, scaled_prediction))\n",
    "            sample_data = np.delete(sample_data, 0, axis=0)\n",
    "            sample_predicted.append(prediction)\n",
    "\n",
    "        sample_result = pd.DataFrame(sample_predicted, columns=features_keys)\n",
    "        sample_results.append(sample_result)\n",
    "\n",
    "        mse.append(mean_squared_error(\n",
    "            sample_result[\"Temperature\"], scaler.inverse_transform(sample_target)[:, 0]))\n",
    "        mae.append(mean_absolute_error(\n",
    "            sample_result[\"Temperature\"], scaler.inverse_transform(sample_target)[:, 0]))\n",
    "        \n",
    "        if _i == total_samples - 1:\n",
    "            print(\"Mean mse:\", np.array(mse).mean())\n",
    "            print(\"Mean mae:\", np.array(mae).mean())\n",
    "            return sample_datum, sample_targets, sample_results, mse, mae\n",
    "    \n",
    "sample_datum, sample_targets, sample_results, mse, mae = test_samples(total_samples, sample_steps)\n"
   ]
  },
  {
   "cell_type": "code",
   "execution_count": 46,
   "id": "13e79328",
   "metadata": {},
   "outputs": [
    {
     "name": "stdout",
     "output_type": "stream",
     "text": [
      "Mean squared error of 1 sample: 18.443495892177523\n",
      "Mean absolute error of 1 sample: 4.1049758911132805\n"
     ]
    }
   ],
   "source": [
    "print(\"Mean squared error of 1 sample:\", mean_squared_error(\n",
    "    sample_results[0][\"Temperature\"], scaler.inverse_transform(sample_targets[0])[:, 0]))\n",
    "print(\"Mean absolute error of 1 sample:\", mean_absolute_error(\n",
    "    sample_results[0][\"Temperature\"], scaler.inverse_transform(sample_targets[0])[:, 0]))\n"
   ]
  },
  {
   "cell_type": "code",
   "execution_count": 47,
   "id": "8e9b9af2",
   "metadata": {},
   "outputs": [
    {
     "data": {
      "image/png": "[encoded data removed]",
      "text/plain": [
       "<Figure size 1200x600 with 1 Axes>"
      ]
     },
     "metadata": {},
     "output_type": "display_data"
    }
   ],
   "source": [
    "plt.figure(figsize=(12, 6))\n",
    "plt.plot(range(len(sample_results[0])), sample_results[0][\"Temperature\"], label='Predicted')\n",
    "plt.plot(range(len(sample_results[0])), scaler.inverse_transform(sample_targets[0])[:, 0], label=\"Actual\")\n",
    "plt.xlabel('Time')\n",
    "plt.ylabel('Temperature')\n",
    "plt.title('Predicted Temperatures')\n",
    "plt.legend()\n",
    "plt.show()"
   ]
  },
  {
   "cell_type": "code",
   "execution_count": 669,
   "id": "1f67bce1",
   "metadata": {
    "execution": {
     "iopub.execute_input": "2023-07-04T03:00:51.974584Z",
     "iopub.status.busy": "2023-07-04T03:00:51.974033Z",
     "iopub.status.idle": "2023-07-04T03:00:55.003514Z",
     "shell.execute_reply": "2023-07-04T03:00:55.002604Z"
    },
    "id": "MyoS6kB6o0Gl",
    "outputId": "a432fb93-ed6e-4522-d9b5-baa1a9d14a5c",
    "papermill": {
     "duration": 3.27716,
     "end_time": "2023-07-04T03:00:55.005524",
     "exception": false,
     "start_time": "2023-07-04T03:00:51.728364",
     "status": "completed"
    },
    "tags": []
   },
   "outputs": [
    {
     "name": "stdout",
     "output_type": "stream",
     "text": [
      "1/1 [==============================] - 0s 31ms/step\n",
      "2023-07-03 10:00:00: [21.715302, 66.394714, 0.031512, 100.036705]\n",
      "1/1 [==============================] - 0s 30ms/step\n",
      "2023-07-03 11:00:00: [21.87035, 62.797886, 0.02094, 100.096466]\n",
      "1/1 [==============================] - 0s 31ms/step\n",
      "2023-07-03 12:00:00: [22.011736, 59.697536, 0.00223, 100.13576]\n",
      "1/1 [==============================] - 0s 30ms/step\n",
      "2023-07-03 13:00:00: [22.154486, 57.577568, 0.003329, 100.042206]\n",
      "1/1 [==============================] - 0s 30ms/step\n",
      "2023-07-03 14:00:00: [22.25477, 56.358936, 0.015596, 99.92236]\n",
      "1/1 [==============================] - 0s 34ms/step\n",
      "2023-07-03 15:00:00: [22.270725, 56.076126, 0.042142, 99.863396]\n",
      "1/1 [==============================] - 0s 35ms/step\n",
      "2023-07-03 16:00:00: [22.17834, 56.6057, 0.087366, 99.93307]\n",
      "1/1 [==============================] - 0s 32ms/step\n",
      "2023-07-03 17:00:00: [21.984535, 58.07339, 0.029431, 100.074036]\n",
      "1/1 [==============================] - 0s 30ms/step\n",
      "2023-07-03 18:00:00: [21.77808, 60.391716, 0.011291, 100.15295]\n",
      "1/1 [==============================] - 0s 30ms/step\n",
      "2023-07-03 19:00:00: [21.597982, 62.95279, -0.005392, 100.187965]\n",
      "1/1 [==============================] - 0s 32ms/step\n",
      "2023-07-03 20:00:00: [21.46975, 65.364555, -0.017096, 100.188995]\n",
      "1/1 [==============================] - 0s 41ms/step\n",
      "2023-07-03 21:00:00: [21.395758, 67.38254, -0.023493, 100.17656]\n",
      "1/1 [==============================] - 0s 51ms/step\n",
      "2023-07-03 22:00:00: [21.361387, 68.91972, -0.026174, 100.17222]\n",
      "1/1 [==============================] - 0s 52ms/step\n",
      "2023-07-03 23:00:00: [21.344233, 70.037346, -0.02696, 100.158554]\n",
      "1/1 [==============================] - 0s 30ms/step\n",
      "2023-07-04 00:00:00: [21.32853, 70.81844, -0.028507, 100.144264]\n",
      "1/1 [==============================] - 0s 30ms/step\n",
      "2023-07-04 01:00:00: [21.306984, 71.3753, -0.028329, 100.129616]\n",
      "1/1 [==============================] - 0s 28ms/step\n",
      "2023-07-04 02:00:00: [21.274965, 71.77351, -0.026906, 100.11758]\n",
      "1/1 [==============================] - 0s 32ms/step\n",
      "2023-07-04 03:00:00: [21.23288, 72.04475, -0.027023, 100.1119]\n",
      "1/1 [==============================] - 0s 34ms/step\n",
      "2023-07-04 04:00:00: [21.190378, 72.17041, -0.023563, 100.104324]\n",
      "1/1 [==============================] - 0s 29ms/step\n",
      "2023-07-04 05:00:00: [21.158514, 72.06623, -0.016985, 100.0974]\n",
      "1/1 [==============================] - 0s 29ms/step\n",
      "2023-07-04 06:00:00: [21.153227, 71.624886, -0.004656, 100.09187]\n",
      "1/1 [==============================] - 0s 29ms/step\n",
      "2023-07-04 07:00:00: [21.191246, 70.6727, 0.010196, 100.09286]\n",
      "1/1 [==============================] - 0s 30ms/step\n",
      "2023-07-04 08:00:00: [21.287275, 69.04874, 0.018057, 100.09965]\n",
      "1/1 [==============================] - 0s 31ms/step\n",
      "2023-07-04 09:00:00: [21.44937, 66.64309, 0.013844, 100.10244]\n",
      "1/1 [==============================] - 0s 34ms/step\n",
      "2023-07-04 10:00:00: [21.654545, 63.605045, -0.003536, 100.112885]\n",
      "1/1 [==============================] - 0s 32ms/step\n",
      "2023-07-04 11:00:00: [21.884872, 60.261417, 0.014319, 100.109406]\n",
      "1/1 [==============================] - 0s 23ms/step\n",
      "2023-07-04 12:00:00: [22.143028, 57.358185, 0.00115, 99.97562]\n",
      "1/1 [==============================] - 0s 33ms/step\n",
      "2023-07-04 13:00:00: [22.377087, 55.162247, -0.042858, 99.77853]\n",
      "1/1 [==============================] - 0s 33ms/step\n",
      "2023-07-04 14:00:00: [22.551481, 53.871998, -0.03334, 99.57961]\n",
      "1/1 [==============================] - 0s 29ms/step\n",
      "2023-07-04 15:00:00: [22.616709, 53.625957, 0.009529, 99.467415]\n"
     ]
    }
   ],
   "source": [
    "test_data = scaled_features.copy()[-time_steps:]\n",
    "predicted = []\n",
    "predict_steps = 30\n",
    "\n",
    "for i in range(1, predict_steps + 1):\n",
    "    scaled_prediction = model.predict(test_data.reshape(1, time_steps, len(features_keys)))\n",
    "    prediction = scaler.inverse_transform(scaled_prediction)[0]\n",
    "    print(f'{df[\"DateTime\"].max() + timedelta(hours=i)}:', list(map(lambda x: round(x, 6), prediction)))\n",
    "    # print(prediction's [0], test_data, np.append(test_data, prediction[0]))\n",
    "    test_data = np.vstack((test_data, scaled_prediction))\n",
    "    test_data = np.delete(test_data, 0, axis=0)\n",
    "    predicted.append(prediction)\n"
   ]
  },
  {
   "cell_type": "code",
   "execution_count": 670,
   "id": "84cfba5b",
   "metadata": {
    "execution": {
     "iopub.execute_input": "2023-07-04T03:00:55.565473Z",
     "iopub.status.busy": "2023-07-04T03:00:55.565108Z",
     "iopub.status.idle": "2023-07-04T03:00:55.584589Z",
     "shell.execute_reply": "2023-07-04T03:00:55.583752Z"
    },
    "id": "ruBB1-8ZG2N_",
    "papermill": {
     "duration": 0.276639,
     "end_time": "2023-07-04T03:00:55.586602",
     "exception": false,
     "start_time": "2023-07-04T03:00:55.309963",
     "status": "completed"
    },
    "tags": []
   },
   "outputs": [],
   "source": [
    "results = pd.DataFrame(predicted, columns=features_keys)\n",
    "results.insert(0, \"DateTime\", [df[\"DateTime\"].max() + timedelta(hours=i) for i in range(1, predict_steps + 1)])\n",
    "results.to_csv(\"predict.csv\")"
   ]
  },
  {
   "cell_type": "code",
   "execution_count": 671,
   "id": "02572f64",
   "metadata": {
    "execution": {
     "iopub.execute_input": "2023-07-04T03:00:56.092890Z",
     "iopub.status.busy": "2023-07-04T03:00:56.092523Z",
     "iopub.status.idle": "2023-07-04T03:00:56.432474Z",
     "shell.execute_reply": "2023-07-04T03:00:56.431613Z"
    },
    "id": "qmiz_9Meo0Gl",
    "outputId": "5386ee5d-ad41-4dbd-af44-33a8338df91b",
    "papermill": {
     "duration": 0.594013,
     "end_time": "2023-07-04T03:00:56.434444",
     "exception": false,
     "start_time": "2023-07-04T03:00:55.840431",
     "status": "completed"
    },
    "tags": []
   },
   "outputs": [
    {
     "data": {
      "image/png": "[encoded data removed]",
      "text/plain": [
       "<Figure size 1200x600 with 1 Axes>"
      ]
     },
     "metadata": {},
     "output_type": "display_data"
    }
   ],
   "source": [
    "plt.figure(figsize=(12, 6))\n",
    "plt.plot(results[\"DateTime\"], np.array(predicted)[:, 0], label='Predicted')\n",
    "plt.xlabel('Time')\n",
    "plt.ylabel('Temperature')\n",
    "plt.title('Predicted Temperatures')\n",
    "plt.legend()\n",
    "plt.show()"
   ]
  },
  {
   "cell_type": "code",
   "execution_count": null,
   "id": "96c45018",
   "metadata": {},
   "outputs": [],
   "source": []
  }
 ],
 "metadata": {
  "kernelspec": {
   "display_name": "Python 3",
   "language": "python",
   "name": "python3"
  },
  "language_info": {
   "codemirror_mode": {
    "name": "ipython",
    "version": 3
   },
   "file_extension": ".py",
   "mimetype": "text/x-python",
   "name": "python",
   "nbconvert_exporter": "python",
   "pygments_lexer": "ipython3",
   "version": "3.10.12"
  },
  "papermill": {
   "default_parameters": {},
   "duration": 1853.764924,
   "end_time": "2023-07-04T03:00:59.993226",
   "environment_variables": {},
   "exception": null,
   "input_path": "__notebook__.ipynb",
   "output_path": "__notebook__.ipynb",
   "parameters": {},
   "start_time": "2023-07-04T02:30:06.228302",
   "version": "2.4.0"
  }
 },
 "nbformat": 4,
 "nbformat_minor": 5
}
