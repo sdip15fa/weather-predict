{
  "cells": [
    {
      "cell_type": "code",
      "execution_count": 141,
      "metadata": {
        "id": "CDLPMVs5o0Fj"
      },
      "outputs": [],
      "source": [
        "#!/usr/bin/env python\n",
        "# coding: utf-8"
      ]
    },
    {
      "cell_type": "markdown",
      "metadata": {
        "id": "6jOMK3eco0Fz"
      },
      "source": [
        "In[121]:"
      ]
    },
    {
      "cell_type": "code",
      "execution_count": 142,
      "metadata": {
        "id": "lfcZXoVMo0Fz"
      },
      "outputs": [],
      "source": [
        "from sklearn.metrics import mean_squared_error, mean_absolute_error\n",
        "import pandas as pd\n",
        "import numpy as np\n",
        "import tensorflow as tf\n",
        "import matplotlib.pyplot as plt\n",
        "from sklearn.preprocessing import MinMaxScaler"
      ]
    },
    {
      "cell_type": "markdown",
      "metadata": {
        "id": "kbYrYcwoo0Fz"
      },
      "source": [
        "Load the data"
      ]
    },
    {
      "cell_type": "markdown",
      "metadata": {
        "id": "TqcVpN8bo0Fz"
      },
      "source": [
        "In[122]:"
      ]
    },
    {
      "cell_type": "code",
      "execution_count": 143,
      "metadata": {
        "colab": {
          "base_uri": "https://localhost:8080/"
        },
        "id": "ER9nC6wJo0Fz",
        "outputId": "a276ce5a-17b5-466c-d1cf-8939ba418ab7"
      },
      "outputs": [
        {
          "name": "stdout",
          "output_type": "stream",
          "text": [
            "mkdir: cannot create directory ‘data’: File exists\n"
          ]
        }
      ],
      "source": [
        "!mkdir data && wget https://github.com/sdip15fa/weather-predict/raw/master/data/processed_data.csv -O data/processed_data.csv\n",
        "\n",
        "input_file = 'data/processed_data.csv'\n",
        "df = pd.read_csv('data/processed_data.csv',\n",
        "                 parse_dates=['DateTime'], index_col='DateTime')\n",
        "df = df.resample('60T').mean()\n",
        "df = df[(df['Temperature'] >= df['Temperature'].quantile(0.02)) &\n",
        "        (df['Temperature'] <= df['Temperature'].quantile(0.98))]\n",
        "# df[\"DateTime\"] = pd.to_datetime(df.index)\n",
        "df = df.reset_index()"
      ]
    },
    {
      "cell_type": "markdown",
      "metadata": {
        "id": "esqriSkSo0Fz"
      },
      "source": [
        "Rename the columns for better readability"
      ]
    },
    {
      "cell_type": "markdown",
      "metadata": {
        "id": "V48EaEK7o0Fz"
      },
      "source": [
        "In[123]:"
      ]
    },
    {
      "cell_type": "markdown",
      "metadata": {
        "id": "I1i5BWoXo0Fz"
      },
      "source": [
        "df.columns = ['DateTime', 'Year', 'Month', 'Date', 'Time', 'Minute', 'Temperature', 'Previous Day Average', 'Two Days Before Average',<br>\n",
        "'Three Days Before average', 'Last 7 Days Average', 'Previous Day Wind Speed', 'Previous Day Rainfall']"
      ]
    },
    {
      "cell_type": "markdown",
      "metadata": {
        "id": "JdAyygMMo0Fz"
      },
      "source": [
        "Convert the 'Date' and 'Time' columns to integers"
      ]
    },
    {
      "cell_type": "markdown",
      "metadata": {
        "id": "ZQqKH2ujo0Fz"
      },
      "source": [
        "In[124]:"
      ]
    },
    {
      "cell_type": "code",
      "execution_count": 144,
      "metadata": {
        "id": "q_wugGo2o0Fz"
      },
      "outputs": [],
      "source": [
        "df['Date'] = df['Date'].astype(int)\n",
        "df['Time'] = df['Time'].astype(int)"
      ]
    },
    {
      "cell_type": "markdown",
      "metadata": {
        "id": "2MN3pgEwo0Fz"
      },
      "source": [
        "Fill leading zeros for the 'Time' column"
      ]
    },
    {
      "cell_type": "markdown",
      "metadata": {
        "id": "-whw_xyEo0Fz"
      },
      "source": [
        "In[125]:"
      ]
    },
    {
      "cell_type": "code",
      "execution_count": 145,
      "metadata": {
        "id": "hfI3SbClo0Fz"
      },
      "outputs": [],
      "source": [
        "df['Time'] = df['Time'].apply(lambda x: str(x).zfill(4))"
      ]
    },
    {
      "cell_type": "markdown",
      "metadata": {
        "id": "7_hDxpCjo0Fz"
      },
      "source": [
        "Combine the 'Date' and 'Time' columns into a single 'DateTime' column"
      ]
    },
    {
      "cell_type": "markdown",
      "metadata": {
        "id": "KoszuY1So0Fz"
      },
      "source": [
        "In[126]:"
      ]
    },
    {
      "cell_type": "markdown",
      "metadata": {
        "id": "ddyiHs26o0Fz"
      },
      "source": [
        "df['DateTime'] = pd.to_datetime(df[\"DateTime\"], format=\"%Y-%m-%d %H:%M:%S\")"
      ]
    },
    {
      "cell_type": "markdown",
      "metadata": {
        "id": "wTyslGzvo0Fz"
      },
      "source": [
        "In[ ]:"
      ]
    },
    {
      "cell_type": "markdown",
      "metadata": {
        "id": "KO9gyf6zo0Fz"
      },
      "source": [
        "Remove rows with a specific value (e.g., 32767) in 'Temperature' column"
      ]
    },
    {
      "cell_type": "markdown",
      "metadata": {
        "id": "5qsrRqTLo0Fz"
      },
      "source": [
        "In[127]:"
      ]
    },
    {
      "cell_type": "code",
      "execution_count": 146,
      "metadata": {
        "id": "MTPUChTho0Fz"
      },
      "outputs": [],
      "source": [
        "df = df[df['Temperature'] != 32767]"
      ]
    },
    {
      "cell_type": "markdown",
      "metadata": {
        "id": "fY1-vdpio0Fz"
      },
      "source": [
        "Calculate the mean and standard deviation of Y"
      ]
    },
    {
      "cell_type": "markdown",
      "metadata": {
        "id": "ven5t1XEo0Fz"
      },
      "source": [
        "In[128]:"
      ]
    },
    {
      "cell_type": "code",
      "execution_count": 147,
      "metadata": {
        "id": "WMIErg-so0Fz"
      },
      "outputs": [],
      "source": [
        "threshold = 5\n",
        "mean_Y = np.mean(df['Temperature'])\n",
        "std_Y = np.std(df['Temperature'])"
      ]
    },
    {
      "cell_type": "markdown",
      "metadata": {
        "id": "yfLBr4pro0Fz"
      },
      "source": [
        "Define the range of acceptable Y values"
      ]
    },
    {
      "cell_type": "markdown",
      "metadata": {
        "id": "pxtyHQOzo0Fz"
      },
      "source": [
        "In[129]:"
      ]
    },
    {
      "cell_type": "code",
      "execution_count": 148,
      "metadata": {
        "id": "G_AT1SEco0Fz"
      },
      "outputs": [],
      "source": [
        "lower_bound = mean_Y - threshold * std_Y\n",
        "upper_bound = mean_Y + threshold * std_Y"
      ]
    },
    {
      "cell_type": "markdown",
      "metadata": {
        "id": "xW_Cjpf-o0Fz"
      },
      "source": [
        "Filter out rows with Y values outside the acceptable range"
      ]
    },
    {
      "cell_type": "markdown",
      "metadata": {
        "id": "uP4dMQsgo0Fz"
      },
      "source": [
        "In[130]:"
      ]
    },
    {
      "cell_type": "code",
      "execution_count": 149,
      "metadata": {
        "id": "EayyNxhTo0Fz"
      },
      "outputs": [],
      "source": [
        "df = df[(df['Temperature'] >= lower_bound) &\n",
        "        (df['Temperature'] <= upper_bound)]"
      ]
    },
    {
      "cell_type": "markdown",
      "metadata": {
        "id": "nW3SJd_do0Fz"
      },
      "source": [
        "Prepare the data for LSTM"
      ]
    },
    {
      "cell_type": "markdown",
      "metadata": {
        "id": "r51HZByoo0Fz"
      },
      "source": [
        "In[131]:"
      ]
    },
    {
      "cell_type": "code",
      "execution_count": 150,
      "metadata": {
        "id": "fYTgYEvho0Fz"
      },
      "outputs": [],
      "source": [
        "time_steps = 60  # Number of time steps for the LSTM model\n",
        "scaler = MinMaxScaler(feature_range=(0, 1))  # Scale the data to [0, 1]"
      ]
    },
    {
      "cell_type": "markdown",
      "metadata": {
        "id": "sh6rUdaSo0Fz"
      },
      "source": [
        "Create sequences of input data and corresponding target values"
      ]
    },
    {
      "cell_type": "markdown",
      "metadata": {
        "id": "DGknHjMfo0Fz"
      },
      "source": [
        "In[133]:"
      ]
    },
    {
      "cell_type": "markdown",
      "metadata": {
        "id": "V1xgtF1Io0Fz"
      },
      "source": [
        "Filter out the outliers and invalid values for the new features<br>\n",
        "Replace the specific invalid values (e.g., 32767) with np.nan"
      ]
    },
    {
      "cell_type": "code",
      "execution_count": 151,
      "metadata": {
        "id": "qBZeDv5No0Fz"
      },
      "outputs": [],
      "source": [
        "df['Wind Speed'] = df['Wind Speed'].replace(32767, np.nan)\n",
        "df['Rainfall'] = df['Rainfall'].replace(32767, np.nan)\n",
        "df['Wind Direction'] = df['Wind Direction'].replace(32767, np.nan)\n",
        "df = df[(df['Wind Direction'] >= 0) & (df['Wind Direction'] <= 360)]\n",
        "df = df[(df['Wind Speed'] <= df['Wind Speed'].quantile(0.99))]\n",
        "df = df[(df['Rainfall'] <= df['Rainfall'].quantile(0.99))]\n"
      ]
    },
    {
      "cell_type": "markdown",
      "metadata": {
        "id": "ry9s2DQgo0GE"
      },
      "source": [
        "Remove rows with missing values"
      ]
    },
    {
      "cell_type": "code",
      "execution_count": 152,
      "metadata": {
        "id": "rux_VYPWo0GE"
      },
      "outputs": [],
      "source": [
        "df = df.dropna()"
      ]
    },
    {
      "cell_type": "code",
      "execution_count": 153,
      "metadata": {
        "colab": {
          "base_uri": "https://localhost:8080/",
          "height": 659
        },
        "id": "f0e4-F66o0GE",
        "outputId": "ca87b0f1-be2c-4775-96df-ae6a0cea9e19"
      },
      "outputs": [
        {
          "data": {
            "text/html": [
              "<div>\n",
              "<style scoped>\n",
              "    .dataframe tbody tr th:only-of-type {\n",
              "        vertical-align: middle;\n",
              "    }\n",
              "\n",
              "    .dataframe tbody tr th {\n",
              "        vertical-align: top;\n",
              "    }\n",
              "\n",
              "    .dataframe thead th {\n",
              "        text-align: right;\n",
              "    }\n",
              "</style>\n",
              "<table border=\"1\" class=\"dataframe\">\n",
              "  <thead>\n",
              "    <tr style=\"text-align: right;\">\n",
              "      <th></th>\n",
              "      <th>DateTime</th>\n",
              "      <th>Year</th>\n",
              "      <th>Month</th>\n",
              "      <th>Date</th>\n",
              "      <th>Time</th>\n",
              "      <th>Minute</th>\n",
              "      <th>Temperature</th>\n",
              "      <th>Wind Speed</th>\n",
              "      <th>Wind Direction</th>\n",
              "      <th>Rainfall</th>\n",
              "    </tr>\n",
              "  </thead>\n",
              "  <tbody>\n",
              "    <tr>\n",
              "      <th>0</th>\n",
              "      <td>2008-01-01 12:00:00</td>\n",
              "      <td>2008.0</td>\n",
              "      <td>1.0</td>\n",
              "      <td>1</td>\n",
              "      <td>0012</td>\n",
              "      <td>1.0</td>\n",
              "      <td>5.1</td>\n",
              "      <td>44.0</td>\n",
              "      <td>39.0</td>\n",
              "      <td>0.0</td>\n",
              "    </tr>\n",
              "    <tr>\n",
              "      <th>1</th>\n",
              "      <td>2008-01-01 13:00:00</td>\n",
              "      <td>2008.0</td>\n",
              "      <td>1.0</td>\n",
              "      <td>1</td>\n",
              "      <td>0013</td>\n",
              "      <td>1.0</td>\n",
              "      <td>5.8</td>\n",
              "      <td>31.0</td>\n",
              "      <td>49.0</td>\n",
              "      <td>0.0</td>\n",
              "    </tr>\n",
              "    <tr>\n",
              "      <th>2</th>\n",
              "      <td>2008-01-01 14:00:00</td>\n",
              "      <td>2008.0</td>\n",
              "      <td>1.0</td>\n",
              "      <td>1</td>\n",
              "      <td>0014</td>\n",
              "      <td>1.0</td>\n",
              "      <td>6.6</td>\n",
              "      <td>32.0</td>\n",
              "      <td>36.0</td>\n",
              "      <td>0.0</td>\n",
              "    </tr>\n",
              "    <tr>\n",
              "      <th>3</th>\n",
              "      <td>2008-01-01 15:00:00</td>\n",
              "      <td>2008.0</td>\n",
              "      <td>1.0</td>\n",
              "      <td>1</td>\n",
              "      <td>0015</td>\n",
              "      <td>1.0</td>\n",
              "      <td>7.2</td>\n",
              "      <td>37.0</td>\n",
              "      <td>33.0</td>\n",
              "      <td>0.0</td>\n",
              "    </tr>\n",
              "    <tr>\n",
              "      <th>4</th>\n",
              "      <td>2008-01-01 16:00:00</td>\n",
              "      <td>2008.0</td>\n",
              "      <td>1.0</td>\n",
              "      <td>1</td>\n",
              "      <td>0016</td>\n",
              "      <td>1.0</td>\n",
              "      <td>6.7</td>\n",
              "      <td>60.0</td>\n",
              "      <td>6.0</td>\n",
              "      <td>0.0</td>\n",
              "    </tr>\n",
              "    <tr>\n",
              "      <th>...</th>\n",
              "      <td>...</td>\n",
              "      <td>...</td>\n",
              "      <td>...</td>\n",
              "      <td>...</td>\n",
              "      <td>...</td>\n",
              "      <td>...</td>\n",
              "      <td>...</td>\n",
              "      <td>...</td>\n",
              "      <td>...</td>\n",
              "      <td>...</td>\n",
              "    </tr>\n",
              "    <tr>\n",
              "      <th>119698</th>\n",
              "      <td>2023-06-29 17:00:00</td>\n",
              "      <td>2023.0</td>\n",
              "      <td>6.0</td>\n",
              "      <td>29</td>\n",
              "      <td>0017</td>\n",
              "      <td>1.0</td>\n",
              "      <td>23.4</td>\n",
              "      <td>19.0</td>\n",
              "      <td>178.0</td>\n",
              "      <td>0.0</td>\n",
              "    </tr>\n",
              "    <tr>\n",
              "      <th>119699</th>\n",
              "      <td>2023-06-29 18:00:00</td>\n",
              "      <td>2023.0</td>\n",
              "      <td>6.0</td>\n",
              "      <td>29</td>\n",
              "      <td>0018</td>\n",
              "      <td>1.0</td>\n",
              "      <td>22.8</td>\n",
              "      <td>18.0</td>\n",
              "      <td>165.0</td>\n",
              "      <td>0.0</td>\n",
              "    </tr>\n",
              "    <tr>\n",
              "      <th>119700</th>\n",
              "      <td>2023-06-29 19:00:00</td>\n",
              "      <td>2023.0</td>\n",
              "      <td>6.0</td>\n",
              "      <td>29</td>\n",
              "      <td>0019</td>\n",
              "      <td>1.0</td>\n",
              "      <td>22.7</td>\n",
              "      <td>50.0</td>\n",
              "      <td>129.0</td>\n",
              "      <td>0.0</td>\n",
              "    </tr>\n",
              "    <tr>\n",
              "      <th>119701</th>\n",
              "      <td>2023-06-29 20:00:00</td>\n",
              "      <td>2023.0</td>\n",
              "      <td>6.0</td>\n",
              "      <td>29</td>\n",
              "      <td>0011</td>\n",
              "      <td>1.0</td>\n",
              "      <td>22.2</td>\n",
              "      <td>62.0</td>\n",
              "      <td>113.5</td>\n",
              "      <td>0.0</td>\n",
              "    </tr>\n",
              "    <tr>\n",
              "      <th>119702</th>\n",
              "      <td>2023-06-29 21:00:00</td>\n",
              "      <td>2023.0</td>\n",
              "      <td>6.0</td>\n",
              "      <td>29</td>\n",
              "      <td>0021</td>\n",
              "      <td>1.0</td>\n",
              "      <td>22.3</td>\n",
              "      <td>30.0</td>\n",
              "      <td>155.0</td>\n",
              "      <td>20.0</td>\n",
              "    </tr>\n",
              "  </tbody>\n",
              "</table>\n",
              "<p>70238 rows × 10 columns</p>\n",
              "</div>"
            ],
            "text/plain": [
              "                  DateTime    Year  Month  Date  Time  Minute  Temperature  \\\n",
              "0      2008-01-01 12:00:00  2008.0    1.0     1  0012     1.0          5.1   \n",
              "1      2008-01-01 13:00:00  2008.0    1.0     1  0013     1.0          5.8   \n",
              "2      2008-01-01 14:00:00  2008.0    1.0     1  0014     1.0          6.6   \n",
              "3      2008-01-01 15:00:00  2008.0    1.0     1  0015     1.0          7.2   \n",
              "4      2008-01-01 16:00:00  2008.0    1.0     1  0016     1.0          6.7   \n",
              "...                    ...     ...    ...   ...   ...     ...          ...   \n",
              "119698 2023-06-29 17:00:00  2023.0    6.0    29  0017     1.0         23.4   \n",
              "119699 2023-06-29 18:00:00  2023.0    6.0    29  0018     1.0         22.8   \n",
              "119700 2023-06-29 19:00:00  2023.0    6.0    29  0019     1.0         22.7   \n",
              "119701 2023-06-29 20:00:00  2023.0    6.0    29  0011     1.0         22.2   \n",
              "119702 2023-06-29 21:00:00  2023.0    6.0    29  0021     1.0         22.3   \n",
              "\n",
              "        Wind Speed  Wind Direction  Rainfall  \n",
              "0             44.0            39.0       0.0  \n",
              "1             31.0            49.0       0.0  \n",
              "2             32.0            36.0       0.0  \n",
              "3             37.0            33.0       0.0  \n",
              "4             60.0             6.0       0.0  \n",
              "...            ...             ...       ...  \n",
              "119698        19.0           178.0       0.0  \n",
              "119699        18.0           165.0       0.0  \n",
              "119700        50.0           129.0       0.0  \n",
              "119701        62.0           113.5       0.0  \n",
              "119702        30.0           155.0      20.0  \n",
              "\n",
              "[70238 rows x 10 columns]"
            ]
          },
          "execution_count": 153,
          "metadata": {},
          "output_type": "execute_result"
        }
      ],
      "source": [
        "df"
      ]
    },
    {
      "cell_type": "code",
      "execution_count": 154,
      "metadata": {},
      "outputs": [],
      "source": [
        "features_keys = ['Temperature', 'Wind Speed',\n",
        "                'Wind Direction', 'Rainfall']"
      ]
    },
    {
      "cell_type": "markdown",
      "metadata": {
        "id": "yH8sRnrZo0GE"
      },
      "source": [
        "Scale the temperature, wind speed, rainfall, and wind direction values"
      ]
    },
    {
      "cell_type": "code",
      "execution_count": 155,
      "metadata": {
        "id": "ioRT6PB7o0GE"
      },
      "outputs": [],
      "source": [
        "features = df[features_keys].copy()\n",
        "scaled_features = scaler.fit_transform(features)"
      ]
    },
    {
      "cell_type": "code",
      "execution_count": 156,
      "metadata": {},
      "outputs": [
        {
          "data": {
            "text/plain": [
              "array([[0.        , 0.24571429, 0.10584958, 0.        ],\n",
              "       [0.03414634, 0.17142857, 0.13370474, 0.        ],\n",
              "       [0.07317073, 0.17714286, 0.09749304, 0.        ],\n",
              "       ...,\n",
              "       [0.85853659, 0.28      , 0.35654596, 0.        ],\n",
              "       [0.83414634, 0.34857143, 0.31337047, 0.        ],\n",
              "       [0.83902439, 0.16571429, 0.42896936, 0.30769231]])"
            ]
          },
          "execution_count": 156,
          "metadata": {},
          "output_type": "execute_result"
        }
      ],
      "source": [
        "scaled_features"
      ]
    },
    {
      "cell_type": "markdown",
      "metadata": {
        "id": "MtfyrlIso0GE"
      },
      "source": [
        "Create sequences of input data and corresponding target values"
      ]
    },
    {
      "cell_type": "code",
      "execution_count": 157,
      "metadata": {
        "id": "w_vv2_l_o0GE"
      },
      "outputs": [],
      "source": [
        "data = []\n",
        "target = []\n",
        "for i in range(1, len(scaled_features) - time_steps):\n",
        "    # exclude the target\n",
        "    data.append(scaled_features[i-1:i+time_steps-1])\n",
        "    # Only the temperature is the target\n",
        "    target.append(scaled_features[i+time_steps])"
      ]
    },
    {
      "cell_type": "code",
      "execution_count": 158,
      "metadata": {
        "id": "iMnszm71o0GE"
      },
      "outputs": [],
      "source": [
        "data = np.array(data)\n",
        "target = np.array(target)\n"
      ]
    },
    {
      "cell_type": "markdown",
      "metadata": {
        "id": "aze0XnUuo0GE"
      },
      "source": [
        "In[135]:"
      ]
    },
    {
      "cell_type": "markdown",
      "metadata": {
        "id": "imxL175Ho0GE"
      },
      "source": [
        "Define exclude date (year, month, and day)"
      ]
    },
    {
      "cell_type": "markdown",
      "metadata": {
        "id": "E2DbjTN0o0GE"
      },
      "source": [
        "In[136]:"
      ]
    },
    {
      "cell_type": "markdown",
      "metadata": {
        "id": "pm3RIBnoo0GE"
      },
      "source": [
        "Split the dataset into training and validation sets"
      ]
    },
    {
      "cell_type": "markdown",
      "metadata": {
        "id": "sQWawAP_o0GE"
      },
      "source": [
        "In[137]:"
      ]
    },
    {
      "cell_type": "code",
      "execution_count": 159,
      "metadata": {
        "id": "nk58ReQ2o0GE"
      },
      "outputs": [],
      "source": [
        "split = 0.1\n",
        "exclude_index = int(len(data) * (1-split))\n",
        "train_data, train_target = data[:exclude_index], target[:exclude_index]\n",
        "val_data, val_target = data[exclude_index:], target[exclude_index:]\n"
      ]
    },
    {
      "cell_type": "markdown",
      "metadata": {
        "id": "sRzJzu0-o0GE"
      },
      "source": [
        "Build the LSTM model architecture"
      ]
    },
    {
      "cell_type": "markdown",
      "metadata": {
        "id": "uE89oR-Bo0GE"
      },
      "source": [
        "In[138]:"
      ]
    },
    {
      "cell_type": "code",
      "execution_count": 160,
      "metadata": {
        "id": "rvOWUL_Co0GE"
      },
      "outputs": [
        {
          "name": "stderr",
          "output_type": "stream",
          "text": [
            "2023-06-30 19:07:04.792193: I tensorflow/core/common_runtime/executor.cc:1197] [/device:CPU:0] (DEBUG INFO) Executor start aborting (this does not indicate an error and you can ignore this message): INVALID_ARGUMENT: You must feed a value for placeholder tensor 'gradients/split_2_grad/concat/split_2/split_dim' with dtype int32\n",
            "\t [[{{node gradients/split_2_grad/concat/split_2/split_dim}}]]\n",
            "2023-06-30 19:07:04.793937: I tensorflow/core/common_runtime/executor.cc:1197] [/device:CPU:0] (DEBUG INFO) Executor start aborting (this does not indicate an error and you can ignore this message): INVALID_ARGUMENT: You must feed a value for placeholder tensor 'gradients/split_grad/concat/split/split_dim' with dtype int32\n",
            "\t [[{{node gradients/split_grad/concat/split/split_dim}}]]\n",
            "2023-06-30 19:07:04.796031: I tensorflow/core/common_runtime/executor.cc:1197] [/device:CPU:0] (DEBUG INFO) Executor start aborting (this does not indicate an error and you can ignore this message): INVALID_ARGUMENT: You must feed a value for placeholder tensor 'gradients/split_1_grad/concat/split_1/split_dim' with dtype int32\n",
            "\t [[{{node gradients/split_1_grad/concat/split_1/split_dim}}]]\n",
            "2023-06-30 19:07:04.976906: I tensorflow/core/common_runtime/executor.cc:1197] [/device:CPU:0] (DEBUG INFO) Executor start aborting (this does not indicate an error and you can ignore this message): INVALID_ARGUMENT: You must feed a value for placeholder tensor 'gradients/split_2_grad/concat/split_2/split_dim' with dtype int32\n",
            "\t [[{{node gradients/split_2_grad/concat/split_2/split_dim}}]]\n",
            "2023-06-30 19:07:04.979228: I tensorflow/core/common_runtime/executor.cc:1197] [/device:CPU:0] (DEBUG INFO) Executor start aborting (this does not indicate an error and you can ignore this message): INVALID_ARGUMENT: You must feed a value for placeholder tensor 'gradients/split_grad/concat/split/split_dim' with dtype int32\n",
            "\t [[{{node gradients/split_grad/concat/split/split_dim}}]]\n",
            "2023-06-30 19:07:04.982107: I tensorflow/core/common_runtime/executor.cc:1197] [/device:CPU:0] (DEBUG INFO) Executor start aborting (this does not indicate an error and you can ignore this message): INVALID_ARGUMENT: You must feed a value for placeholder tensor 'gradients/split_1_grad/concat/split_1/split_dim' with dtype int32\n",
            "\t [[{{node gradients/split_1_grad/concat/split_1/split_dim}}]]\n"
          ]
        }
      ],
      "source": [
        "import tensorflow as tf\n",
        "\"\"\"\n",
        "model = tf.keras.Sequential([\n",
        "    tf.keras.layers.LSTM(256, return_sequences=True,\n",
        "                         input_shape=(time_steps, 4)),\n",
        "    tf.keras.layers.BatchNormalization(),\n",
        "    tf.keras.layers.Dropout(0.2),\n",
        "    tf.keras.layers.LSTM(256, return_sequences=True),\n",
        "    tf.keras.layers.BatchNormalization(),\n",
        "    tf.keras.layers.Dropout(0.2),\n",
        "    tf.keras.layers.LSTM(256, return_sequences=True),\n",
        "    tf.keras.layers.BatchNormalization(),\n",
        "    tf.keras.layers.Dropout(0.2),\n",
        "    tf.keras.layers.LSTM(256),\n",
        "    tf.keras.layers.BatchNormalization(),\n",
        "    tf.keras.layers.Dropout(0.2),\n",
        "    tf.keras.layers.Dense(128, activation='relu'),\n",
        "    tf.keras.layers.BatchNormalization(),\n",
        "    tf.keras.layers.Dropout(0.2),\n",
        "    tf.keras.layers.Dense(1)\n",
        "])\n",
        "\"\"\"\n",
        "model = tf.keras.Sequential([\n",
        "    tf.keras.layers.LSTM(64, return_sequences=True, input_shape=(time_steps, 4)),\n",
        "    tf.keras.layers.LSTM(64),\n",
        "    tf.keras.layers.Dense(32, activation=\"relu\"),\n",
        "    tf.keras.layers.Dense(4)\n",
        "])"
      ]
    },
    {
      "cell_type": "markdown",
      "metadata": {
        "id": "cVjVLc9no0GE"
      },
      "source": [
        "Compile the model"
      ]
    },
    {
      "cell_type": "markdown",
      "metadata": {
        "id": "uUPbO-Izo0GE"
      },
      "source": [
        "In[139]:"
      ]
    },
    {
      "cell_type": "code",
      "execution_count": 161,
      "metadata": {
        "id": "sk3yxZIio0GE"
      },
      "outputs": [],
      "source": [
        "optimizer = tf.keras.optimizers.Adam(learning_rate=0.001)\n",
        "model.compile(loss='mean_absolute_error', optimizer=optimizer)"
      ]
    },
    {
      "cell_type": "markdown",
      "metadata": {
        "id": "mlmltGMRo0GE"
      },
      "source": [
        "Define early stopping and learning rate scheduler"
      ]
    },
    {
      "cell_type": "markdown",
      "metadata": {
        "id": "NxXUjgW4o0GE"
      },
      "source": [
        "In[140]:"
      ]
    },
    {
      "cell_type": "code",
      "execution_count": 162,
      "metadata": {
        "id": "-FzJGi_jo0GE"
      },
      "outputs": [],
      "source": [
        "early_stopping = tf.keras.callbacks.EarlyStopping(\n",
        "    monitor='val_loss', patience=10, restore_best_weights=True)\n",
        "lr_scheduler = tf.keras.callbacks.ReduceLROnPlateau(\n",
        "    monitor='val_loss', factor=0.2, patience=5, min_lr=1e-6)"
      ]
    },
    {
      "cell_type": "markdown",
      "metadata": {
        "id": "eQuMJC2xo0GE"
      },
      "source": [
        "Train the LSTM model"
      ]
    },
    {
      "cell_type": "markdown",
      "metadata": {
        "id": "nYsl45Aso0GE"
      },
      "source": [
        "In[141]:"
      ]
    },
    {
      "cell_type": "code",
      "execution_count": 163,
      "metadata": {
        "colab": {
          "base_uri": "https://localhost:8080/"
        },
        "id": "FPNW8kgSo0GE",
        "outputId": "ba56a8ed-dae3-4b32-e04c-0801a3111309"
      },
      "outputs": [
        {
          "name": "stdout",
          "output_type": "stream",
          "text": [
            "Epoch 1/100\n"
          ]
        },
        {
          "name": "stderr",
          "output_type": "stream",
          "text": [
            "2023-06-30 19:07:05.574194: I tensorflow/core/common_runtime/executor.cc:1197] [/device:CPU:0] (DEBUG INFO) Executor start aborting (this does not indicate an error and you can ignore this message): INVALID_ARGUMENT: You must feed a value for placeholder tensor 'gradients/split_2_grad/concat/split_2/split_dim' with dtype int32\n",
            "\t [[{{node gradients/split_2_grad/concat/split_2/split_dim}}]]\n",
            "2023-06-30 19:07:05.575664: I tensorflow/core/common_runtime/executor.cc:1197] [/device:CPU:0] (DEBUG INFO) Executor start aborting (this does not indicate an error and you can ignore this message): INVALID_ARGUMENT: You must feed a value for placeholder tensor 'gradients/split_grad/concat/split/split_dim' with dtype int32\n",
            "\t [[{{node gradients/split_grad/concat/split/split_dim}}]]\n",
            "2023-06-30 19:07:05.578332: I tensorflow/core/common_runtime/executor.cc:1197] [/device:CPU:0] (DEBUG INFO) Executor start aborting (this does not indicate an error and you can ignore this message): INVALID_ARGUMENT: You must feed a value for placeholder tensor 'gradients/split_1_grad/concat/split_1/split_dim' with dtype int32\n",
            "\t [[{{node gradients/split_1_grad/concat/split_1/split_dim}}]]\n",
            "2023-06-30 19:07:05.737159: I tensorflow/core/common_runtime/executor.cc:1197] [/device:CPU:0] (DEBUG INFO) Executor start aborting (this does not indicate an error and you can ignore this message): INVALID_ARGUMENT: You must feed a value for placeholder tensor 'gradients/split_2_grad/concat/split_2/split_dim' with dtype int32\n",
            "\t [[{{node gradients/split_2_grad/concat/split_2/split_dim}}]]\n",
            "2023-06-30 19:07:05.739112: I tensorflow/core/common_runtime/executor.cc:1197] [/device:CPU:0] (DEBUG INFO) Executor start aborting (this does not indicate an error and you can ignore this message): INVALID_ARGUMENT: You must feed a value for placeholder tensor 'gradients/split_grad/concat/split/split_dim' with dtype int32\n",
            "\t [[{{node gradients/split_grad/concat/split/split_dim}}]]\n",
            "2023-06-30 19:07:05.740491: I tensorflow/core/common_runtime/executor.cc:1197] [/device:CPU:0] (DEBUG INFO) Executor start aborting (this does not indicate an error and you can ignore this message): INVALID_ARGUMENT: You must feed a value for placeholder tensor 'gradients/split_1_grad/concat/split_1/split_dim' with dtype int32\n",
            "\t [[{{node gradients/split_1_grad/concat/split_1/split_dim}}]]\n",
            "2023-06-30 19:07:06.576226: I tensorflow/core/common_runtime/executor.cc:1197] [/device:CPU:0] (DEBUG INFO) Executor start aborting (this does not indicate an error and you can ignore this message): INVALID_ARGUMENT: You must feed a value for placeholder tensor 'gradients/split_2_grad/concat/split_2/split_dim' with dtype int32\n",
            "\t [[{{node gradients/split_2_grad/concat/split_2/split_dim}}]]\n",
            "2023-06-30 19:07:06.579029: I tensorflow/core/common_runtime/executor.cc:1197] [/device:CPU:0] (DEBUG INFO) Executor start aborting (this does not indicate an error and you can ignore this message): INVALID_ARGUMENT: You must feed a value for placeholder tensor 'gradients/split_grad/concat/split/split_dim' with dtype int32\n",
            "\t [[{{node gradients/split_grad/concat/split/split_dim}}]]\n",
            "2023-06-30 19:07:06.580105: I tensorflow/core/common_runtime/executor.cc:1197] [/device:CPU:0] (DEBUG INFO) Executor start aborting (this does not indicate an error and you can ignore this message): INVALID_ARGUMENT: You must feed a value for placeholder tensor 'gradients/split_1_grad/concat/split_1/split_dim' with dtype int32\n",
            "\t [[{{node gradients/split_1_grad/concat/split_1/split_dim}}]]\n",
            "2023-06-30 19:07:06.754538: I tensorflow/core/common_runtime/executor.cc:1197] [/device:CPU:0] (DEBUG INFO) Executor start aborting (this does not indicate an error and you can ignore this message): INVALID_ARGUMENT: You must feed a value for placeholder tensor 'gradients/split_2_grad/concat/split_2/split_dim' with dtype int32\n",
            "\t [[{{node gradients/split_2_grad/concat/split_2/split_dim}}]]\n",
            "2023-06-30 19:07:06.756670: I tensorflow/core/common_runtime/executor.cc:1197] [/device:CPU:0] (DEBUG INFO) Executor start aborting (this does not indicate an error and you can ignore this message): INVALID_ARGUMENT: You must feed a value for placeholder tensor 'gradients/split_grad/concat/split/split_dim' with dtype int32\n",
            "\t [[{{node gradients/split_grad/concat/split/split_dim}}]]\n",
            "2023-06-30 19:07:06.759013: I tensorflow/core/common_runtime/executor.cc:1197] [/device:CPU:0] (DEBUG INFO) Executor start aborting (this does not indicate an error and you can ignore this message): INVALID_ARGUMENT: You must feed a value for placeholder tensor 'gradients/split_1_grad/concat/split_1/split_dim' with dtype int32\n",
            "\t [[{{node gradients/split_1_grad/concat/split_1/split_dim}}]]\n"
          ]
        }
      ],
      "source": [
        "batch_size = 64\n",
        "epochs = 100\n",
        "history = model.fit(train_data, train_target, batch_size=batch_size, epochs=epochs, validation_data=(val_data, val_target),\n",
        "                    callbacks=[early_stopping, lr_scheduler])"
      ]
    },
    {
      "cell_type": "markdown",
      "metadata": {
        "id": "da_mp26Po0GV"
      },
      "source": [
        "Make predictions using the trained LSTM model"
      ]
    },
    {
      "cell_type": "markdown",
      "metadata": {
        "id": "n-OgZJGRo0GV"
      },
      "source": [
        "In[142]:"
      ]
    },
    {
      "cell_type": "code",
      "execution_count": null,
      "metadata": {
        "id": "_fk4WnEOo0GV"
      },
      "outputs": [],
      "source": [
        "predictions = model.predict(val_data)"
      ]
    },
    {
      "cell_type": "markdown",
      "metadata": {
        "id": "lyT2YUwfo0GV"
      },
      "source": [
        "Rescale the predictions back to the original range"
      ]
    },
    {
      "cell_type": "markdown",
      "metadata": {
        "id": "uZ9DlS1Uo0GV"
      },
      "source": [
        "In[143]:"
      ]
    },
    {
      "cell_type": "code",
      "execution_count": null,
      "metadata": {
        "id": "16ZjScEeo0GV"
      },
      "outputs": [],
      "source": [
        "scaled_predictions = pd.DataFrame(predictions, columns=features_keys)\n",
        "predictions = pd.DataFrame(scaler.inverse_transform(\n",
        "    predictions), columns=features_keys)\n",
        "predicted_temperature = predictions[\"Temperature\"]\n"
      ]
    },
    {
      "cell_type": "markdown",
      "metadata": {
        "id": "-1vqJau8o0GV"
      },
      "source": [
        "Calculate MSE and MAE"
      ]
    },
    {
      "cell_type": "markdown",
      "metadata": {
        "id": "kPcAqjlxo0GV"
      },
      "source": [
        "In[144]:"
      ]
    },
    {
      "cell_type": "code",
      "execution_count": null,
      "metadata": {
        "id": "OK9H9h3Do0GV"
      },
      "outputs": [],
      "source": [
        "mse = mean_squared_error(val_target[\"Temperature\"], scaled_predictions[\"Temperature\"])\n",
        "mae = mean_absolute_error(val_target[\"Temperature\"], scaled_predictions[\"Temperature\"])"
      ]
    },
    {
      "cell_type": "markdown",
      "metadata": {
        "id": "1S2gUIiXo0Gl"
      },
      "source": [
        "In[145]:"
      ]
    },
    {
      "cell_type": "code",
      "execution_count": null,
      "metadata": {
        "id": "sC-MqFKgo0Gl"
      },
      "outputs": [],
      "source": [
        "print(\"Mean Squared Error (MSE):\", mse)\n",
        "print(\"Mean Absolute Error (MAE):\", mae)"
      ]
    },
    {
      "cell_type": "markdown",
      "metadata": {
        "id": "N1UNa22do0Gl"
      },
      "source": [
        "Visualize the actual vs. predicted temperatures for the validation set"
      ]
    },
    {
      "cell_type": "markdown",
      "metadata": {
        "id": "IzzW69Ndo0Gl"
      },
      "source": [
        "In[146]:"
      ]
    },
    {
      "cell_type": "code",
      "execution_count": null,
      "metadata": {
        "id": "rLzZRHyLo0Gl"
      },
      "outputs": [],
      "source": [
        "plt.figure(figsize=(12, 6))\n",
        "plt.plot(range(len(val_target)), scaler.inverse_transform(\n",
        "    val_target[\"Temperature\"].reshape(-1, 1)), label='Actual')\n",
        "plt.plot(range(len(val_target)), predicted_temperature, label='Predicted')\n",
        "plt.xlabel('Time')\n",
        "plt.ylabel('Temperature')\n",
        "plt.title('Actual vs. Predicted Temperatures (Validation Set)')\n",
        "plt.legend()\n",
        "plt.show()"
      ]
    },
    {
      "cell_type": "markdown",
      "metadata": {
        "id": "zirXhmtjo0Gl"
      },
      "source": [
        "Visualize the actual vs. predicted temperatures for the training set"
      ]
    },
    {
      "cell_type": "markdown",
      "metadata": {
        "id": "PcFupQv6o0Gl"
      },
      "source": [
        "In[147]:"
      ]
    },
    {
      "cell_type": "code",
      "execution_count": null,
      "metadata": {
        "id": "NlVyqCTyo0Gl"
      },
      "outputs": [],
      "source": [
        "plt.figure(figsize=(12, 6))\n",
        "plt.plot(range(len(train_target)), train_target, label='Actual')\n",
        "plt.plot(range(len(train_target)), model.predict(\n",
        "    train_data), label='Predicted')\n",
        "plt.xlabel('Time')\n",
        "plt.ylabel('Temperature')\n",
        "plt.title('Actual vs. Predicted Temperatures (Training Set)')\n",
        "plt.legend()\n",
        "plt.show()"
      ]
    },
    {
      "cell_type": "markdown",
      "metadata": {
        "id": "Kl1Dcsauo0Gl"
      },
      "source": [
        "Save the trained model"
      ]
    },
    {
      "cell_type": "markdown",
      "metadata": {
        "id": "_Wv6kHt0o0Gl"
      },
      "source": [
        "In[148]:"
      ]
    },
    {
      "cell_type": "code",
      "execution_count": null,
      "metadata": {
        "id": "juUFGBK3o0Gl"
      },
      "outputs": [],
      "source": [
        "model.save(\"lstm.keras\")"
      ]
    },
    {
      "cell_type": "code",
      "execution_count": null,
      "metadata": {
        "id": "MyoS6kB6o0Gl"
      },
      "outputs": [],
      "source": [
        "model = tf.keras.models.load_model(\"lstm.keras\")\n",
        "\n",
        "data = scaled_features.copy()[-time_steps:]\n",
        "\n",
        "for i in range(30):\n",
        "    prediction = model.predict(data)\n",
        "    print(f\"{i} hour(s) prediction:\", scaler.inverse_transform(prediction.reshape(-1, 4)))\n",
        "    data.append(prediction)\n",
        "    data.roll()"
      ]
    },
    {
      "cell_type": "code",
      "execution_count": null,
      "metadata": {
        "id": "qmiz_9Meo0Gl"
      },
      "outputs": [],
      "source": []
    }
  ],
  "metadata": {
    "accelerator": "GPU",
    "colab": {
      "gpuType": "T4",
      "provenance": []
    },
    "kernelspec": {
      "display_name": "Python 3",
      "name": "python3"
    },
    "language_info": {
      "codemirror_mode": {
        "name": "ipython",
        "version": 3
      },
      "file_extension": ".py",
      "mimetype": "text/x-python",
      "name": "python",
      "nbconvert_exporter": "python",
      "pygments_lexer": "ipython3",
      "version": "3.10.12"
    }
  },
  "nbformat": 4,
  "nbformat_minor": 0
}
