{
  "cells": [
    {
      "cell_type": "code",
      "execution_count": 11,
      "metadata": {
        "id": "lfcZXoVMo0Fz"
      },
      "outputs": [],
      "source": [
        "from sklearn.metrics import mean_squared_error, mean_absolute_error\n",
        "import pandas as pd\n",
        "import numpy as np\n",
        "import tensorflow as tf\n",
        "import matplotlib.pyplot as plt\n",
        "from sklearn.preprocessing import MinMaxScaler"
      ]
    },
    {
      "cell_type": "markdown",
      "metadata": {
        "id": "kbYrYcwoo0Fz"
      },
      "source": [
        "Load the data"
      ]
    },
    {
      "cell_type": "code",
      "execution_count": 12,
      "metadata": {
        "colab": {
          "base_uri": "https://localhost:8080/"
        },
        "id": "ER9nC6wJo0Fz",
        "outputId": "5804aae0-61c1-4145-da55-429aa3769920"
      },
      "outputs": [
        {
          "name": "stdout",
          "output_type": "stream",
          "text": [
            "mkdir: cannot create directory ‘data’: File exists\n"
          ]
        }
      ],
      "source": [
        "!mkdir data && wget https://github.com/sdip15fa/weather-predict/raw/master/data/processed_data.csv -O data/processed_data.csv\n",
        "\n",
        "input_file = 'data/processed_data.csv'\n",
        "df = pd.read_csv('data/processed_data.csv',\n",
        "                 parse_dates=['DateTime'], index_col='DateTime')\n",
        "df = df.resample('60T').mean()\n",
        "# df[\"DateTime\"] = pd.to_datetime(df.index)\n",
        "df = df.reset_index()"
      ]
    },
    {
      "cell_type": "markdown",
      "metadata": {
        "id": "JdAyygMMo0Fz"
      },
      "source": [
        "Convert the 'Date' and 'Time' columns to integers"
      ]
    },
    {
      "cell_type": "code",
      "execution_count": 13,
      "metadata": {
        "id": "q_wugGo2o0Fz"
      },
      "outputs": [],
      "source": [
        "df[\"Temperature\"] = df[\"Temperature\"].astype(float)\n",
        "df[\"Wind Speed\"] = df[\"Wind Speed\"].astype(float)\n",
        "df[\"Rainfall\"] = df[\"Rainfall\"].astype(float)\n",
        "df[\"Wind Direction\"] = df[\"Wind Direction\"].astype(float)\n",
        "df[\"Humidity\"] = df[\"Humidity\"].astype(float)"
      ]
    },
    {
      "cell_type": "markdown",
      "metadata": {
        "id": "KO9gyf6zo0Fz"
      },
      "source": [
        "Filter and replace outliers"
      ]
    },
    {
      "cell_type": "code",
      "execution_count": 14,
      "metadata": {
        "id": "Jeq-s765beZ6"
      },
      "outputs": [],
      "source": [
        "df['Temperature'] = df['Temperature'].replace(3276.7, np.nan)\n",
        "df['Wind Speed'] = df['Wind Speed'].replace(32767, np.nan)\n",
        "df['Rainfall'] = df['Rainfall'].replace(32767, np.nan)\n",
        "df['Wind Direction'] = df['Wind Direction'].replace(32767, np.nan)\n",
        "df['Humidity'] = df['Humidity'].replace(32767, np.nan)\n",
        "df['Temperature'] = df['Temperature'].mask((df['Temperature'] > 40) | (df['Temperature'] < -10), np.nan)\n",
        "df['Wind Speed'] = df['Wind Speed'].mask((df['Wind Speed'] > 200) | df[\"Wind Speed\"] < 0, np.nan)\n",
        "df['Rainfall'] = df['Rainfall'].mask((df['Rainfall'] > 100)| df[\"Rainfall\"] < 0, np.nan)\n",
        "df['Wind Direction'] = df['Wind Direction'].mask((df['Wind Direction'] < 0) | (df['Wind Direction'] > 360), np.nan)\n",
        "df['Humidity'] = df['Humidity'].mask((df['Humidity'] < 0) | (df['Humidity'] > 100), np.nan)"
      ]
    },
    {
      "cell_type": "code",
      "execution_count": 15,
      "metadata": {
        "colab": {
          "base_uri": "https://localhost:8080/",
          "height": 659
        },
        "id": "-wMp9pPwbeZ6",
        "outputId": "638a086c-d5b0-404e-8b10-12cda5948f6a"
      },
      "outputs": [
        {
          "data": {
            "text/html": [
              "<div>\n",
              "<style scoped>\n",
              "    .dataframe tbody tr th:only-of-type {\n",
              "        vertical-align: middle;\n",
              "    }\n",
              "\n",
              "    .dataframe tbody tr th {\n",
              "        vertical-align: top;\n",
              "    }\n",
              "\n",
              "    .dataframe thead th {\n",
              "        text-align: right;\n",
              "    }\n",
              "</style>\n",
              "<table border=\"1\" class=\"dataframe\">\n",
              "  <thead>\n",
              "    <tr style=\"text-align: right;\">\n",
              "      <th></th>\n",
              "      <th>DateTime</th>\n",
              "      <th>Year</th>\n",
              "      <th>Month</th>\n",
              "      <th>Date</th>\n",
              "      <th>Time</th>\n",
              "      <th>Minute</th>\n",
              "      <th>Temperature</th>\n",
              "      <th>Wind Speed</th>\n",
              "      <th>Wind Direction</th>\n",
              "      <th>Rainfall</th>\n",
              "      <th>Humidity</th>\n",
              "    </tr>\n",
              "  </thead>\n",
              "  <tbody>\n",
              "    <tr>\n",
              "      <th>36</th>\n",
              "      <td>2008-01-02 12:00:00</td>\n",
              "      <td>2008.0</td>\n",
              "      <td>1.0</td>\n",
              "      <td>2.0</td>\n",
              "      <td>12.0</td>\n",
              "      <td>1.0</td>\n",
              "      <td>NaN</td>\n",
              "      <td>NaN</td>\n",
              "      <td>NaN</td>\n",
              "      <td>NaN</td>\n",
              "      <td>NaN</td>\n",
              "    </tr>\n",
              "    <tr>\n",
              "      <th>38</th>\n",
              "      <td>2008-01-02 14:00:00</td>\n",
              "      <td>2008.0</td>\n",
              "      <td>1.0</td>\n",
              "      <td>2.0</td>\n",
              "      <td>14.0</td>\n",
              "      <td>1.0</td>\n",
              "      <td>11.2</td>\n",
              "      <td>19.0</td>\n",
              "      <td>NaN</td>\n",
              "      <td>0.0</td>\n",
              "      <td>27.0</td>\n",
              "    </tr>\n",
              "    <tr>\n",
              "      <th>39</th>\n",
              "      <td>2008-01-02 15:00:00</td>\n",
              "      <td>2008.0</td>\n",
              "      <td>1.0</td>\n",
              "      <td>2.0</td>\n",
              "      <td>15.0</td>\n",
              "      <td>1.0</td>\n",
              "      <td>10.7</td>\n",
              "      <td>13.0</td>\n",
              "      <td>NaN</td>\n",
              "      <td>0.0</td>\n",
              "      <td>31.0</td>\n",
              "    </tr>\n",
              "    <tr>\n",
              "      <th>59</th>\n",
              "      <td>2008-01-03 11:00:00</td>\n",
              "      <td>2008.0</td>\n",
              "      <td>1.0</td>\n",
              "      <td>3.0</td>\n",
              "      <td>11.0</td>\n",
              "      <td>1.0</td>\n",
              "      <td>11.9</td>\n",
              "      <td>15.0</td>\n",
              "      <td>NaN</td>\n",
              "      <td>0.0</td>\n",
              "      <td>36.0</td>\n",
              "    </tr>\n",
              "    <tr>\n",
              "      <th>111</th>\n",
              "      <td>2008-01-05 15:00:00</td>\n",
              "      <td>2008.0</td>\n",
              "      <td>1.0</td>\n",
              "      <td>5.0</td>\n",
              "      <td>15.0</td>\n",
              "      <td>1.0</td>\n",
              "      <td>16.0</td>\n",
              "      <td>10.0</td>\n",
              "      <td>NaN</td>\n",
              "      <td>0.0</td>\n",
              "      <td>29.0</td>\n",
              "    </tr>\n",
              "    <tr>\n",
              "      <th>...</th>\n",
              "      <td>...</td>\n",
              "      <td>...</td>\n",
              "      <td>...</td>\n",
              "      <td>...</td>\n",
              "      <td>...</td>\n",
              "      <td>...</td>\n",
              "      <td>...</td>\n",
              "      <td>...</td>\n",
              "      <td>...</td>\n",
              "      <td>...</td>\n",
              "      <td>...</td>\n",
              "    </tr>\n",
              "    <tr>\n",
              "      <th>134727</th>\n",
              "      <td>2023-05-15 15:00:00</td>\n",
              "      <td>2023.0</td>\n",
              "      <td>5.0</td>\n",
              "      <td>15.0</td>\n",
              "      <td>15.0</td>\n",
              "      <td>1.0</td>\n",
              "      <td>NaN</td>\n",
              "      <td>19.0</td>\n",
              "      <td>26.0</td>\n",
              "      <td>0.0</td>\n",
              "      <td>NaN</td>\n",
              "    </tr>\n",
              "    <tr>\n",
              "      <th>134728</th>\n",
              "      <td>2023-05-15 16:00:00</td>\n",
              "      <td>2023.0</td>\n",
              "      <td>5.0</td>\n",
              "      <td>15.0</td>\n",
              "      <td>16.0</td>\n",
              "      <td>1.0</td>\n",
              "      <td>NaN</td>\n",
              "      <td>1.0</td>\n",
              "      <td>265.0</td>\n",
              "      <td>0.0</td>\n",
              "      <td>NaN</td>\n",
              "    </tr>\n",
              "    <tr>\n",
              "      <th>135060</th>\n",
              "      <td>2023-05-29 12:00:00</td>\n",
              "      <td>2023.0</td>\n",
              "      <td>5.0</td>\n",
              "      <td>29.0</td>\n",
              "      <td>12.0</td>\n",
              "      <td>1.0</td>\n",
              "      <td>NaN</td>\n",
              "      <td>41.0</td>\n",
              "      <td>273.0</td>\n",
              "      <td>0.0</td>\n",
              "      <td>NaN</td>\n",
              "    </tr>\n",
              "    <tr>\n",
              "      <th>135109</th>\n",
              "      <td>2023-05-31 13:00:00</td>\n",
              "      <td>2023.0</td>\n",
              "      <td>5.0</td>\n",
              "      <td>31.0</td>\n",
              "      <td>13.0</td>\n",
              "      <td>1.0</td>\n",
              "      <td>27.4</td>\n",
              "      <td>13.0</td>\n",
              "      <td>NaN</td>\n",
              "      <td>0.0</td>\n",
              "      <td>88.0</td>\n",
              "    </tr>\n",
              "    <tr>\n",
              "      <th>135180</th>\n",
              "      <td>2023-06-03 12:00:00</td>\n",
              "      <td>2023.0</td>\n",
              "      <td>6.0</td>\n",
              "      <td>3.0</td>\n",
              "      <td>12.0</td>\n",
              "      <td>1.0</td>\n",
              "      <td>27.4</td>\n",
              "      <td>7.0</td>\n",
              "      <td>NaN</td>\n",
              "      <td>0.0</td>\n",
              "      <td>93.0</td>\n",
              "    </tr>\n",
              "  </tbody>\n",
              "</table>\n",
              "<p>12089 rows × 11 columns</p>\n",
              "</div>"
            ],
            "text/plain": [
              "                  DateTime    Year  Month  Date  Time  Minute  Temperature  \\\n",
              "36     2008-01-02 12:00:00  2008.0    1.0   2.0  12.0     1.0          NaN   \n",
              "38     2008-01-02 14:00:00  2008.0    1.0   2.0  14.0     1.0         11.2   \n",
              "39     2008-01-02 15:00:00  2008.0    1.0   2.0  15.0     1.0         10.7   \n",
              "59     2008-01-03 11:00:00  2008.0    1.0   3.0  11.0     1.0         11.9   \n",
              "111    2008-01-05 15:00:00  2008.0    1.0   5.0  15.0     1.0         16.0   \n",
              "...                    ...     ...    ...   ...   ...     ...          ...   \n",
              "134727 2023-05-15 15:00:00  2023.0    5.0  15.0  15.0     1.0          NaN   \n",
              "134728 2023-05-15 16:00:00  2023.0    5.0  15.0  16.0     1.0          NaN   \n",
              "135060 2023-05-29 12:00:00  2023.0    5.0  29.0  12.0     1.0          NaN   \n",
              "135109 2023-05-31 13:00:00  2023.0    5.0  31.0  13.0     1.0         27.4   \n",
              "135180 2023-06-03 12:00:00  2023.0    6.0   3.0  12.0     1.0         27.4   \n",
              "\n",
              "        Wind Speed  Wind Direction  Rainfall  Humidity  \n",
              "36             NaN             NaN       NaN       NaN  \n",
              "38            19.0             NaN       0.0      27.0  \n",
              "39            13.0             NaN       0.0      31.0  \n",
              "59            15.0             NaN       0.0      36.0  \n",
              "111           10.0             NaN       0.0      29.0  \n",
              "...            ...             ...       ...       ...  \n",
              "134727        19.0            26.0       0.0       NaN  \n",
              "134728         1.0           265.0       0.0       NaN  \n",
              "135060        41.0           273.0       0.0       NaN  \n",
              "135109        13.0             NaN       0.0      88.0  \n",
              "135180         7.0             NaN       0.0      93.0  \n",
              "\n",
              "[12089 rows x 11 columns]"
            ]
          },
          "execution_count": 15,
          "metadata": {},
          "output_type": "execute_result"
        }
      ],
      "source": [
        "df[df.isna().any(axis=1)]"
      ]
    },
    {
      "cell_type": "code",
      "execution_count": 6,
      "metadata": {
        "id": "L35cZnqabeZ6"
      },
      "outputs": [],
      "source": [
        "df = df.fillna(method=\"ffill\")"
      ]
    },
    {
      "cell_type": "markdown",
      "metadata": {
        "id": "nW3SJd_do0Fz"
      },
      "source": [
        "Prepare the data for LSTM"
      ]
    },
    {
      "cell_type": "markdown",
      "metadata": {
        "id": "ry9s2DQgo0GE"
      },
      "source": [
        "Remove rows with missing values"
      ]
    },
    {
      "cell_type": "code",
      "execution_count": 7,
      "metadata": {
        "id": "rux_VYPWo0GE"
      },
      "outputs": [],
      "source": [
        "df = df.dropna().reset_index()"
      ]
    },
    {
      "cell_type": "code",
      "execution_count": 8,
      "metadata": {
        "colab": {
          "base_uri": "https://localhost:8080/",
          "height": 659
        },
        "id": "f0e4-F66o0GE",
        "outputId": "3eceb701-c2b1-4c59-aea8-099abdb7eb60"
      },
      "outputs": [
        {
          "data": {
            "text/html": [
              "<div>\n",
              "<style scoped>\n",
              "    .dataframe tbody tr th:only-of-type {\n",
              "        vertical-align: middle;\n",
              "    }\n",
              "\n",
              "    .dataframe tbody tr th {\n",
              "        vertical-align: top;\n",
              "    }\n",
              "\n",
              "    .dataframe thead th {\n",
              "        text-align: right;\n",
              "    }\n",
              "</style>\n",
              "<table border=\"1\" class=\"dataframe\">\n",
              "  <thead>\n",
              "    <tr style=\"text-align: right;\">\n",
              "      <th></th>\n",
              "      <th>index</th>\n",
              "      <th>DateTime</th>\n",
              "      <th>Year</th>\n",
              "      <th>Month</th>\n",
              "      <th>Date</th>\n",
              "      <th>Time</th>\n",
              "      <th>Minute</th>\n",
              "      <th>Temperature</th>\n",
              "      <th>Wind Speed</th>\n",
              "      <th>Wind Direction</th>\n",
              "      <th>Rainfall</th>\n",
              "      <th>Humidity</th>\n",
              "    </tr>\n",
              "  </thead>\n",
              "  <tbody>\n",
              "    <tr>\n",
              "      <th>0</th>\n",
              "      <td>0</td>\n",
              "      <td>2008-01-01 00:00:00</td>\n",
              "      <td>2008.0</td>\n",
              "      <td>1.0</td>\n",
              "      <td>1.0</td>\n",
              "      <td>0.0</td>\n",
              "      <td>1.0</td>\n",
              "      <td>3.6</td>\n",
              "      <td>107.0</td>\n",
              "      <td>49.0</td>\n",
              "      <td>0.0</td>\n",
              "      <td>37.0</td>\n",
              "    </tr>\n",
              "    <tr>\n",
              "      <th>1</th>\n",
              "      <td>1</td>\n",
              "      <td>2008-01-01 01:00:00</td>\n",
              "      <td>2008.0</td>\n",
              "      <td>1.0</td>\n",
              "      <td>1.0</td>\n",
              "      <td>1.0</td>\n",
              "      <td>1.0</td>\n",
              "      <td>3.0</td>\n",
              "      <td>103.0</td>\n",
              "      <td>42.0</td>\n",
              "      <td>0.0</td>\n",
              "      <td>35.0</td>\n",
              "    </tr>\n",
              "    <tr>\n",
              "      <th>2</th>\n",
              "      <td>2</td>\n",
              "      <td>2008-01-01 02:00:00</td>\n",
              "      <td>2008.0</td>\n",
              "      <td>1.0</td>\n",
              "      <td>1.0</td>\n",
              "      <td>2.0</td>\n",
              "      <td>1.0</td>\n",
              "      <td>2.3</td>\n",
              "      <td>101.0</td>\n",
              "      <td>39.0</td>\n",
              "      <td>0.0</td>\n",
              "      <td>37.0</td>\n",
              "    </tr>\n",
              "    <tr>\n",
              "      <th>3</th>\n",
              "      <td>3</td>\n",
              "      <td>2008-01-01 03:00:00</td>\n",
              "      <td>2008.0</td>\n",
              "      <td>1.0</td>\n",
              "      <td>1.0</td>\n",
              "      <td>3.0</td>\n",
              "      <td>1.0</td>\n",
              "      <td>2.4</td>\n",
              "      <td>92.0</td>\n",
              "      <td>47.0</td>\n",
              "      <td>0.0</td>\n",
              "      <td>33.0</td>\n",
              "    </tr>\n",
              "    <tr>\n",
              "      <th>4</th>\n",
              "      <td>4</td>\n",
              "      <td>2008-01-01 04:00:00</td>\n",
              "      <td>2008.0</td>\n",
              "      <td>1.0</td>\n",
              "      <td>1.0</td>\n",
              "      <td>4.0</td>\n",
              "      <td>1.0</td>\n",
              "      <td>2.0</td>\n",
              "      <td>102.0</td>\n",
              "      <td>47.0</td>\n",
              "      <td>0.0</td>\n",
              "      <td>32.0</td>\n",
              "    </tr>\n",
              "    <tr>\n",
              "      <th>...</th>\n",
              "      <td>...</td>\n",
              "      <td>...</td>\n",
              "      <td>...</td>\n",
              "      <td>...</td>\n",
              "      <td>...</td>\n",
              "      <td>...</td>\n",
              "      <td>...</td>\n",
              "      <td>...</td>\n",
              "      <td>...</td>\n",
              "      <td>...</td>\n",
              "      <td>...</td>\n",
              "      <td>...</td>\n",
              "    </tr>\n",
              "    <tr>\n",
              "      <th>135847</th>\n",
              "      <td>135847</td>\n",
              "      <td>2023-07-01 07:00:00</td>\n",
              "      <td>2023.0</td>\n",
              "      <td>7.0</td>\n",
              "      <td>1.0</td>\n",
              "      <td>7.0</td>\n",
              "      <td>1.0</td>\n",
              "      <td>22.3</td>\n",
              "      <td>61.0</td>\n",
              "      <td>211.0</td>\n",
              "      <td>30.0</td>\n",
              "      <td>100.0</td>\n",
              "    </tr>\n",
              "    <tr>\n",
              "      <th>135848</th>\n",
              "      <td>135848</td>\n",
              "      <td>2023-07-01 08:00:00</td>\n",
              "      <td>2023.0</td>\n",
              "      <td>7.0</td>\n",
              "      <td>1.0</td>\n",
              "      <td>8.0</td>\n",
              "      <td>1.0</td>\n",
              "      <td>22.3</td>\n",
              "      <td>62.0</td>\n",
              "      <td>210.0</td>\n",
              "      <td>80.0</td>\n",
              "      <td>100.0</td>\n",
              "    </tr>\n",
              "    <tr>\n",
              "      <th>135849</th>\n",
              "      <td>135849</td>\n",
              "      <td>2023-07-01 09:00:00</td>\n",
              "      <td>2023.0</td>\n",
              "      <td>7.0</td>\n",
              "      <td>1.0</td>\n",
              "      <td>9.0</td>\n",
              "      <td>1.0</td>\n",
              "      <td>20.7</td>\n",
              "      <td>82.0</td>\n",
              "      <td>223.0</td>\n",
              "      <td>35.0</td>\n",
              "      <td>100.0</td>\n",
              "    </tr>\n",
              "    <tr>\n",
              "      <th>135850</th>\n",
              "      <td>135850</td>\n",
              "      <td>2023-07-01 10:00:00</td>\n",
              "      <td>2023.0</td>\n",
              "      <td>7.0</td>\n",
              "      <td>1.0</td>\n",
              "      <td>10.0</td>\n",
              "      <td>1.0</td>\n",
              "      <td>22.0</td>\n",
              "      <td>55.0</td>\n",
              "      <td>241.0</td>\n",
              "      <td>10.0</td>\n",
              "      <td>100.0</td>\n",
              "    </tr>\n",
              "    <tr>\n",
              "      <th>135851</th>\n",
              "      <td>135851</td>\n",
              "      <td>2023-07-01 11:00:00</td>\n",
              "      <td>2023.0</td>\n",
              "      <td>7.0</td>\n",
              "      <td>1.0</td>\n",
              "      <td>11.0</td>\n",
              "      <td>1.0</td>\n",
              "      <td>22.9</td>\n",
              "      <td>58.0</td>\n",
              "      <td>239.0</td>\n",
              "      <td>0.0</td>\n",
              "      <td>100.0</td>\n",
              "    </tr>\n",
              "  </tbody>\n",
              "</table>\n",
              "<p>135852 rows × 12 columns</p>\n",
              "</div>"
            ],
            "text/plain": [
              "         index            DateTime    Year  Month  Date  Time  Minute  \\\n",
              "0            0 2008-01-01 00:00:00  2008.0    1.0   1.0   0.0     1.0   \n",
              "1            1 2008-01-01 01:00:00  2008.0    1.0   1.0   1.0     1.0   \n",
              "2            2 2008-01-01 02:00:00  2008.0    1.0   1.0   2.0     1.0   \n",
              "3            3 2008-01-01 03:00:00  2008.0    1.0   1.0   3.0     1.0   \n",
              "4            4 2008-01-01 04:00:00  2008.0    1.0   1.0   4.0     1.0   \n",
              "...        ...                 ...     ...    ...   ...   ...     ...   \n",
              "135847  135847 2023-07-01 07:00:00  2023.0    7.0   1.0   7.0     1.0   \n",
              "135848  135848 2023-07-01 08:00:00  2023.0    7.0   1.0   8.0     1.0   \n",
              "135849  135849 2023-07-01 09:00:00  2023.0    7.0   1.0   9.0     1.0   \n",
              "135850  135850 2023-07-01 10:00:00  2023.0    7.0   1.0  10.0     1.0   \n",
              "135851  135851 2023-07-01 11:00:00  2023.0    7.0   1.0  11.0     1.0   \n",
              "\n",
              "        Temperature  Wind Speed  Wind Direction  Rainfall  Humidity  \n",
              "0               3.6       107.0            49.0       0.0      37.0  \n",
              "1               3.0       103.0            42.0       0.0      35.0  \n",
              "2               2.3       101.0            39.0       0.0      37.0  \n",
              "3               2.4        92.0            47.0       0.0      33.0  \n",
              "4               2.0       102.0            47.0       0.0      32.0  \n",
              "...             ...         ...             ...       ...       ...  \n",
              "135847         22.3        61.0           211.0      30.0     100.0  \n",
              "135848         22.3        62.0           210.0      80.0     100.0  \n",
              "135849         20.7        82.0           223.0      35.0     100.0  \n",
              "135850         22.0        55.0           241.0      10.0     100.0  \n",
              "135851         22.9        58.0           239.0       0.0     100.0  \n",
              "\n",
              "[135852 rows x 12 columns]"
            ]
          },
          "execution_count": 8,
          "metadata": {},
          "output_type": "execute_result"
        }
      ],
      "source": [
        "df"
      ]
    },
    {
      "cell_type": "markdown",
      "metadata": {
        "id": "ksanizXmbeZ6"
      },
      "source": [
        "Check if any hours are missing"
      ]
    },
    {
      "cell_type": "code",
      "execution_count": 9,
      "metadata": {
        "colab": {
          "base_uri": "https://localhost:8080/"
        },
        "id": "KBnSzgpObeZ6",
        "outputId": "4ff3715f-19e5-4cb7-d20a-3707a14bed69"
      },
      "outputs": [
        {
          "name": "stdout",
          "output_type": "stream",
          "text": [
            "[]\n"
          ]
        }
      ],
      "source": [
        "# Get the minimum and maximum DateTime values in the DataFrame\n",
        "min_time = df['DateTime'].min()\n",
        "max_time = df['DateTime'].max()\n",
        "\n",
        "# Create a complete sequence of hours using pandas date_range\n",
        "complete_hours = pd.date_range(start=min_time, end=max_time, freq='H')\n",
        "\n",
        "# Extract the unique hours from the DataFrame\n",
        "existing_hours = pd.to_datetime(df['DateTime']).unique()\n",
        "\n",
        "# Find the missing hours by comparing the complete sequence with the existing hours\n",
        "missing_hours = [hour for hour in complete_hours if hour not in existing_hours]\n",
        "\n",
        "# Print the missing hours\n",
        "print(missing_hours)"
      ]
    },
    {
      "cell_type": "code",
      "execution_count": 10,
      "metadata": {
        "id": "fYTgYEvho0Fz"
      },
      "outputs": [],
      "source": [
        "time_steps = 72  # Number of time steps for the LSTM model\n",
        "scaler = MinMaxScaler(feature_range=(0, 1))  # Scale the data to [0, 1]"
      ]
    },
    {
      "cell_type": "code",
      "execution_count": 11,
      "metadata": {
        "id": "y-zPsENY_V2J"
      },
      "outputs": [],
      "source": [
        "features_keys = ['Temperature', 'Wind Speed',\n",
        "               'Rainfall', 'Humidity']"
      ]
    },
    {
      "cell_type": "markdown",
      "metadata": {
        "id": "yH8sRnrZo0GE"
      },
      "source": [
        "Scale the temperature, wind speed, rainfall, and wind direction values"
      ]
    },
    {
      "cell_type": "code",
      "execution_count": 12,
      "metadata": {
        "id": "ioRT6PB7o0GE"
      },
      "outputs": [],
      "source": [
        "features = df[features_keys].copy()\n",
        "scaled_features = scaler.fit_transform(features)"
      ]
    },
    {
      "cell_type": "code",
      "execution_count": 13,
      "metadata": {
        "colab": {
          "base_uri": "https://localhost:8080/"
        },
        "id": "3HWJi4kH_V2J",
        "outputId": "f64ffa72-c806-413e-c1f6-9e342a0b9715"
      },
      "outputs": [
        {
          "data": {
            "text/plain": [
              "array([[0.30094044, 0.21572581, 0.        , 0.34375   ],\n",
              "       [0.28213166, 0.20766129, 0.        , 0.32291667],\n",
              "       [0.26018809, 0.20362903, 0.        , 0.34375   ],\n",
              "       ...,\n",
              "       [0.8369906 , 0.16532258, 0.03888889, 1.        ],\n",
              "       [0.87774295, 0.1108871 , 0.01111111, 1.        ],\n",
              "       [0.90595611, 0.11693548, 0.        , 1.        ]])"
            ]
          },
          "execution_count": 13,
          "metadata": {},
          "output_type": "execute_result"
        }
      ],
      "source": [
        "scaled_features"
      ]
    },
    {
      "cell_type": "markdown",
      "metadata": {
        "id": "MtfyrlIso0GE"
      },
      "source": [
        "Create sequences of input data and corresponding target values"
      ]
    },
    {
      "cell_type": "code",
      "execution_count": 14,
      "metadata": {
        "id": "w_vv2_l_o0GE"
      },
      "outputs": [],
      "source": [
        "data = []\n",
        "target = []\n",
        "for i in range(1, len(scaled_features) - time_steps):\n",
        "    # exclude the target\n",
        "    data.append(scaled_features[i:i+time_steps])\n",
        "    # Only the temperature is the target\n",
        "    target.append(scaled_features[i+time_steps])"
      ]
    },
    {
      "cell_type": "code",
      "execution_count": 15,
      "metadata": {
        "id": "iMnszm71o0GE"
      },
      "outputs": [],
      "source": [
        "data = np.array(data)\n",
        "target = np.array(target)\n"
      ]
    },
    {
      "cell_type": "markdown",
      "metadata": {
        "id": "pm3RIBnoo0GE"
      },
      "source": [
        "Split the dataset into training and validation sets"
      ]
    },
    {
      "cell_type": "code",
      "execution_count": 16,
      "metadata": {
        "id": "nk58ReQ2o0GE"
      },
      "outputs": [],
      "source": [
        "split = 0.1\n",
        "exclude_index = int(len(data) * (1-split))\n",
        "train_data, train_target = data[:exclude_index], target[:exclude_index]\n",
        "val_data, val_target = data[exclude_index:], target[exclude_index:]\n"
      ]
    },
    {
      "cell_type": "markdown",
      "metadata": {
        "id": "sRzJzu0-o0GE"
      },
      "source": [
        "Build the LSTM model architecture"
      ]
    },
    {
      "cell_type": "code",
      "execution_count": 17,
      "metadata": {
        "id": "rvOWUL_Co0GE"
      },
      "outputs": [
        {
          "name": "stderr",
          "output_type": "stream",
          "text": [
            "2023-07-01 12:44:35.114948: E tensorflow/compiler/xla/stream_executor/cuda/cuda_driver.cc:1579] failed to query PCI bus id for device: UNKNOWN ERROR (801)\n",
            "2023-07-01 12:44:35.114970: I tensorflow/compiler/xla/stream_executor/cuda/cuda_gpu_executor.cc:970] no PCI bus ID for device ordinal: 0\n",
            "2023-07-01 12:44:35.117244: W tensorflow/core/common_runtime/gpu/gpu_device.cc:1956] Cannot dlopen some GPU libraries. Please make sure the missing libraries mentioned above are installed properly if you would like to use GPU. Follow the guide at https://www.tensorflow.org/install/gpu for how to download and setup the required libraries for your platform.\n",
            "Skipping registering GPU devices...\n",
            "2023-07-01 12:44:35.379850: I tensorflow/core/common_runtime/executor.cc:1197] [/device:CPU:0] (DEBUG INFO) Executor start aborting (this does not indicate an error and you can ignore this message): INVALID_ARGUMENT: You must feed a value for placeholder tensor 'gradients/split_2_grad/concat/split_2/split_dim' with dtype int32\n",
            "\t [[{{node gradients/split_2_grad/concat/split_2/split_dim}}]]\n",
            "2023-07-01 12:44:35.381345: I tensorflow/core/common_runtime/executor.cc:1197] [/device:CPU:0] (DEBUG INFO) Executor start aborting (this does not indicate an error and you can ignore this message): INVALID_ARGUMENT: You must feed a value for placeholder tensor 'gradients/split_grad/concat/split/split_dim' with dtype int32\n",
            "\t [[{{node gradients/split_grad/concat/split/split_dim}}]]\n",
            "2023-07-01 12:44:35.382047: I tensorflow/core/common_runtime/executor.cc:1197] [/device:CPU:0] (DEBUG INFO) Executor start aborting (this does not indicate an error and you can ignore this message): INVALID_ARGUMENT: You must feed a value for placeholder tensor 'gradients/split_1_grad/concat/split_1/split_dim' with dtype int32\n",
            "\t [[{{node gradients/split_1_grad/concat/split_1/split_dim}}]]\n",
            "2023-07-01 12:44:35.496286: I tensorflow/core/common_runtime/executor.cc:1197] [/device:CPU:0] (DEBUG INFO) Executor start aborting (this does not indicate an error and you can ignore this message): INVALID_ARGUMENT: You must feed a value for placeholder tensor 'gradients/split_2_grad/concat/split_2/split_dim' with dtype int32\n",
            "\t [[{{node gradients/split_2_grad/concat/split_2/split_dim}}]]\n",
            "2023-07-01 12:44:35.496998: I tensorflow/core/common_runtime/executor.cc:1197] [/device:CPU:0] (DEBUG INFO) Executor start aborting (this does not indicate an error and you can ignore this message): INVALID_ARGUMENT: You must feed a value for placeholder tensor 'gradients/split_grad/concat/split/split_dim' with dtype int32\n",
            "\t [[{{node gradients/split_grad/concat/split/split_dim}}]]\n",
            "2023-07-01 12:44:35.497613: I tensorflow/core/common_runtime/executor.cc:1197] [/device:CPU:0] (DEBUG INFO) Executor start aborting (this does not indicate an error and you can ignore this message): INVALID_ARGUMENT: You must feed a value for placeholder tensor 'gradients/split_1_grad/concat/split_1/split_dim' with dtype int32\n",
            "\t [[{{node gradients/split_1_grad/concat/split_1/split_dim}}]]\n",
            "2023-07-01 12:44:35.614308: I tensorflow/core/common_runtime/executor.cc:1197] [/device:CPU:0] (DEBUG INFO) Executor start aborting (this does not indicate an error and you can ignore this message): INVALID_ARGUMENT: You must feed a value for placeholder tensor 'gradients/split_2_grad/concat/split_2/split_dim' with dtype int32\n",
            "\t [[{{node gradients/split_2_grad/concat/split_2/split_dim}}]]\n",
            "2023-07-01 12:44:35.615560: I tensorflow/core/common_runtime/executor.cc:1197] [/device:CPU:0] (DEBUG INFO) Executor start aborting (this does not indicate an error and you can ignore this message): INVALID_ARGUMENT: You must feed a value for placeholder tensor 'gradients/split_grad/concat/split/split_dim' with dtype int32\n",
            "\t [[{{node gradients/split_grad/concat/split/split_dim}}]]\n",
            "2023-07-01 12:44:35.616293: I tensorflow/core/common_runtime/executor.cc:1197] [/device:CPU:0] (DEBUG INFO) Executor start aborting (this does not indicate an error and you can ignore this message): INVALID_ARGUMENT: You must feed a value for placeholder tensor 'gradients/split_1_grad/concat/split_1/split_dim' with dtype int32\n",
            "\t [[{{node gradients/split_1_grad/concat/split_1/split_dim}}]]\n",
            "2023-07-01 12:44:35.720152: I tensorflow/core/common_runtime/executor.cc:1197] [/device:CPU:0] (DEBUG INFO) Executor start aborting (this does not indicate an error and you can ignore this message): INVALID_ARGUMENT: You must feed a value for placeholder tensor 'gradients/split_2_grad/concat/split_2/split_dim' with dtype int32\n",
            "\t [[{{node gradients/split_2_grad/concat/split_2/split_dim}}]]\n",
            "2023-07-01 12:44:35.721083: I tensorflow/core/common_runtime/executor.cc:1197] [/device:CPU:0] (DEBUG INFO) Executor start aborting (this does not indicate an error and you can ignore this message): INVALID_ARGUMENT: You must feed a value for placeholder tensor 'gradients/split_grad/concat/split/split_dim' with dtype int32\n",
            "\t [[{{node gradients/split_grad/concat/split/split_dim}}]]\n",
            "2023-07-01 12:44:35.721766: I tensorflow/core/common_runtime/executor.cc:1197] [/device:CPU:0] (DEBUG INFO) Executor start aborting (this does not indicate an error and you can ignore this message): INVALID_ARGUMENT: You must feed a value for placeholder tensor 'gradients/split_1_grad/concat/split_1/split_dim' with dtype int32\n",
            "\t [[{{node gradients/split_1_grad/concat/split_1/split_dim}}]]\n",
            "2023-07-01 12:44:35.825925: I tensorflow/core/common_runtime/executor.cc:1197] [/device:CPU:0] (DEBUG INFO) Executor start aborting (this does not indicate an error and you can ignore this message): INVALID_ARGUMENT: You must feed a value for placeholder tensor 'gradients/split_2_grad/concat/split_2/split_dim' with dtype int32\n",
            "\t [[{{node gradients/split_2_grad/concat/split_2/split_dim}}]]\n",
            "2023-07-01 12:44:35.827023: I tensorflow/core/common_runtime/executor.cc:1197] [/device:CPU:0] (DEBUG INFO) Executor start aborting (this does not indicate an error and you can ignore this message): INVALID_ARGUMENT: You must feed a value for placeholder tensor 'gradients/split_grad/concat/split/split_dim' with dtype int32\n",
            "\t [[{{node gradients/split_grad/concat/split/split_dim}}]]\n",
            "2023-07-01 12:44:35.827668: I tensorflow/core/common_runtime/executor.cc:1197] [/device:CPU:0] (DEBUG INFO) Executor start aborting (this does not indicate an error and you can ignore this message): INVALID_ARGUMENT: You must feed a value for placeholder tensor 'gradients/split_1_grad/concat/split_1/split_dim' with dtype int32\n",
            "\t [[{{node gradients/split_1_grad/concat/split_1/split_dim}}]]\n"
          ]
        }
      ],
      "source": [
        "import tensorflow as tf\n",
        "\"\"\"\n",
        "model = tf.keras.Sequential([\n",
        "    tf.keras.layers.LSTM(256, return_sequences=True,\n",
        "                         input_shape=(time_steps, 4)),\n",
        "    tf.keras.layers.BatchNormalization(),\n",
        "    tf.keras.layers.Dropout(0.2),\n",
        "    tf.keras.layers.LSTM(256, return_sequences=True),\n",
        "    tf.keras.layers.BatchNormalization(),\n",
        "    tf.keras.layers.Dropout(0.2),\n",
        "    tf.keras.layers.LSTM(256, return_sequences=True),\n",
        "    tf.keras.layers.BatchNormalization(),\n",
        "    tf.keras.layers.Dropout(0.2),\n",
        "    tf.keras.layers.LSTM(256),\n",
        "    tf.keras.layers.BatchNormalization(),\n",
        "    tf.keras.layers.Dropout(0.2),\n",
        "    tf.keras.layers.Dense(128, activation='relu'),\n",
        "    tf.keras.layers.BatchNormalization(),\n",
        "    tf.keras.layers.Dropout(0.2),\n",
        "    tf.keras.layers.Dense(1)\n",
        "])\n",
        "\"\"\"\n",
        "model = tf.keras.Sequential([\n",
        "    tf.keras.layers.LSTM(256, return_sequences=True,  input_shape=(time_steps, len(features_keys))),\n",
        "    # tf.keras.layers.LSTM(128, return_sequences=True),\n",
        "    # tf.keras.layers.LSTM(64, return_sequences=True),\n",
        "    # tf.keras.layers.LSTM(64, return_sequences=True),\n",
        "    # tf.keras.layers.LSTM(32, return_sequences=True),\n",
        "    tf.keras.layers.LSTM(128, return_sequences=True),\n",
        "    tf.keras.layers.LSTM(64, return_sequences=True),\n",
        "    tf.keras.layers.LSTM(64, return_sequences=True),\n",
        "    tf.keras.layers.LSTM(64),\n",
        "    # tf.keras.layers.Dense(64),\n",
        "    # tf.keras.layers.Dense(64),\n",
        "    tf.keras.layers.Dense(64, activation=\"relu\"),\n",
        "    tf.keras.layers.Dense(len(features_keys))\n",
        "])\n"
      ]
    },
    {
      "cell_type": "markdown",
      "metadata": {
        "id": "cVjVLc9no0GE"
      },
      "source": [
        "Compile the model"
      ]
    },
    {
      "cell_type": "code",
      "execution_count": 18,
      "metadata": {
        "id": "sk3yxZIio0GE"
      },
      "outputs": [],
      "source": [
        "optimizer = tf.keras.optimizers.Adam(learning_rate=0.001)\n",
        "model.compile(loss='mean_absolute_error', optimizer=optimizer)"
      ]
    },
    {
      "cell_type": "markdown",
      "metadata": {
        "id": "mlmltGMRo0GE"
      },
      "source": [
        "Define early stopping and learning rate scheduler"
      ]
    },
    {
      "cell_type": "code",
      "execution_count": 19,
      "metadata": {
        "id": "-FzJGi_jo0GE"
      },
      "outputs": [],
      "source": [
        "early_stopping = tf.keras.callbacks.EarlyStopping(\n",
        "    monitor='val_loss', patience=10, restore_best_weights=True)\n",
        "lr_scheduler = tf.keras.callbacks.ReduceLROnPlateau(\n",
        "    monitor='val_loss', factor=0.2, patience=5, min_lr=1e-6)"
      ]
    },
    {
      "cell_type": "markdown",
      "metadata": {
        "id": "eQuMJC2xo0GE"
      },
      "source": [
        "Train the LSTM model"
      ]
    },
    {
      "cell_type": "code",
      "execution_count": 20,
      "metadata": {
        "colab": {
          "base_uri": "https://localhost:8080/"
        },
        "id": "FPNW8kgSo0GE",
        "outputId": "3e2f1360-c6aa-4b52-b4b2-499e65ea44b1"
      },
      "outputs": [
        {
          "name": "stdout",
          "output_type": "stream",
          "text": [
            "Epoch 1/150\n"
          ]
        },
        {
          "name": "stderr",
          "output_type": "stream",
          "text": [
            "2023-07-01 12:44:36.287441: I tensorflow/core/common_runtime/executor.cc:1197] [/device:CPU:0] (DEBUG INFO) Executor start aborting (this does not indicate an error and you can ignore this message): INVALID_ARGUMENT: You must feed a value for placeholder tensor 'gradients/split_2_grad/concat/split_2/split_dim' with dtype int32\n",
            "\t [[{{node gradients/split_2_grad/concat/split_2/split_dim}}]]\n",
            "2023-07-01 12:44:36.288537: I tensorflow/core/common_runtime/executor.cc:1197] [/device:CPU:0] (DEBUG INFO) Executor start aborting (this does not indicate an error and you can ignore this message): INVALID_ARGUMENT: You must feed a value for placeholder tensor 'gradients/split_grad/concat/split/split_dim' with dtype int32\n",
            "\t [[{{node gradients/split_grad/concat/split/split_dim}}]]\n",
            "2023-07-01 12:44:36.289777: I tensorflow/core/common_runtime/executor.cc:1197] [/device:CPU:0] (DEBUG INFO) Executor start aborting (this does not indicate an error and you can ignore this message): INVALID_ARGUMENT: You must feed a value for placeholder tensor 'gradients/split_1_grad/concat/split_1/split_dim' with dtype int32\n",
            "\t [[{{node gradients/split_1_grad/concat/split_1/split_dim}}]]\n",
            "2023-07-01 12:44:36.397929: I tensorflow/core/common_runtime/executor.cc:1197] [/device:CPU:0] (DEBUG INFO) Executor start aborting (this does not indicate an error and you can ignore this message): INVALID_ARGUMENT: You must feed a value for placeholder tensor 'gradients/split_2_grad/concat/split_2/split_dim' with dtype int32\n",
            "\t [[{{node gradients/split_2_grad/concat/split_2/split_dim}}]]\n",
            "2023-07-01 12:44:36.398714: I tensorflow/core/common_runtime/executor.cc:1197] [/device:CPU:0] (DEBUG INFO) Executor start aborting (this does not indicate an error and you can ignore this message): INVALID_ARGUMENT: You must feed a value for placeholder tensor 'gradients/split_grad/concat/split/split_dim' with dtype int32\n",
            "\t [[{{node gradients/split_grad/concat/split/split_dim}}]]\n",
            "2023-07-01 12:44:36.399433: I tensorflow/core/common_runtime/executor.cc:1197] [/device:CPU:0] (DEBUG INFO) Executor start aborting (this does not indicate an error and you can ignore this message): INVALID_ARGUMENT: You must feed a value for placeholder tensor 'gradients/split_1_grad/concat/split_1/split_dim' with dtype int32\n",
            "\t [[{{node gradients/split_1_grad/concat/split_1/split_dim}}]]\n",
            "2023-07-01 12:44:36.509855: I tensorflow/core/common_runtime/executor.cc:1197] [/device:CPU:0] (DEBUG INFO) Executor start aborting (this does not indicate an error and you can ignore this message): INVALID_ARGUMENT: You must feed a value for placeholder tensor 'gradients/split_2_grad/concat/split_2/split_dim' with dtype int32\n",
            "\t [[{{node gradients/split_2_grad/concat/split_2/split_dim}}]]\n",
            "2023-07-01 12:44:36.510832: I tensorflow/core/common_runtime/executor.cc:1197] [/device:CPU:0] (DEBUG INFO) Executor start aborting (this does not indicate an error and you can ignore this message): INVALID_ARGUMENT: You must feed a value for placeholder tensor 'gradients/split_grad/concat/split/split_dim' with dtype int32\n",
            "\t [[{{node gradients/split_grad/concat/split/split_dim}}]]\n",
            "2023-07-01 12:44:36.511817: I tensorflow/core/common_runtime/executor.cc:1197] [/device:CPU:0] (DEBUG INFO) Executor start aborting (this does not indicate an error and you can ignore this message): INVALID_ARGUMENT: You must feed a value for placeholder tensor 'gradients/split_1_grad/concat/split_1/split_dim' with dtype int32\n",
            "\t [[{{node gradients/split_1_grad/concat/split_1/split_dim}}]]\n",
            "2023-07-01 12:44:36.617393: I tensorflow/core/common_runtime/executor.cc:1197] [/device:CPU:0] (DEBUG INFO) Executor start aborting (this does not indicate an error and you can ignore this message): INVALID_ARGUMENT: You must feed a value for placeholder tensor 'gradients/split_2_grad/concat/split_2/split_dim' with dtype int32\n",
            "\t [[{{node gradients/split_2_grad/concat/split_2/split_dim}}]]\n",
            "2023-07-01 12:44:36.618327: I tensorflow/core/common_runtime/executor.cc:1197] [/device:CPU:0] (DEBUG INFO) Executor start aborting (this does not indicate an error and you can ignore this message): INVALID_ARGUMENT: You must feed a value for placeholder tensor 'gradients/split_grad/concat/split/split_dim' with dtype int32\n",
            "\t [[{{node gradients/split_grad/concat/split/split_dim}}]]\n",
            "2023-07-01 12:44:36.619146: I tensorflow/core/common_runtime/executor.cc:1197] [/device:CPU:0] (DEBUG INFO) Executor start aborting (this does not indicate an error and you can ignore this message): INVALID_ARGUMENT: You must feed a value for placeholder tensor 'gradients/split_1_grad/concat/split_1/split_dim' with dtype int32\n",
            "\t [[{{node gradients/split_1_grad/concat/split_1/split_dim}}]]\n",
            "2023-07-01 12:44:36.730926: I tensorflow/core/common_runtime/executor.cc:1197] [/device:CPU:0] (DEBUG INFO) Executor start aborting (this does not indicate an error and you can ignore this message): INVALID_ARGUMENT: You must feed a value for placeholder tensor 'gradients/split_2_grad/concat/split_2/split_dim' with dtype int32\n",
            "\t [[{{node gradients/split_2_grad/concat/split_2/split_dim}}]]\n",
            "2023-07-01 12:44:36.731840: I tensorflow/core/common_runtime/executor.cc:1197] [/device:CPU:0] (DEBUG INFO) Executor start aborting (this does not indicate an error and you can ignore this message): INVALID_ARGUMENT: You must feed a value for placeholder tensor 'gradients/split_grad/concat/split/split_dim' with dtype int32\n",
            "\t [[{{node gradients/split_grad/concat/split/split_dim}}]]\n",
            "2023-07-01 12:44:36.732804: I tensorflow/core/common_runtime/executor.cc:1197] [/device:CPU:0] (DEBUG INFO) Executor start aborting (this does not indicate an error and you can ignore this message): INVALID_ARGUMENT: You must feed a value for placeholder tensor 'gradients/split_1_grad/concat/split_1/split_dim' with dtype int32\n",
            "\t [[{{node gradients/split_1_grad/concat/split_1/split_dim}}]]\n",
            "2023-07-01 12:44:37.823107: I tensorflow/core/common_runtime/executor.cc:1197] [/device:CPU:0] (DEBUG INFO) Executor start aborting (this does not indicate an error and you can ignore this message): INVALID_ARGUMENT: You must feed a value for placeholder tensor 'gradients/split_2_grad/concat/split_2/split_dim' with dtype int32\n",
            "\t [[{{node gradients/split_2_grad/concat/split_2/split_dim}}]]\n",
            "2023-07-01 12:44:37.824498: I tensorflow/core/common_runtime/executor.cc:1197] [/device:CPU:0] (DEBUG INFO) Executor start aborting (this does not indicate an error and you can ignore this message): INVALID_ARGUMENT: You must feed a value for placeholder tensor 'gradients/split_grad/concat/split/split_dim' with dtype int32\n",
            "\t [[{{node gradients/split_grad/concat/split/split_dim}}]]\n",
            "2023-07-01 12:44:37.825305: I tensorflow/core/common_runtime/executor.cc:1197] [/device:CPU:0] (DEBUG INFO) Executor start aborting (this does not indicate an error and you can ignore this message): INVALID_ARGUMENT: You must feed a value for placeholder tensor 'gradients/split_1_grad/concat/split_1/split_dim' with dtype int32\n",
            "\t [[{{node gradients/split_1_grad/concat/split_1/split_dim}}]]\n",
            "2023-07-01 12:44:37.928123: I tensorflow/core/common_runtime/executor.cc:1197] [/device:CPU:0] (DEBUG INFO) Executor start aborting (this does not indicate an error and you can ignore this message): INVALID_ARGUMENT: You must feed a value for placeholder tensor 'gradients/split_2_grad/concat/split_2/split_dim' with dtype int32\n",
            "\t [[{{node gradients/split_2_grad/concat/split_2/split_dim}}]]\n",
            "2023-07-01 12:44:37.928861: I tensorflow/core/common_runtime/executor.cc:1197] [/device:CPU:0] (DEBUG INFO) Executor start aborting (this does not indicate an error and you can ignore this message): INVALID_ARGUMENT: You must feed a value for placeholder tensor 'gradients/split_grad/concat/split/split_dim' with dtype int32\n",
            "\t [[{{node gradients/split_grad/concat/split/split_dim}}]]\n",
            "2023-07-01 12:44:37.929669: I tensorflow/core/common_runtime/executor.cc:1197] [/device:CPU:0] (DEBUG INFO) Executor start aborting (this does not indicate an error and you can ignore this message): INVALID_ARGUMENT: You must feed a value for placeholder tensor 'gradients/split_1_grad/concat/split_1/split_dim' with dtype int32\n",
            "\t [[{{node gradients/split_1_grad/concat/split_1/split_dim}}]]\n",
            "2023-07-01 12:44:38.041563: I tensorflow/core/common_runtime/executor.cc:1197] [/device:CPU:0] (DEBUG INFO) Executor start aborting (this does not indicate an error and you can ignore this message): INVALID_ARGUMENT: You must feed a value for placeholder tensor 'gradients/split_2_grad/concat/split_2/split_dim' with dtype int32\n",
            "\t [[{{node gradients/split_2_grad/concat/split_2/split_dim}}]]\n",
            "2023-07-01 12:44:38.043240: I tensorflow/core/common_runtime/executor.cc:1197] [/device:CPU:0] (DEBUG INFO) Executor start aborting (this does not indicate an error and you can ignore this message): INVALID_ARGUMENT: You must feed a value for placeholder tensor 'gradients/split_grad/concat/split/split_dim' with dtype int32\n",
            "\t [[{{node gradients/split_grad/concat/split/split_dim}}]]\n",
            "2023-07-01 12:44:38.044164: I tensorflow/core/common_runtime/executor.cc:1197] [/device:CPU:0] (DEBUG INFO) Executor start aborting (this does not indicate an error and you can ignore this message): INVALID_ARGUMENT: You must feed a value for placeholder tensor 'gradients/split_1_grad/concat/split_1/split_dim' with dtype int32\n",
            "\t [[{{node gradients/split_1_grad/concat/split_1/split_dim}}]]\n",
            "2023-07-01 12:44:38.151649: I tensorflow/core/common_runtime/executor.cc:1197] [/device:CPU:0] (DEBUG INFO) Executor start aborting (this does not indicate an error and you can ignore this message): INVALID_ARGUMENT: You must feed a value for placeholder tensor 'gradients/split_2_grad/concat/split_2/split_dim' with dtype int32\n",
            "\t [[{{node gradients/split_2_grad/concat/split_2/split_dim}}]]\n",
            "2023-07-01 12:44:38.152642: I tensorflow/core/common_runtime/executor.cc:1197] [/device:CPU:0] (DEBUG INFO) Executor start aborting (this does not indicate an error and you can ignore this message): INVALID_ARGUMENT: You must feed a value for placeholder tensor 'gradients/split_grad/concat/split/split_dim' with dtype int32\n",
            "\t [[{{node gradients/split_grad/concat/split/split_dim}}]]\n",
            "2023-07-01 12:44:38.153406: I tensorflow/core/common_runtime/executor.cc:1197] [/device:CPU:0] (DEBUG INFO) Executor start aborting (this does not indicate an error and you can ignore this message): INVALID_ARGUMENT: You must feed a value for placeholder tensor 'gradients/split_1_grad/concat/split_1/split_dim' with dtype int32\n",
            "\t [[{{node gradients/split_1_grad/concat/split_1/split_dim}}]]\n",
            "2023-07-01 12:44:38.263831: I tensorflow/core/common_runtime/executor.cc:1197] [/device:CPU:0] (DEBUG INFO) Executor start aborting (this does not indicate an error and you can ignore this message): INVALID_ARGUMENT: You must feed a value for placeholder tensor 'gradients/split_2_grad/concat/split_2/split_dim' with dtype int32\n",
            "\t [[{{node gradients/split_2_grad/concat/split_2/split_dim}}]]\n",
            "2023-07-01 12:44:38.264995: I tensorflow/core/common_runtime/executor.cc:1197] [/device:CPU:0] (DEBUG INFO) Executor start aborting (this does not indicate an error and you can ignore this message): INVALID_ARGUMENT: You must feed a value for placeholder tensor 'gradients/split_grad/concat/split/split_dim' with dtype int32\n",
            "\t [[{{node gradients/split_grad/concat/split/split_dim}}]]\n",
            "2023-07-01 12:44:38.265772: I tensorflow/core/common_runtime/executor.cc:1197] [/device:CPU:0] (DEBUG INFO) Executor start aborting (this does not indicate an error and you can ignore this message): INVALID_ARGUMENT: You must feed a value for placeholder tensor 'gradients/split_1_grad/concat/split_1/split_dim' with dtype int32\n",
            "\t [[{{node gradients/split_1_grad/concat/split_1/split_dim}}]]\n"
          ]
        },
        {
          "name": "stdout",
          "output_type": "stream",
          "text": [
            " 4/30 [===>..........................] - ETA: 2:32 - loss: 0.3882"
          ]
        }
      ],
      "source": [
        "batch_size = 4096\n",
        "epochs = 150\n",
        "history = model.fit(train_data, train_target, batch_size=batch_size, epochs=epochs, validation_data=(val_data, val_target),\n",
        "                    callbacks=[early_stopping, lr_scheduler])"
      ]
    },
    {
      "cell_type": "markdown",
      "metadata": {
        "id": "da_mp26Po0GV"
      },
      "source": [
        "Make predictions using the trained LSTM model"
      ]
    },
    {
      "cell_type": "code",
      "execution_count": null,
      "metadata": {
        "id": "_fk4WnEOo0GV"
      },
      "outputs": [],
      "source": [
        "predictions = model.predict(val_data)"
      ]
    },
    {
      "cell_type": "markdown",
      "metadata": {
        "id": "lyT2YUwfo0GV"
      },
      "source": [
        "Rescale the predictions back to the original range"
      ]
    },
    {
      "cell_type": "code",
      "execution_count": null,
      "metadata": {
        "id": "16ZjScEeo0GV"
      },
      "outputs": [],
      "source": [
        "scaled_predictions = pd.DataFrame(predictions, columns=features_keys)\n",
        "predictions = pd.DataFrame(scaler.inverse_transform(\n",
        "    predictions), columns=features_keys)\n",
        "predicted_temperature = predictions[\"Temperature\"]\n"
      ]
    },
    {
      "cell_type": "code",
      "execution_count": null,
      "metadata": {
        "id": "lxqz2lcsAMk0"
      },
      "outputs": [],
      "source": [
        "val_target = pd.DataFrame(val_target, columns=features_keys)\n",
        "val_target_rescaled = pd.DataFrame(scaler.inverse_transform(val_target), columns=features_keys)\n",
        "train_target = pd.DataFrame(train_target, columns=features_keys)\n",
        "train_target_rescaled = pd.DataFrame(scaler.inverse_transform(train_target), columns=features_keys)"
      ]
    },
    {
      "cell_type": "markdown",
      "metadata": {
        "id": "-1vqJau8o0GV"
      },
      "source": [
        "Calculate MSE and MAE"
      ]
    },
    {
      "cell_type": "code",
      "execution_count": null,
      "metadata": {
        "id": "OK9H9h3Do0GV"
      },
      "outputs": [],
      "source": [
        "mse = mean_squared_error(val_target_rescaled[\"Temperature\"], predictions[\"Temperature\"])\n",
        "mae = mean_absolute_error(val_target_rescaled[\"Temperature\"], predictions[\"Temperature\"])"
      ]
    },
    {
      "cell_type": "code",
      "execution_count": null,
      "metadata": {
        "id": "sC-MqFKgo0Gl"
      },
      "outputs": [],
      "source": [
        "print(\"Mean Squared Error (MSE):\", mse)\n",
        "print(\"Mean Absolute Error (MAE):\", mae)"
      ]
    },
    {
      "cell_type": "markdown",
      "metadata": {
        "id": "N1UNa22do0Gl"
      },
      "source": [
        "Visualize the actual vs. predicted temperatures for the validation set"
      ]
    },
    {
      "cell_type": "code",
      "execution_count": null,
      "metadata": {
        "id": "rLzZRHyLo0Gl"
      },
      "outputs": [],
      "source": [
        "plt.figure(figsize=(12, 6))\n",
        "plt.plot(range(len(val_target)), val_target_rescaled[\"Temperature\"], label='Actual')\n",
        "plt.plot(range(len(val_target)), predicted_temperature, label='Predicted')\n",
        "plt.xlabel('Time')\n",
        "plt.ylabel('Temperature')\n",
        "plt.title('Actual vs. Predicted Temperatures (Validation Set)')\n",
        "plt.legend()\n",
        "plt.show()"
      ]
    },
    {
      "cell_type": "markdown",
      "metadata": {
        "id": "zirXhmtjo0Gl"
      },
      "source": [
        "Visualize the actual vs. predicted temperatures for the training set"
      ]
    },
    {
      "cell_type": "code",
      "execution_count": null,
      "metadata": {
        "id": "NlVyqCTyo0Gl"
      },
      "outputs": [],
      "source": [
        "plt.figure(figsize=(12, 6))\n",
        "plt.plot(range(len(train_target)), train_target[\"Temperature\"], label='Actual')\n",
        "plt.plot(range(len(train_target)), pd.DataFrame(model.predict(\n",
        "    train_data), columns=features_keys)[\"Temperature\"], label='Predicted')\n",
        "plt.xlabel('Time')\n",
        "plt.ylabel('Temperature')\n",
        "plt.title('Actual vs. Predicted Temperatures (Training Set)')\n",
        "plt.legend()\n",
        "plt.show()"
      ]
    },
    {
      "cell_type": "markdown",
      "metadata": {
        "id": "Kl1Dcsauo0Gl"
      },
      "source": [
        "Save the trained model"
      ]
    },
    {
      "cell_type": "code",
      "execution_count": null,
      "metadata": {
        "id": "juUFGBK3o0Gl"
      },
      "outputs": [],
      "source": [
        "model.save(\"lstm.keras\")"
      ]
    },
    {
      "cell_type": "code",
      "execution_count": null,
      "metadata": {
        "id": "LhXN83TOBkPW"
      },
      "outputs": [],
      "source": [
        "scaled_features\n",
        "scaled_features.copy()[-time_steps:].shape"
      ]
    },
    {
      "cell_type": "code",
      "execution_count": null,
      "metadata": {
        "id": "MyoS6kB6o0Gl"
      },
      "outputs": [],
      "source": [
        "from datetime import timedelta\n",
        "model = tf.keras.models.load_model(\"lstm.keras\")\n",
        "\n",
        "data = scaled_features.copy()[-time_steps:]\n",
        "predicted = []\n",
        "\n",
        "for i in range(1, 31):\n",
        "    scaled_prediction = model.predict(data.reshape(1, time_steps, len(features_keys)))\n",
        "    prediction = scaler.inverse_transform(scaled_prediction)[0]\n",
        "    print(f'{df[\"DateTime\"].max() + timedelta(hours=i)}:', list(map(lambda x: round(x, 6), prediction)))\n",
        "    # print(prediction[0], data, np.append(data, prediction[0]))\n",
        "    data = np.vstack((data, scaled_prediction))\n",
        "    data = np.delete(data, 0, axis=0)\n",
        "    predicted.append(prediction)"
      ]
    },
    {
      "cell_type": "code",
      "execution_count": null,
      "metadata": {
        "id": "ruBB1-8ZG2N_"
      },
      "outputs": [],
      "source": [
        "results = pd.DataFrame(predicted, columns=features_keys, index=[df[\"DateTime\"].max() + timedelta(hours=i) for i in range(1, 31)])\n",
        "results.to_csv(\"predict.csv\")"
      ]
    },
    {
      "cell_type": "code",
      "execution_count": null,
      "metadata": {
        "id": "qmiz_9Meo0Gl"
      },
      "outputs": [],
      "source": [
        "plt.figure(figsize=(12, 6))\n",
        "plt.plot(range(30), np.array(predicted)[:, 0], label='Predicted')\n",
        "plt.xlabel('Time')\n",
        "plt.ylabel('Temperature')\n",
        "plt.title('Predicted Temperatures')\n",
        "plt.legend()\n",
        "plt.show()"
      ]
    }
  ],
  "metadata": {
    "accelerator": "GPU",
    "colab": {
      "gpuType": "T4",
      "provenance": []
    },
    "kernelspec": {
      "display_name": "Python 3",
      "name": "python3"
    },
    "language_info": {
      "codemirror_mode": {
        "name": "ipython",
        "version": 3
      },
      "file_extension": ".py",
      "mimetype": "text/x-python",
      "name": "python",
      "nbconvert_exporter": "python",
      "pygments_lexer": "ipython3",
      "version": "3.10.12"
    }
  },
  "nbformat": 4,
  "nbformat_minor": 0
}
