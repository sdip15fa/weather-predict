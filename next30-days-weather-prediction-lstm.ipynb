{
 "cells": [
  {
   "cell_type": "markdown",
   "metadata": {
    "papermill": {
     "duration": 0.040669,
     "end_time": "2021-03-05T11:14:54.279412",
     "exception": false,
     "start_time": "2021-03-05T11:14:54.238743",
     "status": "completed"
    },
    "tags": []
   },
   "source": [
    "## Weather forecasting using LSTM"
   ]
  },
  {
   "cell_type": "markdown",
   "metadata": {
    "papermill": {
     "duration": 0.037981,
     "end_time": "2021-03-05T11:14:54.355766",
     "exception": false,
     "start_time": "2021-03-05T11:14:54.317785",
     "status": "completed"
    },
    "tags": []
   },
   "source": [
    "#### In this project we are going to use weather dataset for time series forecasting and we are predicting future 30 days weather by using LSTM"
   ]
  },
  {
   "cell_type": "markdown",
   "metadata": {
    "papermill": {
     "duration": 0.037159,
     "end_time": "2021-03-05T11:14:54.431297",
     "exception": false,
     "start_time": "2021-03-05T11:14:54.394138",
     "status": "completed"
    },
    "tags": []
   },
   "source": [
    "Time series analysis is a statistical method to analyse the past data within a given duration of time to forecast the future. It comprises of ordered sequence of data at equally spaced interval.To understand the time series data & the analysis let us consider an example. Consider an example of Airline Passenger data. It has the count of passenger over a period of time.\n",
    "\n"
   ]
  },
  {
   "cell_type": "code",
   "execution_count": 258,
   "metadata": {
    "execution": {
     "iopub.execute_input": "2021-03-05T11:14:54.514744Z",
     "iopub.status.busy": "2021-03-05T11:14:54.513683Z",
     "iopub.status.idle": "2021-03-05T11:14:55.456395Z",
     "shell.execute_reply": "2021-03-05T11:14:55.455607Z"
    },
    "papermill": {
     "duration": 0.987559,
     "end_time": "2021-03-05T11:14:55.456647",
     "exception": false,
     "start_time": "2021-03-05T11:14:54.469088",
     "status": "completed"
    },
    "tags": []
   },
   "outputs": [],
   "source": [
    "import pandas as pd\n",
    "import pandas as pd\n",
    "import numpy as np \n",
    "import seaborn as sns\n",
    "import matplotlib.pyplot as plt\n",
    "%matplotlib inline\n",
    "\n",
    "import warnings\n",
    "warnings.filterwarnings('ignore')\n"
   ]
  },
  {
   "cell_type": "code",
   "execution_count": 259,
   "metadata": {
    "execution": {
     "iopub.execute_input": "2021-03-05T11:14:55.540314Z",
     "iopub.status.busy": "2021-03-05T11:14:55.539522Z",
     "iopub.status.idle": "2021-03-05T11:14:55.905447Z",
     "shell.execute_reply": "2021-03-05T11:14:55.905980Z"
    },
    "papermill": {
     "duration": 0.40912,
     "end_time": "2021-03-05T11:14:55.906153",
     "exception": false,
     "start_time": "2021-03-05T11:14:55.497033",
     "status": "completed"
    },
    "tags": []
   },
   "outputs": [
    {
     "data": {
      "text/html": [
       "<div>\n",
       "<style scoped>\n",
       "    .dataframe tbody tr th:only-of-type {\n",
       "        vertical-align: middle;\n",
       "    }\n",
       "\n",
       "    .dataframe tbody tr th {\n",
       "        vertical-align: top;\n",
       "    }\n",
       "\n",
       "    .dataframe thead th {\n",
       "        text-align: right;\n",
       "    }\n",
       "</style>\n",
       "<table border=\"1\" class=\"dataframe\">\n",
       "  <thead>\n",
       "    <tr style=\"text-align: right;\">\n",
       "      <th></th>\n",
       "      <th>DateTime</th>\n",
       "      <th>Year</th>\n",
       "      <th>Month</th>\n",
       "      <th>Date</th>\n",
       "      <th>Time</th>\n",
       "      <th>Minute</th>\n",
       "      <th>Temperature</th>\n",
       "      <th>Previous Day Average</th>\n",
       "      <th>Two Days Before Average</th>\n",
       "      <th>Three Days Before Average</th>\n",
       "      <th>Last 7 Days Average</th>\n",
       "      <th>Previous Day Wind Speed</th>\n",
       "      <th>Previous Day Rainfall</th>\n",
       "    </tr>\n",
       "  </thead>\n",
       "  <tbody>\n",
       "    <tr>\n",
       "      <th>0</th>\n",
       "      <td>2008-01-08 00:01:00</td>\n",
       "      <td>2008</td>\n",
       "      <td>1</td>\n",
       "      <td>8</td>\n",
       "      <td>0</td>\n",
       "      <td>1</td>\n",
       "      <td>14.7</td>\n",
       "      <td>16.0375</td>\n",
       "      <td>13.475</td>\n",
       "      <td>11.404167</td>\n",
       "      <td>29.403571</td>\n",
       "      <td>18.708333</td>\n",
       "      <td>0.0</td>\n",
       "    </tr>\n",
       "    <tr>\n",
       "      <th>1</th>\n",
       "      <td>2008-01-08 10:01:00</td>\n",
       "      <td>2008</td>\n",
       "      <td>1</td>\n",
       "      <td>8</td>\n",
       "      <td>1</td>\n",
       "      <td>1</td>\n",
       "      <td>15.0</td>\n",
       "      <td>16.0375</td>\n",
       "      <td>13.475</td>\n",
       "      <td>11.404167</td>\n",
       "      <td>29.403571</td>\n",
       "      <td>18.708333</td>\n",
       "      <td>0.0</td>\n",
       "    </tr>\n",
       "    <tr>\n",
       "      <th>2</th>\n",
       "      <td>2008-01-08 20:01:00</td>\n",
       "      <td>2008</td>\n",
       "      <td>1</td>\n",
       "      <td>8</td>\n",
       "      <td>2</td>\n",
       "      <td>1</td>\n",
       "      <td>14.9</td>\n",
       "      <td>16.0375</td>\n",
       "      <td>13.475</td>\n",
       "      <td>11.404167</td>\n",
       "      <td>29.403571</td>\n",
       "      <td>18.708333</td>\n",
       "      <td>0.0</td>\n",
       "    </tr>\n",
       "    <tr>\n",
       "      <th>3</th>\n",
       "      <td>2008-01-08 03:01:00</td>\n",
       "      <td>2008</td>\n",
       "      <td>1</td>\n",
       "      <td>8</td>\n",
       "      <td>3</td>\n",
       "      <td>1</td>\n",
       "      <td>14.9</td>\n",
       "      <td>16.0375</td>\n",
       "      <td>13.475</td>\n",
       "      <td>11.404167</td>\n",
       "      <td>29.403571</td>\n",
       "      <td>18.708333</td>\n",
       "      <td>0.0</td>\n",
       "    </tr>\n",
       "    <tr>\n",
       "      <th>4</th>\n",
       "      <td>2008-01-08 04:01:00</td>\n",
       "      <td>2008</td>\n",
       "      <td>1</td>\n",
       "      <td>8</td>\n",
       "      <td>4</td>\n",
       "      <td>1</td>\n",
       "      <td>15.0</td>\n",
       "      <td>16.0375</td>\n",
       "      <td>13.475</td>\n",
       "      <td>11.404167</td>\n",
       "      <td>29.403571</td>\n",
       "      <td>18.708333</td>\n",
       "      <td>0.0</td>\n",
       "    </tr>\n",
       "  </tbody>\n",
       "</table>\n",
       "</div>"
      ],
      "text/plain": [
       "              DateTime  Year  Month  Date  Time  Minute  Temperature  \\\n",
       "0  2008-01-08 00:01:00  2008      1     8     0       1         14.7   \n",
       "1  2008-01-08 10:01:00  2008      1     8     1       1         15.0   \n",
       "2  2008-01-08 20:01:00  2008      1     8     2       1         14.9   \n",
       "3  2008-01-08 03:01:00  2008      1     8     3       1         14.9   \n",
       "4  2008-01-08 04:01:00  2008      1     8     4       1         15.0   \n",
       "\n",
       "   Previous Day Average  Two Days Before Average  Three Days Before Average  \\\n",
       "0               16.0375                   13.475                  11.404167   \n",
       "1               16.0375                   13.475                  11.404167   \n",
       "2               16.0375                   13.475                  11.404167   \n",
       "3               16.0375                   13.475                  11.404167   \n",
       "4               16.0375                   13.475                  11.404167   \n",
       "\n",
       "   Last 7 Days Average  Previous Day Wind Speed  Previous Day Rainfall  \n",
       "0            29.403571                18.708333                    0.0  \n",
       "1            29.403571                18.708333                    0.0  \n",
       "2            29.403571                18.708333                    0.0  \n",
       "3            29.403571                18.708333                    0.0  \n",
       "4            29.403571                18.708333                    0.0  "
      ]
     },
     "execution_count": 259,
     "metadata": {},
     "output_type": "execute_result"
    }
   ],
   "source": [
    "df= pd.read_csv('data/processed_data.csv')\n",
    "df.head()\n"
   ]
  },
  {
   "cell_type": "code",
   "execution_count": 260,
   "metadata": {},
   "outputs": [],
   "source": [
    "import pandas as pd\n",
    "df[\"DateTime\"] = pd.to_datetime(df[\"DateTime\"], format=\"%Y-%m-%d %H:%M:%S\")"
   ]
  },
  {
   "cell_type": "code",
   "execution_count": 261,
   "metadata": {
    "execution": {
     "iopub.execute_input": "2021-03-05T11:14:56.010804Z",
     "iopub.status.busy": "2021-03-05T11:14:56.009103Z",
     "iopub.status.idle": "2021-03-05T11:14:56.039290Z",
     "shell.execute_reply": "2021-03-05T11:14:56.038512Z"
    },
    "papermill": {
     "duration": 0.094255,
     "end_time": "2021-03-05T11:14:56.039444",
     "exception": false,
     "start_time": "2021-03-05T11:14:55.945189",
     "status": "completed"
    },
    "scrolled": false,
    "tags": []
   },
   "outputs": [],
   "source": [
    "data = pd.DataFrame(list(df['Temperature']), index=df['DateTime'], columns=['Temperature'])\n",
    "df = df[df['Temperature'] != 3276.7]\n",
    "threshold = 5\n",
    "mean_Y = np.mean(df['Temperature'])\n",
    "std_Y = np.std(df['Temperature'])\n",
    "lower_bound = mean_Y - threshold * std_Y\n",
    "upper_bound = mean_Y + threshold * std_Y\n",
    "df = df[(df['Temperature'] >= lower_bound) & (df['Temperature'] <= upper_bound)]\n",
    "df = df.drop_duplicates(subset=[\"Year\", \"Month\", \"Date\", \"Time\"])"
   ]
  },
  {
   "cell_type": "code",
   "execution_count": 262,
   "metadata": {
    "execution": {
     "iopub.execute_input": "2021-03-05T11:14:56.132440Z",
     "iopub.status.busy": "2021-03-05T11:14:56.131387Z",
     "iopub.status.idle": "2021-03-05T11:14:56.136045Z",
     "shell.execute_reply": "2021-03-05T11:14:56.135479Z"
    },
    "papermill": {
     "duration": 0.056596,
     "end_time": "2021-03-05T11:14:56.136191",
     "exception": false,
     "start_time": "2021-03-05T11:14:56.079595",
     "status": "completed"
    },
    "tags": []
   },
   "outputs": [
    {
     "data": {
      "text/html": [
       "<div>\n",
       "<style scoped>\n",
       "    .dataframe tbody tr th:only-of-type {\n",
       "        vertical-align: middle;\n",
       "    }\n",
       "\n",
       "    .dataframe tbody tr th {\n",
       "        vertical-align: top;\n",
       "    }\n",
       "\n",
       "    .dataframe thead th {\n",
       "        text-align: right;\n",
       "    }\n",
       "</style>\n",
       "<table border=\"1\" class=\"dataframe\">\n",
       "  <thead>\n",
       "    <tr style=\"text-align: right;\">\n",
       "      <th></th>\n",
       "      <th>Temperature</th>\n",
       "    </tr>\n",
       "    <tr>\n",
       "      <th>DateTime</th>\n",
       "      <th></th>\n",
       "    </tr>\n",
       "  </thead>\n",
       "  <tbody>\n",
       "    <tr>\n",
       "      <th>2008-01-08 00:01:00</th>\n",
       "      <td>14.7</td>\n",
       "    </tr>\n",
       "    <tr>\n",
       "      <th>2008-01-08 10:01:00</th>\n",
       "      <td>15.0</td>\n",
       "    </tr>\n",
       "    <tr>\n",
       "      <th>2008-01-08 20:01:00</th>\n",
       "      <td>14.9</td>\n",
       "    </tr>\n",
       "    <tr>\n",
       "      <th>2008-01-08 03:01:00</th>\n",
       "      <td>14.9</td>\n",
       "    </tr>\n",
       "    <tr>\n",
       "      <th>2008-01-08 04:01:00</th>\n",
       "      <td>15.0</td>\n",
       "    </tr>\n",
       "    <tr>\n",
       "      <th>...</th>\n",
       "      <td>...</td>\n",
       "    </tr>\n",
       "    <tr>\n",
       "      <th>2023-06-29 03:40:00</th>\n",
       "      <td>21.7</td>\n",
       "    </tr>\n",
       "    <tr>\n",
       "      <th>2023-06-29 03:40:00</th>\n",
       "      <td>21.7</td>\n",
       "    </tr>\n",
       "    <tr>\n",
       "      <th>2023-06-29 03:40:00</th>\n",
       "      <td>21.7</td>\n",
       "    </tr>\n",
       "    <tr>\n",
       "      <th>2023-06-29 03:40:00</th>\n",
       "      <td>21.7</td>\n",
       "    </tr>\n",
       "    <tr>\n",
       "      <th>2023-06-29 03:50:00</th>\n",
       "      <td>21.7</td>\n",
       "    </tr>\n",
       "  </tbody>\n",
       "</table>\n",
       "<p>137787 rows × 1 columns</p>\n",
       "</div>"
      ],
      "text/plain": [
       "                     Temperature\n",
       "DateTime                        \n",
       "2008-01-08 00:01:00         14.7\n",
       "2008-01-08 10:01:00         15.0\n",
       "2008-01-08 20:01:00         14.9\n",
       "2008-01-08 03:01:00         14.9\n",
       "2008-01-08 04:01:00         15.0\n",
       "...                          ...\n",
       "2023-06-29 03:40:00         21.7\n",
       "2023-06-29 03:40:00         21.7\n",
       "2023-06-29 03:40:00         21.7\n",
       "2023-06-29 03:40:00         21.7\n",
       "2023-06-29 03:50:00         21.7\n",
       "\n",
       "[137787 rows x 1 columns]"
      ]
     },
     "execution_count": 262,
     "metadata": {},
     "output_type": "execute_result"
    }
   ],
   "source": [
    "data"
   ]
  },
  {
   "cell_type": "markdown",
   "metadata": {
    "papermill": {
     "duration": 0.040226,
     "end_time": "2021-03-05T11:14:56.216638",
     "exception": false,
     "start_time": "2021-03-05T11:14:56.176412",
     "status": "completed"
    },
    "tags": []
   },
   "source": [
    "Now we are using only data for 365 days"
   ]
  },
  {
   "cell_type": "code",
   "execution_count": 263,
   "metadata": {
    "execution": {
     "iopub.execute_input": "2021-03-05T11:14:56.305365Z",
     "iopub.status.busy": "2021-03-05T11:14:56.304617Z",
     "iopub.status.idle": "2021-03-05T11:14:56.307935Z",
     "shell.execute_reply": "2021-03-05T11:14:56.307391Z"
    },
    "papermill": {
     "duration": 0.051869,
     "end_time": "2021-03-05T11:14:56.308091",
     "exception": false,
     "start_time": "2021-03-05T11:14:56.256222",
     "status": "completed"
    },
    "tags": []
   },
   "outputs": [],
   "source": [
    "# df=data[:365]"
   ]
  },
  {
   "cell_type": "code",
   "execution_count": 264,
   "metadata": {
    "execution": {
     "iopub.execute_input": "2021-03-05T11:14:56.394003Z",
     "iopub.status.busy": "2021-03-05T11:14:56.393007Z",
     "iopub.status.idle": "2021-03-05T11:14:56.397446Z",
     "shell.execute_reply": "2021-03-05T11:14:56.396808Z"
    },
    "papermill": {
     "duration": 0.049053,
     "end_time": "2021-03-05T11:14:56.397598",
     "exception": false,
     "start_time": "2021-03-05T11:14:56.348545",
     "status": "completed"
    },
    "scrolled": true,
    "tags": []
   },
   "outputs": [
    {
     "data": {
      "text/plain": [
       "(134195, 13)"
      ]
     },
     "execution_count": 264,
     "metadata": {},
     "output_type": "execute_result"
    }
   ],
   "source": [
    "df.shape"
   ]
  },
  {
   "cell_type": "code",
   "execution_count": 265,
   "metadata": {
    "execution": {
     "iopub.execute_input": "2021-03-05T11:14:56.485988Z",
     "iopub.status.busy": "2021-03-05T11:14:56.485129Z",
     "iopub.status.idle": "2021-03-05T11:14:56.489920Z",
     "shell.execute_reply": "2021-03-05T11:14:56.489339Z"
    },
    "papermill": {
     "duration": 0.052278,
     "end_time": "2021-03-05T11:14:56.490064",
     "exception": false,
     "start_time": "2021-03-05T11:14:56.437786",
     "status": "completed"
    },
    "tags": []
   },
   "outputs": [
    {
     "data": {
      "text/plain": [
       "DateTime                       0\n",
       "Year                           0\n",
       "Month                          0\n",
       "Date                           0\n",
       "Time                           0\n",
       "Minute                         0\n",
       "Temperature                    0\n",
       "Previous Day Average           0\n",
       "Two Days Before Average        0\n",
       "Three Days Before Average      0\n",
       "Last 7 Days Average            0\n",
       "Previous Day Wind Speed      662\n",
       "Previous Day Rainfall        662\n",
       "dtype: int64"
      ]
     },
     "execution_count": 265,
     "metadata": {},
     "output_type": "execute_result"
    }
   ],
   "source": [
    "df.isnull().sum()"
   ]
  },
  {
   "cell_type": "code",
   "execution_count": 266,
   "metadata": {
    "execution": {
     "iopub.execute_input": "2021-03-05T11:14:56.578185Z",
     "iopub.status.busy": "2021-03-05T11:14:56.577269Z",
     "iopub.status.idle": "2021-03-05T11:14:56.600354Z",
     "shell.execute_reply": "2021-03-05T11:14:56.600842Z"
    },
    "papermill": {
     "duration": 0.06986,
     "end_time": "2021-03-05T11:14:56.601089",
     "exception": false,
     "start_time": "2021-03-05T11:14:56.531229",
     "status": "completed"
    },
    "tags": []
   },
   "outputs": [],
   "source": [
    "df=df.dropna(axis=0)"
   ]
  },
  {
   "cell_type": "code",
   "execution_count": 267,
   "metadata": {
    "execution": {
     "iopub.execute_input": "2021-03-05T11:14:56.689632Z",
     "iopub.status.busy": "2021-03-05T11:14:56.688654Z",
     "iopub.status.idle": "2021-03-05T11:14:56.693613Z",
     "shell.execute_reply": "2021-03-05T11:14:56.694101Z"
    },
    "papermill": {
     "duration": 0.050573,
     "end_time": "2021-03-05T11:14:56.694287",
     "exception": false,
     "start_time": "2021-03-05T11:14:56.643714",
     "status": "completed"
    },
    "tags": []
   },
   "outputs": [
    {
     "data": {
      "text/plain": [
       "(133533, 13)"
      ]
     },
     "execution_count": 267,
     "metadata": {},
     "output_type": "execute_result"
    }
   ],
   "source": [
    "df.shape"
   ]
  },
  {
   "cell_type": "code",
   "execution_count": 268,
   "metadata": {
    "execution": {
     "iopub.execute_input": "2021-03-05T11:14:56.782339Z",
     "iopub.status.busy": "2021-03-05T11:14:56.781267Z",
     "iopub.status.idle": "2021-03-05T11:14:56.786937Z",
     "shell.execute_reply": "2021-03-05T11:14:56.786250Z"
    },
    "papermill": {
     "duration": 0.050401,
     "end_time": "2021-03-05T11:14:56.787137",
     "exception": false,
     "start_time": "2021-03-05T11:14:56.736736",
     "status": "completed"
    },
    "tags": []
   },
   "outputs": [],
   "source": [
    "df=df['Temperature'].values"
   ]
  },
  {
   "cell_type": "code",
   "execution_count": 269,
   "metadata": {
    "execution": {
     "iopub.execute_input": "2021-03-05T11:14:56.883362Z",
     "iopub.status.busy": "2021-03-05T11:14:56.882572Z",
     "iopub.status.idle": "2021-03-05T11:14:56.886418Z",
     "shell.execute_reply": "2021-03-05T11:14:56.886963Z"
    },
    "papermill": {
     "duration": 0.053956,
     "end_time": "2021-03-05T11:14:56.887143",
     "exception": false,
     "start_time": "2021-03-05T11:14:56.833187",
     "status": "completed"
    },
    "tags": []
   },
   "outputs": [
    {
     "data": {
      "text/plain": [
       "array([14.7, 15. , 14.9, 14.9, 15. ])"
      ]
     },
     "execution_count": 269,
     "metadata": {},
     "output_type": "execute_result"
    }
   ],
   "source": [
    "df[:5]"
   ]
  },
  {
   "cell_type": "code",
   "execution_count": 270,
   "metadata": {
    "execution": {
     "iopub.execute_input": "2021-03-05T11:14:56.984410Z",
     "iopub.status.busy": "2021-03-05T11:14:56.983270Z",
     "iopub.status.idle": "2021-03-05T11:14:56.993319Z",
     "shell.execute_reply": "2021-03-05T11:14:56.994157Z"
    },
    "papermill": {
     "duration": 0.0639,
     "end_time": "2021-03-05T11:14:56.994482",
     "exception": false,
     "start_time": "2021-03-05T11:14:56.930582",
     "status": "completed"
    },
    "tags": []
   },
   "outputs": [],
   "source": [
    "df=df.reshape(-1,1)"
   ]
  },
  {
   "cell_type": "code",
   "execution_count": 271,
   "metadata": {
    "execution": {
     "iopub.execute_input": "2021-03-05T11:14:57.123719Z",
     "iopub.status.busy": "2021-03-05T11:14:57.122203Z",
     "iopub.status.idle": "2021-03-05T11:14:57.353224Z",
     "shell.execute_reply": "2021-03-05T11:14:57.352657Z"
    },
    "papermill": {
     "duration": 0.30178,
     "end_time": "2021-03-05T11:14:57.353367",
     "exception": false,
     "start_time": "2021-03-05T11:14:57.051587",
     "status": "completed"
    },
    "tags": []
   },
   "outputs": [
    {
     "data": {
      "image/png": "[encoded data removed]",
      "text/plain": [
       "<Figure size 2500x700 with 1 Axes>"
      ]
     },
     "metadata": {},
     "output_type": "display_data"
    }
   ],
   "source": [
    "plt.figure(figsize=(25, 7))\n",
    "plt.plot(df, linewidth=1)\n",
    "# plt.grid()\n",
    "plt.title(\"Time Series (temperature month wise for 1 year)\")\n",
    "plt.show()"
   ]
  },
  {
   "cell_type": "markdown",
   "metadata": {
    "papermill": {
     "duration": 0.043563,
     "end_time": "2021-03-05T11:14:57.441375",
     "exception": false,
     "start_time": "2021-03-05T11:14:57.397812",
     "status": "completed"
    },
    "tags": []
   },
   "source": [
    "#### Scaling data "
   ]
  },
  {
   "cell_type": "code",
   "execution_count": 272,
   "metadata": {
    "execution": {
     "iopub.execute_input": "2021-03-05T11:14:57.535894Z",
     "iopub.status.busy": "2021-03-05T11:14:57.535188Z",
     "iopub.status.idle": "2021-03-05T11:14:57.799478Z",
     "shell.execute_reply": "2021-03-05T11:14:57.800058Z"
    },
    "papermill": {
     "duration": 0.313972,
     "end_time": "2021-03-05T11:14:57.800237",
     "exception": false,
     "start_time": "2021-03-05T11:14:57.486265",
     "status": "completed"
    },
    "tags": []
   },
   "outputs": [],
   "source": [
    "from sklearn.preprocessing import MinMaxScaler\n",
    "scaler = MinMaxScaler(feature_range=(0, 1))\n",
    "data_scaled = scaler.fit_transform(df)"
   ]
  },
  {
   "cell_type": "code",
   "execution_count": 273,
   "metadata": {
    "execution": {
     "iopub.execute_input": "2021-03-05T11:14:57.892090Z",
     "iopub.status.busy": "2021-03-05T11:14:57.891377Z",
     "iopub.status.idle": "2021-03-05T11:14:57.896336Z",
     "shell.execute_reply": "2021-03-05T11:14:57.896954Z"
    },
    "papermill": {
     "duration": 0.052649,
     "end_time": "2021-03-05T11:14:57.897123",
     "exception": false,
     "start_time": "2021-03-05T11:14:57.844474",
     "status": "completed"
    },
    "tags": []
   },
   "outputs": [
    {
     "data": {
      "text/plain": [
       "array([[0.58974359],\n",
       "       [0.5982906 ],\n",
       "       [0.5954416 ],\n",
       "       [0.5954416 ],\n",
       "       [0.5982906 ]])"
      ]
     },
     "execution_count": 273,
     "metadata": {},
     "output_type": "execute_result"
    }
   ],
   "source": [
    "data_scaled[:5]"
   ]
  },
  {
   "cell_type": "code",
   "execution_count": 274,
   "metadata": {
    "execution": {
     "iopub.execute_input": "2021-03-05T11:14:57.989811Z",
     "iopub.status.busy": "2021-03-05T11:14:57.989192Z",
     "iopub.status.idle": "2021-03-05T11:14:57.995215Z",
     "shell.execute_reply": "2021-03-05T11:14:57.994623Z"
    },
    "papermill": {
     "duration": 0.053716,
     "end_time": "2021-03-05T11:14:57.995384",
     "exception": false,
     "start_time": "2021-03-05T11:14:57.941668",
     "status": "completed"
    },
    "tags": []
   },
   "outputs": [
    {
     "data": {
      "text/plain": [
       "(133533, 1)"
      ]
     },
     "execution_count": 274,
     "metadata": {},
     "output_type": "execute_result"
    }
   ],
   "source": [
    "data_scaled.shape"
   ]
  },
  {
   "cell_type": "code",
   "execution_count": 275,
   "metadata": {
    "execution": {
     "iopub.execute_input": "2021-03-05T11:14:58.185280Z",
     "iopub.status.busy": "2021-03-05T11:14:58.184505Z",
     "iopub.status.idle": "2021-03-05T11:14:58.186643Z",
     "shell.execute_reply": "2021-03-05T11:14:58.187207Z"
    },
    "papermill": {
     "duration": 0.055344,
     "end_time": "2021-03-05T11:14:58.187377",
     "exception": false,
     "start_time": "2021-03-05T11:14:58.132033",
     "status": "completed"
    },
    "tags": []
   },
   "outputs": [],
   "source": [
    "steps= 20\n",
    "inp = []\n",
    "out = []\n",
    "for i in range(len(data_scaled) - (steps)):\n",
    "    inp.append(data_scaled[i:i+steps])\n",
    "    out.append(data_scaled[i+steps])"
   ]
  },
  {
   "cell_type": "code",
   "execution_count": 276,
   "metadata": {
    "execution": {
     "iopub.execute_input": "2021-03-05T11:14:58.371933Z",
     "iopub.status.busy": "2021-03-05T11:14:58.371308Z",
     "iopub.status.idle": "2021-03-05T11:14:58.377291Z",
     "shell.execute_reply": "2021-03-05T11:14:58.377821Z"
    },
    "papermill": {
     "duration": 0.054612,
     "end_time": "2021-03-05T11:14:58.378009",
     "exception": false,
     "start_time": "2021-03-05T11:14:58.323397",
     "status": "completed"
    },
    "tags": []
   },
   "outputs": [
    {
     "data": {
      "text/plain": [
       "[array([0.62108262]),\n",
       " array([0.62108262]),\n",
       " array([0.6039886]),\n",
       " array([0.60683761]),\n",
       " array([0.6011396]),\n",
       " array([0.58974359]),\n",
       " array([0.57834758]),\n",
       " array([0.58689459]),\n",
       " array([0.60968661]),\n",
       " array([0.6039886])]"
      ]
     },
     "execution_count": 276,
     "metadata": {},
     "output_type": "execute_result"
    }
   ],
   "source": [
    "out[:10]"
   ]
  },
  {
   "cell_type": "markdown",
   "metadata": {
    "papermill": {
     "duration": 0.046093,
     "end_time": "2021-03-05T11:14:58.469653",
     "exception": false,
     "start_time": "2021-03-05T11:14:58.423560",
     "status": "completed"
    },
    "tags": []
   },
   "source": [
    "reshape "
   ]
  },
  {
   "cell_type": "code",
   "execution_count": 277,
   "metadata": {
    "execution": {
     "iopub.execute_input": "2021-03-05T11:14:58.564653Z",
     "iopub.status.busy": "2021-03-05T11:14:58.563977Z",
     "iopub.status.idle": "2021-03-05T11:14:58.567445Z",
     "shell.execute_reply": "2021-03-05T11:14:58.567999Z"
    },
    "papermill": {
     "duration": 0.052449,
     "end_time": "2021-03-05T11:14:58.568178",
     "exception": false,
     "start_time": "2021-03-05T11:14:58.515729",
     "status": "completed"
    },
    "tags": []
   },
   "outputs": [],
   "source": [
    "import numpy as np"
   ]
  },
  {
   "cell_type": "code",
   "execution_count": 278,
   "metadata": {
    "execution": {
     "iopub.execute_input": "2021-03-05T11:14:58.663813Z",
     "iopub.status.busy": "2021-03-05T11:14:58.663146Z",
     "iopub.status.idle": "2021-03-05T11:14:58.667589Z",
     "shell.execute_reply": "2021-03-05T11:14:58.668124Z"
    },
    "papermill": {
     "duration": 0.054314,
     "end_time": "2021-03-05T11:14:58.668298",
     "exception": false,
     "start_time": "2021-03-05T11:14:58.613984",
     "status": "completed"
    },
    "tags": []
   },
   "outputs": [],
   "source": [
    "inp= np.asanyarray(inp)\n",
    "out= np.asanyarray(out)"
   ]
  },
  {
   "cell_type": "code",
   "execution_count": 279,
   "metadata": {
    "execution": {
     "iopub.execute_input": "2021-03-05T11:14:58.853784Z",
     "iopub.status.busy": "2021-03-05T11:14:58.853189Z",
     "iopub.status.idle": "2021-03-05T11:14:58.857592Z",
     "shell.execute_reply": "2021-03-05T11:14:58.858197Z"
    },
    "papermill": {
     "duration": 0.05334,
     "end_time": "2021-03-05T11:14:58.858365",
     "exception": false,
     "start_time": "2021-03-05T11:14:58.805025",
     "status": "completed"
    },
    "tags": []
   },
   "outputs": [
    {
     "data": {
      "text/plain": [
       "86796.45"
      ]
     },
     "execution_count": 279,
     "metadata": {},
     "output_type": "execute_result"
    }
   ],
   "source": [
    "len(df)*0.65"
   ]
  },
  {
   "cell_type": "code",
   "execution_count": 280,
   "metadata": {
    "execution": {
     "iopub.execute_input": "2021-03-05T11:14:58.953960Z",
     "iopub.status.busy": "2021-03-05T11:14:58.953278Z",
     "iopub.status.idle": "2021-03-05T11:14:58.957556Z",
     "shell.execute_reply": "2021-03-05T11:14:58.958113Z"
    },
    "papermill": {
     "duration": 0.053707,
     "end_time": "2021-03-05T11:14:58.958292",
     "exception": false,
     "start_time": "2021-03-05T11:14:58.904585",
     "status": "completed"
    },
    "tags": []
   },
   "outputs": [],
   "source": [
    "x_train = inp[:237,:,:]\n",
    "x_test = inp[237:,:,:]    \n",
    "y_train = out[:237]    \n",
    "y_test= out[237:]"
   ]
  },
  {
   "cell_type": "code",
   "execution_count": 281,
   "metadata": {
    "execution": {
     "iopub.execute_input": "2021-03-05T11:14:59.055643Z",
     "iopub.status.busy": "2021-03-05T11:14:59.055038Z",
     "iopub.status.idle": "2021-03-05T11:14:59.059716Z",
     "shell.execute_reply": "2021-03-05T11:14:59.060284Z"
    },
    "papermill": {
     "duration": 0.054388,
     "end_time": "2021-03-05T11:14:59.060459",
     "exception": false,
     "start_time": "2021-03-05T11:14:59.006071",
     "status": "completed"
    },
    "tags": []
   },
   "outputs": [
    {
     "data": {
      "text/plain": [
       "(133513, 20, 1)"
      ]
     },
     "execution_count": 281,
     "metadata": {},
     "output_type": "execute_result"
    }
   ],
   "source": [
    "inp.shape"
   ]
  },
  {
   "cell_type": "code",
   "execution_count": 282,
   "metadata": {
    "execution": {
     "iopub.execute_input": "2021-03-05T11:14:59.158122Z",
     "iopub.status.busy": "2021-03-05T11:14:59.157436Z",
     "iopub.status.idle": "2021-03-05T11:14:59.162099Z",
     "shell.execute_reply": "2021-03-05T11:14:59.162608Z"
    },
    "papermill": {
     "duration": 0.05527,
     "end_time": "2021-03-05T11:14:59.162783",
     "exception": false,
     "start_time": "2021-03-05T11:14:59.107513",
     "status": "completed"
    },
    "tags": []
   },
   "outputs": [
    {
     "data": {
      "text/plain": [
       "(237, 20, 1)"
      ]
     },
     "execution_count": 282,
     "metadata": {},
     "output_type": "execute_result"
    }
   ],
   "source": [
    "x_train.shape"
   ]
  },
  {
   "cell_type": "code",
   "execution_count": 283,
   "metadata": {
    "execution": {
     "iopub.execute_input": "2021-03-05T11:14:59.262976Z",
     "iopub.status.busy": "2021-03-05T11:14:59.262039Z",
     "iopub.status.idle": "2021-03-05T11:14:59.267203Z",
     "shell.execute_reply": "2021-03-05T11:14:59.267695Z"
    },
    "papermill": {
     "duration": 0.056435,
     "end_time": "2021-03-05T11:14:59.267897",
     "exception": false,
     "start_time": "2021-03-05T11:14:59.211462",
     "status": "completed"
    },
    "tags": []
   },
   "outputs": [
    {
     "data": {
      "text/plain": [
       "(133276, 20, 1)"
      ]
     },
     "execution_count": 283,
     "metadata": {},
     "output_type": "execute_result"
    }
   ],
   "source": [
    "x_test.shape"
   ]
  },
  {
   "cell_type": "code",
   "execution_count": 284,
   "metadata": {
    "execution": {
     "iopub.execute_input": "2021-03-05T11:14:59.470347Z",
     "iopub.status.busy": "2021-03-05T11:14:59.469677Z",
     "iopub.status.idle": "2021-03-05T11:15:05.555089Z",
     "shell.execute_reply": "2021-03-05T11:15:05.554311Z"
    },
    "papermill": {
     "duration": 6.139083,
     "end_time": "2021-03-05T11:15:05.555588",
     "exception": false,
     "start_time": "2021-03-05T11:14:59.416505",
     "status": "completed"
    },
    "tags": []
   },
   "outputs": [],
   "source": [
    "import matplotlib.pyplot as plt\n",
    "import seaborn as sns\n",
    "from tensorflow.keras.layers import Dense,RepeatVector, LSTM, Dropout\n",
    "from tensorflow.keras.layers import Flatten, Conv1D, MaxPooling1D\n",
    "from tensorflow.keras.layers import Bidirectional, Dropout\n",
    "from tensorflow.keras.models import Sequential\n",
    "from tensorflow.keras.utils import plot_model\n",
    "from tensorflow import keras"
   ]
  },
  {
   "cell_type": "markdown",
   "metadata": {
    "papermill": {
     "duration": 0.04888,
     "end_time": "2021-03-05T11:15:05.655468",
     "exception": false,
     "start_time": "2021-03-05T11:15:05.606588",
     "status": "completed"
    },
    "tags": []
   },
   "source": [
    "### Model Building"
   ]
  },
  {
   "cell_type": "code",
   "execution_count": 285,
   "metadata": {
    "execution": {
     "iopub.execute_input": "2021-03-05T11:15:05.767569Z",
     "iopub.status.busy": "2021-03-05T11:15:05.766650Z",
     "iopub.status.idle": "2021-03-05T11:15:07.471795Z",
     "shell.execute_reply": "2021-03-05T11:15:07.472348Z"
    },
    "papermill": {
     "duration": 1.76587,
     "end_time": "2021-03-05T11:15:07.472584",
     "exception": false,
     "start_time": "2021-03-05T11:15:05.706714",
     "status": "completed"
    },
    "tags": []
   },
   "outputs": [
    {
     "name": "stderr",
     "output_type": "stream",
     "text": [
      "2023-06-29 19:00:14.893146: I tensorflow/core/common_runtime/executor.cc:1197] [/device:CPU:0] (DEBUG INFO) Executor start aborting (this does not indicate an error and you can ignore this message): INVALID_ARGUMENT: You must feed a value for placeholder tensor 'gradients/split_2_grad/concat/split_2/split_dim' with dtype int32\n",
      "\t [[{{node gradients/split_2_grad/concat/split_2/split_dim}}]]\n",
      "2023-06-29 19:00:14.895417: I tensorflow/core/common_runtime/executor.cc:1197] [/device:CPU:0] (DEBUG INFO) Executor start aborting (this does not indicate an error and you can ignore this message): INVALID_ARGUMENT: You must feed a value for placeholder tensor 'gradients/split_grad/concat/split/split_dim' with dtype int32\n",
      "\t [[{{node gradients/split_grad/concat/split/split_dim}}]]\n",
      "2023-06-29 19:00:14.897129: I tensorflow/core/common_runtime/executor.cc:1197] [/device:CPU:0] (DEBUG INFO) Executor start aborting (this does not indicate an error and you can ignore this message): INVALID_ARGUMENT: You must feed a value for placeholder tensor 'gradients/split_1_grad/concat/split_1/split_dim' with dtype int32\n",
      "\t [[{{node gradients/split_1_grad/concat/split_1/split_dim}}]]\n"
     ]
    },
    {
     "name": "stderr",
     "output_type": "stream",
     "text": [
      "2023-06-29 19:00:15.229113: I tensorflow/core/common_runtime/executor.cc:1197] [/device:CPU:0] (DEBUG INFO) Executor start aborting (this does not indicate an error and you can ignore this message): INVALID_ARGUMENT: You must feed a value for placeholder tensor 'gradients/split_2_grad/concat/split_2/split_dim' with dtype int32\n",
      "\t [[{{node gradients/split_2_grad/concat/split_2/split_dim}}]]\n",
      "2023-06-29 19:00:15.231826: I tensorflow/core/common_runtime/executor.cc:1197] [/device:CPU:0] (DEBUG INFO) Executor start aborting (this does not indicate an error and you can ignore this message): INVALID_ARGUMENT: You must feed a value for placeholder tensor 'gradients/split_grad/concat/split/split_dim' with dtype int32\n",
      "\t [[{{node gradients/split_grad/concat/split/split_dim}}]]\n",
      "2023-06-29 19:00:15.233797: I tensorflow/core/common_runtime/executor.cc:1197] [/device:CPU:0] (DEBUG INFO) Executor start aborting (this does not indicate an error and you can ignore this message): INVALID_ARGUMENT: You must feed a value for placeholder tensor 'gradients/split_1_grad/concat/split_1/split_dim' with dtype int32\n",
      "\t [[{{node gradients/split_1_grad/concat/split_1/split_dim}}]]\n",
      "2023-06-29 19:00:15.593562: I tensorflow/core/common_runtime/executor.cc:1197] [/device:CPU:0] (DEBUG INFO) Executor start aborting (this does not indicate an error and you can ignore this message): INVALID_ARGUMENT: You must feed a value for placeholder tensor 'gradients/split_2_grad/concat/split_2/split_dim' with dtype int32\n",
      "\t [[{{node gradients/split_2_grad/concat/split_2/split_dim}}]]\n",
      "2023-06-29 19:00:15.595286: I tensorflow/core/common_runtime/executor.cc:1197] [/device:CPU:0] (DEBUG INFO) Executor start aborting (this does not indicate an error and you can ignore this message): INVALID_ARGUMENT: You must feed a value for placeholder tensor 'gradients/split_grad/concat/split/split_dim' with dtype int32\n",
      "\t [[{{node gradients/split_grad/concat/split/split_dim}}]]\n",
      "2023-06-29 19:00:15.598776: I tensorflow/core/common_runtime/executor.cc:1197] [/device:CPU:0] (DEBUG INFO) Executor start aborting (this does not indicate an error and you can ignore this message): INVALID_ARGUMENT: You must feed a value for placeholder tensor 'gradients/split_1_grad/concat/split_1/split_dim' with dtype int32\n",
      "\t [[{{node gradients/split_1_grad/concat/split_1/split_dim}}]]\n"
     ]
    }
   ],
   "source": [
    "model = Sequential()\n",
    "model.add(LSTM(50, return_sequences= True, input_shape=(20,1)))\n",
    "model.add(LSTM(50, return_sequences=True))\n",
    "model.add(LSTM(50))\n",
    "model.add(Dense(1))\n",
    "model.compile(loss='mae', optimizer='adam')"
   ]
  },
  {
   "cell_type": "code",
   "execution_count": 286,
   "metadata": {
    "execution": {
     "iopub.execute_input": "2021-03-05T11:15:07.575560Z",
     "iopub.status.busy": "2021-03-05T11:15:07.574530Z",
     "iopub.status.idle": "2021-03-05T11:16:25.418976Z",
     "shell.execute_reply": "2021-03-05T11:16:25.418344Z"
    },
    "papermill": {
     "duration": 77.896396,
     "end_time": "2021-03-05T11:16:25.419139",
     "exception": false,
     "start_time": "2021-03-05T11:15:07.522743",
     "status": "completed"
    },
    "scrolled": true,
    "tags": []
   },
   "outputs": [
    {
     "name": "stdout",
     "output_type": "stream",
     "text": [
      "Epoch 1/300\n"
     ]
    },
    {
     "name": "stderr",
     "output_type": "stream",
     "text": [
      "2023-06-29 19:00:16.146018: I tensorflow/core/common_runtime/executor.cc:1197] [/device:CPU:0] (DEBUG INFO) Executor start aborting (this does not indicate an error and you can ignore this message): INVALID_ARGUMENT: You must feed a value for placeholder tensor 'gradients/split_2_grad/concat/split_2/split_dim' with dtype int32\n",
      "\t [[{{node gradients/split_2_grad/concat/split_2/split_dim}}]]\n",
      "2023-06-29 19:00:16.150587: I tensorflow/core/common_runtime/executor.cc:1197] [/device:CPU:0] (DEBUG INFO) Executor start aborting (this does not indicate an error and you can ignore this message): INVALID_ARGUMENT: You must feed a value for placeholder tensor 'gradients/split_grad/concat/split/split_dim' with dtype int32\n",
      "\t [[{{node gradients/split_grad/concat/split/split_dim}}]]\n",
      "2023-06-29 19:00:16.152783: I tensorflow/core/common_runtime/executor.cc:1197] [/device:CPU:0] (DEBUG INFO) Executor start aborting (this does not indicate an error and you can ignore this message): INVALID_ARGUMENT: You must feed a value for placeholder tensor 'gradients/split_1_grad/concat/split_1/split_dim' with dtype int32\n",
      "\t [[{{node gradients/split_1_grad/concat/split_1/split_dim}}]]\n",
      "2023-06-29 19:00:16.529604: I tensorflow/core/common_runtime/executor.cc:1197] [/device:CPU:0] (DEBUG INFO) Executor start aborting (this does not indicate an error and you can ignore this message): INVALID_ARGUMENT: You must feed a value for placeholder tensor 'gradients/split_2_grad/concat/split_2/split_dim' with dtype int32\n",
      "\t [[{{node gradients/split_2_grad/concat/split_2/split_dim}}]]\n",
      "2023-06-29 19:00:16.531732: I tensorflow/core/common_runtime/executor.cc:1197] [/device:CPU:0] (DEBUG INFO) Executor start aborting (this does not indicate an error and you can ignore this message): INVALID_ARGUMENT: You must feed a value for placeholder tensor 'gradients/split_grad/concat/split/split_dim' with dtype int32\n",
      "\t [[{{node gradients/split_grad/concat/split/split_dim}}]]\n",
      "2023-06-29 19:00:16.533536: I tensorflow/core/common_runtime/executor.cc:1197] [/device:CPU:0] (DEBUG INFO) Executor start aborting (this does not indicate an error and you can ignore this message): INVALID_ARGUMENT: You must feed a value for placeholder tensor 'gradients/split_1_grad/concat/split_1/split_dim' with dtype int32\n",
      "\t [[{{node gradients/split_1_grad/concat/split_1/split_dim}}]]\n",
      "2023-06-29 19:00:16.866847: I tensorflow/core/common_runtime/executor.cc:1197] [/device:CPU:0] (DEBUG INFO) Executor start aborting (this does not indicate an error and you can ignore this message): INVALID_ARGUMENT: You must feed a value for placeholder tensor 'gradients/split_2_grad/concat/split_2/split_dim' with dtype int32\n",
      "\t [[{{node gradients/split_2_grad/concat/split_2/split_dim}}]]\n",
      "2023-06-29 19:00:16.868991: I tensorflow/core/common_runtime/executor.cc:1197] [/device:CPU:0] (DEBUG INFO) Executor start aborting (this does not indicate an error and you can ignore this message): INVALID_ARGUMENT: You must feed a value for placeholder tensor 'gradients/split_grad/concat/split/split_dim' with dtype int32\n",
      "\t [[{{node gradients/split_grad/concat/split/split_dim}}]]\n",
      "2023-06-29 19:00:16.871932: I tensorflow/core/common_runtime/executor.cc:1197] [/device:CPU:0] (DEBUG INFO) Executor start aborting (this does not indicate an error and you can ignore this message): INVALID_ARGUMENT: You must feed a value for placeholder tensor 'gradients/split_1_grad/concat/split_1/split_dim' with dtype int32\n",
      "\t [[{{node gradients/split_1_grad/concat/split_1/split_dim}}]]\n",
      "2023-06-29 19:00:18.315486: I tensorflow/core/common_runtime/executor.cc:1197] [/device:CPU:0] (DEBUG INFO) Executor start aborting (this does not indicate an error and you can ignore this message): INVALID_ARGUMENT: You must feed a value for placeholder tensor 'gradients/split_2_grad/concat/split_2/split_dim' with dtype int32\n",
      "\t [[{{node gradients/split_2_grad/concat/split_2/split_dim}}]]\n",
      "2023-06-29 19:00:18.317218: I tensorflow/core/common_runtime/executor.cc:1197] [/device:CPU:0] (DEBUG INFO) Executor start aborting (this does not indicate an error and you can ignore this message): INVALID_ARGUMENT: You must feed a value for placeholder tensor 'gradients/split_grad/concat/split/split_dim' with dtype int32\n",
      "\t [[{{node gradients/split_grad/concat/split/split_dim}}]]\n",
      "2023-06-29 19:00:18.318500: I tensorflow/core/common_runtime/executor.cc:1197] [/device:CPU:0] (DEBUG INFO) Executor start aborting (this does not indicate an error and you can ignore this message): INVALID_ARGUMENT: You must feed a value for placeholder tensor 'gradients/split_1_grad/concat/split_1/split_dim' with dtype int32\n",
      "\t [[{{node gradients/split_1_grad/concat/split_1/split_dim}}]]\n",
      "2023-06-29 19:00:18.688753: I tensorflow/core/common_runtime/executor.cc:1197] [/device:CPU:0] (DEBUG INFO) Executor start aborting (this does not indicate an error and you can ignore this message): INVALID_ARGUMENT: You must feed a value for placeholder tensor 'gradients/split_2_grad/concat/split_2/split_dim' with dtype int32\n",
      "\t [[{{node gradients/split_2_grad/concat/split_2/split_dim}}]]\n",
      "2023-06-29 19:00:18.692467: I tensorflow/core/common_runtime/executor.cc:1197] [/device:CPU:0] (DEBUG INFO) Executor start aborting (this does not indicate an error and you can ignore this message): INVALID_ARGUMENT: You must feed a value for placeholder tensor 'gradients/split_grad/concat/split/split_dim' with dtype int32\n",
      "\t [[{{node gradients/split_grad/concat/split/split_dim}}]]\n",
      "2023-06-29 19:00:18.695151: I tensorflow/core/common_runtime/executor.cc:1197] [/device:CPU:0] (DEBUG INFO) Executor start aborting (this does not indicate an error and you can ignore this message): INVALID_ARGUMENT: You must feed a value for placeholder tensor 'gradients/split_1_grad/concat/split_1/split_dim' with dtype int32\n",
      "\t [[{{node gradients/split_1_grad/concat/split_1/split_dim}}]]\n",
      "2023-06-29 19:00:18.986326: I tensorflow/core/common_runtime/executor.cc:1197] [/device:CPU:0] (DEBUG INFO) Executor start aborting (this does not indicate an error and you can ignore this message): INVALID_ARGUMENT: You must feed a value for placeholder tensor 'gradients/split_2_grad/concat/split_2/split_dim' with dtype int32\n",
      "\t [[{{node gradients/split_2_grad/concat/split_2/split_dim}}]]\n",
      "2023-06-29 19:00:18.989237: I tensorflow/core/common_runtime/executor.cc:1197] [/device:CPU:0] (DEBUG INFO) Executor start aborting (this does not indicate an error and you can ignore this message): INVALID_ARGUMENT: You must feed a value for placeholder tensor 'gradients/split_grad/concat/split/split_dim' with dtype int32\n",
      "\t [[{{node gradients/split_grad/concat/split/split_dim}}]]\n",
      "2023-06-29 19:00:18.992074: I tensorflow/core/common_runtime/executor.cc:1197] [/device:CPU:0] (DEBUG INFO) Executor start aborting (this does not indicate an error and you can ignore this message): INVALID_ARGUMENT: You must feed a value for placeholder tensor 'gradients/split_1_grad/concat/split_1/split_dim' with dtype int32\n",
      "\t [[{{node gradients/split_1_grad/concat/split_1/split_dim}}]]\n"
     ]
    },
    {
     "name": "stdout",
     "output_type": "stream",
     "text": [
      "7/8 [=========================>....] - ETA: 0s - loss: 0.2567WARNING:tensorflow:Early stopping conditioned on metric `val_loss` which is not available. Available metrics are: loss\n",
      "WARNING:tensorflow:Learning rate reduction is conditioned on metric `val_loss` which is not available. Available metrics are: loss,lr\n",
      "8/8 [==============================] - 6s 28ms/step - loss: 0.2512 - lr: 0.0010\n",
      "Epoch 2/300\n",
      "7/8 [=========================>....] - ETA: 0s - loss: 0.0830WARNING:tensorflow:Early stopping conditioned on metric `val_loss` which is not available. Available metrics are: loss\n",
      "WARNING:tensorflow:Learning rate reduction is conditioned on metric `val_loss` which is not available. Available metrics are: loss,lr\n",
      "8/8 [==============================] - 0s 23ms/step - loss: 0.0841 - lr: 0.0010\n",
      "Epoch 3/300\n",
      "7/8 [=========================>....] - ETA: 0s - loss: 0.0754WARNING:tensorflow:Early stopping conditioned on metric `val_loss` which is not available. Available metrics are: loss\n",
      "WARNING:tensorflow:Learning rate reduction is conditioned on metric `val_loss` which is not available. Available metrics are: loss,lr\n",
      "8/8 [==============================] - 0s 24ms/step - loss: 0.0741 - lr: 0.0010\n",
      "Epoch 4/300\n",
      "7/8 [=========================>....] - ETA: 0s - loss: 0.0628WARNING:tensorflow:Early stopping conditioned on metric `val_loss` which is not available. Available metrics are: loss\n",
      "WARNING:tensorflow:Learning rate reduction is conditioned on metric `val_loss` which is not available. Available metrics are: loss,lr\n",
      "8/8 [==============================] - 0s 24ms/step - loss: 0.0623 - lr: 0.0010\n",
      "Epoch 5/300\n",
      "7/8 [=========================>....] - ETA: 0s - loss: 0.0535WARNING:tensorflow:Early stopping conditioned on metric `val_loss` which is not available. Available metrics are: loss\n",
      "WARNING:tensorflow:Learning rate reduction is conditioned on metric `val_loss` which is not available. Available metrics are: loss,lr\n",
      "8/8 [==============================] - 0s 23ms/step - loss: 0.0533 - lr: 0.0010\n",
      "Epoch 6/300\n",
      "7/8 [=========================>....] - ETA: 0s - loss: 0.0500WARNING:tensorflow:Early stopping conditioned on metric `val_loss` which is not available. Available metrics are: loss\n",
      "WARNING:tensorflow:Learning rate reduction is conditioned on metric `val_loss` which is not available. Available metrics are: loss,lr\n",
      "8/8 [==============================] - 0s 30ms/step - loss: 0.0500 - lr: 0.0010\n",
      "Epoch 7/300\n",
      "7/8 [=========================>....] - ETA: 0s - loss: 0.0457WARNING:tensorflow:Early stopping conditioned on metric `val_loss` which is not available. Available metrics are: loss\n",
      "WARNING:tensorflow:Learning rate reduction is conditioned on metric `val_loss` which is not available. Available metrics are: loss,lr\n",
      "8/8 [==============================] - 0s 28ms/step - loss: 0.0453 - lr: 0.0010\n",
      "Epoch 8/300\n",
      "7/8 [=========================>....] - ETA: 0s - loss: 0.0483WARNING:tensorflow:Early stopping conditioned on metric `val_loss` which is not available. Available metrics are: loss\n",
      "WARNING:tensorflow:Learning rate reduction is conditioned on metric `val_loss` which is not available. Available metrics are: loss,lr\n",
      "8/8 [==============================] - 0s 29ms/step - loss: 0.0476 - lr: 0.0010\n",
      "Epoch 9/300\n",
      "6/8 [=====================>........] - ETA: 0s - loss: 0.0472WARNING:tensorflow:Early stopping conditioned on metric `val_loss` which is not available. Available metrics are: loss\n",
      "WARNING:tensorflow:Learning rate reduction is conditioned on metric `val_loss` which is not available. Available metrics are: loss,lr\n",
      "8/8 [==============================] - 0s 25ms/step - loss: 0.0458 - lr: 0.0010\n",
      "Epoch 10/300\n",
      "7/8 [=========================>....] - ETA: 0s - loss: 0.0431WARNING:tensorflow:Early stopping conditioned on metric `val_loss` which is not available. Available metrics are: loss\n",
      "WARNING:tensorflow:Learning rate reduction is conditioned on metric `val_loss` which is not available. Available metrics are: loss,lr\n",
      "8/8 [==============================] - 0s 23ms/step - loss: 0.0432 - lr: 0.0010\n",
      "Epoch 11/300\n",
      "7/8 [=========================>....] - ETA: 0s - loss: 0.0429WARNING:tensorflow:Early stopping conditioned on metric `val_loss` which is not available. Available metrics are: loss\n",
      "WARNING:tensorflow:Learning rate reduction is conditioned on metric `val_loss` which is not available. Available metrics are: loss,lr\n",
      "8/8 [==============================] - 0s 24ms/step - loss: 0.0427 - lr: 0.0010\n",
      "Epoch 12/300\n",
      "7/8 [=========================>....] - ETA: 0s - loss: 0.0426WARNING:tensorflow:Early stopping conditioned on metric `val_loss` which is not available. Available metrics are: loss\n",
      "WARNING:tensorflow:Learning rate reduction is conditioned on metric `val_loss` which is not available. Available metrics are: loss,lr\n",
      "8/8 [==============================] - 0s 22ms/step - loss: 0.0422 - lr: 0.0010\n",
      "Epoch 13/300\n",
      "7/8 [=========================>....] - ETA: 0s - loss: 0.0423WARNING:tensorflow:Early stopping conditioned on metric `val_loss` which is not available. Available metrics are: loss\n",
      "WARNING:tensorflow:Learning rate reduction is conditioned on metric `val_loss` which is not available. Available metrics are: loss,lr\n",
      "8/8 [==============================] - 0s 22ms/step - loss: 0.0427 - lr: 0.0010\n",
      "Epoch 14/300\n",
      "7/8 [=========================>....] - ETA: 0s - loss: 0.0409WARNING:tensorflow:Early stopping conditioned on metric `val_loss` which is not available. Available metrics are: loss\n",
      "WARNING:tensorflow:Learning rate reduction is conditioned on metric `val_loss` which is not available. Available metrics are: loss,lr\n",
      "8/8 [==============================] - 0s 23ms/step - loss: 0.0411 - lr: 0.0010\n",
      "Epoch 15/300\n",
      "8/8 [==============================] - ETA: 0s - loss: 0.0414WARNING:tensorflow:Early stopping conditioned on metric `val_loss` which is not available. Available metrics are: loss\n",
      "WARNING:tensorflow:Learning rate reduction is conditioned on metric `val_loss` which is not available. Available metrics are: loss,lr\n",
      "8/8 [==============================] - 0s 31ms/step - loss: 0.0414 - lr: 0.0010\n",
      "Epoch 16/300\n",
      "7/8 [=========================>....] - ETA: 0s - loss: 0.0435WARNING:tensorflow:Early stopping conditioned on metric `val_loss` which is not available. Available metrics are: loss\n",
      "WARNING:tensorflow:Learning rate reduction is conditioned on metric `val_loss` which is not available. Available metrics are: loss,lr\n",
      "8/8 [==============================] - 0s 29ms/step - loss: 0.0430 - lr: 0.0010\n",
      "Epoch 17/300\n",
      "8/8 [==============================] - ETA: 0s - loss: 0.0448WARNING:tensorflow:Early stopping conditioned on metric `val_loss` which is not available. Available metrics are: loss\n",
      "WARNING:tensorflow:Learning rate reduction is conditioned on metric `val_loss` which is not available. Available metrics are: loss,lr\n",
      "8/8 [==============================] - 0s 26ms/step - loss: 0.0448 - lr: 0.0010\n",
      "Epoch 18/300\n",
      "7/8 [=========================>....] - ETA: 0s - loss: 0.0424WARNING:tensorflow:Early stopping conditioned on metric `val_loss` which is not available. Available metrics are: loss\n",
      "WARNING:tensorflow:Learning rate reduction is conditioned on metric `val_loss` which is not available. Available metrics are: loss,lr\n",
      "8/8 [==============================] - 0s 24ms/step - loss: 0.0427 - lr: 0.0010\n",
      "Epoch 19/300\n",
      "8/8 [==============================] - ETA: 0s - loss: 0.0433WARNING:tensorflow:Early stopping conditioned on metric `val_loss` which is not available. Available metrics are: loss\n",
      "WARNING:tensorflow:Learning rate reduction is conditioned on metric `val_loss` which is not available. Available metrics are: loss,lr\n",
      "8/8 [==============================] - 0s 26ms/step - loss: 0.0433 - lr: 0.0010\n",
      "Epoch 20/300\n",
      "7/8 [=========================>....] - ETA: 0s - loss: 0.0409WARNING:tensorflow:Early stopping conditioned on metric `val_loss` which is not available. Available metrics are: loss\n",
      "WARNING:tensorflow:Learning rate reduction is conditioned on metric `val_loss` which is not available. Available metrics are: loss,lr\n",
      "8/8 [==============================] - 0s 23ms/step - loss: 0.0401 - lr: 0.0010\n",
      "Epoch 21/300\n",
      "7/8 [=========================>....] - ETA: 0s - loss: 0.0430WARNING:tensorflow:Early stopping conditioned on metric `val_loss` which is not available. Available metrics are: loss\n",
      "WARNING:tensorflow:Learning rate reduction is conditioned on metric `val_loss` which is not available. Available metrics are: loss,lr\n",
      "8/8 [==============================] - 0s 22ms/step - loss: 0.0428 - lr: 0.0010\n",
      "Epoch 22/300\n",
      "7/8 [=========================>....] - ETA: 0s - loss: 0.0395WARNING:tensorflow:Early stopping conditioned on metric `val_loss` which is not available. Available metrics are: loss\n",
      "WARNING:tensorflow:Learning rate reduction is conditioned on metric `val_loss` which is not available. Available metrics are: loss,lr\n",
      "8/8 [==============================] - 0s 21ms/step - loss: 0.0398 - lr: 0.0010\n",
      "Epoch 23/300\n",
      "7/8 [=========================>....] - ETA: 0s - loss: 0.0399WARNING:tensorflow:Early stopping conditioned on metric `val_loss` which is not available. Available metrics are: loss\n",
      "WARNING:tensorflow:Learning rate reduction is conditioned on metric `val_loss` which is not available. Available metrics are: loss,lr\n",
      "8/8 [==============================] - 0s 22ms/step - loss: 0.0389 - lr: 0.0010\n",
      "Epoch 24/300\n",
      "7/8 [=========================>....] - ETA: 0s - loss: 0.0392WARNING:tensorflow:Early stopping conditioned on metric `val_loss` which is not available. Available metrics are: loss\n",
      "WARNING:tensorflow:Learning rate reduction is conditioned on metric `val_loss` which is not available. Available metrics are: loss,lr\n",
      "8/8 [==============================] - 0s 20ms/step - loss: 0.0389 - lr: 0.0010\n",
      "Epoch 25/300\n",
      "7/8 [=========================>....] - ETA: 0s - loss: 0.0413WARNING:tensorflow:Early stopping conditioned on metric `val_loss` which is not available. Available metrics are: loss\n",
      "WARNING:tensorflow:Learning rate reduction is conditioned on metric `val_loss` which is not available. Available metrics are: loss,lr\n",
      "8/8 [==============================] - 0s 21ms/step - loss: 0.0410 - lr: 0.0010\n",
      "Epoch 26/300\n",
      "7/8 [=========================>....] - ETA: 0s - loss: 0.0400WARNING:tensorflow:Early stopping conditioned on metric `val_loss` which is not available. Available metrics are: loss\n",
      "WARNING:tensorflow:Learning rate reduction is conditioned on metric `val_loss` which is not available. Available metrics are: loss,lr\n",
      "8/8 [==============================] - 0s 21ms/step - loss: 0.0398 - lr: 0.0010\n",
      "Epoch 27/300\n",
      "7/8 [=========================>....] - ETA: 0s - loss: 0.0433WARNING:tensorflow:Early stopping conditioned on metric `val_loss` which is not available. Available metrics are: loss\n",
      "WARNING:tensorflow:Learning rate reduction is conditioned on metric `val_loss` which is not available. Available metrics are: loss,lr\n",
      "8/8 [==============================] - 0s 22ms/step - loss: 0.0431 - lr: 0.0010\n",
      "Epoch 28/300\n",
      "7/8 [=========================>....] - ETA: 0s - loss: 0.0396WARNING:tensorflow:Early stopping conditioned on metric `val_loss` which is not available. Available metrics are: loss\n",
      "WARNING:tensorflow:Learning rate reduction is conditioned on metric `val_loss` which is not available. Available metrics are: loss,lr\n",
      "8/8 [==============================] - 0s 21ms/step - loss: 0.0395 - lr: 0.0010\n",
      "Epoch 29/300\n",
      "7/8 [=========================>....] - ETA: 0s - loss: 0.0387WARNING:tensorflow:Early stopping conditioned on metric `val_loss` which is not available. Available metrics are: loss\n",
      "WARNING:tensorflow:Learning rate reduction is conditioned on metric `val_loss` which is not available. Available metrics are: loss,lr\n",
      "8/8 [==============================] - 0s 22ms/step - loss: 0.0394 - lr: 0.0010\n",
      "Epoch 30/300\n",
      "7/8 [=========================>....] - ETA: 0s - loss: 0.0382WARNING:tensorflow:Early stopping conditioned on metric `val_loss` which is not available. Available metrics are: loss\n",
      "WARNING:tensorflow:Learning rate reduction is conditioned on metric `val_loss` which is not available. Available metrics are: loss,lr\n",
      "8/8 [==============================] - 0s 21ms/step - loss: 0.0386 - lr: 0.0010\n",
      "Epoch 31/300\n",
      "7/8 [=========================>....] - ETA: 0s - loss: 0.0388WARNING:tensorflow:Early stopping conditioned on metric `val_loss` which is not available. Available metrics are: loss\n",
      "WARNING:tensorflow:Learning rate reduction is conditioned on metric `val_loss` which is not available. Available metrics are: loss,lr\n",
      "8/8 [==============================] - 0s 21ms/step - loss: 0.0389 - lr: 0.0010\n",
      "Epoch 32/300\n",
      "7/8 [=========================>....] - ETA: 0s - loss: 0.0407WARNING:tensorflow:Early stopping conditioned on metric `val_loss` which is not available. Available metrics are: loss\n",
      "WARNING:tensorflow:Learning rate reduction is conditioned on metric `val_loss` which is not available. Available metrics are: loss,lr\n",
      "8/8 [==============================] - 0s 22ms/step - loss: 0.0401 - lr: 0.0010\n",
      "Epoch 33/300\n",
      "7/8 [=========================>....] - ETA: 0s - loss: 0.0371WARNING:tensorflow:Early stopping conditioned on metric `val_loss` which is not available. Available metrics are: loss\n",
      "WARNING:tensorflow:Learning rate reduction is conditioned on metric `val_loss` which is not available. Available metrics are: loss,lr\n",
      "8/8 [==============================] - 0s 21ms/step - loss: 0.0370 - lr: 0.0010\n",
      "Epoch 34/300\n",
      "7/8 [=========================>....] - ETA: 0s - loss: 0.0360WARNING:tensorflow:Early stopping conditioned on metric `val_loss` which is not available. Available metrics are: loss\n",
      "WARNING:tensorflow:Learning rate reduction is conditioned on metric `val_loss` which is not available. Available metrics are: loss,lr\n",
      "8/8 [==============================] - 0s 20ms/step - loss: 0.0362 - lr: 0.0010\n",
      "Epoch 35/300\n",
      "7/8 [=========================>....] - ETA: 0s - loss: 0.0376WARNING:tensorflow:Early stopping conditioned on metric `val_loss` which is not available. Available metrics are: loss\n",
      "WARNING:tensorflow:Learning rate reduction is conditioned on metric `val_loss` which is not available. Available metrics are: loss,lr\n",
      "8/8 [==============================] - 0s 22ms/step - loss: 0.0373 - lr: 0.0010\n",
      "Epoch 36/300\n",
      "7/8 [=========================>....] - ETA: 0s - loss: 0.0341WARNING:tensorflow:Early stopping conditioned on metric `val_loss` which is not available. Available metrics are: loss\n",
      "WARNING:tensorflow:Learning rate reduction is conditioned on metric `val_loss` which is not available. Available metrics are: loss,lr\n",
      "8/8 [==============================] - 0s 20ms/step - loss: 0.0349 - lr: 0.0010\n",
      "Epoch 37/300\n",
      "7/8 [=========================>....] - ETA: 0s - loss: 0.0353WARNING:tensorflow:Early stopping conditioned on metric `val_loss` which is not available. Available metrics are: loss\n",
      "WARNING:tensorflow:Learning rate reduction is conditioned on metric `val_loss` which is not available. Available metrics are: loss,lr\n",
      "8/8 [==============================] - 0s 20ms/step - loss: 0.0358 - lr: 0.0010\n",
      "Epoch 38/300\n",
      "7/8 [=========================>....] - ETA: 0s - loss: 0.0372WARNING:tensorflow:Early stopping conditioned on metric `val_loss` which is not available. Available metrics are: loss\n",
      "WARNING:tensorflow:Learning rate reduction is conditioned on metric `val_loss` which is not available. Available metrics are: loss,lr\n",
      "8/8 [==============================] - 0s 21ms/step - loss: 0.0369 - lr: 0.0010\n",
      "Epoch 39/300\n",
      "7/8 [=========================>....] - ETA: 0s - loss: 0.0342WARNING:tensorflow:Early stopping conditioned on metric `val_loss` which is not available. Available metrics are: loss\n",
      "WARNING:tensorflow:Learning rate reduction is conditioned on metric `val_loss` which is not available. Available metrics are: loss,lr\n",
      "8/8 [==============================] - 0s 20ms/step - loss: 0.0341 - lr: 0.0010\n",
      "Epoch 40/300\n",
      "7/8 [=========================>....] - ETA: 0s - loss: 0.0342WARNING:tensorflow:Early stopping conditioned on metric `val_loss` which is not available. Available metrics are: loss\n",
      "WARNING:tensorflow:Learning rate reduction is conditioned on metric `val_loss` which is not available. Available metrics are: loss,lr\n",
      "8/8 [==============================] - 0s 20ms/step - loss: 0.0338 - lr: 0.0010\n",
      "Epoch 41/300\n",
      "7/8 [=========================>....] - ETA: 0s - loss: 0.0333WARNING:tensorflow:Early stopping conditioned on metric `val_loss` which is not available. Available metrics are: loss\n",
      "WARNING:tensorflow:Learning rate reduction is conditioned on metric `val_loss` which is not available. Available metrics are: loss,lr\n",
      "8/8 [==============================] - 0s 22ms/step - loss: 0.0330 - lr: 0.0010\n",
      "Epoch 42/300\n",
      "7/8 [=========================>....] - ETA: 0s - loss: 0.0328WARNING:tensorflow:Early stopping conditioned on metric `val_loss` which is not available. Available metrics are: loss\n",
      "WARNING:tensorflow:Learning rate reduction is conditioned on metric `val_loss` which is not available. Available metrics are: loss,lr\n",
      "8/8 [==============================] - 0s 21ms/step - loss: 0.0327 - lr: 0.0010\n",
      "Epoch 43/300\n",
      "7/8 [=========================>....] - ETA: 0s - loss: 0.0321WARNING:tensorflow:Early stopping conditioned on metric `val_loss` which is not available. Available metrics are: loss\n",
      "WARNING:tensorflow:Learning rate reduction is conditioned on metric `val_loss` which is not available. Available metrics are: loss,lr\n",
      "8/8 [==============================] - 0s 21ms/step - loss: 0.0320 - lr: 0.0010\n",
      "Epoch 44/300\n",
      "7/8 [=========================>....] - ETA: 0s - loss: 0.0385WARNING:tensorflow:Early stopping conditioned on metric `val_loss` which is not available. Available metrics are: loss\n",
      "WARNING:tensorflow:Learning rate reduction is conditioned on metric `val_loss` which is not available. Available metrics are: loss,lr\n",
      "8/8 [==============================] - 0s 21ms/step - loss: 0.0380 - lr: 0.0010\n",
      "Epoch 45/300\n",
      "7/8 [=========================>....] - ETA: 0s - loss: 0.0349WARNING:tensorflow:Early stopping conditioned on metric `val_loss` which is not available. Available metrics are: loss\n",
      "WARNING:tensorflow:Learning rate reduction is conditioned on metric `val_loss` which is not available. Available metrics are: loss,lr\n",
      "8/8 [==============================] - 0s 20ms/step - loss: 0.0355 - lr: 0.0010\n",
      "Epoch 46/300\n",
      "7/8 [=========================>....] - ETA: 0s - loss: 0.0347WARNING:tensorflow:Early stopping conditioned on metric `val_loss` which is not available. Available metrics are: loss\n",
      "WARNING:tensorflow:Learning rate reduction is conditioned on metric `val_loss` which is not available. Available metrics are: loss,lr\n",
      "8/8 [==============================] - 0s 20ms/step - loss: 0.0346 - lr: 0.0010\n",
      "Epoch 47/300\n",
      "7/8 [=========================>....] - ETA: 0s - loss: 0.0356WARNING:tensorflow:Early stopping conditioned on metric `val_loss` which is not available. Available metrics are: loss\n",
      "WARNING:tensorflow:Learning rate reduction is conditioned on metric `val_loss` which is not available. Available metrics are: loss,lr\n",
      "8/8 [==============================] - 0s 20ms/step - loss: 0.0349 - lr: 0.0010\n",
      "Epoch 48/300\n",
      "7/8 [=========================>....] - ETA: 0s - loss: 0.0301WARNING:tensorflow:Early stopping conditioned on metric `val_loss` which is not available. Available metrics are: loss\n",
      "WARNING:tensorflow:Learning rate reduction is conditioned on metric `val_loss` which is not available. Available metrics are: loss,lr\n",
      "8/8 [==============================] - 0s 21ms/step - loss: 0.0301 - lr: 0.0010\n",
      "Epoch 49/300\n",
      "7/8 [=========================>....] - ETA: 0s - loss: 0.0292WARNING:tensorflow:Early stopping conditioned on metric `val_loss` which is not available. Available metrics are: loss\n",
      "WARNING:tensorflow:Learning rate reduction is conditioned on metric `val_loss` which is not available. Available metrics are: loss,lr\n",
      "8/8 [==============================] - 0s 21ms/step - loss: 0.0288 - lr: 0.0010\n",
      "Epoch 50/300\n",
      "7/8 [=========================>....] - ETA: 0s - loss: 0.0289WARNING:tensorflow:Early stopping conditioned on metric `val_loss` which is not available. Available metrics are: loss\n",
      "WARNING:tensorflow:Learning rate reduction is conditioned on metric `val_loss` which is not available. Available metrics are: loss,lr\n",
      "8/8 [==============================] - 0s 21ms/step - loss: 0.0287 - lr: 0.0010\n",
      "Epoch 51/300\n",
      "7/8 [=========================>....] - ETA: 0s - loss: 0.0338WARNING:tensorflow:Early stopping conditioned on metric `val_loss` which is not available. Available metrics are: loss\n",
      "WARNING:tensorflow:Learning rate reduction is conditioned on metric `val_loss` which is not available. Available metrics are: loss,lr\n",
      "8/8 [==============================] - 0s 20ms/step - loss: 0.0336 - lr: 0.0010\n",
      "Epoch 52/300\n",
      "7/8 [=========================>....] - ETA: 0s - loss: 0.0276WARNING:tensorflow:Early stopping conditioned on metric `val_loss` which is not available. Available metrics are: loss\n",
      "WARNING:tensorflow:Learning rate reduction is conditioned on metric `val_loss` which is not available. Available metrics are: loss,lr\n",
      "8/8 [==============================] - 0s 21ms/step - loss: 0.0276 - lr: 0.0010\n",
      "Epoch 53/300\n",
      "7/8 [=========================>....] - ETA: 0s - loss: 0.0263WARNING:tensorflow:Early stopping conditioned on metric `val_loss` which is not available. Available metrics are: loss\n",
      "WARNING:tensorflow:Learning rate reduction is conditioned on metric `val_loss` which is not available. Available metrics are: loss,lr\n",
      "8/8 [==============================] - 0s 20ms/step - loss: 0.0265 - lr: 0.0010\n",
      "Epoch 54/300\n",
      "7/8 [=========================>....] - ETA: 0s - loss: 0.0289WARNING:tensorflow:Early stopping conditioned on metric `val_loss` which is not available. Available metrics are: loss\n",
      "WARNING:tensorflow:Learning rate reduction is conditioned on metric `val_loss` which is not available. Available metrics are: loss,lr\n",
      "8/8 [==============================] - 0s 20ms/step - loss: 0.0299 - lr: 0.0010\n",
      "Epoch 55/300\n",
      "7/8 [=========================>....] - ETA: 0s - loss: 0.0271WARNING:tensorflow:Early stopping conditioned on metric `val_loss` which is not available. Available metrics are: loss\n",
      "WARNING:tensorflow:Learning rate reduction is conditioned on metric `val_loss` which is not available. Available metrics are: loss,lr\n",
      "8/8 [==============================] - 0s 20ms/step - loss: 0.0271 - lr: 0.0010\n",
      "Epoch 56/300\n",
      "7/8 [=========================>....] - ETA: 0s - loss: 0.0409WARNING:tensorflow:Early stopping conditioned on metric `val_loss` which is not available. Available metrics are: loss\n",
      "WARNING:tensorflow:Learning rate reduction is conditioned on metric `val_loss` which is not available. Available metrics are: loss,lr\n",
      "8/8 [==============================] - 0s 21ms/step - loss: 0.0405 - lr: 0.0010\n",
      "Epoch 57/300\n",
      "7/8 [=========================>....] - ETA: 0s - loss: 0.0364WARNING:tensorflow:Early stopping conditioned on metric `val_loss` which is not available. Available metrics are: loss\n",
      "WARNING:tensorflow:Learning rate reduction is conditioned on metric `val_loss` which is not available. Available metrics are: loss,lr\n",
      "8/8 [==============================] - 0s 21ms/step - loss: 0.0363 - lr: 0.0010\n",
      "Epoch 58/300\n",
      "7/8 [=========================>....] - ETA: 0s - loss: 0.0296WARNING:tensorflow:Early stopping conditioned on metric `val_loss` which is not available. Available metrics are: loss\n",
      "WARNING:tensorflow:Learning rate reduction is conditioned on metric `val_loss` which is not available. Available metrics are: loss,lr\n",
      "8/8 [==============================] - 0s 21ms/step - loss: 0.0295 - lr: 0.0010\n",
      "Epoch 59/300\n",
      "7/8 [=========================>....] - ETA: 0s - loss: 0.0257WARNING:tensorflow:Early stopping conditioned on metric `val_loss` which is not available. Available metrics are: loss\n",
      "WARNING:tensorflow:Learning rate reduction is conditioned on metric `val_loss` which is not available. Available metrics are: loss,lr\n",
      "8/8 [==============================] - 0s 21ms/step - loss: 0.0259 - lr: 0.0010\n",
      "Epoch 60/300\n",
      "7/8 [=========================>....] - ETA: 0s - loss: 0.0271WARNING:tensorflow:Early stopping conditioned on metric `val_loss` which is not available. Available metrics are: loss\n",
      "WARNING:tensorflow:Learning rate reduction is conditioned on metric `val_loss` which is not available. Available metrics are: loss,lr\n",
      "8/8 [==============================] - 0s 21ms/step - loss: 0.0273 - lr: 0.0010\n",
      "Epoch 61/300\n",
      "6/8 [=====================>........] - ETA: 0s - loss: 0.0256WARNING:tensorflow:Early stopping conditioned on metric `val_loss` which is not available. Available metrics are: loss\n",
      "WARNING:tensorflow:Learning rate reduction is conditioned on metric `val_loss` which is not available. Available metrics are: loss,lr\n",
      "8/8 [==============================] - 0s 24ms/step - loss: 0.0265 - lr: 0.0010\n",
      "Epoch 62/300\n",
      "7/8 [=========================>....] - ETA: 0s - loss: 0.0259WARNING:tensorflow:Early stopping conditioned on metric `val_loss` which is not available. Available metrics are: loss\n",
      "WARNING:tensorflow:Learning rate reduction is conditioned on metric `val_loss` which is not available. Available metrics are: loss,lr\n",
      "8/8 [==============================] - 0s 22ms/step - loss: 0.0254 - lr: 0.0010\n",
      "Epoch 63/300\n",
      "7/8 [=========================>....] - ETA: 0s - loss: 0.0263WARNING:tensorflow:Early stopping conditioned on metric `val_loss` which is not available. Available metrics are: loss\n",
      "WARNING:tensorflow:Learning rate reduction is conditioned on metric `val_loss` which is not available. Available metrics are: loss,lr\n",
      "8/8 [==============================] - 0s 21ms/step - loss: 0.0262 - lr: 0.0010\n",
      "Epoch 64/300\n",
      "7/8 [=========================>....] - ETA: 0s - loss: 0.0281WARNING:tensorflow:Early stopping conditioned on metric `val_loss` which is not available. Available metrics are: loss\n",
      "WARNING:tensorflow:Learning rate reduction is conditioned on metric `val_loss` which is not available. Available metrics are: loss,lr\n",
      "8/8 [==============================] - 0s 21ms/step - loss: 0.0277 - lr: 0.0010\n",
      "Epoch 65/300\n",
      "7/8 [=========================>....] - ETA: 0s - loss: 0.0249WARNING:tensorflow:Early stopping conditioned on metric `val_loss` which is not available. Available metrics are: loss\n",
      "WARNING:tensorflow:Learning rate reduction is conditioned on metric `val_loss` which is not available. Available metrics are: loss,lr\n",
      "8/8 [==============================] - 0s 22ms/step - loss: 0.0248 - lr: 0.0010\n",
      "Epoch 66/300\n",
      "7/8 [=========================>....] - ETA: 0s - loss: 0.0269WARNING:tensorflow:Early stopping conditioned on metric `val_loss` which is not available. Available metrics are: loss\n",
      "WARNING:tensorflow:Learning rate reduction is conditioned on metric `val_loss` which is not available. Available metrics are: loss,lr\n",
      "8/8 [==============================] - 0s 21ms/step - loss: 0.0263 - lr: 0.0010\n",
      "Epoch 67/300\n",
      "7/8 [=========================>....] - ETA: 0s - loss: 0.0231WARNING:tensorflow:Early stopping conditioned on metric `val_loss` which is not available. Available metrics are: loss\n",
      "WARNING:tensorflow:Learning rate reduction is conditioned on metric `val_loss` which is not available. Available metrics are: loss,lr\n",
      "8/8 [==============================] - 0s 22ms/step - loss: 0.0231 - lr: 0.0010\n",
      "Epoch 68/300\n",
      "7/8 [=========================>....] - ETA: 0s - loss: 0.0239WARNING:tensorflow:Early stopping conditioned on metric `val_loss` which is not available. Available metrics are: loss\n",
      "WARNING:tensorflow:Learning rate reduction is conditioned on metric `val_loss` which is not available. Available metrics are: loss,lr\n",
      "8/8 [==============================] - 0s 23ms/step - loss: 0.0240 - lr: 0.0010\n",
      "Epoch 69/300\n",
      "7/8 [=========================>....] - ETA: 0s - loss: 0.0244WARNING:tensorflow:Early stopping conditioned on metric `val_loss` which is not available. Available metrics are: loss\n",
      "WARNING:tensorflow:Learning rate reduction is conditioned on metric `val_loss` which is not available. Available metrics are: loss,lr\n",
      "8/8 [==============================] - 0s 22ms/step - loss: 0.0241 - lr: 0.0010\n",
      "Epoch 70/300\n",
      "7/8 [=========================>....] - ETA: 0s - loss: 0.0222WARNING:tensorflow:Early stopping conditioned on metric `val_loss` which is not available. Available metrics are: loss\n",
      "WARNING:tensorflow:Learning rate reduction is conditioned on metric `val_loss` which is not available. Available metrics are: loss,lr\n",
      "8/8 [==============================] - 0s 21ms/step - loss: 0.0223 - lr: 0.0010\n",
      "Epoch 71/300\n",
      "7/8 [=========================>....] - ETA: 0s - loss: 0.0234WARNING:tensorflow:Early stopping conditioned on metric `val_loss` which is not available. Available metrics are: loss\n",
      "WARNING:tensorflow:Learning rate reduction is conditioned on metric `val_loss` which is not available. Available metrics are: loss,lr\n",
      "8/8 [==============================] - 0s 23ms/step - loss: 0.0233 - lr: 0.0010\n",
      "Epoch 72/300\n",
      "8/8 [==============================] - ETA: 0s - loss: 0.0220WARNING:tensorflow:Early stopping conditioned on metric `val_loss` which is not available. Available metrics are: loss\n",
      "WARNING:tensorflow:Learning rate reduction is conditioned on metric `val_loss` which is not available. Available metrics are: loss,lr\n",
      "8/8 [==============================] - 0s 29ms/step - loss: 0.0220 - lr: 0.0010\n",
      "Epoch 73/300\n",
      "6/8 [=====================>........] - ETA: 0s - loss: 0.0238WARNING:tensorflow:Early stopping conditioned on metric `val_loss` which is not available. Available metrics are: loss\n",
      "WARNING:tensorflow:Learning rate reduction is conditioned on metric `val_loss` which is not available. Available metrics are: loss,lr\n",
      "8/8 [==============================] - 0s 26ms/step - loss: 0.0245 - lr: 0.0010\n",
      "Epoch 74/300\n",
      "7/8 [=========================>....] - ETA: 0s - loss: 0.0220WARNING:tensorflow:Early stopping conditioned on metric `val_loss` which is not available. Available metrics are: loss\n",
      "WARNING:tensorflow:Learning rate reduction is conditioned on metric `val_loss` which is not available. Available metrics are: loss,lr\n",
      "8/8 [==============================] - 0s 24ms/step - loss: 0.0217 - lr: 0.0010\n",
      "Epoch 75/300\n",
      "7/8 [=========================>....] - ETA: 0s - loss: 0.0217WARNING:tensorflow:Early stopping conditioned on metric `val_loss` which is not available. Available metrics are: loss\n",
      "WARNING:tensorflow:Learning rate reduction is conditioned on metric `val_loss` which is not available. Available metrics are: loss,lr\n",
      "8/8 [==============================] - 0s 22ms/step - loss: 0.0217 - lr: 0.0010\n",
      "Epoch 76/300\n",
      "7/8 [=========================>....] - ETA: 0s - loss: 0.0206WARNING:tensorflow:Early stopping conditioned on metric `val_loss` which is not available. Available metrics are: loss\n",
      "WARNING:tensorflow:Learning rate reduction is conditioned on metric `val_loss` which is not available. Available metrics are: loss,lr\n",
      "8/8 [==============================] - 0s 22ms/step - loss: 0.0206 - lr: 0.0010\n",
      "Epoch 77/300\n",
      "7/8 [=========================>....] - ETA: 0s - loss: 0.0220WARNING:tensorflow:Early stopping conditioned on metric `val_loss` which is not available. Available metrics are: loss\n",
      "WARNING:tensorflow:Learning rate reduction is conditioned on metric `val_loss` which is not available. Available metrics are: loss,lr\n",
      "8/8 [==============================] - 0s 24ms/step - loss: 0.0222 - lr: 0.0010\n",
      "Epoch 78/300\n",
      "7/8 [=========================>....] - ETA: 0s - loss: 0.0222WARNING:tensorflow:Early stopping conditioned on metric `val_loss` which is not available. Available metrics are: loss\n",
      "WARNING:tensorflow:Learning rate reduction is conditioned on metric `val_loss` which is not available. Available metrics are: loss,lr\n",
      "8/8 [==============================] - 0s 23ms/step - loss: 0.0220 - lr: 0.0010\n",
      "Epoch 79/300\n",
      "6/8 [=====================>........] - ETA: 0s - loss: 0.0216WARNING:tensorflow:Early stopping conditioned on metric `val_loss` which is not available. Available metrics are: loss\n",
      "WARNING:tensorflow:Learning rate reduction is conditioned on metric `val_loss` which is not available. Available metrics are: loss,lr\n",
      "8/8 [==============================] - 0s 24ms/step - loss: 0.0221 - lr: 0.0010\n",
      "Epoch 80/300\n",
      "7/8 [=========================>....] - ETA: 0s - loss: 0.0222WARNING:tensorflow:Early stopping conditioned on metric `val_loss` which is not available. Available metrics are: loss\n",
      "WARNING:tensorflow:Learning rate reduction is conditioned on metric `val_loss` which is not available. Available metrics are: loss,lr\n",
      "8/8 [==============================] - 0s 21ms/step - loss: 0.0222 - lr: 0.0010\n",
      "Epoch 81/300\n",
      "7/8 [=========================>....] - ETA: 0s - loss: 0.0216WARNING:tensorflow:Early stopping conditioned on metric `val_loss` which is not available. Available metrics are: loss\n",
      "WARNING:tensorflow:Learning rate reduction is conditioned on metric `val_loss` which is not available. Available metrics are: loss,lr\n",
      "8/8 [==============================] - 0s 22ms/step - loss: 0.0218 - lr: 0.0010\n",
      "Epoch 82/300\n",
      "7/8 [=========================>....] - ETA: 0s - loss: 0.0216WARNING:tensorflow:Early stopping conditioned on metric `val_loss` which is not available. Available metrics are: loss\n",
      "WARNING:tensorflow:Learning rate reduction is conditioned on metric `val_loss` which is not available. Available metrics are: loss,lr\n",
      "8/8 [==============================] - 0s 21ms/step - loss: 0.0218 - lr: 0.0010\n",
      "Epoch 83/300\n",
      "7/8 [=========================>....] - ETA: 0s - loss: 0.0255WARNING:tensorflow:Early stopping conditioned on metric `val_loss` which is not available. Available metrics are: loss\n",
      "WARNING:tensorflow:Learning rate reduction is conditioned on metric `val_loss` which is not available. Available metrics are: loss,lr\n",
      "8/8 [==============================] - 0s 21ms/step - loss: 0.0250 - lr: 0.0010\n",
      "Epoch 84/300\n",
      "7/8 [=========================>....] - ETA: 0s - loss: 0.0221WARNING:tensorflow:Early stopping conditioned on metric `val_loss` which is not available. Available metrics are: loss\n",
      "WARNING:tensorflow:Learning rate reduction is conditioned on metric `val_loss` which is not available. Available metrics are: loss,lr\n",
      "8/8 [==============================] - 0s 22ms/step - loss: 0.0224 - lr: 0.0010\n",
      "Epoch 85/300\n",
      "7/8 [=========================>....] - ETA: 0s - loss: 0.0219WARNING:tensorflow:Early stopping conditioned on metric `val_loss` which is not available. Available metrics are: loss\n",
      "WARNING:tensorflow:Learning rate reduction is conditioned on metric `val_loss` which is not available. Available metrics are: loss,lr\n",
      "8/8 [==============================] - 0s 22ms/step - loss: 0.0216 - lr: 0.0010\n",
      "Epoch 86/300\n",
      "7/8 [=========================>....] - ETA: 0s - loss: 0.0200WARNING:tensorflow:Early stopping conditioned on metric `val_loss` which is not available. Available metrics are: loss\n",
      "WARNING:tensorflow:Learning rate reduction is conditioned on metric `val_loss` which is not available. Available metrics are: loss,lr\n",
      "8/8 [==============================] - 0s 21ms/step - loss: 0.0200 - lr: 0.0010\n",
      "Epoch 87/300\n",
      "6/8 [=====================>........] - ETA: 0s - loss: 0.0189WARNING:tensorflow:Early stopping conditioned on metric `val_loss` which is not available. Available metrics are: loss\n",
      "WARNING:tensorflow:Learning rate reduction is conditioned on metric `val_loss` which is not available. Available metrics are: loss,lr\n",
      "8/8 [==============================] - 0s 23ms/step - loss: 0.0190 - lr: 0.0010\n",
      "Epoch 88/300\n",
      "7/8 [=========================>....] - ETA: 0s - loss: 0.0204WARNING:tensorflow:Early stopping conditioned on metric `val_loss` which is not available. Available metrics are: loss\n",
      "WARNING:tensorflow:Learning rate reduction is conditioned on metric `val_loss` which is not available. Available metrics are: loss,lr\n",
      "8/8 [==============================] - 0s 23ms/step - loss: 0.0200 - lr: 0.0010\n",
      "Epoch 89/300\n",
      "7/8 [=========================>....] - ETA: 0s - loss: 0.0197WARNING:tensorflow:Early stopping conditioned on metric `val_loss` which is not available. Available metrics are: loss\n",
      "WARNING:tensorflow:Learning rate reduction is conditioned on metric `val_loss` which is not available. Available metrics are: loss,lr\n",
      "8/8 [==============================] - 0s 22ms/step - loss: 0.0200 - lr: 0.0010\n",
      "Epoch 90/300\n",
      "7/8 [=========================>....] - ETA: 0s - loss: 0.0196WARNING:tensorflow:Early stopping conditioned on metric `val_loss` which is not available. Available metrics are: loss\n",
      "WARNING:tensorflow:Learning rate reduction is conditioned on metric `val_loss` which is not available. Available metrics are: loss,lr\n",
      "8/8 [==============================] - 0s 23ms/step - loss: 0.0198 - lr: 0.0010\n",
      "Epoch 91/300\n",
      "7/8 [=========================>....] - ETA: 0s - loss: 0.0239WARNING:tensorflow:Early stopping conditioned on metric `val_loss` which is not available. Available metrics are: loss\n",
      "WARNING:tensorflow:Learning rate reduction is conditioned on metric `val_loss` which is not available. Available metrics are: loss,lr\n",
      "8/8 [==============================] - 0s 21ms/step - loss: 0.0240 - lr: 0.0010\n",
      "Epoch 92/300\n",
      "7/8 [=========================>....] - ETA: 0s - loss: 0.0198WARNING:tensorflow:Early stopping conditioned on metric `val_loss` which is not available. Available metrics are: loss\n",
      "WARNING:tensorflow:Learning rate reduction is conditioned on metric `val_loss` which is not available. Available metrics are: loss,lr\n",
      "8/8 [==============================] - 0s 23ms/step - loss: 0.0200 - lr: 0.0010\n",
      "Epoch 93/300\n",
      "7/8 [=========================>....] - ETA: 0s - loss: 0.0207WARNING:tensorflow:Early stopping conditioned on metric `val_loss` which is not available. Available metrics are: loss\n",
      "WARNING:tensorflow:Learning rate reduction is conditioned on metric `val_loss` which is not available. Available metrics are: loss,lr\n",
      "8/8 [==============================] - 0s 21ms/step - loss: 0.0202 - lr: 0.0010\n",
      "Epoch 94/300\n",
      "7/8 [=========================>....] - ETA: 0s - loss: 0.0199WARNING:tensorflow:Early stopping conditioned on metric `val_loss` which is not available. Available metrics are: loss\n",
      "WARNING:tensorflow:Learning rate reduction is conditioned on metric `val_loss` which is not available. Available metrics are: loss,lr\n",
      "8/8 [==============================] - 0s 21ms/step - loss: 0.0198 - lr: 0.0010\n",
      "Epoch 95/300\n",
      "7/8 [=========================>....] - ETA: 0s - loss: 0.0185WARNING:tensorflow:Early stopping conditioned on metric `val_loss` which is not available. Available metrics are: loss\n",
      "WARNING:tensorflow:Learning rate reduction is conditioned on metric `val_loss` which is not available. Available metrics are: loss,lr\n",
      "8/8 [==============================] - 0s 21ms/step - loss: 0.0183 - lr: 0.0010\n",
      "Epoch 96/300\n",
      "7/8 [=========================>....] - ETA: 0s - loss: 0.0180WARNING:tensorflow:Early stopping conditioned on metric `val_loss` which is not available. Available metrics are: loss\n",
      "WARNING:tensorflow:Learning rate reduction is conditioned on metric `val_loss` which is not available. Available metrics are: loss,lr\n",
      "8/8 [==============================] - 0s 20ms/step - loss: 0.0177 - lr: 0.0010\n",
      "Epoch 97/300\n",
      "7/8 [=========================>....] - ETA: 0s - loss: 0.0210WARNING:tensorflow:Early stopping conditioned on metric `val_loss` which is not available. Available metrics are: loss\n",
      "WARNING:tensorflow:Learning rate reduction is conditioned on metric `val_loss` which is not available. Available metrics are: loss,lr\n",
      "8/8 [==============================] - 0s 20ms/step - loss: 0.0210 - lr: 0.0010\n",
      "Epoch 98/300\n",
      "7/8 [=========================>....] - ETA: 0s - loss: 0.0218WARNING:tensorflow:Early stopping conditioned on metric `val_loss` which is not available. Available metrics are: loss\n",
      "WARNING:tensorflow:Learning rate reduction is conditioned on metric `val_loss` which is not available. Available metrics are: loss,lr\n",
      "8/8 [==============================] - 0s 23ms/step - loss: 0.0219 - lr: 0.0010\n",
      "Epoch 99/300\n",
      "7/8 [=========================>....] - ETA: 0s - loss: 0.0176WARNING:tensorflow:Early stopping conditioned on metric `val_loss` which is not available. Available metrics are: loss\n",
      "WARNING:tensorflow:Learning rate reduction is conditioned on metric `val_loss` which is not available. Available metrics are: loss,lr\n",
      "8/8 [==============================] - 0s 22ms/step - loss: 0.0174 - lr: 0.0010\n",
      "Epoch 100/300\n",
      "7/8 [=========================>....] - ETA: 0s - loss: 0.0244WARNING:tensorflow:Early stopping conditioned on metric `val_loss` which is not available. Available metrics are: loss\n",
      "WARNING:tensorflow:Learning rate reduction is conditioned on metric `val_loss` which is not available. Available metrics are: loss,lr\n",
      "8/8 [==============================] - 0s 21ms/step - loss: 0.0249 - lr: 0.0010\n",
      "Epoch 101/300\n",
      "7/8 [=========================>....] - ETA: 0s - loss: 0.0226WARNING:tensorflow:Early stopping conditioned on metric `val_loss` which is not available. Available metrics are: loss\n",
      "WARNING:tensorflow:Learning rate reduction is conditioned on metric `val_loss` which is not available. Available metrics are: loss,lr\n",
      "8/8 [==============================] - 0s 20ms/step - loss: 0.0220 - lr: 0.0010\n",
      "Epoch 102/300\n",
      "7/8 [=========================>....] - ETA: 0s - loss: 0.0246WARNING:tensorflow:Early stopping conditioned on metric `val_loss` which is not available. Available metrics are: loss\n",
      "WARNING:tensorflow:Learning rate reduction is conditioned on metric `val_loss` which is not available. Available metrics are: loss,lr\n",
      "8/8 [==============================] - 0s 20ms/step - loss: 0.0245 - lr: 0.0010\n",
      "Epoch 103/300\n",
      "7/8 [=========================>....] - ETA: 0s - loss: 0.0213WARNING:tensorflow:Early stopping conditioned on metric `val_loss` which is not available. Available metrics are: loss\n",
      "WARNING:tensorflow:Learning rate reduction is conditioned on metric `val_loss` which is not available. Available metrics are: loss,lr\n",
      "8/8 [==============================] - 0s 22ms/step - loss: 0.0211 - lr: 0.0010\n",
      "Epoch 104/300\n",
      "7/8 [=========================>....] - ETA: 0s - loss: 0.0188WARNING:tensorflow:Early stopping conditioned on metric `val_loss` which is not available. Available metrics are: loss\n",
      "WARNING:tensorflow:Learning rate reduction is conditioned on metric `val_loss` which is not available. Available metrics are: loss,lr\n",
      "8/8 [==============================] - 0s 20ms/step - loss: 0.0190 - lr: 0.0010\n",
      "Epoch 105/300\n",
      "7/8 [=========================>....] - ETA: 0s - loss: 0.0177WARNING:tensorflow:Early stopping conditioned on metric `val_loss` which is not available. Available metrics are: loss\n",
      "WARNING:tensorflow:Learning rate reduction is conditioned on metric `val_loss` which is not available. Available metrics are: loss,lr\n",
      "8/8 [==============================] - 0s 20ms/step - loss: 0.0175 - lr: 0.0010\n",
      "Epoch 106/300\n",
      "7/8 [=========================>....] - ETA: 0s - loss: 0.0175WARNING:tensorflow:Early stopping conditioned on metric `val_loss` which is not available. Available metrics are: loss\n",
      "WARNING:tensorflow:Learning rate reduction is conditioned on metric `val_loss` which is not available. Available metrics are: loss,lr\n",
      "8/8 [==============================] - 0s 21ms/step - loss: 0.0181 - lr: 0.0010\n",
      "Epoch 107/300\n",
      "7/8 [=========================>....] - ETA: 0s - loss: 0.0194WARNING:tensorflow:Early stopping conditioned on metric `val_loss` which is not available. Available metrics are: loss\n",
      "WARNING:tensorflow:Learning rate reduction is conditioned on metric `val_loss` which is not available. Available metrics are: loss,lr\n",
      "8/8 [==============================] - 0s 21ms/step - loss: 0.0193 - lr: 0.0010\n",
      "Epoch 108/300\n",
      "7/8 [=========================>....] - ETA: 0s - loss: 0.0186WARNING:tensorflow:Early stopping conditioned on metric `val_loss` which is not available. Available metrics are: loss\n",
      "WARNING:tensorflow:Learning rate reduction is conditioned on metric `val_loss` which is not available. Available metrics are: loss,lr\n",
      "8/8 [==============================] - 0s 20ms/step - loss: 0.0189 - lr: 0.0010\n",
      "Epoch 109/300\n",
      "7/8 [=========================>....] - ETA: 0s - loss: 0.0206WARNING:tensorflow:Early stopping conditioned on metric `val_loss` which is not available. Available metrics are: loss\n",
      "WARNING:tensorflow:Learning rate reduction is conditioned on metric `val_loss` which is not available. Available metrics are: loss,lr\n",
      "8/8 [==============================] - 0s 21ms/step - loss: 0.0208 - lr: 0.0010\n",
      "Epoch 110/300\n",
      "7/8 [=========================>....] - ETA: 0s - loss: 0.0178WARNING:tensorflow:Early stopping conditioned on metric `val_loss` which is not available. Available metrics are: loss\n",
      "WARNING:tensorflow:Learning rate reduction is conditioned on metric `val_loss` which is not available. Available metrics are: loss,lr\n",
      "8/8 [==============================] - 0s 22ms/step - loss: 0.0180 - lr: 0.0010\n",
      "Epoch 111/300\n",
      "7/8 [=========================>....] - ETA: 0s - loss: 0.0193WARNING:tensorflow:Early stopping conditioned on metric `val_loss` which is not available. Available metrics are: loss\n",
      "WARNING:tensorflow:Learning rate reduction is conditioned on metric `val_loss` which is not available. Available metrics are: loss,lr\n",
      "8/8 [==============================] - 0s 21ms/step - loss: 0.0192 - lr: 0.0010\n",
      "Epoch 112/300\n",
      "7/8 [=========================>....] - ETA: 0s - loss: 0.0190WARNING:tensorflow:Early stopping conditioned on metric `val_loss` which is not available. Available metrics are: loss\n",
      "WARNING:tensorflow:Learning rate reduction is conditioned on metric `val_loss` which is not available. Available metrics are: loss,lr\n",
      "8/8 [==============================] - 0s 23ms/step - loss: 0.0191 - lr: 0.0010\n",
      "Epoch 113/300\n",
      "8/8 [==============================] - ETA: 0s - loss: 0.0208WARNING:tensorflow:Early stopping conditioned on metric `val_loss` which is not available. Available metrics are: loss\n",
      "WARNING:tensorflow:Learning rate reduction is conditioned on metric `val_loss` which is not available. Available metrics are: loss,lr\n",
      "8/8 [==============================] - 0s 25ms/step - loss: 0.0208 - lr: 0.0010\n",
      "Epoch 114/300\n",
      "7/8 [=========================>....] - ETA: 0s - loss: 0.0217WARNING:tensorflow:Early stopping conditioned on metric `val_loss` which is not available. Available metrics are: loss\n",
      "WARNING:tensorflow:Learning rate reduction is conditioned on metric `val_loss` which is not available. Available metrics are: loss,lr\n",
      "8/8 [==============================] - 0s 21ms/step - loss: 0.0216 - lr: 0.0010\n",
      "Epoch 115/300\n",
      "7/8 [=========================>....] - ETA: 0s - loss: 0.0205WARNING:tensorflow:Early stopping conditioned on metric `val_loss` which is not available. Available metrics are: loss\n",
      "WARNING:tensorflow:Learning rate reduction is conditioned on metric `val_loss` which is not available. Available metrics are: loss,lr\n",
      "8/8 [==============================] - 0s 21ms/step - loss: 0.0200 - lr: 0.0010\n",
      "Epoch 116/300\n",
      "7/8 [=========================>....] - ETA: 0s - loss: 0.0172WARNING:tensorflow:Early stopping conditioned on metric `val_loss` which is not available. Available metrics are: loss\n",
      "WARNING:tensorflow:Learning rate reduction is conditioned on metric `val_loss` which is not available. Available metrics are: loss,lr\n",
      "8/8 [==============================] - 0s 20ms/step - loss: 0.0173 - lr: 0.0010\n",
      "Epoch 117/300\n",
      "7/8 [=========================>....] - ETA: 0s - loss: 0.0169WARNING:tensorflow:Early stopping conditioned on metric `val_loss` which is not available. Available metrics are: loss\n",
      "WARNING:tensorflow:Learning rate reduction is conditioned on metric `val_loss` which is not available. Available metrics are: loss,lr\n",
      "8/8 [==============================] - 0s 21ms/step - loss: 0.0167 - lr: 0.0010\n",
      "Epoch 118/300\n",
      "7/8 [=========================>....] - ETA: 0s - loss: 0.0172WARNING:tensorflow:Early stopping conditioned on metric `val_loss` which is not available. Available metrics are: loss\n",
      "WARNING:tensorflow:Learning rate reduction is conditioned on metric `val_loss` which is not available. Available metrics are: loss,lr\n",
      "8/8 [==============================] - 0s 22ms/step - loss: 0.0173 - lr: 0.0010\n",
      "Epoch 119/300\n",
      "7/8 [=========================>....] - ETA: 0s - loss: 0.0195WARNING:tensorflow:Early stopping conditioned on metric `val_loss` which is not available. Available metrics are: loss\n",
      "WARNING:tensorflow:Learning rate reduction is conditioned on metric `val_loss` which is not available. Available metrics are: loss,lr\n",
      "8/8 [==============================] - 0s 23ms/step - loss: 0.0194 - lr: 0.0010\n",
      "Epoch 120/300\n",
      "7/8 [=========================>....] - ETA: 0s - loss: 0.0175WARNING:tensorflow:Early stopping conditioned on metric `val_loss` which is not available. Available metrics are: loss\n",
      "WARNING:tensorflow:Learning rate reduction is conditioned on metric `val_loss` which is not available. Available metrics are: loss,lr\n",
      "8/8 [==============================] - 0s 23ms/step - loss: 0.0171 - lr: 0.0010\n",
      "Epoch 121/300\n",
      "6/8 [=====================>........] - ETA: 0s - loss: 0.0161WARNING:tensorflow:Early stopping conditioned on metric `val_loss` which is not available. Available metrics are: loss\n",
      "WARNING:tensorflow:Learning rate reduction is conditioned on metric `val_loss` which is not available. Available metrics are: loss,lr\n",
      "8/8 [==============================] - 0s 24ms/step - loss: 0.0168 - lr: 0.0010\n",
      "Epoch 122/300\n",
      "7/8 [=========================>....] - ETA: 0s - loss: 0.0169WARNING:tensorflow:Early stopping conditioned on metric `val_loss` which is not available. Available metrics are: loss\n",
      "WARNING:tensorflow:Learning rate reduction is conditioned on metric `val_loss` which is not available. Available metrics are: loss,lr\n",
      "8/8 [==============================] - 0s 21ms/step - loss: 0.0167 - lr: 0.0010\n",
      "Epoch 123/300\n",
      "7/8 [=========================>....] - ETA: 0s - loss: 0.0165WARNING:tensorflow:Early stopping conditioned on metric `val_loss` which is not available. Available metrics are: loss\n",
      "WARNING:tensorflow:Learning rate reduction is conditioned on metric `val_loss` which is not available. Available metrics are: loss,lr\n",
      "8/8 [==============================] - 0s 21ms/step - loss: 0.0168 - lr: 0.0010\n",
      "Epoch 124/300\n",
      "7/8 [=========================>....] - ETA: 0s - loss: 0.0160WARNING:tensorflow:Early stopping conditioned on metric `val_loss` which is not available. Available metrics are: loss\n",
      "WARNING:tensorflow:Learning rate reduction is conditioned on metric `val_loss` which is not available. Available metrics are: loss,lr\n",
      "8/8 [==============================] - 0s 28ms/step - loss: 0.0162 - lr: 0.0010\n",
      "Epoch 125/300\n",
      "7/8 [=========================>....] - ETA: 0s - loss: 0.0160WARNING:tensorflow:Early stopping conditioned on metric `val_loss` which is not available. Available metrics are: loss\n",
      "WARNING:tensorflow:Learning rate reduction is conditioned on metric `val_loss` which is not available. Available metrics are: loss,lr\n",
      "8/8 [==============================] - 0s 21ms/step - loss: 0.0160 - lr: 0.0010\n",
      "Epoch 126/300\n",
      "7/8 [=========================>....] - ETA: 0s - loss: 0.0161WARNING:tensorflow:Early stopping conditioned on metric `val_loss` which is not available. Available metrics are: loss\n",
      "WARNING:tensorflow:Learning rate reduction is conditioned on metric `val_loss` which is not available. Available metrics are: loss,lr\n",
      "8/8 [==============================] - 0s 20ms/step - loss: 0.0159 - lr: 0.0010\n",
      "Epoch 127/300\n",
      "7/8 [=========================>....] - ETA: 0s - loss: 0.0161WARNING:tensorflow:Early stopping conditioned on metric `val_loss` which is not available. Available metrics are: loss\n",
      "WARNING:tensorflow:Learning rate reduction is conditioned on metric `val_loss` which is not available. Available metrics are: loss,lr\n",
      "8/8 [==============================] - 0s 20ms/step - loss: 0.0164 - lr: 0.0010\n",
      "Epoch 128/300\n",
      "7/8 [=========================>....] - ETA: 0s - loss: 0.0177WARNING:tensorflow:Early stopping conditioned on metric `val_loss` which is not available. Available metrics are: loss\n",
      "WARNING:tensorflow:Learning rate reduction is conditioned on metric `val_loss` which is not available. Available metrics are: loss,lr\n",
      "8/8 [==============================] - 0s 20ms/step - loss: 0.0175 - lr: 0.0010\n",
      "Epoch 129/300\n",
      "7/8 [=========================>....] - ETA: 0s - loss: 0.0159WARNING:tensorflow:Early stopping conditioned on metric `val_loss` which is not available. Available metrics are: loss\n",
      "WARNING:tensorflow:Learning rate reduction is conditioned on metric `val_loss` which is not available. Available metrics are: loss,lr\n",
      "8/8 [==============================] - 0s 20ms/step - loss: 0.0158 - lr: 0.0010\n",
      "Epoch 130/300\n",
      "7/8 [=========================>....] - ETA: 0s - loss: 0.0158WARNING:tensorflow:Early stopping conditioned on metric `val_loss` which is not available. Available metrics are: loss\n",
      "WARNING:tensorflow:Learning rate reduction is conditioned on metric `val_loss` which is not available. Available metrics are: loss,lr\n",
      "8/8 [==============================] - 0s 21ms/step - loss: 0.0155 - lr: 0.0010\n",
      "Epoch 131/300\n",
      "7/8 [=========================>....] - ETA: 0s - loss: 0.0154WARNING:tensorflow:Early stopping conditioned on metric `val_loss` which is not available. Available metrics are: loss\n",
      "WARNING:tensorflow:Learning rate reduction is conditioned on metric `val_loss` which is not available. Available metrics are: loss,lr\n",
      "8/8 [==============================] - 0s 19ms/step - loss: 0.0156 - lr: 0.0010\n",
      "Epoch 132/300\n",
      "7/8 [=========================>....] - ETA: 0s - loss: 0.0155WARNING:tensorflow:Early stopping conditioned on metric `val_loss` which is not available. Available metrics are: loss\n",
      "WARNING:tensorflow:Learning rate reduction is conditioned on metric `val_loss` which is not available. Available metrics are: loss,lr\n",
      "8/8 [==============================] - 0s 20ms/step - loss: 0.0154 - lr: 0.0010\n",
      "Epoch 133/300\n",
      "7/8 [=========================>....] - ETA: 0s - loss: 0.0151WARNING:tensorflow:Early stopping conditioned on metric `val_loss` which is not available. Available metrics are: loss\n",
      "WARNING:tensorflow:Learning rate reduction is conditioned on metric `val_loss` which is not available. Available metrics are: loss,lr\n",
      "8/8 [==============================] - 0s 19ms/step - loss: 0.0157 - lr: 0.0010\n",
      "Epoch 134/300\n",
      "7/8 [=========================>....] - ETA: 0s - loss: 0.0158WARNING:tensorflow:Early stopping conditioned on metric `val_loss` which is not available. Available metrics are: loss\n",
      "WARNING:tensorflow:Learning rate reduction is conditioned on metric `val_loss` which is not available. Available metrics are: loss,lr\n",
      "8/8 [==============================] - 0s 20ms/step - loss: 0.0159 - lr: 0.0010\n",
      "Epoch 135/300\n",
      "7/8 [=========================>....] - ETA: 0s - loss: 0.0225WARNING:tensorflow:Early stopping conditioned on metric `val_loss` which is not available. Available metrics are: loss\n",
      "WARNING:tensorflow:Learning rate reduction is conditioned on metric `val_loss` which is not available. Available metrics are: loss,lr\n",
      "8/8 [==============================] - 0s 21ms/step - loss: 0.0225 - lr: 0.0010\n",
      "Epoch 136/300\n",
      "7/8 [=========================>....] - ETA: 0s - loss: 0.0231WARNING:tensorflow:Early stopping conditioned on metric `val_loss` which is not available. Available metrics are: loss\n",
      "WARNING:tensorflow:Learning rate reduction is conditioned on metric `val_loss` which is not available. Available metrics are: loss,lr\n",
      "8/8 [==============================] - 0s 21ms/step - loss: 0.0232 - lr: 0.0010\n",
      "Epoch 137/300\n",
      "7/8 [=========================>....] - ETA: 0s - loss: 0.0215WARNING:tensorflow:Early stopping conditioned on metric `val_loss` which is not available. Available metrics are: loss\n",
      "WARNING:tensorflow:Learning rate reduction is conditioned on metric `val_loss` which is not available. Available metrics are: loss,lr\n",
      "8/8 [==============================] - 0s 21ms/step - loss: 0.0212 - lr: 0.0010\n",
      "Epoch 138/300\n",
      "7/8 [=========================>....] - ETA: 0s - loss: 0.0194WARNING:tensorflow:Early stopping conditioned on metric `val_loss` which is not available. Available metrics are: loss\n",
      "WARNING:tensorflow:Learning rate reduction is conditioned on metric `val_loss` which is not available. Available metrics are: loss,lr\n",
      "8/8 [==============================] - 0s 26ms/step - loss: 0.0194 - lr: 0.0010\n",
      "Epoch 139/300\n",
      "6/8 [=====================>........] - ETA: 0s - loss: 0.0172WARNING:tensorflow:Early stopping conditioned on metric `val_loss` which is not available. Available metrics are: loss\n",
      "WARNING:tensorflow:Learning rate reduction is conditioned on metric `val_loss` which is not available. Available metrics are: loss,lr\n",
      "8/8 [==============================] - 0s 25ms/step - loss: 0.0164 - lr: 0.0010\n",
      "Epoch 140/300\n",
      "7/8 [=========================>....] - ETA: 0s - loss: 0.0195WARNING:tensorflow:Early stopping conditioned on metric `val_loss` which is not available. Available metrics are: loss\n",
      "WARNING:tensorflow:Learning rate reduction is conditioned on metric `val_loss` which is not available. Available metrics are: loss,lr\n",
      "8/8 [==============================] - 0s 31ms/step - loss: 0.0192 - lr: 0.0010\n",
      "Epoch 141/300\n",
      "7/8 [=========================>....] - ETA: 0s - loss: 0.0154WARNING:tensorflow:Early stopping conditioned on metric `val_loss` which is not available. Available metrics are: loss\n",
      "WARNING:tensorflow:Learning rate reduction is conditioned on metric `val_loss` which is not available. Available metrics are: loss,lr\n",
      "8/8 [==============================] - 0s 31ms/step - loss: 0.0155 - lr: 0.0010\n",
      "Epoch 142/300\n",
      "7/8 [=========================>....] - ETA: 0s - loss: 0.0160WARNING:tensorflow:Early stopping conditioned on metric `val_loss` which is not available. Available metrics are: loss\n",
      "WARNING:tensorflow:Learning rate reduction is conditioned on metric `val_loss` which is not available. Available metrics are: loss,lr\n",
      "8/8 [==============================] - 0s 28ms/step - loss: 0.0157 - lr: 0.0010\n",
      "Epoch 143/300\n",
      "7/8 [=========================>....] - ETA: 0s - loss: 0.0159WARNING:tensorflow:Early stopping conditioned on metric `val_loss` which is not available. Available metrics are: loss\n",
      "WARNING:tensorflow:Learning rate reduction is conditioned on metric `val_loss` which is not available. Available metrics are: loss,lr\n",
      "8/8 [==============================] - 0s 26ms/step - loss: 0.0160 - lr: 0.0010\n",
      "Epoch 144/300\n",
      "7/8 [=========================>....] - ETA: 0s - loss: 0.0184WARNING:tensorflow:Early stopping conditioned on metric `val_loss` which is not available. Available metrics are: loss\n",
      "WARNING:tensorflow:Learning rate reduction is conditioned on metric `val_loss` which is not available. Available metrics are: loss,lr\n",
      "8/8 [==============================] - 0s 28ms/step - loss: 0.0185 - lr: 0.0010\n",
      "Epoch 145/300\n",
      "7/8 [=========================>....] - ETA: 0s - loss: 0.0173WARNING:tensorflow:Early stopping conditioned on metric `val_loss` which is not available. Available metrics are: loss\n",
      "WARNING:tensorflow:Learning rate reduction is conditioned on metric `val_loss` which is not available. Available metrics are: loss,lr\n",
      "8/8 [==============================] - 0s 25ms/step - loss: 0.0168 - lr: 0.0010\n",
      "Epoch 146/300\n",
      "8/8 [==============================] - ETA: 0s - loss: 0.0179WARNING:tensorflow:Early stopping conditioned on metric `val_loss` which is not available. Available metrics are: loss\n",
      "WARNING:tensorflow:Learning rate reduction is conditioned on metric `val_loss` which is not available. Available metrics are: loss,lr\n",
      "8/8 [==============================] - 0s 26ms/step - loss: 0.0179 - lr: 0.0010\n",
      "Epoch 147/300\n",
      "8/8 [==============================] - ETA: 0s - loss: 0.0212WARNING:tensorflow:Early stopping conditioned on metric `val_loss` which is not available. Available metrics are: loss\n",
      "WARNING:tensorflow:Learning rate reduction is conditioned on metric `val_loss` which is not available. Available metrics are: loss,lr\n",
      "8/8 [==============================] - 0s 27ms/step - loss: 0.0212 - lr: 0.0010\n",
      "Epoch 148/300\n",
      "7/8 [=========================>....] - ETA: 0s - loss: 0.0180WARNING:tensorflow:Early stopping conditioned on metric `val_loss` which is not available. Available metrics are: loss\n",
      "WARNING:tensorflow:Learning rate reduction is conditioned on metric `val_loss` which is not available. Available metrics are: loss,lr\n",
      "8/8 [==============================] - 0s 28ms/step - loss: 0.0177 - lr: 0.0010\n",
      "Epoch 149/300\n",
      "8/8 [==============================] - ETA: 0s - loss: 0.0152WARNING:tensorflow:Early stopping conditioned on metric `val_loss` which is not available. Available metrics are: loss\n",
      "WARNING:tensorflow:Learning rate reduction is conditioned on metric `val_loss` which is not available. Available metrics are: loss,lr\n",
      "8/8 [==============================] - 0s 27ms/step - loss: 0.0152 - lr: 0.0010\n",
      "Epoch 150/300\n",
      "7/8 [=========================>....] - ETA: 0s - loss: 0.0152WARNING:tensorflow:Early stopping conditioned on metric `val_loss` which is not available. Available metrics are: loss\n",
      "WARNING:tensorflow:Learning rate reduction is conditioned on metric `val_loss` which is not available. Available metrics are: loss,lr\n",
      "8/8 [==============================] - 0s 31ms/step - loss: 0.0154 - lr: 0.0010\n",
      "Epoch 151/300\n",
      "7/8 [=========================>....] - ETA: 0s - loss: 0.0155WARNING:tensorflow:Early stopping conditioned on metric `val_loss` which is not available. Available metrics are: loss\n",
      "WARNING:tensorflow:Learning rate reduction is conditioned on metric `val_loss` which is not available. Available metrics are: loss,lr\n",
      "8/8 [==============================] - 0s 36ms/step - loss: 0.0152 - lr: 0.0010\n",
      "Epoch 152/300\n",
      "6/8 [=====================>........] - ETA: 0s - loss: 0.0155WARNING:tensorflow:Early stopping conditioned on metric `val_loss` which is not available. Available metrics are: loss\n",
      "WARNING:tensorflow:Learning rate reduction is conditioned on metric `val_loss` which is not available. Available metrics are: loss,lr\n",
      "8/8 [==============================] - 0s 24ms/step - loss: 0.0162 - lr: 0.0010\n",
      "Epoch 153/300\n",
      "6/8 [=====================>........] - ETA: 0s - loss: 0.0161WARNING:tensorflow:Early stopping conditioned on metric `val_loss` which is not available. Available metrics are: loss\n",
      "WARNING:tensorflow:Learning rate reduction is conditioned on metric `val_loss` which is not available. Available metrics are: loss,lr\n",
      "8/8 [==============================] - 0s 25ms/step - loss: 0.0159 - lr: 0.0010\n",
      "Epoch 154/300\n",
      "6/8 [=====================>........] - ETA: 0s - loss: 0.0202WARNING:tensorflow:Early stopping conditioned on metric `val_loss` which is not available. Available metrics are: loss\n",
      "WARNING:tensorflow:Learning rate reduction is conditioned on metric `val_loss` which is not available. Available metrics are: loss,lr\n",
      "8/8 [==============================] - 0s 26ms/step - loss: 0.0197 - lr: 0.0010\n",
      "Epoch 155/300\n",
      "7/8 [=========================>....] - ETA: 0s - loss: 0.0230WARNING:tensorflow:Early stopping conditioned on metric `val_loss` which is not available. Available metrics are: loss\n",
      "WARNING:tensorflow:Learning rate reduction is conditioned on metric `val_loss` which is not available. Available metrics are: loss,lr\n",
      "8/8 [==============================] - 0s 27ms/step - loss: 0.0228 - lr: 0.0010\n",
      "Epoch 156/300\n",
      "7/8 [=========================>....] - ETA: 0s - loss: 0.0176WARNING:tensorflow:Early stopping conditioned on metric `val_loss` which is not available. Available metrics are: loss\n",
      "WARNING:tensorflow:Learning rate reduction is conditioned on metric `val_loss` which is not available. Available metrics are: loss,lr\n",
      "8/8 [==============================] - 0s 32ms/step - loss: 0.0175 - lr: 0.0010\n",
      "Epoch 157/300\n",
      "7/8 [=========================>....] - ETA: 0s - loss: 0.0179WARNING:tensorflow:Early stopping conditioned on metric `val_loss` which is not available. Available metrics are: loss\n",
      "WARNING:tensorflow:Learning rate reduction is conditioned on metric `val_loss` which is not available. Available metrics are: loss,lr\n",
      "8/8 [==============================] - 0s 27ms/step - loss: 0.0181 - lr: 0.0010\n",
      "Epoch 158/300\n",
      "7/8 [=========================>....] - ETA: 0s - loss: 0.0182WARNING:tensorflow:Early stopping conditioned on metric `val_loss` which is not available. Available metrics are: loss\n",
      "WARNING:tensorflow:Learning rate reduction is conditioned on metric `val_loss` which is not available. Available metrics are: loss,lr\n",
      "8/8 [==============================] - 0s 35ms/step - loss: 0.0185 - lr: 0.0010\n",
      "Epoch 159/300\n",
      "7/8 [=========================>....] - ETA: 0s - loss: 0.0182WARNING:tensorflow:Early stopping conditioned on metric `val_loss` which is not available. Available metrics are: loss\n",
      "WARNING:tensorflow:Learning rate reduction is conditioned on metric `val_loss` which is not available. Available metrics are: loss,lr\n",
      "8/8 [==============================] - 0s 27ms/step - loss: 0.0182 - lr: 0.0010\n",
      "Epoch 160/300\n",
      "7/8 [=========================>....] - ETA: 0s - loss: 0.0214WARNING:tensorflow:Early stopping conditioned on metric `val_loss` which is not available. Available metrics are: loss\n",
      "WARNING:tensorflow:Learning rate reduction is conditioned on metric `val_loss` which is not available. Available metrics are: loss,lr\n",
      "8/8 [==============================] - 0s 27ms/step - loss: 0.0209 - lr: 0.0010\n",
      "Epoch 161/300\n",
      "7/8 [=========================>....] - ETA: 0s - loss: 0.0187WARNING:tensorflow:Early stopping conditioned on metric `val_loss` which is not available. Available metrics are: loss\n",
      "WARNING:tensorflow:Learning rate reduction is conditioned on metric `val_loss` which is not available. Available metrics are: loss,lr\n",
      "8/8 [==============================] - 0s 28ms/step - loss: 0.0183 - lr: 0.0010\n",
      "Epoch 162/300\n",
      "7/8 [=========================>....] - ETA: 0s - loss: 0.0179WARNING:tensorflow:Early stopping conditioned on metric `val_loss` which is not available. Available metrics are: loss\n",
      "WARNING:tensorflow:Learning rate reduction is conditioned on metric `val_loss` which is not available. Available metrics are: loss,lr\n",
      "8/8 [==============================] - 0s 27ms/step - loss: 0.0181 - lr: 0.0010\n",
      "Epoch 163/300\n",
      "7/8 [=========================>....] - ETA: 0s - loss: 0.0171WARNING:tensorflow:Early stopping conditioned on metric `val_loss` which is not available. Available metrics are: loss\n",
      "WARNING:tensorflow:Learning rate reduction is conditioned on metric `val_loss` which is not available. Available metrics are: loss,lr\n",
      "8/8 [==============================] - 0s 27ms/step - loss: 0.0166 - lr: 0.0010\n",
      "Epoch 164/300\n",
      "8/8 [==============================] - ETA: 0s - loss: 0.0170WARNING:tensorflow:Early stopping conditioned on metric `val_loss` which is not available. Available metrics are: loss\n",
      "WARNING:tensorflow:Learning rate reduction is conditioned on metric `val_loss` which is not available. Available metrics are: loss,lr\n",
      "8/8 [==============================] - 0s 27ms/step - loss: 0.0170 - lr: 0.0010\n",
      "Epoch 165/300\n",
      "6/8 [=====================>........] - ETA: 0s - loss: 0.0148WARNING:tensorflow:Early stopping conditioned on metric `val_loss` which is not available. Available metrics are: loss\n",
      "WARNING:tensorflow:Learning rate reduction is conditioned on metric `val_loss` which is not available. Available metrics are: loss,lr\n",
      "8/8 [==============================] - 0s 25ms/step - loss: 0.0156 - lr: 0.0010\n",
      "Epoch 166/300\n",
      "7/8 [=========================>....] - ETA: 0s - loss: 0.0175WARNING:tensorflow:Early stopping conditioned on metric `val_loss` which is not available. Available metrics are: loss\n",
      "WARNING:tensorflow:Learning rate reduction is conditioned on metric `val_loss` which is not available. Available metrics are: loss,lr\n",
      "8/8 [==============================] - 0s 22ms/step - loss: 0.0175 - lr: 0.0010\n",
      "Epoch 167/300\n",
      "6/8 [=====================>........] - ETA: 0s - loss: 0.0168WARNING:tensorflow:Early stopping conditioned on metric `val_loss` which is not available. Available metrics are: loss\n",
      "WARNING:tensorflow:Learning rate reduction is conditioned on metric `val_loss` which is not available. Available metrics are: loss,lr\n",
      "8/8 [==============================] - 0s 25ms/step - loss: 0.0160 - lr: 0.0010\n",
      "Epoch 168/300\n",
      "7/8 [=========================>....] - ETA: 0s - loss: 0.0169WARNING:tensorflow:Early stopping conditioned on metric `val_loss` which is not available. Available metrics are: loss\n",
      "WARNING:tensorflow:Learning rate reduction is conditioned on metric `val_loss` which is not available. Available metrics are: loss,lr\n",
      "8/8 [==============================] - 0s 32ms/step - loss: 0.0168 - lr: 0.0010\n",
      "Epoch 169/300\n",
      "7/8 [=========================>....] - ETA: 0s - loss: 0.0159WARNING:tensorflow:Early stopping conditioned on metric `val_loss` which is not available. Available metrics are: loss\n",
      "WARNING:tensorflow:Learning rate reduction is conditioned on metric `val_loss` which is not available. Available metrics are: loss,lr\n",
      "8/8 [==============================] - 0s 28ms/step - loss: 0.0165 - lr: 0.0010\n",
      "Epoch 170/300\n",
      "7/8 [=========================>....] - ETA: 0s - loss: 0.0146WARNING:tensorflow:Early stopping conditioned on metric `val_loss` which is not available. Available metrics are: loss\n",
      "WARNING:tensorflow:Learning rate reduction is conditioned on metric `val_loss` which is not available. Available metrics are: loss,lr\n",
      "8/8 [==============================] - 0s 28ms/step - loss: 0.0148 - lr: 0.0010\n",
      "Epoch 171/300\n",
      "8/8 [==============================] - ETA: 0s - loss: 0.0196WARNING:tensorflow:Early stopping conditioned on metric `val_loss` which is not available. Available metrics are: loss\n",
      "WARNING:tensorflow:Learning rate reduction is conditioned on metric `val_loss` which is not available. Available metrics are: loss,lr\n",
      "8/8 [==============================] - 0s 27ms/step - loss: 0.0196 - lr: 0.0010\n",
      "Epoch 172/300\n",
      "6/8 [=====================>........] - ETA: 0s - loss: 0.0165WARNING:tensorflow:Early stopping conditioned on metric `val_loss` which is not available. Available metrics are: loss\n",
      "WARNING:tensorflow:Learning rate reduction is conditioned on metric `val_loss` which is not available. Available metrics are: loss,lr\n",
      "8/8 [==============================] - 0s 25ms/step - loss: 0.0168 - lr: 0.0010\n",
      "Epoch 173/300\n",
      "7/8 [=========================>....] - ETA: 0s - loss: 0.0152WARNING:tensorflow:Early stopping conditioned on metric `val_loss` which is not available. Available metrics are: loss\n",
      "WARNING:tensorflow:Learning rate reduction is conditioned on metric `val_loss` which is not available. Available metrics are: loss,lr\n",
      "8/8 [==============================] - 0s 22ms/step - loss: 0.0150 - lr: 0.0010\n",
      "Epoch 174/300\n",
      "7/8 [=========================>....] - ETA: 0s - loss: 0.0163WARNING:tensorflow:Early stopping conditioned on metric `val_loss` which is not available. Available metrics are: loss\n",
      "WARNING:tensorflow:Learning rate reduction is conditioned on metric `val_loss` which is not available. Available metrics are: loss,lr\n",
      "8/8 [==============================] - 0s 23ms/step - loss: 0.0162 - lr: 0.0010\n",
      "Epoch 175/300\n",
      "7/8 [=========================>....] - ETA: 0s - loss: 0.0182WARNING:tensorflow:Early stopping conditioned on metric `val_loss` which is not available. Available metrics are: loss\n",
      "WARNING:tensorflow:Learning rate reduction is conditioned on metric `val_loss` which is not available. Available metrics are: loss,lr\n",
      "8/8 [==============================] - 0s 24ms/step - loss: 0.0183 - lr: 0.0010\n",
      "Epoch 176/300\n",
      "7/8 [=========================>....] - ETA: 0s - loss: 0.0229WARNING:tensorflow:Early stopping conditioned on metric `val_loss` which is not available. Available metrics are: loss\n",
      "WARNING:tensorflow:Learning rate reduction is conditioned on metric `val_loss` which is not available. Available metrics are: loss,lr\n",
      "8/8 [==============================] - 0s 22ms/step - loss: 0.0224 - lr: 0.0010\n",
      "Epoch 177/300\n",
      "7/8 [=========================>....] - ETA: 0s - loss: 0.0188WARNING:tensorflow:Early stopping conditioned on metric `val_loss` which is not available. Available metrics are: loss\n",
      "WARNING:tensorflow:Learning rate reduction is conditioned on metric `val_loss` which is not available. Available metrics are: loss,lr\n",
      "8/8 [==============================] - 0s 22ms/step - loss: 0.0190 - lr: 0.0010\n",
      "Epoch 178/300\n",
      "6/8 [=====================>........] - ETA: 0s - loss: 0.0180WARNING:tensorflow:Early stopping conditioned on metric `val_loss` which is not available. Available metrics are: loss\n",
      "WARNING:tensorflow:Learning rate reduction is conditioned on metric `val_loss` which is not available. Available metrics are: loss,lr\n",
      "8/8 [==============================] - 0s 24ms/step - loss: 0.0182 - lr: 0.0010\n",
      "Epoch 179/300\n",
      "7/8 [=========================>....] - ETA: 0s - loss: 0.0171WARNING:tensorflow:Early stopping conditioned on metric `val_loss` which is not available. Available metrics are: loss\n",
      "WARNING:tensorflow:Learning rate reduction is conditioned on metric `val_loss` which is not available. Available metrics are: loss,lr\n",
      "8/8 [==============================] - 0s 21ms/step - loss: 0.0172 - lr: 0.0010\n",
      "Epoch 180/300\n",
      "7/8 [=========================>....] - ETA: 0s - loss: 0.0167WARNING:tensorflow:Early stopping conditioned on metric `val_loss` which is not available. Available metrics are: loss\n",
      "WARNING:tensorflow:Learning rate reduction is conditioned on metric `val_loss` which is not available. Available metrics are: loss,lr\n",
      "8/8 [==============================] - 0s 25ms/step - loss: 0.0166 - lr: 0.0010\n",
      "Epoch 181/300\n",
      "8/8 [==============================] - ETA: 0s - loss: 0.0149WARNING:tensorflow:Early stopping conditioned on metric `val_loss` which is not available. Available metrics are: loss\n",
      "WARNING:tensorflow:Learning rate reduction is conditioned on metric `val_loss` which is not available. Available metrics are: loss,lr\n",
      "8/8 [==============================] - 0s 26ms/step - loss: 0.0149 - lr: 0.0010\n",
      "Epoch 182/300\n",
      "6/8 [=====================>........] - ETA: 0s - loss: 0.0157WARNING:tensorflow:Early stopping conditioned on metric `val_loss` which is not available. Available metrics are: loss\n",
      "WARNING:tensorflow:Learning rate reduction is conditioned on metric `val_loss` which is not available. Available metrics are: loss,lr\n",
      "8/8 [==============================] - 0s 24ms/step - loss: 0.0155 - lr: 0.0010\n",
      "Epoch 183/300\n",
      "6/8 [=====================>........] - ETA: 0s - loss: 0.0149WARNING:tensorflow:Early stopping conditioned on metric `val_loss` which is not available. Available metrics are: loss\n",
      "WARNING:tensorflow:Learning rate reduction is conditioned on metric `val_loss` which is not available. Available metrics are: loss,lr\n",
      "8/8 [==============================] - 0s 24ms/step - loss: 0.0147 - lr: 0.0010\n",
      "Epoch 184/300\n",
      "7/8 [=========================>....] - ETA: 0s - loss: 0.0151WARNING:tensorflow:Early stopping conditioned on metric `val_loss` which is not available. Available metrics are: loss\n",
      "WARNING:tensorflow:Learning rate reduction is conditioned on metric `val_loss` which is not available. Available metrics are: loss,lr\n",
      "8/8 [==============================] - 0s 23ms/step - loss: 0.0150 - lr: 0.0010\n",
      "Epoch 185/300\n",
      "7/8 [=========================>....] - ETA: 0s - loss: 0.0157WARNING:tensorflow:Early stopping conditioned on metric `val_loss` which is not available. Available metrics are: loss\n",
      "WARNING:tensorflow:Learning rate reduction is conditioned on metric `val_loss` which is not available. Available metrics are: loss,lr\n",
      "8/8 [==============================] - 0s 22ms/step - loss: 0.0160 - lr: 0.0010\n",
      "Epoch 186/300\n",
      "7/8 [=========================>....] - ETA: 0s - loss: 0.0159WARNING:tensorflow:Early stopping conditioned on metric `val_loss` which is not available. Available metrics are: loss\n",
      "WARNING:tensorflow:Learning rate reduction is conditioned on metric `val_loss` which is not available. Available metrics are: loss,lr\n",
      "8/8 [==============================] - 0s 24ms/step - loss: 0.0161 - lr: 0.0010\n",
      "Epoch 187/300\n",
      "6/8 [=====================>........] - ETA: 0s - loss: 0.0143WARNING:tensorflow:Early stopping conditioned on metric `val_loss` which is not available. Available metrics are: loss\n",
      "WARNING:tensorflow:Learning rate reduction is conditioned on metric `val_loss` which is not available. Available metrics are: loss,lr\n",
      "8/8 [==============================] - 0s 24ms/step - loss: 0.0150 - lr: 0.0010\n",
      "Epoch 188/300\n",
      "6/8 [=====================>........] - ETA: 0s - loss: 0.0141WARNING:tensorflow:Early stopping conditioned on metric `val_loss` which is not available. Available metrics are: loss\n",
      "WARNING:tensorflow:Learning rate reduction is conditioned on metric `val_loss` which is not available. Available metrics are: loss,lr\n",
      "8/8 [==============================] - 0s 24ms/step - loss: 0.0144 - lr: 0.0010\n",
      "Epoch 189/300\n",
      "6/8 [=====================>........] - ETA: 0s - loss: 0.0166WARNING:tensorflow:Early stopping conditioned on metric `val_loss` which is not available. Available metrics are: loss\n",
      "WARNING:tensorflow:Learning rate reduction is conditioned on metric `val_loss` which is not available. Available metrics are: loss,lr\n",
      "8/8 [==============================] - 0s 24ms/step - loss: 0.0162 - lr: 0.0010\n",
      "Epoch 190/300\n",
      "7/8 [=========================>....] - ETA: 0s - loss: 0.0142WARNING:tensorflow:Early stopping conditioned on metric `val_loss` which is not available. Available metrics are: loss\n",
      "WARNING:tensorflow:Learning rate reduction is conditioned on metric `val_loss` which is not available. Available metrics are: loss,lr\n",
      "8/8 [==============================] - 0s 23ms/step - loss: 0.0143 - lr: 0.0010\n",
      "Epoch 191/300\n",
      "6/8 [=====================>........] - ETA: 0s - loss: 0.0132WARNING:tensorflow:Early stopping conditioned on metric `val_loss` which is not available. Available metrics are: loss\n",
      "WARNING:tensorflow:Learning rate reduction is conditioned on metric `val_loss` which is not available. Available metrics are: loss,lr\n",
      "8/8 [==============================] - 0s 24ms/step - loss: 0.0142 - lr: 0.0010\n",
      "Epoch 192/300\n",
      "6/8 [=====================>........] - ETA: 0s - loss: 0.0146WARNING:tensorflow:Early stopping conditioned on metric `val_loss` which is not available. Available metrics are: loss\n",
      "WARNING:tensorflow:Learning rate reduction is conditioned on metric `val_loss` which is not available. Available metrics are: loss,lr\n",
      "8/8 [==============================] - 0s 25ms/step - loss: 0.0146 - lr: 0.0010\n",
      "Epoch 193/300\n",
      "7/8 [=========================>....] - ETA: 0s - loss: 0.0162WARNING:tensorflow:Early stopping conditioned on metric `val_loss` which is not available. Available metrics are: loss\n",
      "WARNING:tensorflow:Learning rate reduction is conditioned on metric `val_loss` which is not available. Available metrics are: loss,lr\n",
      "8/8 [==============================] - 0s 23ms/step - loss: 0.0158 - lr: 0.0010\n",
      "Epoch 194/300\n",
      "7/8 [=========================>....] - ETA: 0s - loss: 0.0151WARNING:tensorflow:Early stopping conditioned on metric `val_loss` which is not available. Available metrics are: loss\n",
      "WARNING:tensorflow:Learning rate reduction is conditioned on metric `val_loss` which is not available. Available metrics are: loss,lr\n",
      "8/8 [==============================] - 0s 23ms/step - loss: 0.0151 - lr: 0.0010\n",
      "Epoch 195/300\n",
      "6/8 [=====================>........] - ETA: 0s - loss: 0.0145WARNING:tensorflow:Early stopping conditioned on metric `val_loss` which is not available. Available metrics are: loss\n",
      "WARNING:tensorflow:Learning rate reduction is conditioned on metric `val_loss` which is not available. Available metrics are: loss,lr\n",
      "8/8 [==============================] - 0s 25ms/step - loss: 0.0144 - lr: 0.0010\n",
      "Epoch 196/300\n",
      "8/8 [==============================] - ETA: 0s - loss: 0.0151WARNING:tensorflow:Early stopping conditioned on metric `val_loss` which is not available. Available metrics are: loss\n",
      "WARNING:tensorflow:Learning rate reduction is conditioned on metric `val_loss` which is not available. Available metrics are: loss,lr\n",
      "8/8 [==============================] - 0s 26ms/step - loss: 0.0151 - lr: 0.0010\n",
      "Epoch 197/300\n",
      "8/8 [==============================] - ETA: 0s - loss: 0.0153WARNING:tensorflow:Early stopping conditioned on metric `val_loss` which is not available. Available metrics are: loss\n",
      "WARNING:tensorflow:Learning rate reduction is conditioned on metric `val_loss` which is not available. Available metrics are: loss,lr\n",
      "8/8 [==============================] - 0s 26ms/step - loss: 0.0153 - lr: 0.0010\n",
      "Epoch 198/300\n",
      "8/8 [==============================] - ETA: 0s - loss: 0.0152WARNING:tensorflow:Early stopping conditioned on metric `val_loss` which is not available. Available metrics are: loss\n",
      "WARNING:tensorflow:Learning rate reduction is conditioned on metric `val_loss` which is not available. Available metrics are: loss,lr\n",
      "8/8 [==============================] - 0s 27ms/step - loss: 0.0152 - lr: 0.0010\n",
      "Epoch 199/300\n",
      "6/8 [=====================>........] - ETA: 0s - loss: 0.0146WARNING:tensorflow:Early stopping conditioned on metric `val_loss` which is not available. Available metrics are: loss\n",
      "WARNING:tensorflow:Learning rate reduction is conditioned on metric `val_loss` which is not available. Available metrics are: loss,lr\n",
      "8/8 [==============================] - 0s 25ms/step - loss: 0.0156 - lr: 0.0010\n",
      "Epoch 200/300\n",
      "6/8 [=====================>........] - ETA: 0s - loss: 0.0154WARNING:tensorflow:Early stopping conditioned on metric `val_loss` which is not available. Available metrics are: loss\n",
      "WARNING:tensorflow:Learning rate reduction is conditioned on metric `val_loss` which is not available. Available metrics are: loss,lr\n",
      "8/8 [==============================] - 0s 24ms/step - loss: 0.0146 - lr: 0.0010\n",
      "Epoch 201/300\n",
      "7/8 [=========================>....] - ETA: 0s - loss: 0.0160WARNING:tensorflow:Early stopping conditioned on metric `val_loss` which is not available. Available metrics are: loss\n",
      "WARNING:tensorflow:Learning rate reduction is conditioned on metric `val_loss` which is not available. Available metrics are: loss,lr\n",
      "8/8 [==============================] - 0s 25ms/step - loss: 0.0158 - lr: 0.0010\n",
      "Epoch 202/300\n",
      "6/8 [=====================>........] - ETA: 0s - loss: 0.0144WARNING:tensorflow:Early stopping conditioned on metric `val_loss` which is not available. Available metrics are: loss\n",
      "WARNING:tensorflow:Learning rate reduction is conditioned on metric `val_loss` which is not available. Available metrics are: loss,lr\n",
      "8/8 [==============================] - 0s 25ms/step - loss: 0.0151 - lr: 0.0010\n",
      "Epoch 203/300\n",
      "7/8 [=========================>....] - ETA: 0s - loss: 0.0143WARNING:tensorflow:Early stopping conditioned on metric `val_loss` which is not available. Available metrics are: loss\n",
      "WARNING:tensorflow:Learning rate reduction is conditioned on metric `val_loss` which is not available. Available metrics are: loss,lr\n",
      "8/8 [==============================] - 0s 24ms/step - loss: 0.0142 - lr: 0.0010\n",
      "Epoch 204/300\n",
      "7/8 [=========================>....] - ETA: 0s - loss: 0.0143WARNING:tensorflow:Early stopping conditioned on metric `val_loss` which is not available. Available metrics are: loss\n",
      "WARNING:tensorflow:Learning rate reduction is conditioned on metric `val_loss` which is not available. Available metrics are: loss,lr\n",
      "8/8 [==============================] - 0s 23ms/step - loss: 0.0142 - lr: 0.0010\n",
      "Epoch 205/300\n",
      "6/8 [=====================>........] - ETA: 0s - loss: 0.0172WARNING:tensorflow:Early stopping conditioned on metric `val_loss` which is not available. Available metrics are: loss\n",
      "WARNING:tensorflow:Learning rate reduction is conditioned on metric `val_loss` which is not available. Available metrics are: loss,lr\n",
      "8/8 [==============================] - 0s 25ms/step - loss: 0.0170 - lr: 0.0010\n",
      "Epoch 206/300\n",
      "7/8 [=========================>....] - ETA: 0s - loss: 0.0160WARNING:tensorflow:Early stopping conditioned on metric `val_loss` which is not available. Available metrics are: loss\n",
      "WARNING:tensorflow:Learning rate reduction is conditioned on metric `val_loss` which is not available. Available metrics are: loss,lr\n",
      "8/8 [==============================] - 0s 26ms/step - loss: 0.0162 - lr: 0.0010\n",
      "Epoch 207/300\n",
      "8/8 [==============================] - ETA: 0s - loss: 0.0178WARNING:tensorflow:Early stopping conditioned on metric `val_loss` which is not available. Available metrics are: loss\n",
      "WARNING:tensorflow:Learning rate reduction is conditioned on metric `val_loss` which is not available. Available metrics are: loss,lr\n",
      "8/8 [==============================] - 0s 29ms/step - loss: 0.0178 - lr: 0.0010\n",
      "Epoch 208/300\n",
      "7/8 [=========================>....] - ETA: 0s - loss: 0.0150WARNING:tensorflow:Early stopping conditioned on metric `val_loss` which is not available. Available metrics are: loss\n",
      "WARNING:tensorflow:Learning rate reduction is conditioned on metric `val_loss` which is not available. Available metrics are: loss,lr\n",
      "8/8 [==============================] - 0s 27ms/step - loss: 0.0153 - lr: 0.0010\n",
      "Epoch 209/300\n",
      "6/8 [=====================>........] - ETA: 0s - loss: 0.0139WARNING:tensorflow:Early stopping conditioned on metric `val_loss` which is not available. Available metrics are: loss\n",
      "WARNING:tensorflow:Learning rate reduction is conditioned on metric `val_loss` which is not available. Available metrics are: loss,lr\n",
      "8/8 [==============================] - 0s 24ms/step - loss: 0.0143 - lr: 0.0010\n",
      "Epoch 210/300\n",
      "7/8 [=========================>....] - ETA: 0s - loss: 0.0150WARNING:tensorflow:Early stopping conditioned on metric `val_loss` which is not available. Available metrics are: loss\n",
      "WARNING:tensorflow:Learning rate reduction is conditioned on metric `val_loss` which is not available. Available metrics are: loss,lr\n",
      "8/8 [==============================] - 0s 23ms/step - loss: 0.0147 - lr: 0.0010\n",
      "Epoch 211/300\n",
      "8/8 [==============================] - ETA: 0s - loss: 0.0154WARNING:tensorflow:Early stopping conditioned on metric `val_loss` which is not available. Available metrics are: loss\n",
      "WARNING:tensorflow:Learning rate reduction is conditioned on metric `val_loss` which is not available. Available metrics are: loss,lr\n",
      "8/8 [==============================] - 0s 27ms/step - loss: 0.0154 - lr: 0.0010\n",
      "Epoch 212/300\n",
      "7/8 [=========================>....] - ETA: 0s - loss: 0.0150WARNING:tensorflow:Early stopping conditioned on metric `val_loss` which is not available. Available metrics are: loss\n",
      "WARNING:tensorflow:Learning rate reduction is conditioned on metric `val_loss` which is not available. Available metrics are: loss,lr\n",
      "8/8 [==============================] - 0s 24ms/step - loss: 0.0147 - lr: 0.0010\n",
      "Epoch 213/300\n",
      "7/8 [=========================>....] - ETA: 0s - loss: 0.0146WARNING:tensorflow:Early stopping conditioned on metric `val_loss` which is not available. Available metrics are: loss\n",
      "WARNING:tensorflow:Learning rate reduction is conditioned on metric `val_loss` which is not available. Available metrics are: loss,lr\n",
      "8/8 [==============================] - 0s 23ms/step - loss: 0.0148 - lr: 0.0010\n",
      "Epoch 214/300\n",
      "7/8 [=========================>....] - ETA: 0s - loss: 0.0139WARNING:tensorflow:Early stopping conditioned on metric `val_loss` which is not available. Available metrics are: loss\n",
      "WARNING:tensorflow:Learning rate reduction is conditioned on metric `val_loss` which is not available. Available metrics are: loss,lr\n",
      "8/8 [==============================] - 0s 24ms/step - loss: 0.0139 - lr: 0.0010\n",
      "Epoch 215/300\n",
      "6/8 [=====================>........] - ETA: 0s - loss: 0.0150WARNING:tensorflow:Early stopping conditioned on metric `val_loss` which is not available. Available metrics are: loss\n",
      "WARNING:tensorflow:Learning rate reduction is conditioned on metric `val_loss` which is not available. Available metrics are: loss,lr\n",
      "8/8 [==============================] - 0s 25ms/step - loss: 0.0144 - lr: 0.0010\n",
      "Epoch 216/300\n",
      "6/8 [=====================>........] - ETA: 0s - loss: 0.0150WARNING:tensorflow:Early stopping conditioned on metric `val_loss` which is not available. Available metrics are: loss\n",
      "WARNING:tensorflow:Learning rate reduction is conditioned on metric `val_loss` which is not available. Available metrics are: loss,lr\n",
      "8/8 [==============================] - 0s 24ms/step - loss: 0.0142 - lr: 0.0010\n",
      "Epoch 217/300\n",
      "7/8 [=========================>....] - ETA: 0s - loss: 0.0148WARNING:tensorflow:Early stopping conditioned on metric `val_loss` which is not available. Available metrics are: loss\n",
      "WARNING:tensorflow:Learning rate reduction is conditioned on metric `val_loss` which is not available. Available metrics are: loss,lr\n",
      "8/8 [==============================] - 0s 24ms/step - loss: 0.0145 - lr: 0.0010\n",
      "Epoch 218/300\n",
      "8/8 [==============================] - ETA: 0s - loss: 0.0144WARNING:tensorflow:Early stopping conditioned on metric `val_loss` which is not available. Available metrics are: loss\n",
      "WARNING:tensorflow:Learning rate reduction is conditioned on metric `val_loss` which is not available. Available metrics are: loss,lr\n",
      "8/8 [==============================] - 0s 26ms/step - loss: 0.0144 - lr: 0.0010\n",
      "Epoch 219/300\n",
      "6/8 [=====================>........] - ETA: 0s - loss: 0.0137WARNING:tensorflow:Early stopping conditioned on metric `val_loss` which is not available. Available metrics are: loss\n",
      "WARNING:tensorflow:Learning rate reduction is conditioned on metric `val_loss` which is not available. Available metrics are: loss,lr\n",
      "8/8 [==============================] - 0s 25ms/step - loss: 0.0140 - lr: 0.0010\n",
      "Epoch 220/300\n",
      "6/8 [=====================>........] - ETA: 0s - loss: 0.0150WARNING:tensorflow:Early stopping conditioned on metric `val_loss` which is not available. Available metrics are: loss\n",
      "WARNING:tensorflow:Learning rate reduction is conditioned on metric `val_loss` which is not available. Available metrics are: loss,lr\n",
      "8/8 [==============================] - 0s 24ms/step - loss: 0.0148 - lr: 0.0010\n",
      "Epoch 221/300\n",
      "6/8 [=====================>........] - ETA: 0s - loss: 0.0148WARNING:tensorflow:Early stopping conditioned on metric `val_loss` which is not available. Available metrics are: loss\n",
      "WARNING:tensorflow:Learning rate reduction is conditioned on metric `val_loss` which is not available. Available metrics are: loss,lr\n",
      "8/8 [==============================] - 0s 26ms/step - loss: 0.0144 - lr: 0.0010\n",
      "Epoch 222/300\n",
      "8/8 [==============================] - ETA: 0s - loss: 0.0152WARNING:tensorflow:Early stopping conditioned on metric `val_loss` which is not available. Available metrics are: loss\n",
      "WARNING:tensorflow:Learning rate reduction is conditioned on metric `val_loss` which is not available. Available metrics are: loss,lr\n",
      "8/8 [==============================] - 0s 33ms/step - loss: 0.0152 - lr: 0.0010\n",
      "Epoch 223/300\n",
      "6/8 [=====================>........] - ETA: 0s - loss: 0.0153WARNING:tensorflow:Early stopping conditioned on metric `val_loss` which is not available. Available metrics are: loss\n",
      "WARNING:tensorflow:Learning rate reduction is conditioned on metric `val_loss` which is not available. Available metrics are: loss,lr\n",
      "8/8 [==============================] - 0s 26ms/step - loss: 0.0153 - lr: 0.0010\n",
      "Epoch 224/300\n",
      "7/8 [=========================>....] - ETA: 0s - loss: 0.0142WARNING:tensorflow:Early stopping conditioned on metric `val_loss` which is not available. Available metrics are: loss\n",
      "WARNING:tensorflow:Learning rate reduction is conditioned on metric `val_loss` which is not available. Available metrics are: loss,lr\n",
      "8/8 [==============================] - 0s 28ms/step - loss: 0.0140 - lr: 0.0010\n",
      "Epoch 225/300\n",
      "6/8 [=====================>........] - ETA: 0s - loss: 0.0140WARNING:tensorflow:Early stopping conditioned on metric `val_loss` which is not available. Available metrics are: loss\n",
      "WARNING:tensorflow:Learning rate reduction is conditioned on metric `val_loss` which is not available. Available metrics are: loss,lr\n",
      "8/8 [==============================] - 0s 24ms/step - loss: 0.0144 - lr: 0.0010\n",
      "Epoch 226/300\n",
      "6/8 [=====================>........] - ETA: 0s - loss: 0.0155WARNING:tensorflow:Early stopping conditioned on metric `val_loss` which is not available. Available metrics are: loss\n",
      "WARNING:tensorflow:Learning rate reduction is conditioned on metric `val_loss` which is not available. Available metrics are: loss,lr\n",
      "8/8 [==============================] - 0s 25ms/step - loss: 0.0153 - lr: 0.0010\n",
      "Epoch 227/300\n",
      "6/8 [=====================>........] - ETA: 0s - loss: 0.0166WARNING:tensorflow:Early stopping conditioned on metric `val_loss` which is not available. Available metrics are: loss\n",
      "WARNING:tensorflow:Learning rate reduction is conditioned on metric `val_loss` which is not available. Available metrics are: loss,lr\n",
      "8/8 [==============================] - 0s 26ms/step - loss: 0.0173 - lr: 0.0010\n",
      "Epoch 228/300\n",
      "7/8 [=========================>....] - ETA: 0s - loss: 0.0151WARNING:tensorflow:Early stopping conditioned on metric `val_loss` which is not available. Available metrics are: loss\n",
      "WARNING:tensorflow:Learning rate reduction is conditioned on metric `val_loss` which is not available. Available metrics are: loss,lr\n",
      "8/8 [==============================] - 0s 24ms/step - loss: 0.0150 - lr: 0.0010\n",
      "Epoch 229/300\n",
      "7/8 [=========================>....] - ETA: 0s - loss: 0.0140WARNING:tensorflow:Early stopping conditioned on metric `val_loss` which is not available. Available metrics are: loss\n",
      "WARNING:tensorflow:Learning rate reduction is conditioned on metric `val_loss` which is not available. Available metrics are: loss,lr\n",
      "8/8 [==============================] - 0s 23ms/step - loss: 0.0140 - lr: 0.0010\n",
      "Epoch 230/300\n",
      "8/8 [==============================] - ETA: 0s - loss: 0.0152WARNING:tensorflow:Early stopping conditioned on metric `val_loss` which is not available. Available metrics are: loss\n",
      "WARNING:tensorflow:Learning rate reduction is conditioned on metric `val_loss` which is not available. Available metrics are: loss,lr\n",
      "8/8 [==============================] - 0s 26ms/step - loss: 0.0152 - lr: 0.0010\n",
      "Epoch 231/300\n",
      "8/8 [==============================] - ETA: 0s - loss: 0.0157WARNING:tensorflow:Early stopping conditioned on metric `val_loss` which is not available. Available metrics are: loss\n",
      "WARNING:tensorflow:Learning rate reduction is conditioned on metric `val_loss` which is not available. Available metrics are: loss,lr\n",
      "8/8 [==============================] - 0s 29ms/step - loss: 0.0157 - lr: 0.0010\n",
      "Epoch 232/300\n",
      "8/8 [==============================] - ETA: 0s - loss: 0.0179WARNING:tensorflow:Early stopping conditioned on metric `val_loss` which is not available. Available metrics are: loss\n",
      "WARNING:tensorflow:Learning rate reduction is conditioned on metric `val_loss` which is not available. Available metrics are: loss,lr\n",
      "8/8 [==============================] - 0s 26ms/step - loss: 0.0179 - lr: 0.0010\n",
      "Epoch 233/300\n",
      "8/8 [==============================] - ETA: 0s - loss: 0.0161WARNING:tensorflow:Early stopping conditioned on metric `val_loss` which is not available. Available metrics are: loss\n",
      "WARNING:tensorflow:Learning rate reduction is conditioned on metric `val_loss` which is not available. Available metrics are: loss,lr\n",
      "8/8 [==============================] - 0s 26ms/step - loss: 0.0161 - lr: 0.0010\n",
      "Epoch 234/300\n",
      "6/8 [=====================>........] - ETA: 0s - loss: 0.0133WARNING:tensorflow:Early stopping conditioned on metric `val_loss` which is not available. Available metrics are: loss\n",
      "WARNING:tensorflow:Learning rate reduction is conditioned on metric `val_loss` which is not available. Available metrics are: loss,lr\n",
      "8/8 [==============================] - 0s 24ms/step - loss: 0.0143 - lr: 0.0010\n",
      "Epoch 235/300\n",
      "7/8 [=========================>....] - ETA: 0s - loss: 0.0148WARNING:tensorflow:Early stopping conditioned on metric `val_loss` which is not available. Available metrics are: loss\n",
      "WARNING:tensorflow:Learning rate reduction is conditioned on metric `val_loss` which is not available. Available metrics are: loss,lr\n",
      "8/8 [==============================] - 0s 23ms/step - loss: 0.0145 - lr: 0.0010\n",
      "Epoch 236/300\n",
      "6/8 [=====================>........] - ETA: 0s - loss: 0.0143WARNING:tensorflow:Early stopping conditioned on metric `val_loss` which is not available. Available metrics are: loss\n",
      "WARNING:tensorflow:Learning rate reduction is conditioned on metric `val_loss` which is not available. Available metrics are: loss,lr\n",
      "8/8 [==============================] - 0s 26ms/step - loss: 0.0145 - lr: 0.0010\n",
      "Epoch 237/300\n",
      "8/8 [==============================] - ETA: 0s - loss: 0.0160WARNING:tensorflow:Early stopping conditioned on metric `val_loss` which is not available. Available metrics are: loss\n",
      "WARNING:tensorflow:Learning rate reduction is conditioned on metric `val_loss` which is not available. Available metrics are: loss,lr\n",
      "8/8 [==============================] - 0s 27ms/step - loss: 0.0160 - lr: 0.0010\n",
      "Epoch 238/300\n",
      "8/8 [==============================] - ETA: 0s - loss: 0.0166WARNING:tensorflow:Early stopping conditioned on metric `val_loss` which is not available. Available metrics are: loss\n",
      "WARNING:tensorflow:Learning rate reduction is conditioned on metric `val_loss` which is not available. Available metrics are: loss,lr\n",
      "8/8 [==============================] - 0s 26ms/step - loss: 0.0166 - lr: 0.0010\n",
      "Epoch 239/300\n",
      "6/8 [=====================>........] - ETA: 0s - loss: 0.0174WARNING:tensorflow:Early stopping conditioned on metric `val_loss` which is not available. Available metrics are: loss\n",
      "WARNING:tensorflow:Learning rate reduction is conditioned on metric `val_loss` which is not available. Available metrics are: loss,lr\n",
      "8/8 [==============================] - 0s 25ms/step - loss: 0.0165 - lr: 0.0010\n",
      "Epoch 240/300\n",
      "7/8 [=========================>....] - ETA: 0s - loss: 0.0151WARNING:tensorflow:Early stopping conditioned on metric `val_loss` which is not available. Available metrics are: loss\n",
      "WARNING:tensorflow:Learning rate reduction is conditioned on metric `val_loss` which is not available. Available metrics are: loss,lr\n",
      "8/8 [==============================] - 0s 30ms/step - loss: 0.0150 - lr: 0.0010\n",
      "Epoch 241/300\n",
      "8/8 [==============================] - ETA: 0s - loss: 0.0182WARNING:tensorflow:Early stopping conditioned on metric `val_loss` which is not available. Available metrics are: loss\n",
      "WARNING:tensorflow:Learning rate reduction is conditioned on metric `val_loss` which is not available. Available metrics are: loss,lr\n",
      "8/8 [==============================] - 0s 26ms/step - loss: 0.0182 - lr: 0.0010\n",
      "Epoch 242/300\n",
      "7/8 [=========================>....] - ETA: 0s - loss: 0.0184WARNING:tensorflow:Early stopping conditioned on metric `val_loss` which is not available. Available metrics are: loss\n",
      "WARNING:tensorflow:Learning rate reduction is conditioned on metric `val_loss` which is not available. Available metrics are: loss,lr\n",
      "8/8 [==============================] - 0s 27ms/step - loss: 0.0178 - lr: 0.0010\n",
      "Epoch 243/300\n",
      "6/8 [=====================>........] - ETA: 0s - loss: 0.0182WARNING:tensorflow:Early stopping conditioned on metric `val_loss` which is not available. Available metrics are: loss\n",
      "WARNING:tensorflow:Learning rate reduction is conditioned on metric `val_loss` which is not available. Available metrics are: loss,lr\n",
      "8/8 [==============================] - 0s 23ms/step - loss: 0.0179 - lr: 0.0010\n",
      "Epoch 244/300\n",
      "7/8 [=========================>....] - ETA: 0s - loss: 0.0174WARNING:tensorflow:Early stopping conditioned on metric `val_loss` which is not available. Available metrics are: loss\n",
      "WARNING:tensorflow:Learning rate reduction is conditioned on metric `val_loss` which is not available. Available metrics are: loss,lr\n",
      "8/8 [==============================] - 0s 23ms/step - loss: 0.0177 - lr: 0.0010\n",
      "Epoch 245/300\n",
      "6/8 [=====================>........] - ETA: 0s - loss: 0.0170WARNING:tensorflow:Early stopping conditioned on metric `val_loss` which is not available. Available metrics are: loss\n",
      "WARNING:tensorflow:Learning rate reduction is conditioned on metric `val_loss` which is not available. Available metrics are: loss,lr\n",
      "8/8 [==============================] - 0s 26ms/step - loss: 0.0174 - lr: 0.0010\n",
      "Epoch 246/300\n",
      "7/8 [=========================>....] - ETA: 0s - loss: 0.0165WARNING:tensorflow:Early stopping conditioned on metric `val_loss` which is not available. Available metrics are: loss\n",
      "WARNING:tensorflow:Learning rate reduction is conditioned on metric `val_loss` which is not available. Available metrics are: loss,lr\n",
      "8/8 [==============================] - 0s 23ms/step - loss: 0.0163 - lr: 0.0010\n",
      "Epoch 247/300\n",
      "7/8 [=========================>....] - ETA: 0s - loss: 0.0156WARNING:tensorflow:Early stopping conditioned on metric `val_loss` which is not available. Available metrics are: loss\n",
      "WARNING:tensorflow:Learning rate reduction is conditioned on metric `val_loss` which is not available. Available metrics are: loss,lr\n",
      "8/8 [==============================] - 0s 24ms/step - loss: 0.0162 - lr: 0.0010\n",
      "Epoch 248/300\n",
      "6/8 [=====================>........] - ETA: 0s - loss: 0.0161WARNING:tensorflow:Early stopping conditioned on metric `val_loss` which is not available. Available metrics are: loss\n",
      "WARNING:tensorflow:Learning rate reduction is conditioned on metric `val_loss` which is not available. Available metrics are: loss,lr\n",
      "8/8 [==============================] - 0s 26ms/step - loss: 0.0156 - lr: 0.0010\n",
      "Epoch 249/300\n",
      "8/8 [==============================] - ETA: 0s - loss: 0.0148WARNING:tensorflow:Early stopping conditioned on metric `val_loss` which is not available. Available metrics are: loss\n",
      "WARNING:tensorflow:Learning rate reduction is conditioned on metric `val_loss` which is not available. Available metrics are: loss,lr\n",
      "8/8 [==============================] - 0s 26ms/step - loss: 0.0148 - lr: 0.0010\n",
      "Epoch 250/300\n",
      "7/8 [=========================>....] - ETA: 0s - loss: 0.0145WARNING:tensorflow:Early stopping conditioned on metric `val_loss` which is not available. Available metrics are: loss\n",
      "WARNING:tensorflow:Learning rate reduction is conditioned on metric `val_loss` which is not available. Available metrics are: loss,lr\n",
      "8/8 [==============================] - 0s 32ms/step - loss: 0.0144 - lr: 0.0010\n",
      "Epoch 251/300\n",
      "6/8 [=====================>........] - ETA: 0s - loss: 0.0140WARNING:tensorflow:Early stopping conditioned on metric `val_loss` which is not available. Available metrics are: loss\n",
      "WARNING:tensorflow:Learning rate reduction is conditioned on metric `val_loss` which is not available. Available metrics are: loss,lr\n",
      "8/8 [==============================] - 0s 27ms/step - loss: 0.0139 - lr: 0.0010\n",
      "Epoch 252/300\n",
      "6/8 [=====================>........] - ETA: 0s - loss: 0.0144WARNING:tensorflow:Early stopping conditioned on metric `val_loss` which is not available. Available metrics are: loss\n",
      "WARNING:tensorflow:Learning rate reduction is conditioned on metric `val_loss` which is not available. Available metrics are: loss,lr\n",
      "8/8 [==============================] - 0s 24ms/step - loss: 0.0147 - lr: 0.0010\n",
      "Epoch 253/300\n",
      "7/8 [=========================>....] - ETA: 0s - loss: 0.0160WARNING:tensorflow:Early stopping conditioned on metric `val_loss` which is not available. Available metrics are: loss\n",
      "WARNING:tensorflow:Learning rate reduction is conditioned on metric `val_loss` which is not available. Available metrics are: loss,lr\n",
      "8/8 [==============================] - 0s 23ms/step - loss: 0.0168 - lr: 0.0010\n",
      "Epoch 254/300\n",
      "8/8 [==============================] - ETA: 0s - loss: 0.0159WARNING:tensorflow:Early stopping conditioned on metric `val_loss` which is not available. Available metrics are: loss\n",
      "WARNING:tensorflow:Learning rate reduction is conditioned on metric `val_loss` which is not available. Available metrics are: loss,lr\n",
      "8/8 [==============================] - 0s 25ms/step - loss: 0.0159 - lr: 0.0010\n",
      "Epoch 255/300\n",
      "7/8 [=========================>....] - ETA: 0s - loss: 0.0136WARNING:tensorflow:Early stopping conditioned on metric `val_loss` which is not available. Available metrics are: loss\n",
      "WARNING:tensorflow:Learning rate reduction is conditioned on metric `val_loss` which is not available. Available metrics are: loss,lr\n",
      "8/8 [==============================] - 0s 24ms/step - loss: 0.0143 - lr: 0.0010\n",
      "Epoch 256/300\n",
      "7/8 [=========================>....] - ETA: 0s - loss: 0.0150WARNING:tensorflow:Early stopping conditioned on metric `val_loss` which is not available. Available metrics are: loss\n",
      "WARNING:tensorflow:Learning rate reduction is conditioned on metric `val_loss` which is not available. Available metrics are: loss,lr\n",
      "8/8 [==============================] - 0s 24ms/step - loss: 0.0148 - lr: 0.0010\n",
      "Epoch 257/300\n",
      "7/8 [=========================>....] - ETA: 0s - loss: 0.0143WARNING:tensorflow:Early stopping conditioned on metric `val_loss` which is not available. Available metrics are: loss\n",
      "WARNING:tensorflow:Learning rate reduction is conditioned on metric `val_loss` which is not available. Available metrics are: loss,lr\n",
      "8/8 [==============================] - 0s 24ms/step - loss: 0.0144 - lr: 0.0010\n",
      "Epoch 258/300\n",
      "7/8 [=========================>....] - ETA: 0s - loss: 0.0140WARNING:tensorflow:Early stopping conditioned on metric `val_loss` which is not available. Available metrics are: loss\n",
      "WARNING:tensorflow:Learning rate reduction is conditioned on metric `val_loss` which is not available. Available metrics are: loss,lr\n",
      "8/8 [==============================] - 0s 23ms/step - loss: 0.0141 - lr: 0.0010\n",
      "Epoch 259/300\n",
      "7/8 [=========================>....] - ETA: 0s - loss: 0.0144WARNING:tensorflow:Early stopping conditioned on metric `val_loss` which is not available. Available metrics are: loss\n",
      "WARNING:tensorflow:Learning rate reduction is conditioned on metric `val_loss` which is not available. Available metrics are: loss,lr\n",
      "8/8 [==============================] - 0s 33ms/step - loss: 0.0147 - lr: 0.0010\n",
      "Epoch 260/300\n",
      "7/8 [=========================>....] - ETA: 0s - loss: 0.0175WARNING:tensorflow:Early stopping conditioned on metric `val_loss` which is not available. Available metrics are: loss\n",
      "WARNING:tensorflow:Learning rate reduction is conditioned on metric `val_loss` which is not available. Available metrics are: loss,lr\n",
      "8/8 [==============================] - 0s 24ms/step - loss: 0.0171 - lr: 0.0010\n",
      "Epoch 261/300\n",
      "6/8 [=====================>........] - ETA: 0s - loss: 0.0157WARNING:tensorflow:Early stopping conditioned on metric `val_loss` which is not available. Available metrics are: loss\n",
      "WARNING:tensorflow:Learning rate reduction is conditioned on metric `val_loss` which is not available. Available metrics are: loss,lr\n",
      "8/8 [==============================] - 0s 23ms/step - loss: 0.0143 - lr: 0.0010\n",
      "Epoch 262/300\n",
      "6/8 [=====================>........] - ETA: 0s - loss: 0.0160WARNING:tensorflow:Early stopping conditioned on metric `val_loss` which is not available. Available metrics are: loss\n",
      "WARNING:tensorflow:Learning rate reduction is conditioned on metric `val_loss` which is not available. Available metrics are: loss,lr\n",
      "8/8 [==============================] - 0s 25ms/step - loss: 0.0156 - lr: 0.0010\n",
      "Epoch 263/300\n",
      "7/8 [=========================>....] - ETA: 0s - loss: 0.0151WARNING:tensorflow:Early stopping conditioned on metric `val_loss` which is not available. Available metrics are: loss\n",
      "WARNING:tensorflow:Learning rate reduction is conditioned on metric `val_loss` which is not available. Available metrics are: loss,lr\n",
      "8/8 [==============================] - 0s 23ms/step - loss: 0.0148 - lr: 0.0010\n",
      "Epoch 264/300\n",
      "7/8 [=========================>....] - ETA: 0s - loss: 0.0147WARNING:tensorflow:Early stopping conditioned on metric `val_loss` which is not available. Available metrics are: loss\n",
      "WARNING:tensorflow:Learning rate reduction is conditioned on metric `val_loss` which is not available. Available metrics are: loss,lr\n",
      "8/8 [==============================] - 0s 24ms/step - loss: 0.0151 - lr: 0.0010\n",
      "Epoch 265/300\n",
      "6/8 [=====================>........] - ETA: 0s - loss: 0.0145WARNING:tensorflow:Early stopping conditioned on metric `val_loss` which is not available. Available metrics are: loss\n",
      "WARNING:tensorflow:Learning rate reduction is conditioned on metric `val_loss` which is not available. Available metrics are: loss,lr\n",
      "8/8 [==============================] - 0s 25ms/step - loss: 0.0140 - lr: 0.0010\n",
      "Epoch 266/300\n",
      "6/8 [=====================>........] - ETA: 0s - loss: 0.0155WARNING:tensorflow:Early stopping conditioned on metric `val_loss` which is not available. Available metrics are: loss\n",
      "WARNING:tensorflow:Learning rate reduction is conditioned on metric `val_loss` which is not available. Available metrics are: loss,lr\n",
      "8/8 [==============================] - 0s 24ms/step - loss: 0.0142 - lr: 0.0010\n",
      "Epoch 267/300\n",
      "7/8 [=========================>....] - ETA: 0s - loss: 0.0151WARNING:tensorflow:Early stopping conditioned on metric `val_loss` which is not available. Available metrics are: loss\n",
      "WARNING:tensorflow:Learning rate reduction is conditioned on metric `val_loss` which is not available. Available metrics are: loss,lr\n",
      "8/8 [==============================] - 0s 23ms/step - loss: 0.0148 - lr: 0.0010\n",
      "Epoch 268/300\n",
      "6/8 [=====================>........] - ETA: 0s - loss: 0.0140WARNING:tensorflow:Early stopping conditioned on metric `val_loss` which is not available. Available metrics are: loss\n",
      "WARNING:tensorflow:Learning rate reduction is conditioned on metric `val_loss` which is not available. Available metrics are: loss,lr\n",
      "8/8 [==============================] - 0s 24ms/step - loss: 0.0141 - lr: 0.0010\n",
      "Epoch 269/300\n",
      "7/8 [=========================>....] - ETA: 0s - loss: 0.0144WARNING:tensorflow:Early stopping conditioned on metric `val_loss` which is not available. Available metrics are: loss\n",
      "WARNING:tensorflow:Learning rate reduction is conditioned on metric `val_loss` which is not available. Available metrics are: loss,lr\n",
      "8/8 [==============================] - 0s 24ms/step - loss: 0.0144 - lr: 0.0010\n",
      "Epoch 270/300\n",
      "7/8 [=========================>....] - ETA: 0s - loss: 0.0151WARNING:tensorflow:Early stopping conditioned on metric `val_loss` which is not available. Available metrics are: loss\n",
      "WARNING:tensorflow:Learning rate reduction is conditioned on metric `val_loss` which is not available. Available metrics are: loss,lr\n",
      "8/8 [==============================] - 0s 24ms/step - loss: 0.0148 - lr: 0.0010\n",
      "Epoch 271/300\n",
      "8/8 [==============================] - ETA: 0s - loss: 0.0152WARNING:tensorflow:Early stopping conditioned on metric `val_loss` which is not available. Available metrics are: loss\n",
      "WARNING:tensorflow:Learning rate reduction is conditioned on metric `val_loss` which is not available. Available metrics are: loss,lr\n",
      "8/8 [==============================] - 0s 29ms/step - loss: 0.0152 - lr: 0.0010\n",
      "Epoch 272/300\n",
      "7/8 [=========================>....] - ETA: 0s - loss: 0.0189WARNING:tensorflow:Early stopping conditioned on metric `val_loss` which is not available. Available metrics are: loss\n",
      "WARNING:tensorflow:Learning rate reduction is conditioned on metric `val_loss` which is not available. Available metrics are: loss,lr\n",
      "8/8 [==============================] - 0s 27ms/step - loss: 0.0194 - lr: 0.0010\n",
      "Epoch 273/300\n",
      "7/8 [=========================>....] - ETA: 0s - loss: 0.0159WARNING:tensorflow:Early stopping conditioned on metric `val_loss` which is not available. Available metrics are: loss\n",
      "WARNING:tensorflow:Learning rate reduction is conditioned on metric `val_loss` which is not available. Available metrics are: loss,lr\n",
      "8/8 [==============================] - 0s 27ms/step - loss: 0.0156 - lr: 0.0010\n",
      "Epoch 274/300\n",
      "7/8 [=========================>....] - ETA: 0s - loss: 0.0143WARNING:tensorflow:Early stopping conditioned on metric `val_loss` which is not available. Available metrics are: loss\n",
      "WARNING:tensorflow:Learning rate reduction is conditioned on metric `val_loss` which is not available. Available metrics are: loss,lr\n",
      "8/8 [==============================] - 0s 23ms/step - loss: 0.0141 - lr: 0.0010\n",
      "Epoch 275/300\n",
      "8/8 [==============================] - ETA: 0s - loss: 0.0149WARNING:tensorflow:Early stopping conditioned on metric `val_loss` which is not available. Available metrics are: loss\n",
      "WARNING:tensorflow:Learning rate reduction is conditioned on metric `val_loss` which is not available. Available metrics are: loss,lr\n",
      "8/8 [==============================] - 0s 26ms/step - loss: 0.0149 - lr: 0.0010\n",
      "Epoch 276/300\n",
      "6/8 [=====================>........] - ETA: 0s - loss: 0.0151WARNING:tensorflow:Early stopping conditioned on metric `val_loss` which is not available. Available metrics are: loss\n",
      "WARNING:tensorflow:Learning rate reduction is conditioned on metric `val_loss` which is not available. Available metrics are: loss,lr\n",
      "8/8 [==============================] - 0s 23ms/step - loss: 0.0146 - lr: 0.0010\n",
      "Epoch 277/300\n",
      "7/8 [=========================>....] - ETA: 0s - loss: 0.0138WARNING:tensorflow:Early stopping conditioned on metric `val_loss` which is not available. Available metrics are: loss\n",
      "WARNING:tensorflow:Learning rate reduction is conditioned on metric `val_loss` which is not available. Available metrics are: loss,lr\n",
      "8/8 [==============================] - 0s 23ms/step - loss: 0.0141 - lr: 0.0010\n",
      "Epoch 278/300\n",
      "8/8 [==============================] - ETA: 0s - loss: 0.0147WARNING:tensorflow:Early stopping conditioned on metric `val_loss` which is not available. Available metrics are: loss\n",
      "WARNING:tensorflow:Learning rate reduction is conditioned on metric `val_loss` which is not available. Available metrics are: loss,lr\n",
      "8/8 [==============================] - 0s 26ms/step - loss: 0.0147 - lr: 0.0010\n",
      "Epoch 279/300\n",
      "6/8 [=====================>........] - ETA: 0s - loss: 0.0173WARNING:tensorflow:Early stopping conditioned on metric `val_loss` which is not available. Available metrics are: loss\n",
      "WARNING:tensorflow:Learning rate reduction is conditioned on metric `val_loss` which is not available. Available metrics are: loss,lr\n",
      "8/8 [==============================] - 0s 24ms/step - loss: 0.0162 - lr: 0.0010\n",
      "Epoch 280/300\n",
      "6/8 [=====================>........] - ETA: 0s - loss: 0.0145WARNING:tensorflow:Early stopping conditioned on metric `val_loss` which is not available. Available metrics are: loss\n",
      "WARNING:tensorflow:Learning rate reduction is conditioned on metric `val_loss` which is not available. Available metrics are: loss,lr\n",
      "8/8 [==============================] - 0s 26ms/step - loss: 0.0152 - lr: 0.0010\n",
      "Epoch 281/300\n",
      "6/8 [=====================>........] - ETA: 0s - loss: 0.0151WARNING:tensorflow:Early stopping conditioned on metric `val_loss` which is not available. Available metrics are: loss\n",
      "WARNING:tensorflow:Learning rate reduction is conditioned on metric `val_loss` which is not available. Available metrics are: loss,lr\n",
      "8/8 [==============================] - 0s 23ms/step - loss: 0.0157 - lr: 0.0010\n",
      "Epoch 282/300\n",
      "7/8 [=========================>....] - ETA: 0s - loss: 0.0184WARNING:tensorflow:Early stopping conditioned on metric `val_loss` which is not available. Available metrics are: loss\n",
      "WARNING:tensorflow:Learning rate reduction is conditioned on metric `val_loss` which is not available. Available metrics are: loss,lr\n",
      "8/8 [==============================] - 0s 33ms/step - loss: 0.0183 - lr: 0.0010\n",
      "Epoch 283/300\n",
      "6/8 [=====================>........] - ETA: 0s - loss: 0.0169WARNING:tensorflow:Early stopping conditioned on metric `val_loss` which is not available. Available metrics are: loss\n",
      "WARNING:tensorflow:Learning rate reduction is conditioned on metric `val_loss` which is not available. Available metrics are: loss,lr\n",
      "8/8 [==============================] - 0s 24ms/step - loss: 0.0178 - lr: 0.0010\n",
      "Epoch 284/300\n",
      "6/8 [=====================>........] - ETA: 0s - loss: 0.0149WARNING:tensorflow:Early stopping conditioned on metric `val_loss` which is not available. Available metrics are: loss\n",
      "WARNING:tensorflow:Learning rate reduction is conditioned on metric `val_loss` which is not available. Available metrics are: loss,lr\n",
      "8/8 [==============================] - 0s 24ms/step - loss: 0.0150 - lr: 0.0010\n",
      "Epoch 285/300\n",
      "8/8 [==============================] - ETA: 0s - loss: 0.0144WARNING:tensorflow:Early stopping conditioned on metric `val_loss` which is not available. Available metrics are: loss\n",
      "WARNING:tensorflow:Learning rate reduction is conditioned on metric `val_loss` which is not available. Available metrics are: loss,lr\n",
      "8/8 [==============================] - 0s 26ms/step - loss: 0.0144 - lr: 0.0010\n",
      "Epoch 286/300\n",
      "7/8 [=========================>....] - ETA: 0s - loss: 0.0139WARNING:tensorflow:Early stopping conditioned on metric `val_loss` which is not available. Available metrics are: loss\n",
      "WARNING:tensorflow:Learning rate reduction is conditioned on metric `val_loss` which is not available. Available metrics are: loss,lr\n",
      "8/8 [==============================] - 0s 23ms/step - loss: 0.0140 - lr: 0.0010\n",
      "Epoch 287/300\n",
      "7/8 [=========================>....] - ETA: 0s - loss: 0.0148WARNING:tensorflow:Early stopping conditioned on metric `val_loss` which is not available. Available metrics are: loss\n",
      "WARNING:tensorflow:Learning rate reduction is conditioned on metric `val_loss` which is not available. Available metrics are: loss,lr\n",
      "8/8 [==============================] - 0s 25ms/step - loss: 0.0151 - lr: 0.0010\n",
      "Epoch 288/300\n",
      "7/8 [=========================>....] - ETA: 0s - loss: 0.0140WARNING:tensorflow:Early stopping conditioned on metric `val_loss` which is not available. Available metrics are: loss\n",
      "WARNING:tensorflow:Learning rate reduction is conditioned on metric `val_loss` which is not available. Available metrics are: loss,lr\n",
      "8/8 [==============================] - 0s 23ms/step - loss: 0.0139 - lr: 0.0010\n",
      "Epoch 289/300\n",
      "6/8 [=====================>........] - ETA: 0s - loss: 0.0128WARNING:tensorflow:Early stopping conditioned on metric `val_loss` which is not available. Available metrics are: loss\n",
      "WARNING:tensorflow:Learning rate reduction is conditioned on metric `val_loss` which is not available. Available metrics are: loss,lr\n",
      "8/8 [==============================] - 0s 24ms/step - loss: 0.0140 - lr: 0.0010\n",
      "Epoch 290/300\n",
      "7/8 [=========================>....] - ETA: 0s - loss: 0.0141WARNING:tensorflow:Early stopping conditioned on metric `val_loss` which is not available. Available metrics are: loss\n",
      "WARNING:tensorflow:Learning rate reduction is conditioned on metric `val_loss` which is not available. Available metrics are: loss,lr\n",
      "8/8 [==============================] - 0s 33ms/step - loss: 0.0141 - lr: 0.0010\n",
      "Epoch 291/300\n",
      "6/8 [=====================>........] - ETA: 0s - loss: 0.0137WARNING:tensorflow:Early stopping conditioned on metric `val_loss` which is not available. Available metrics are: loss\n",
      "WARNING:tensorflow:Learning rate reduction is conditioned on metric `val_loss` which is not available. Available metrics are: loss,lr\n",
      "8/8 [==============================] - 0s 24ms/step - loss: 0.0146 - lr: 0.0010\n",
      "Epoch 292/300\n",
      "8/8 [==============================] - ETA: 0s - loss: 0.0144WARNING:tensorflow:Early stopping conditioned on metric `val_loss` which is not available. Available metrics are: loss\n",
      "WARNING:tensorflow:Learning rate reduction is conditioned on metric `val_loss` which is not available. Available metrics are: loss,lr\n",
      "8/8 [==============================] - 0s 26ms/step - loss: 0.0144 - lr: 0.0010\n",
      "Epoch 293/300\n",
      "7/8 [=========================>....] - ETA: 0s - loss: 0.0149WARNING:tensorflow:Early stopping conditioned on metric `val_loss` which is not available. Available metrics are: loss\n",
      "WARNING:tensorflow:Learning rate reduction is conditioned on metric `val_loss` which is not available. Available metrics are: loss,lr\n",
      "8/8 [==============================] - 0s 23ms/step - loss: 0.0150 - lr: 0.0010\n",
      "Epoch 294/300\n",
      "7/8 [=========================>....] - ETA: 0s - loss: 0.0139WARNING:tensorflow:Early stopping conditioned on metric `val_loss` which is not available. Available metrics are: loss\n",
      "WARNING:tensorflow:Learning rate reduction is conditioned on metric `val_loss` which is not available. Available metrics are: loss,lr\n",
      "8/8 [==============================] - 0s 23ms/step - loss: 0.0139 - lr: 0.0010\n",
      "Epoch 295/300\n",
      "6/8 [=====================>........] - ETA: 0s - loss: 0.0143WARNING:tensorflow:Early stopping conditioned on metric `val_loss` which is not available. Available metrics are: loss\n",
      "WARNING:tensorflow:Learning rate reduction is conditioned on metric `val_loss` which is not available. Available metrics are: loss,lr\n",
      "8/8 [==============================] - 0s 24ms/step - loss: 0.0142 - lr: 0.0010\n",
      "Epoch 296/300\n",
      "7/8 [=========================>....] - ETA: 0s - loss: 0.0137WARNING:tensorflow:Early stopping conditioned on metric `val_loss` which is not available. Available metrics are: loss\n",
      "WARNING:tensorflow:Learning rate reduction is conditioned on metric `val_loss` which is not available. Available metrics are: loss,lr\n",
      "8/8 [==============================] - 0s 25ms/step - loss: 0.0139 - lr: 0.0010\n",
      "Epoch 297/300\n",
      "7/8 [=========================>....] - ETA: 0s - loss: 0.0152WARNING:tensorflow:Early stopping conditioned on metric `val_loss` which is not available. Available metrics are: loss\n",
      "WARNING:tensorflow:Learning rate reduction is conditioned on metric `val_loss` which is not available. Available metrics are: loss,lr\n",
      "8/8 [==============================] - 0s 30ms/step - loss: 0.0159 - lr: 0.0010\n",
      "Epoch 298/300\n",
      "7/8 [=========================>....] - ETA: 0s - loss: 0.0147WARNING:tensorflow:Early stopping conditioned on metric `val_loss` which is not available. Available metrics are: loss\n",
      "WARNING:tensorflow:Learning rate reduction is conditioned on metric `val_loss` which is not available. Available metrics are: loss,lr\n",
      "8/8 [==============================] - 0s 32ms/step - loss: 0.0146 - lr: 0.0010\n",
      "Epoch 299/300\n",
      "8/8 [==============================] - ETA: 0s - loss: 0.0151WARNING:tensorflow:Early stopping conditioned on metric `val_loss` which is not available. Available metrics are: loss\n",
      "WARNING:tensorflow:Learning rate reduction is conditioned on metric `val_loss` which is not available. Available metrics are: loss,lr\n",
      "8/8 [==============================] - 0s 29ms/step - loss: 0.0151 - lr: 0.0010\n",
      "Epoch 300/300\n",
      "7/8 [=========================>....] - ETA: 0s - loss: 0.0151WARNING:tensorflow:Early stopping conditioned on metric `val_loss` which is not available. Available metrics are: loss\n",
      "WARNING:tensorflow:Learning rate reduction is conditioned on metric `val_loss` which is not available. Available metrics are: loss,lr\n",
      "8/8 [==============================] - 0s 24ms/step - loss: 0.0152 - lr: 0.0010\n"
     ]
    },
    {
     "data": {
      "text/plain": [
       "<keras.callbacks.History at 0x7f7f4421b7c0>"
      ]
     },
     "execution_count": 286,
     "metadata": {},
     "output_type": "execute_result"
    }
   ],
   "source": [
    "early_stopping = keras.callbacks.EarlyStopping(\n",
    "    monitor='val_loss', patience=20, restore_best_weights=True)\n",
    "lr_scheduler = keras.callbacks.ReduceLROnPlateau(\n",
    "    monitor='val_loss', factor=0.2, patience=10, min_lr=1e-6)\n",
    "model.fit(x_train, y_train, epochs=300, verbose=1,\n",
    "          callbacks=[early_stopping, lr_scheduler])\n"
   ]
  },
  {
   "cell_type": "code",
   "execution_count": 287,
   "metadata": {
    "execution": {
     "iopub.execute_input": "2021-03-05T11:16:26.460953Z",
     "iopub.status.busy": "2021-03-05T11:16:26.460276Z",
     "iopub.status.idle": "2021-03-05T11:16:26.463274Z",
     "shell.execute_reply": "2021-03-05T11:16:26.462751Z"
    },
    "papermill": {
     "duration": 0.526653,
     "end_time": "2021-03-05T11:16:26.463423",
     "exception": false,
     "start_time": "2021-03-05T11:16:25.936770",
     "status": "completed"
    },
    "tags": []
   },
   "outputs": [],
   "source": [
    "# model.evaluate(x_test, y_test)"
   ]
  },
  {
   "cell_type": "markdown",
   "metadata": {
    "papermill": {
     "duration": 0.510612,
     "end_time": "2021-03-05T11:16:27.483257",
     "exception": false,
     "start_time": "2021-03-05T11:16:26.972645",
     "status": "completed"
    },
    "tags": []
   },
   "source": [
    "### Predictions and Model evaluation"
   ]
  },
  {
   "cell_type": "markdown",
   "metadata": {
    "papermill": {
     "duration": 0.515905,
     "end_time": "2021-03-05T11:16:28.511896",
     "exception": false,
     "start_time": "2021-03-05T11:16:27.995991",
     "status": "completed"
    },
    "tags": []
   },
   "source": [
    "Predictions on training set"
   ]
  },
  {
   "cell_type": "code",
   "execution_count": 288,
   "metadata": {
    "execution": {
     "iopub.execute_input": "2021-03-05T11:16:29.603649Z",
     "iopub.status.busy": "2021-03-05T11:16:29.602644Z",
     "iopub.status.idle": "2021-03-05T11:16:31.000745Z",
     "shell.execute_reply": "2021-03-05T11:16:31.001349Z"
    },
    "papermill": {
     "duration": 1.921717,
     "end_time": "2021-03-05T11:16:31.001558",
     "exception": false,
     "start_time": "2021-03-05T11:16:29.079841",
     "status": "completed"
    },
    "tags": []
   },
   "outputs": [
    {
     "name": "stderr",
     "output_type": "stream",
     "text": [
      "2023-06-29 19:01:20.522589: I tensorflow/core/common_runtime/executor.cc:1197] [/device:CPU:0] (DEBUG INFO) Executor start aborting (this does not indicate an error and you can ignore this message): INVALID_ARGUMENT: You must feed a value for placeholder tensor 'gradients/split_2_grad/concat/split_2/split_dim' with dtype int32\n",
      "\t [[{{node gradients/split_2_grad/concat/split_2/split_dim}}]]\n",
      "2023-06-29 19:01:20.525920: I tensorflow/core/common_runtime/executor.cc:1197] [/device:CPU:0] (DEBUG INFO) Executor start aborting (this does not indicate an error and you can ignore this message): INVALID_ARGUMENT: You must feed a value for placeholder tensor 'gradients/split_grad/concat/split/split_dim' with dtype int32\n",
      "\t [[{{node gradients/split_grad/concat/split/split_dim}}]]\n",
      "2023-06-29 19:01:20.527729: I tensorflow/core/common_runtime/executor.cc:1197] [/device:CPU:0] (DEBUG INFO) Executor start aborting (this does not indicate an error and you can ignore this message): INVALID_ARGUMENT: You must feed a value for placeholder tensor 'gradients/split_1_grad/concat/split_1/split_dim' with dtype int32\n",
      "\t [[{{node gradients/split_1_grad/concat/split_1/split_dim}}]]\n",
      "2023-06-29 19:01:20.729006: I tensorflow/core/common_runtime/executor.cc:1197] [/device:CPU:0] (DEBUG INFO) Executor start aborting (this does not indicate an error and you can ignore this message): INVALID_ARGUMENT: You must feed a value for placeholder tensor 'gradients/split_2_grad/concat/split_2/split_dim' with dtype int32\n",
      "\t [[{{node gradients/split_2_grad/concat/split_2/split_dim}}]]\n",
      "2023-06-29 19:01:20.731078: I tensorflow/core/common_runtime/executor.cc:1197] [/device:CPU:0] (DEBUG INFO) Executor start aborting (this does not indicate an error and you can ignore this message): INVALID_ARGUMENT: You must feed a value for placeholder tensor 'gradients/split_grad/concat/split/split_dim' with dtype int32\n",
      "\t [[{{node gradients/split_grad/concat/split/split_dim}}]]\n",
      "2023-06-29 19:01:20.732534: I tensorflow/core/common_runtime/executor.cc:1197] [/device:CPU:0] (DEBUG INFO) Executor start aborting (this does not indicate an error and you can ignore this message): INVALID_ARGUMENT: You must feed a value for placeholder tensor 'gradients/split_1_grad/concat/split_1/split_dim' with dtype int32\n",
      "\t [[{{node gradients/split_1_grad/concat/split_1/split_dim}}]]\n",
      "2023-06-29 19:01:20.929463: I tensorflow/core/common_runtime/executor.cc:1197] [/device:CPU:0] (DEBUG INFO) Executor start aborting (this does not indicate an error and you can ignore this message): INVALID_ARGUMENT: You must feed a value for placeholder tensor 'gradients/split_2_grad/concat/split_2/split_dim' with dtype int32\n",
      "\t [[{{node gradients/split_2_grad/concat/split_2/split_dim}}]]\n",
      "2023-06-29 19:01:20.932348: I tensorflow/core/common_runtime/executor.cc:1197] [/device:CPU:0] (DEBUG INFO) Executor start aborting (this does not indicate an error and you can ignore this message): INVALID_ARGUMENT: You must feed a value for placeholder tensor 'gradients/split_grad/concat/split/split_dim' with dtype int32\n",
      "\t [[{{node gradients/split_grad/concat/split/split_dim}}]]\n",
      "2023-06-29 19:01:20.934983: I tensorflow/core/common_runtime/executor.cc:1197] [/device:CPU:0] (DEBUG INFO) Executor start aborting (this does not indicate an error and you can ignore this message): INVALID_ARGUMENT: You must feed a value for placeholder tensor 'gradients/split_1_grad/concat/split_1/split_dim' with dtype int32\n",
      "\t [[{{node gradients/split_1_grad/concat/split_1/split_dim}}]]\n"
     ]
    },
    {
     "name": "stdout",
     "output_type": "stream",
     "text": [
      "8/8 [==============================] - 1s 8ms/step\n",
      "Predicted Value 0.6187962\n",
      "Expected value 0.6011396011396011\n"
     ]
    }
   ],
   "source": [
    "print(\"Predicted Value\",model.predict(x_train)[4][0])\n",
    "print(\"Expected value\",y_train[4][0])"
   ]
  },
  {
   "cell_type": "markdown",
   "metadata": {
    "papermill": {
     "duration": 0.53262,
     "end_time": "2021-03-05T11:16:32.047156",
     "exception": false,
     "start_time": "2021-03-05T11:16:31.514536",
     "status": "completed"
    },
    "tags": []
   },
   "source": [
    "Predictions on testing set"
   ]
  },
  {
   "cell_type": "code",
   "execution_count": 289,
   "metadata": {
    "execution": {
     "iopub.execute_input": "2021-03-05T11:16:33.104050Z",
     "iopub.status.busy": "2021-03-05T11:16:33.103332Z",
     "iopub.status.idle": "2021-03-05T11:16:33.178422Z",
     "shell.execute_reply": "2021-03-05T11:16:33.177818Z"
    },
    "papermill": {
     "duration": 0.603016,
     "end_time": "2021-03-05T11:16:33.178579",
     "exception": false,
     "start_time": "2021-03-05T11:16:32.575563",
     "status": "completed"
    },
    "tags": []
   },
   "outputs": [
    {
     "name": "stdout",
     "output_type": "stream",
     "text": [
      "4165/4165 [==============================] - 38s 9ms/step\n"
     ]
    }
   ],
   "source": [
    "predictions=model.predict(x_test)"
   ]
  },
  {
   "cell_type": "code",
   "execution_count": 290,
   "metadata": {
    "execution": {
     "iopub.execute_input": "2021-03-05T11:16:34.245562Z",
     "iopub.status.busy": "2021-03-05T11:16:34.244864Z",
     "iopub.status.idle": "2021-03-05T11:16:34.247548Z",
     "shell.execute_reply": "2021-03-05T11:16:34.248047Z"
    },
    "papermill": {
     "duration": 0.539641,
     "end_time": "2021-03-05T11:16:34.248224",
     "exception": false,
     "start_time": "2021-03-05T11:16:33.708583",
     "status": "completed"
    },
    "tags": []
   },
   "outputs": [
    {
     "name": "stdout",
     "output_type": "stream",
     "text": [
      "Predicted Value 0.40917325\n",
      "Expected Value 0.40740740740740744\n"
     ]
    }
   ],
   "source": [
    "print(\"Predicted Value\",predictions[2][0])\n",
    "print(\"Expected Value\",y_test[2][0])"
   ]
  },
  {
   "cell_type": "code",
   "execution_count": null,
   "metadata": {
    "papermill": {
     "duration": 0.530278,
     "end_time": "2021-03-05T11:16:35.302322",
     "exception": false,
     "start_time": "2021-03-05T11:16:34.772044",
     "status": "completed"
    },
    "tags": []
   },
   "outputs": [],
   "source": []
  },
  {
   "cell_type": "code",
   "execution_count": 291,
   "metadata": {
    "execution": {
     "iopub.execute_input": "2021-03-05T11:16:36.403230Z",
     "iopub.status.busy": "2021-03-05T11:16:36.402509Z",
     "iopub.status.idle": "2021-03-05T11:16:36.407241Z",
     "shell.execute_reply": "2021-03-05T11:16:36.407722Z"
    },
    "papermill": {
     "duration": 0.563711,
     "end_time": "2021-03-05T11:16:36.407931",
     "exception": false,
     "start_time": "2021-03-05T11:16:35.844220",
     "status": "completed"
    },
    "tags": []
   },
   "outputs": [
    {
     "data": {
      "text/plain": [
       "(133276, 1)"
      ]
     },
     "execution_count": 291,
     "metadata": {},
     "output_type": "execute_result"
    }
   ],
   "source": [
    "predictions.shape"
   ]
  },
  {
   "cell_type": "code",
   "execution_count": 292,
   "metadata": {
    "execution": {
     "iopub.execute_input": "2021-03-05T11:16:37.500012Z",
     "iopub.status.busy": "2021-03-05T11:16:37.499309Z",
     "iopub.status.idle": "2021-03-05T11:16:37.504237Z",
     "shell.execute_reply": "2021-03-05T11:16:37.503604Z"
    },
    "papermill": {
     "duration": 0.574574,
     "end_time": "2021-03-05T11:16:37.504395",
     "exception": false,
     "start_time": "2021-03-05T11:16:36.929821",
     "status": "completed"
    },
    "tags": []
   },
   "outputs": [
    {
     "data": {
      "text/plain": [
       "(133276, 1)"
      ]
     },
     "execution_count": 292,
     "metadata": {},
     "output_type": "execute_result"
    }
   ],
   "source": [
    "y_test.shape"
   ]
  },
  {
   "cell_type": "code",
   "execution_count": 293,
   "metadata": {
    "execution": {
     "iopub.execute_input": "2021-03-05T11:16:38.592283Z",
     "iopub.status.busy": "2021-03-05T11:16:38.590923Z",
     "iopub.status.idle": "2021-03-05T11:16:38.595231Z",
     "shell.execute_reply": "2021-03-05T11:16:38.594666Z"
    },
    "papermill": {
     "duration": 0.538878,
     "end_time": "2021-03-05T11:16:38.595389",
     "exception": false,
     "start_time": "2021-03-05T11:16:38.056511",
     "status": "completed"
    },
    "tags": []
   },
   "outputs": [],
   "source": [
    "pred_df=pd.DataFrame(predictions)"
   ]
  },
  {
   "cell_type": "code",
   "execution_count": 294,
   "metadata": {
    "execution": {
     "iopub.execute_input": "2021-03-05T11:16:39.667561Z",
     "iopub.status.busy": "2021-03-05T11:16:39.666704Z",
     "iopub.status.idle": "2021-03-05T11:16:39.670635Z",
     "shell.execute_reply": "2021-03-05T11:16:39.670095Z"
    },
    "papermill": {
     "duration": 0.524745,
     "end_time": "2021-03-05T11:16:39.670791",
     "exception": false,
     "start_time": "2021-03-05T11:16:39.146046",
     "status": "completed"
    },
    "tags": []
   },
   "outputs": [],
   "source": [
    "pred_df['TrueValues']=y_test"
   ]
  },
  {
   "cell_type": "code",
   "execution_count": 295,
   "metadata": {
    "execution": {
     "iopub.execute_input": "2021-03-05T11:16:40.823917Z",
     "iopub.status.busy": "2021-03-05T11:16:40.823178Z",
     "iopub.status.idle": "2021-03-05T11:16:40.826526Z",
     "shell.execute_reply": "2021-03-05T11:16:40.825978Z"
    },
    "papermill": {
     "duration": 0.568356,
     "end_time": "2021-03-05T11:16:40.826690",
     "exception": false,
     "start_time": "2021-03-05T11:16:40.258334",
     "status": "completed"
    },
    "tags": []
   },
   "outputs": [],
   "source": [
    "pred_df_new = pred_df.rename(columns={ 0: 'Predictions'})"
   ]
  },
  {
   "cell_type": "code",
   "execution_count": 296,
   "metadata": {
    "execution": {
     "iopub.execute_input": "2021-03-05T11:16:41.907314Z",
     "iopub.status.busy": "2021-03-05T11:16:41.906329Z",
     "iopub.status.idle": "2021-03-05T11:16:41.911262Z",
     "shell.execute_reply": "2021-03-05T11:16:41.910542Z"
    },
    "papermill": {
     "duration": 0.55583,
     "end_time": "2021-03-05T11:16:41.911416",
     "exception": false,
     "start_time": "2021-03-05T11:16:41.355586",
     "status": "completed"
    },
    "tags": []
   },
   "outputs": [
    {
     "data": {
      "text/plain": [
       "array([[ 8.55098452,  8.6       ],\n",
       "       [ 8.6433277 ,  8.3       ],\n",
       "       [ 8.36198108,  8.3       ],\n",
       "       ...,\n",
       "       [25.96070663, 24.1       ],\n",
       "       [24.90684358, 24.2       ],\n",
       "       [25.73453767, 24.5       ]])"
      ]
     },
     "execution_count": 296,
     "metadata": {},
     "output_type": "execute_result"
    }
   ],
   "source": [
    "scaler.inverse_transform(pred_df_new)"
   ]
  },
  {
   "cell_type": "code",
   "execution_count": 297,
   "metadata": {
    "execution": {
     "iopub.execute_input": "2021-03-05T11:16:43.005901Z",
     "iopub.status.busy": "2021-03-05T11:16:43.005142Z",
     "iopub.status.idle": "2021-03-05T11:16:43.320505Z",
     "shell.execute_reply": "2021-03-05T11:16:43.319676Z"
    },
    "papermill": {
     "duration": 0.86992,
     "end_time": "2021-03-05T11:16:43.320673",
     "exception": false,
     "start_time": "2021-03-05T11:16:42.450753",
     "status": "completed"
    },
    "tags": []
   },
   "outputs": [
    {
     "data": {
      "text/plain": [
       "Text(0.5, 1.0, 'Predictions VS True Values on Testing Set')"
      ]
     },
     "execution_count": 297,
     "metadata": {},
     "output_type": "execute_result"
    },
    {
     "data": {
      "image/png": "[encoded data removed]",
      "text/plain": [
       "<Figure size 1200x800 with 1 Axes>"
      ]
     },
     "metadata": {},
     "output_type": "display_data"
    }
   ],
   "source": [
    "plt.figure(figsize=(12,8))\n",
    "sns.lineplot(data= pred_df_new)\n",
    "plt.title(\"Predictions VS True Values on Testing Set\")"
   ]
  },
  {
   "cell_type": "code",
   "execution_count": null,
   "metadata": {
    "papermill": {
     "duration": 0.554836,
     "end_time": "2021-03-05T11:16:44.463150",
     "exception": false,
     "start_time": "2021-03-05T11:16:43.908314",
     "status": "completed"
    },
    "tags": []
   },
   "outputs": [],
   "source": []
  },
  {
   "cell_type": "markdown",
   "metadata": {
    "papermill": {
     "duration": 0.532653,
     "end_time": "2021-03-05T11:16:45.523278",
     "exception": false,
     "start_time": "2021-03-05T11:16:44.990625",
     "status": "completed"
    },
    "tags": []
   },
   "source": [
    "### Weather Predictions for next 30 Days"
   ]
  },
  {
   "cell_type": "markdown",
   "metadata": {
    "papermill": {
     "duration": 0.533826,
     "end_time": "2021-03-05T11:16:46.594407",
     "exception": false,
     "start_time": "2021-03-05T11:16:46.060581",
     "status": "completed"
    },
    "tags": []
   },
   "source": [
    "we are using last 10 days input for 1st day output"
   ]
  },
  {
   "cell_type": "code",
   "execution_count": 298,
   "metadata": {
    "execution": {
     "iopub.execute_input": "2021-03-05T11:16:47.680885Z",
     "iopub.status.busy": "2021-03-05T11:16:47.680180Z",
     "iopub.status.idle": "2021-03-05T11:16:47.685138Z",
     "shell.execute_reply": "2021-03-05T11:16:47.685623Z"
    },
    "papermill": {
     "duration": 0.533407,
     "end_time": "2021-03-05T11:16:47.685794",
     "exception": false,
     "start_time": "2021-03-05T11:16:47.152387",
     "status": "completed"
    },
    "tags": []
   },
   "outputs": [
    {
     "data": {
      "text/plain": [
       "(133533, 1)"
      ]
     },
     "execution_count": 298,
     "metadata": {},
     "output_type": "execute_result"
    }
   ],
   "source": [
    "data_scaled.shape"
   ]
  },
  {
   "cell_type": "code",
   "execution_count": 299,
   "metadata": {
    "execution": {
     "iopub.execute_input": "2021-03-05T11:16:48.777422Z",
     "iopub.status.busy": "2021-03-05T11:16:48.776684Z",
     "iopub.status.idle": "2021-03-05T11:16:48.780453Z",
     "shell.execute_reply": "2021-03-05T11:16:48.781177Z"
    },
    "papermill": {
     "duration": 0.556989,
     "end_time": "2021-03-05T11:16:48.781367",
     "exception": false,
     "start_time": "2021-03-05T11:16:48.224378",
     "status": "completed"
    },
    "tags": []
   },
   "outputs": [],
   "source": [
    "x_input=data_scaled[:20]"
   ]
  },
  {
   "cell_type": "code",
   "execution_count": 300,
   "metadata": {
    "execution": {
     "iopub.execute_input": "2021-03-05T11:16:49.857769Z",
     "iopub.status.busy": "2021-03-05T11:16:49.857119Z",
     "iopub.status.idle": "2021-03-05T11:16:49.862249Z",
     "shell.execute_reply": "2021-03-05T11:16:49.862707Z"
    },
    "papermill": {
     "duration": 0.547646,
     "end_time": "2021-03-05T11:16:49.862913",
     "exception": false,
     "start_time": "2021-03-05T11:16:49.315267",
     "status": "completed"
    },
    "tags": []
   },
   "outputs": [
    {
     "data": {
      "text/plain": [
       "(20, 1)"
      ]
     },
     "execution_count": 300,
     "metadata": {},
     "output_type": "execute_result"
    }
   ],
   "source": [
    "x_input.shape"
   ]
  },
  {
   "cell_type": "code",
   "execution_count": 301,
   "metadata": {
    "execution": {
     "iopub.execute_input": "2021-03-05T11:16:50.938260Z",
     "iopub.status.busy": "2021-03-05T11:16:50.937541Z",
     "iopub.status.idle": "2021-03-05T11:16:50.940524Z",
     "shell.execute_reply": "2021-03-05T11:16:50.939995Z"
    },
    "papermill": {
     "duration": 0.534946,
     "end_time": "2021-03-05T11:16:50.940678",
     "exception": false,
     "start_time": "2021-03-05T11:16:50.405732",
     "status": "completed"
    },
    "tags": []
   },
   "outputs": [],
   "source": [
    "# now reshaping the data\n",
    "x_input = x_input.reshape(1, -1)"
   ]
  },
  {
   "cell_type": "code",
   "execution_count": 302,
   "metadata": {
    "execution": {
     "iopub.execute_input": "2021-03-05T11:16:52.020246Z",
     "iopub.status.busy": "2021-03-05T11:16:52.019591Z",
     "iopub.status.idle": "2021-03-05T11:16:52.022639Z",
     "shell.execute_reply": "2021-03-05T11:16:52.023297Z"
    },
    "papermill": {
     "duration": 0.565575,
     "end_time": "2021-03-05T11:16:52.023490",
     "exception": false,
     "start_time": "2021-03-05T11:16:51.457915",
     "status": "completed"
    },
    "tags": []
   },
   "outputs": [
    {
     "data": {
      "text/plain": [
       "(1, 20)"
      ]
     },
     "execution_count": 302,
     "metadata": {},
     "output_type": "execute_result"
    }
   ],
   "source": [
    "x_input.shape"
   ]
  },
  {
   "cell_type": "code",
   "execution_count": 303,
   "metadata": {
    "execution": {
     "iopub.execute_input": "2021-03-05T11:16:53.087340Z",
     "iopub.status.busy": "2021-03-05T11:16:53.086496Z",
     "iopub.status.idle": "2021-03-05T11:16:53.091377Z",
     "shell.execute_reply": "2021-03-05T11:16:53.092268Z"
    },
    "papermill": {
     "duration": 0.538332,
     "end_time": "2021-03-05T11:16:53.092499",
     "exception": false,
     "start_time": "2021-03-05T11:16:52.554167",
     "status": "completed"
    },
    "tags": []
   },
   "outputs": [],
   "source": [
    "x_input = x_input.reshape((1, 20,1))\n",
    "yhat = model.predict(x_input, verbose=0)"
   ]
  },
  {
   "cell_type": "code",
   "execution_count": 304,
   "metadata": {
    "execution": {
     "iopub.execute_input": "2021-03-05T11:16:54.175600Z",
     "iopub.status.busy": "2021-03-05T11:16:54.174689Z",
     "iopub.status.idle": "2021-03-05T11:16:54.177999Z",
     "shell.execute_reply": "2021-03-05T11:16:54.177339Z"
    },
    "papermill": {
     "duration": 0.559076,
     "end_time": "2021-03-05T11:16:54.178152",
     "exception": false,
     "start_time": "2021-03-05T11:16:53.619076",
     "status": "completed"
    },
    "tags": []
   },
   "outputs": [],
   "source": [
    "temp_input = list(x_input)\n",
    "temp_input = temp_input[0].tolist()"
   ]
  },
  {
   "cell_type": "markdown",
   "metadata": {
    "papermill": {
     "duration": 0.528288,
     "end_time": "2021-03-05T11:16:55.252558",
     "exception": false,
     "start_time": "2021-03-05T11:16:54.724270",
     "status": "completed"
    },
    "tags": []
   },
   "source": [
    "creatitng a  functions which returns the next 30 days prediction"
   ]
  },
  {
   "cell_type": "code",
   "execution_count": 307,
   "metadata": {
    "execution": {
     "iopub.execute_input": "2021-03-05T11:16:56.310446Z",
     "iopub.status.busy": "2021-03-05T11:16:56.309749Z",
     "iopub.status.idle": "2021-03-05T11:16:57.739984Z",
     "shell.execute_reply": "2021-03-05T11:16:57.739215Z"
    },
    "papermill": {
     "duration": 1.963526,
     "end_time": "2021-03-05T11:16:57.740147",
     "exception": false,
     "start_time": "2021-03-05T11:16:55.776621",
     "status": "completed"
    },
    "tags": []
   },
   "outputs": [
    {
     "name": "stdout",
     "output_type": "stream",
     "text": [
      "0 day input [list([0.5982905982905984]) list([0.5954415954415955])\n",
      " list([0.5954415954415955]) list([0.5982905982905984])\n",
      " list([0.5982905982905984]) list([0.6125356125356125])\n",
      " list([0.6011396011396011]) list([0.5954415954415955])\n",
      " list([0.603988603988604]) list([0.6153846153846154])\n",
      " list([0.6096866096866097]) list([0.6324786324786325])\n",
      " list([0.6780626780626782]) list([0.7065527065527066])\n",
      " list([0.6296296296296298]) list([0.6524216524216524])\n",
      " list([0.6353276353276354]) list([0.6096866096866097])\n",
      " list([0.6153846153846154]) 0.6230745315551758]\n"
     ]
    },
    {
     "ename": "ValueError",
     "evalue": "Failed to convert a NumPy array to a Tensor (Unsupported object type list).",
     "output_type": "error",
     "traceback": [
      "\u001b[0;31m---------------------------------------------------------------------------\u001b[0m",
      "\u001b[0;31mValueError\u001b[0m                                Traceback (most recent call last)",
      "Cell \u001b[0;32mIn[307], line 16\u001b[0m\n\u001b[1;32m     14\u001b[0m x_input \u001b[39m=\u001b[39m x_input\u001b[39m.\u001b[39mreshape((\u001b[39m1\u001b[39m, n_steps, \u001b[39m1\u001b[39m))\n\u001b[1;32m     15\u001b[0m \u001b[39m# print(x_input)\u001b[39;00m\n\u001b[0;32m---> 16\u001b[0m yhat \u001b[39m=\u001b[39m model\u001b[39m.\u001b[39;49mpredict(x_input, verbose\u001b[39m=\u001b[39;49m\u001b[39m0\u001b[39;49m)\n\u001b[1;32m     17\u001b[0m \u001b[39mprint\u001b[39m(\u001b[39m\"\u001b[39m\u001b[39m{}\u001b[39;00m\u001b[39m day output \u001b[39m\u001b[39m{}\u001b[39;00m\u001b[39m\"\u001b[39m\u001b[39m.\u001b[39mformat(i, yhat))\n\u001b[1;32m     18\u001b[0m temp_input\u001b[39m.\u001b[39mextend(yhat[\u001b[39m0\u001b[39m]\u001b[39m.\u001b[39mtolist())\n",
      "File \u001b[0;32m~/dev/weather-predict/.venv/lib/python3.10/site-packages/keras/utils/traceback_utils.py:70\u001b[0m, in \u001b[0;36mfilter_traceback.<locals>.error_handler\u001b[0;34m(*args, **kwargs)\u001b[0m\n\u001b[1;32m     67\u001b[0m     filtered_tb \u001b[39m=\u001b[39m _process_traceback_frames(e\u001b[39m.\u001b[39m__traceback__)\n\u001b[1;32m     68\u001b[0m     \u001b[39m# To get the full stack trace, call:\u001b[39;00m\n\u001b[1;32m     69\u001b[0m     \u001b[39m# `tf.debugging.disable_traceback_filtering()`\u001b[39;00m\n\u001b[0;32m---> 70\u001b[0m     \u001b[39mraise\u001b[39;00m e\u001b[39m.\u001b[39mwith_traceback(filtered_tb) \u001b[39mfrom\u001b[39;00m \u001b[39mNone\u001b[39;00m\n\u001b[1;32m     71\u001b[0m \u001b[39mfinally\u001b[39;00m:\n\u001b[1;32m     72\u001b[0m     \u001b[39mdel\u001b[39;00m filtered_tb\n",
      "File \u001b[0;32m~/dev/weather-predict/.venv/lib/python3.10/site-packages/tensorflow/python/framework/constant_op.py:103\u001b[0m, in \u001b[0;36mconvert_to_eager_tensor\u001b[0;34m(value, ctx, dtype)\u001b[0m\n\u001b[1;32m    101\u001b[0m     dtype \u001b[39m=\u001b[39m dtypes\u001b[39m.\u001b[39mas_dtype(dtype)\u001b[39m.\u001b[39mas_datatype_enum\n\u001b[1;32m    102\u001b[0m ctx\u001b[39m.\u001b[39mensure_initialized()\n\u001b[0;32m--> 103\u001b[0m \u001b[39mreturn\u001b[39;00m ops\u001b[39m.\u001b[39;49mEagerTensor(value, ctx\u001b[39m.\u001b[39;49mdevice_name, dtype)\n",
      "\u001b[0;31mValueError\u001b[0m: Failed to convert a NumPy array to a Tensor (Unsupported object type list)."
     ]
    }
   ],
   "source": [
    "# demonstrate prediction for next 10 days\n",
    "from numpy import array\n",
    "\n",
    "lst_output = []\n",
    "n_steps = 20\n",
    "i = 0\n",
    "while (i < 30):\n",
    "\n",
    "    if (len(temp_input) > 20):\n",
    "        # print(temp_input)\n",
    "        x_input = np.array(temp_input[1:])\n",
    "        print(\"{} day input {}\".format(i, x_input))\n",
    "        x_input = x_input.reshape(1, -1)\n",
    "        x_input = x_input.reshape((1, n_steps, 1))\n",
    "        # print(x_input)\n",
    "        yhat = model.predict(x_input, verbose=0)\n",
    "        print(\"{} day output {}\".format(i, yhat))\n",
    "        temp_input.extend(yhat[0].tolist())\n",
    "        temp_input = temp_input[1:]\n",
    "        # print(temp_input)\n",
    "        lst_output.extend(yhat.tolist())\n",
    "        i = i+1\n",
    "    else:\n",
    "        x_input = x_input.reshape((1, n_steps, 1))\n",
    "        yhat = model.predict(x_input, verbose=0)\n",
    "        print(yhat[0])\n",
    "        temp_input.extend(yhat[0].tolist())\n",
    "#         print(len(temp_input))\n",
    "        lst_output.extend(yhat.tolist())\n",
    "        i = i+1\n",
    "\n",
    "\n",
    "print(lst_output)\n"
   ]
  },
  {
   "cell_type": "code",
   "execution_count": 308,
   "metadata": {
    "execution": {
     "iopub.execute_input": "2021-03-05T11:16:58.864554Z",
     "iopub.status.busy": "2021-03-05T11:16:58.863843Z",
     "iopub.status.idle": "2021-03-05T11:16:58.868224Z",
     "shell.execute_reply": "2021-03-05T11:16:58.867414Z"
    },
    "papermill": {
     "duration": 0.549164,
     "end_time": "2021-03-05T11:16:58.868447",
     "exception": false,
     "start_time": "2021-03-05T11:16:58.319283",
     "status": "completed"
    },
    "tags": []
   },
   "outputs": [],
   "source": [
    "# day_new = np.arange(1,363)\n",
    "day_pred = np.arange(1,31)"
   ]
  },
  {
   "cell_type": "code",
   "execution_count": 309,
   "metadata": {
    "execution": {
     "iopub.execute_input": "2021-03-05T11:16:59.987687Z",
     "iopub.status.busy": "2021-03-05T11:16:59.979059Z",
     "iopub.status.idle": "2021-03-05T11:17:00.164382Z",
     "shell.execute_reply": "2021-03-05T11:17:00.163671Z"
    },
    "papermill": {
     "duration": 0.760981,
     "end_time": "2021-03-05T11:17:00.164542",
     "exception": false,
     "start_time": "2021-03-05T11:16:59.403561",
     "status": "completed"
    },
    "scrolled": true,
    "tags": []
   },
   "outputs": [
    {
     "ename": "ValueError",
     "evalue": "x and y must have same first dimension, but have shapes (30,) and (0,)",
     "output_type": "error",
     "traceback": [
      "\u001b[0;31m---------------------------------------------------------------------------\u001b[0m",
      "\u001b[0;31mValueError\u001b[0m                                Traceback (most recent call last)",
      "Cell \u001b[0;32mIn[309], line 3\u001b[0m\n\u001b[1;32m      1\u001b[0m plt\u001b[39m.\u001b[39mfigure(figsize\u001b[39m=\u001b[39m(\u001b[39m12\u001b[39m, \u001b[39m8\u001b[39m))\n\u001b[1;32m      2\u001b[0m \u001b[39m# plt.plot(day_new, data_scaled)\u001b[39;00m\n\u001b[0;32m----> 3\u001b[0m plt\u001b[39m.\u001b[39;49mplot(day_pred, lst_output)\n",
      "File \u001b[0;32m~/dev/weather-predict/.venv/lib/python3.10/site-packages/matplotlib/pyplot.py:2812\u001b[0m, in \u001b[0;36mplot\u001b[0;34m(scalex, scaley, data, *args, **kwargs)\u001b[0m\n\u001b[1;32m   2810\u001b[0m \u001b[39m@_copy_docstring_and_deprecators\u001b[39m(Axes\u001b[39m.\u001b[39mplot)\n\u001b[1;32m   2811\u001b[0m \u001b[39mdef\u001b[39;00m \u001b[39mplot\u001b[39m(\u001b[39m*\u001b[39margs, scalex\u001b[39m=\u001b[39m\u001b[39mTrue\u001b[39;00m, scaley\u001b[39m=\u001b[39m\u001b[39mTrue\u001b[39;00m, data\u001b[39m=\u001b[39m\u001b[39mNone\u001b[39;00m, \u001b[39m*\u001b[39m\u001b[39m*\u001b[39mkwargs):\n\u001b[0;32m-> 2812\u001b[0m     \u001b[39mreturn\u001b[39;00m gca()\u001b[39m.\u001b[39;49mplot(\n\u001b[1;32m   2813\u001b[0m         \u001b[39m*\u001b[39;49margs, scalex\u001b[39m=\u001b[39;49mscalex, scaley\u001b[39m=\u001b[39;49mscaley,\n\u001b[1;32m   2814\u001b[0m         \u001b[39m*\u001b[39;49m\u001b[39m*\u001b[39;49m({\u001b[39m\"\u001b[39;49m\u001b[39mdata\u001b[39;49m\u001b[39m\"\u001b[39;49m: data} \u001b[39mif\u001b[39;49;00m data \u001b[39mis\u001b[39;49;00m \u001b[39mnot\u001b[39;49;00m \u001b[39mNone\u001b[39;49;00m \u001b[39melse\u001b[39;49;00m {}), \u001b[39m*\u001b[39;49m\u001b[39m*\u001b[39;49mkwargs)\n",
      "File \u001b[0;32m~/dev/weather-predict/.venv/lib/python3.10/site-packages/matplotlib/axes/_axes.py:1688\u001b[0m, in \u001b[0;36mAxes.plot\u001b[0;34m(self, scalex, scaley, data, *args, **kwargs)\u001b[0m\n\u001b[1;32m   1445\u001b[0m \u001b[39m\u001b[39m\u001b[39m\"\"\"\u001b[39;00m\n\u001b[1;32m   1446\u001b[0m \u001b[39mPlot y versus x as lines and/or markers.\u001b[39;00m\n\u001b[1;32m   1447\u001b[0m \n\u001b[0;32m   (...)\u001b[0m\n\u001b[1;32m   1685\u001b[0m \u001b[39m(``'green'``) or hex strings (``'#008000'``).\u001b[39;00m\n\u001b[1;32m   1686\u001b[0m \u001b[39m\"\"\"\u001b[39;00m\n\u001b[1;32m   1687\u001b[0m kwargs \u001b[39m=\u001b[39m cbook\u001b[39m.\u001b[39mnormalize_kwargs(kwargs, mlines\u001b[39m.\u001b[39mLine2D)\n\u001b[0;32m-> 1688\u001b[0m lines \u001b[39m=\u001b[39m [\u001b[39m*\u001b[39m\u001b[39mself\u001b[39m\u001b[39m.\u001b[39m_get_lines(\u001b[39m*\u001b[39margs, data\u001b[39m=\u001b[39mdata, \u001b[39m*\u001b[39m\u001b[39m*\u001b[39mkwargs)]\n\u001b[1;32m   1689\u001b[0m \u001b[39mfor\u001b[39;00m line \u001b[39min\u001b[39;00m lines:\n\u001b[1;32m   1690\u001b[0m     \u001b[39mself\u001b[39m\u001b[39m.\u001b[39madd_line(line)\n",
      "File \u001b[0;32m~/dev/weather-predict/.venv/lib/python3.10/site-packages/matplotlib/axes/_base.py:311\u001b[0m, in \u001b[0;36m_process_plot_var_args.__call__\u001b[0;34m(self, data, *args, **kwargs)\u001b[0m\n\u001b[1;32m    309\u001b[0m     this \u001b[39m+\u001b[39m\u001b[39m=\u001b[39m args[\u001b[39m0\u001b[39m],\n\u001b[1;32m    310\u001b[0m     args \u001b[39m=\u001b[39m args[\u001b[39m1\u001b[39m:]\n\u001b[0;32m--> 311\u001b[0m \u001b[39myield from\u001b[39;00m \u001b[39mself\u001b[39;49m\u001b[39m.\u001b[39;49m_plot_args(\n\u001b[1;32m    312\u001b[0m     this, kwargs, ambiguous_fmt_datakey\u001b[39m=\u001b[39;49mambiguous_fmt_datakey)\n",
      "File \u001b[0;32m~/dev/weather-predict/.venv/lib/python3.10/site-packages/matplotlib/axes/_base.py:504\u001b[0m, in \u001b[0;36m_process_plot_var_args._plot_args\u001b[0;34m(self, tup, kwargs, return_kwargs, ambiguous_fmt_datakey)\u001b[0m\n\u001b[1;32m    501\u001b[0m     \u001b[39mself\u001b[39m\u001b[39m.\u001b[39maxes\u001b[39m.\u001b[39myaxis\u001b[39m.\u001b[39mupdate_units(y)\n\u001b[1;32m    503\u001b[0m \u001b[39mif\u001b[39;00m x\u001b[39m.\u001b[39mshape[\u001b[39m0\u001b[39m] \u001b[39m!=\u001b[39m y\u001b[39m.\u001b[39mshape[\u001b[39m0\u001b[39m]:\n\u001b[0;32m--> 504\u001b[0m     \u001b[39mraise\u001b[39;00m \u001b[39mValueError\u001b[39;00m(\u001b[39mf\u001b[39m\u001b[39m\"\u001b[39m\u001b[39mx and y must have same first dimension, but \u001b[39m\u001b[39m\"\u001b[39m\n\u001b[1;32m    505\u001b[0m                      \u001b[39mf\u001b[39m\u001b[39m\"\u001b[39m\u001b[39mhave shapes \u001b[39m\u001b[39m{\u001b[39;00mx\u001b[39m.\u001b[39mshape\u001b[39m}\u001b[39;00m\u001b[39m and \u001b[39m\u001b[39m{\u001b[39;00my\u001b[39m.\u001b[39mshape\u001b[39m}\u001b[39;00m\u001b[39m\"\u001b[39m)\n\u001b[1;32m    506\u001b[0m \u001b[39mif\u001b[39;00m x\u001b[39m.\u001b[39mndim \u001b[39m>\u001b[39m \u001b[39m2\u001b[39m \u001b[39mor\u001b[39;00m y\u001b[39m.\u001b[39mndim \u001b[39m>\u001b[39m \u001b[39m2\u001b[39m:\n\u001b[1;32m    507\u001b[0m     \u001b[39mraise\u001b[39;00m \u001b[39mValueError\u001b[39;00m(\u001b[39mf\u001b[39m\u001b[39m\"\u001b[39m\u001b[39mx and y can be no greater than 2D, but have \u001b[39m\u001b[39m\"\u001b[39m\n\u001b[1;32m    508\u001b[0m                      \u001b[39mf\u001b[39m\u001b[39m\"\u001b[39m\u001b[39mshapes \u001b[39m\u001b[39m{\u001b[39;00mx\u001b[39m.\u001b[39mshape\u001b[39m}\u001b[39;00m\u001b[39m and \u001b[39m\u001b[39m{\u001b[39;00my\u001b[39m.\u001b[39mshape\u001b[39m}\u001b[39;00m\u001b[39m\"\u001b[39m)\n",
      "\u001b[0;31mValueError\u001b[0m: x and y must have same first dimension, but have shapes (30,) and (0,)"
     ]
    },
    {
     "data": {
      "image/png": "[encoded data removed]",
      "text/plain": [
       "<Figure size 1200x800 with 1 Axes>"
      ]
     },
     "metadata": {},
     "output_type": "display_data"
    }
   ],
   "source": [
    "plt.figure(figsize=(12, 8))\n",
    "# plt.plot(day_new, data_scaled)\n",
    "plt.plot(day_pred, lst_output)\n"
   ]
  },
  {
   "cell_type": "code",
   "execution_count": 310,
   "metadata": {
    "execution": {
     "iopub.execute_input": "2021-03-05T11:17:01.227498Z",
     "iopub.status.busy": "2021-03-05T11:17:01.226366Z",
     "iopub.status.idle": "2021-03-05T11:17:01.231676Z",
     "shell.execute_reply": "2021-03-05T11:17:01.231147Z"
    },
    "papermill": {
     "duration": 0.539545,
     "end_time": "2021-03-05T11:17:01.231831",
     "exception": false,
     "start_time": "2021-03-05T11:17:00.692286",
     "status": "completed"
    },
    "tags": []
   },
   "outputs": [
    {
     "data": {
      "text/plain": [
       "array([[0.58974359],\n",
       "       [0.5982906 ],\n",
       "       [0.5954416 ],\n",
       "       [0.5954416 ],\n",
       "       [0.5982906 ]])"
      ]
     },
     "execution_count": 310,
     "metadata": {},
     "output_type": "execute_result"
    }
   ],
   "source": [
    "data_scaled[:5]"
   ]
  },
  {
   "cell_type": "code",
   "execution_count": null,
   "metadata": {
    "execution": {
     "iopub.execute_input": "2021-03-05T11:17:02.346981Z",
     "iopub.status.busy": "2021-03-05T11:17:02.345403Z",
     "iopub.status.idle": "2021-03-05T11:17:02.520351Z",
     "shell.execute_reply": "2021-03-05T11:17:02.519755Z"
    },
    "papermill": {
     "duration": 0.765149,
     "end_time": "2021-03-05T11:17:02.520509",
     "exception": false,
     "start_time": "2021-03-05T11:17:01.755360",
     "status": "completed"
    },
    "tags": []
   },
   "outputs": [
    {
     "data": {
      "text/plain": [
       "[<matplotlib.lines.Line2D at 0x7f80cbd4e050>]"
      ]
     },
     "execution_count": 89,
     "metadata": {},
     "output_type": "execute_result"
    },
    {
     "data": {
      "image/png": "[encoded data removed]",
      "text/plain": [
       "<Figure size 1200x800 with 1 Axes>"
      ]
     },
     "metadata": {},
     "output_type": "display_data"
    }
   ],
   "source": [
    "df3 = data_scaled.tolist()\n",
    "df3.extend(lst_output)\n",
    "plt.figure(figsize=(12,8))\n",
    "plt.plot(df3)\n"
   ]
  },
  {
   "cell_type": "markdown",
   "metadata": {
    "papermill": {
     "duration": 0.595882,
     "end_time": "2021-03-05T11:17:03.677018",
     "exception": false,
     "start_time": "2021-03-05T11:17:03.081136",
     "status": "completed"
    },
    "tags": []
   },
   "source": [
    "## Thanks You!!!!"
   ]
  },
  {
   "cell_type": "code",
   "execution_count": null,
   "metadata": {
    "papermill": {
     "duration": 0.526153,
     "end_time": "2021-03-05T11:17:04.736317",
     "exception": false,
     "start_time": "2021-03-05T11:17:04.210164",
     "status": "completed"
    },
    "tags": []
   },
   "outputs": [],
   "source": []
  }
 ],
 "metadata": {
  "kernelspec": {
   "display_name": "Python 3",
   "language": "python",
   "name": "python3"
  },
  "language_info": {
   "codemirror_mode": {
    "name": "ipython",
    "version": 3
   },
   "file_extension": ".py",
   "mimetype": "text/x-python",
   "name": "python",
   "nbconvert_exporter": "python",
   "pygments_lexer": "ipython3",
   "version": "3.10.12"
  },
  "papermill": {
   "default_parameters": {},
   "duration": 138.472651,
   "end_time": "2021-03-05T11:17:06.782698",
   "environment_variables": {},
   "exception": null,
   "input_path": "__notebook__.ipynb",
   "output_path": "__notebook__.ipynb",
   "parameters": {},
   "start_time": "2021-03-05T11:14:48.310047",
   "version": "2.2.2"
  }
 },
 "nbformat": 4,
 "nbformat_minor": 4
}
